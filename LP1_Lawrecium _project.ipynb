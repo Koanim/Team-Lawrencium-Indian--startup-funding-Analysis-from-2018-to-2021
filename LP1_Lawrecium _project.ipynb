{
 "cells": [
  {
   "cell_type": "markdown",
   "metadata": {},
   "source": [
    "## Accessing your data from the database\n",
    "\n",
    "- Please follow the steps in this notebook to have access to the dataset. \n",
    "- If you encounter any challenges please leave an issue on this repo here on GitHub"
   ]
  },
  {
   "cell_type": "markdown",
   "metadata": {},
   "source": [
    "### Steps to take to use environment variables as opposed to credentials literals\n",
    "\n",
    "1. Install pyodbc  - a package for creating connection strings to your remote database server\n",
    "2. Install python-dotenv - a package for creating environment variables that will help you hide sensitve configuration informantion such as database credentials and API keys\n",
    "3. Import all the necessary libraies\n",
    "   1. pyodbc (for creating a connection)\n",
    "   2. python-dotenv (loading environment variables)\n",
    "   3. os (for accessing the environement variables using the load_env function. This is not needed if you use the dotenv_values function instead)\n",
    "4. Now create a file called .env in the root of your project folder (Note, the file name begins with a dot)\n",
    "5. In the .env file, put all your sensitive information like server name, database name, username, and password\n",
    "\n",
    "Example\n",
    "\n",
    "   - SERVER='server_name_here'\n",
    "   - DATABASE='database_name_here'\n",
    "   - USERNAME='username_here'\n",
    "   - PASSWORD='password_here'\n",
    "\n",
    "\n",
    "6. Next create a .gitignore file (a new file with the name `.gitignore`. Note that gitignore file names begin with a dot)\n",
    "7. Open the .gitignore file and type in the name of the .env file we just created like this \"/.env\". This will prevent git from tracking that file. Essesntially any file name in the gitignore file will be ignored by git and won't be checked into the repository\n",
    "8. Create a connection by accessing your connection string with your defined environment variables"
   ]
  },
  {
   "cell_type": "markdown",
   "metadata": {},
   "source": [
    "## Understanding the Business\n",
    "\n",
    "\n",
    "India has experienced a surge in startups and funding, with over 16,000 new tech companies added in 2020. Despite funding obstacles, investment firms have shown confidence in Indian startups, with a total funding of $8.4 billion in 2023. India's startup ecosystem soars with unprecedented growth and funding\n",
    "\n",
    "India's startup ecosystem, ranking third globally, boasts over 99,000 recognized startups and 108 unicorns valued at US$340.80 billion, with a bright future ahead\n",
    "\n",
    "The Indian startup ecosystem is built on several key pillars, including government support, access to capital, a growing talent pool, and a supportive culture for entrepreneurship. One of the most important factors driving the growth of startups in India is the government's focus on supporting entrepreneurship.\n",
    "\n",
    "The top three global ecosystems remain the same from 2020, with Silicon Valley at #1, followed by New York City and London tied at #2.\n",
    "\n",
    "\n",
    "-Venturing into the Indian start-ups ecosystem\n",
    "-To investigate the ecosystem and propose the best course of action\n",
    "\n",
    "-We will analyze funding recieved by start-ups in India from 2018 to 2021.\n",
    "\n",
    "-We will seek to ask the following questions to help us propose the best cousrse of action.\n"
   ]
  },
  {
   "cell_type": "markdown",
   "metadata": {},
   "source": [
    "### QUESTIONS\n",
    "\n",
    "\n",
    "3. Is there a significant variation in the average funding amount received by companies across Seed and Angel?\n",
    "4. What is the average amount of funding received in 2018 compared to 2019\n",
    "5. Which startup received more funding on the average\n",
    "6. What is the average amount of funding received in 2020 compared to 2021\n",
    "7. Is the average amount received by startups in Bangalore more than that od New Delhi?\n",
    "8. "
   ]
  },
  {
   "cell_type": "markdown",
   "metadata": {},
   "source": [
    "9. How has the funding trend been from 2018 to 2021 \n",
    "10. Which are the top cities for startup funding\n",
    "11. Which are the top sectors for startup funding\n",
    "12. How varied are the number of startups across the stages\n",
    "13. Which startup stage received most funding\n",
    "14. How is the funding trend of the sectors over the years\n",
    "15. Which are the emerging sectors   "
   ]
  },
  {
   "cell_type": "markdown",
   "metadata": {},
   "source": [
    "## 1\n",
    "### Null Hypothesis : \n",
    "    Companies that are 10 years and above do not receive more than average amount\n",
    "        \n",
    "### Alternative Hypothesis : \n",
    "    Companies that are 10 years and above receive more than average amount\n",
    "\n",
    "## 2\n",
    "### Null Hypothesis:\n",
    "    The average number of founders is the same in Mumbai and Noida\n",
    "    \n",
    "### Alternative Hypothesis\n",
    "    The average number of founders is not the same in Mumbai and Noida\n",
    "  \n",
    "## 3\n",
    "### Null Hypothesis:\n",
    "    The average amount of funding recived in 2018 is more than or equal to that of 2019\n",
    "\n",
    "### Alternative Hypothesis:\n",
    "    The average amount of funding recieved in 2018 is less than that of 2019\n",
    "    \n",
    "## 4  \n",
    "### Null Hypothesis: \n",
    "    The average amount of funding recived in 2020 is more than or equal to that of 2021\n",
    "\n",
    "### Alternative Hypothesis: \n",
    "    The average amount of funding recieved in 2020 is less than that of 2021\n",
    "    \n",
    "## 5   \n",
    "### Null Hypothesis:\n",
    "    Companies belonging to Fintech recieved more than or equal to the average amount of funding\n",
    "    \n",
    "### Alternative Hypothesis:\n",
    "    Companies belonging to Fintech recieved less than to the average amount of funding \n",
    "    \n",
    "## 6    \n",
    "### Null Hypothesis:\n",
    "    The average amount of recieved by startups in Bangalore is more or equal to that of New Delhi\n",
    "    \n",
    "### Alternative Hypothesis:\n",
    "     The average amount of recieved by startups in Bangalore is less than that of New Delhi"
   ]
  },
  {
   "cell_type": "code",
   "execution_count": null,
   "metadata": {},
   "outputs": [],
   "source": []
  },
  {
   "cell_type": "markdown",
   "metadata": {},
   "source": [
    "#### Step 1 and 2 - Install pyodbc and python-dotenv"
   ]
  },
  {
   "cell_type": "markdown",
   "metadata": {},
   "source": [
    "#### Step 3 - Import all the necessary packages"
   ]
  },
  {
   "cell_type": "code",
   "execution_count": 1,
   "metadata": {
    "tags": []
   },
   "outputs": [],
   "source": [
    "import pyodbc\n",
    "#import pymssql\n",
    "#import pypyodbc\n",
    "\n",
    "from dotenv import dotenv_values    #import the dotenv_values function from the dotenv package\n",
    "import pandas as pd\n",
    "import numpy as np\n",
    "\n",
    "import matplotlib.pyplot as plt\n",
    "import seaborn as sns\n",
    "\n",
    "\n",
    "import warnings \n",
    "\n",
    "warnings.filterwarnings('ignore')\n"
   ]
  },
  {
   "cell_type": "markdown",
   "metadata": {},
   "source": [
    "#### Step 4 - Create your .env file in the root of your project"
   ]
  },
  {
   "cell_type": "markdown",
   "metadata": {},
   "source": [
    "#### Step 5 - In the .env file, put all your sensitive information like server name, password etc\n"
   ]
  },
  {
   "cell_type": "markdown",
   "metadata": {},
   "source": [
    "#### Step 6 & 7 - Next create a .gitignore file and type '/.env' file we just created. This will prevent git from tracking that file."
   ]
  },
  {
   "cell_type": "markdown",
   "metadata": {},
   "source": [
    "#### Step 8 - Create a connection by accessing your connection string with your defined environment variables"
   ]
  },
  {
   "cell_type": "markdown",
   "metadata": {},
   "source": [
    "## Undestanding the Data"
   ]
  },
  {
   "cell_type": "code",
   "execution_count": 2,
   "metadata": {
    "tags": []
   },
   "outputs": [],
   "source": [
    "# Load environment variables from .env file into a dictionary\n",
    "environment_variables = dotenv_values('.env')\n",
    "\n",
    "# Get the values for the credentials you set in the '.env' file\n",
    "server = environment_variables.get(\"SERVER\")\n",
    "database = environment_variables.get(\"DATABASE\")\n",
    "username = environment_variables.get(\"USERNAME\")\n",
    "password = environment_variables.get(\"PASSWORD\")\n",
    "driver = environment_variables.get(\"DRIVER\")\n"
   ]
  },
  {
   "cell_type": "code",
   "execution_count": 3,
   "metadata": {
    "tags": []
   },
   "outputs": [],
   "source": [
    "# Create a connection string\n",
    "connection_string = f'DRIVER={driver};SERVER={server};DATABASE={database};UID={username};PWD={password}'\n"
   ]
  },
  {
   "cell_type": "code",
   "execution_count": 4,
   "metadata": {
    "tags": []
   },
   "outputs": [],
   "source": [
    "# Use the connect method of the pyodbc library and pass in the connection string.\n",
    "# This will connect to the server and might take a few seconds to be complete. \n",
    "# Check your internet connection if it takes more time than necessary\n",
    "\n",
    "connection = pyodbc.connect(connection_string)\n"
   ]
  },
  {
   "cell_type": "code",
   "execution_count": 5,
   "metadata": {
    "tags": []
   },
   "outputs": [
    {
     "data": {
      "text/html": [
       "<div>\n",
       "<style scoped>\n",
       "    .dataframe tbody tr th:only-of-type {\n",
       "        vertical-align: middle;\n",
       "    }\n",
       "\n",
       "    .dataframe tbody tr th {\n",
       "        vertical-align: top;\n",
       "    }\n",
       "\n",
       "    .dataframe thead th {\n",
       "        text-align: right;\n",
       "    }\n",
       "</style>\n",
       "<table border=\"1\" class=\"dataframe\">\n",
       "  <thead>\n",
       "    <tr style=\"text-align: right;\">\n",
       "      <th></th>\n",
       "      <th>Company_Brand</th>\n",
       "      <th>Founded</th>\n",
       "      <th>HeadQuarter</th>\n",
       "      <th>Sector</th>\n",
       "      <th>What_it_does</th>\n",
       "      <th>Founders</th>\n",
       "      <th>Investor</th>\n",
       "      <th>Amount</th>\n",
       "      <th>Stage</th>\n",
       "      <th>column10</th>\n",
       "    </tr>\n",
       "  </thead>\n",
       "  <tbody>\n",
       "    <tr>\n",
       "      <th>0</th>\n",
       "      <td>Aqgromalin</td>\n",
       "      <td>2019.0</td>\n",
       "      <td>Chennai</td>\n",
       "      <td>AgriTech</td>\n",
       "      <td>Cultivating Ideas for Profit</td>\n",
       "      <td>Prasanna Manogaran, Bharani C L</td>\n",
       "      <td>Angel investors</td>\n",
       "      <td>200000.0</td>\n",
       "      <td>None</td>\n",
       "      <td>None</td>\n",
       "    </tr>\n",
       "    <tr>\n",
       "      <th>1</th>\n",
       "      <td>Krayonnz</td>\n",
       "      <td>2019.0</td>\n",
       "      <td>Bangalore</td>\n",
       "      <td>EdTech</td>\n",
       "      <td>An academy-guardian-scholar centric ecosystem ...</td>\n",
       "      <td>Saurabh Dixit, Gurudutt Upadhyay</td>\n",
       "      <td>GSF Accelerator</td>\n",
       "      <td>100000.0</td>\n",
       "      <td>Pre-seed</td>\n",
       "      <td>None</td>\n",
       "    </tr>\n",
       "    <tr>\n",
       "      <th>2</th>\n",
       "      <td>PadCare Labs</td>\n",
       "      <td>2018.0</td>\n",
       "      <td>Pune</td>\n",
       "      <td>Hygiene management</td>\n",
       "      <td>Converting bio-hazardous waste to harmless waste</td>\n",
       "      <td>Ajinkya Dhariya</td>\n",
       "      <td>Venture Center</td>\n",
       "      <td>NaN</td>\n",
       "      <td>Pre-seed</td>\n",
       "      <td>None</td>\n",
       "    </tr>\n",
       "  </tbody>\n",
       "</table>\n",
       "</div>"
      ],
      "text/plain": [
       "  Company_Brand  Founded HeadQuarter              Sector  \\\n",
       "0    Aqgromalin   2019.0     Chennai            AgriTech   \n",
       "1      Krayonnz   2019.0   Bangalore              EdTech   \n",
       "2  PadCare Labs   2018.0        Pune  Hygiene management   \n",
       "\n",
       "                                        What_it_does  \\\n",
       "0                       Cultivating Ideas for Profit   \n",
       "1  An academy-guardian-scholar centric ecosystem ...   \n",
       "2   Converting bio-hazardous waste to harmless waste   \n",
       "\n",
       "                           Founders         Investor    Amount     Stage  \\\n",
       "0   Prasanna Manogaran, Bharani C L  Angel investors  200000.0      None   \n",
       "1  Saurabh Dixit, Gurudutt Upadhyay  GSF Accelerator  100000.0  Pre-seed   \n",
       "2                   Ajinkya Dhariya   Venture Center       NaN  Pre-seed   \n",
       "\n",
       "  column10  \n",
       "0     None  \n",
       "1     None  \n",
       "2     None  "
      ]
     },
     "execution_count": 5,
     "metadata": {},
     "output_type": "execute_result"
    }
   ],
   "source": [
    "# Now the sql query to get the data is what what you see below. \n",
    "# Note that you will not have permissions to insert delete or update this database table. \n",
    "\n",
    "query = \"SELECT * FROM dbo.LP1_startup_funding2020\"\n",
    "\n",
    "df_fund2020 = pd.read_sql(query, connection)\n",
    "df_fund2020.head(3)"
   ]
  },
  {
   "cell_type": "code",
   "execution_count": 6,
   "metadata": {
    "tags": []
   },
   "outputs": [
    {
     "data": {
      "text/html": [
       "<div>\n",
       "<style scoped>\n",
       "    .dataframe tbody tr th:only-of-type {\n",
       "        vertical-align: middle;\n",
       "    }\n",
       "\n",
       "    .dataframe tbody tr th {\n",
       "        vertical-align: top;\n",
       "    }\n",
       "\n",
       "    .dataframe thead th {\n",
       "        text-align: right;\n",
       "    }\n",
       "</style>\n",
       "<table border=\"1\" class=\"dataframe\">\n",
       "  <thead>\n",
       "    <tr style=\"text-align: right;\">\n",
       "      <th></th>\n",
       "      <th>Company_Brand</th>\n",
       "      <th>Founded</th>\n",
       "      <th>HeadQuarter</th>\n",
       "      <th>Sector</th>\n",
       "      <th>What_it_does</th>\n",
       "      <th>Founders</th>\n",
       "      <th>Investor</th>\n",
       "      <th>Amount</th>\n",
       "      <th>Stage</th>\n",
       "    </tr>\n",
       "  </thead>\n",
       "  <tbody>\n",
       "    <tr>\n",
       "      <th>0</th>\n",
       "      <td>Unbox Robotics</td>\n",
       "      <td>2019.0</td>\n",
       "      <td>Bangalore</td>\n",
       "      <td>AI startup</td>\n",
       "      <td>Unbox Robotics builds on-demand AI-driven ware...</td>\n",
       "      <td>Pramod Ghadge, Shahid Memon</td>\n",
       "      <td>BEENEXT, Entrepreneur First</td>\n",
       "      <td>$1,200,000</td>\n",
       "      <td>Pre-series A</td>\n",
       "    </tr>\n",
       "    <tr>\n",
       "      <th>1</th>\n",
       "      <td>upGrad</td>\n",
       "      <td>2015.0</td>\n",
       "      <td>Mumbai</td>\n",
       "      <td>EdTech</td>\n",
       "      <td>UpGrad is an online higher education platform.</td>\n",
       "      <td>Mayank Kumar, Phalgun Kompalli, Ravijot Chugh,...</td>\n",
       "      <td>Unilazer Ventures, IIFL Asset Management</td>\n",
       "      <td>$120,000,000</td>\n",
       "      <td>None</td>\n",
       "    </tr>\n",
       "    <tr>\n",
       "      <th>2</th>\n",
       "      <td>Lead School</td>\n",
       "      <td>2012.0</td>\n",
       "      <td>Mumbai</td>\n",
       "      <td>EdTech</td>\n",
       "      <td>LEAD School offers technology based school tra...</td>\n",
       "      <td>Smita Deorah, Sumeet Mehta</td>\n",
       "      <td>GSV Ventures, Westbridge Capital</td>\n",
       "      <td>$30,000,000</td>\n",
       "      <td>Series D</td>\n",
       "    </tr>\n",
       "  </tbody>\n",
       "</table>\n",
       "</div>"
      ],
      "text/plain": [
       "    Company_Brand  Founded HeadQuarter      Sector  \\\n",
       "0  Unbox Robotics   2019.0   Bangalore  AI startup   \n",
       "1          upGrad   2015.0      Mumbai      EdTech   \n",
       "2     Lead School   2012.0      Mumbai      EdTech   \n",
       "\n",
       "                                        What_it_does  \\\n",
       "0  Unbox Robotics builds on-demand AI-driven ware...   \n",
       "1     UpGrad is an online higher education platform.   \n",
       "2  LEAD School offers technology based school tra...   \n",
       "\n",
       "                                            Founders  \\\n",
       "0                        Pramod Ghadge, Shahid Memon   \n",
       "1  Mayank Kumar, Phalgun Kompalli, Ravijot Chugh,...   \n",
       "2                         Smita Deorah, Sumeet Mehta   \n",
       "\n",
       "                                   Investor        Amount         Stage  \n",
       "0               BEENEXT, Entrepreneur First    $1,200,000  Pre-series A  \n",
       "1  Unilazer Ventures, IIFL Asset Management  $120,000,000          None  \n",
       "2          GSV Ventures, Westbridge Capital   $30,000,000      Series D  "
      ]
     },
     "execution_count": 6,
     "metadata": {},
     "output_type": "execute_result"
    }
   ],
   "source": [
    "query1 = 'Select * from dbo.LP1_startup_funding2021'\n",
    "\n",
    "df_fund2021 = pd.read_sql(query1, connection)\n",
    "df_fund2021.head(3)"
   ]
  },
  {
   "cell_type": "markdown",
   "metadata": {},
   "source": [
    "Next, get data from other sources and concatenate (Depends on the project) to perform your analysis\n",
    "\n",
    "ALL THE BEST!!!"
   ]
  },
  {
   "cell_type": "code",
   "execution_count": 7,
   "metadata": {
    "tags": []
   },
   "outputs": [],
   "source": [
    "df_fund2018=pd.read_csv('startup_funding2018.csv')"
   ]
  },
  {
   "cell_type": "code",
   "execution_count": 8,
   "metadata": {
    "tags": []
   },
   "outputs": [],
   "source": [
    "df_fund2019=pd.read_csv('startup_funding2019.csv')\n"
   ]
  },
  {
   "cell_type": "code",
   "execution_count": 9,
   "metadata": {
    "tags": []
   },
   "outputs": [
    {
     "data": {
      "text/html": [
       "<div>\n",
       "<style scoped>\n",
       "    .dataframe tbody tr th:only-of-type {\n",
       "        vertical-align: middle;\n",
       "    }\n",
       "\n",
       "    .dataframe tbody tr th {\n",
       "        vertical-align: top;\n",
       "    }\n",
       "\n",
       "    .dataframe thead th {\n",
       "        text-align: right;\n",
       "    }\n",
       "</style>\n",
       "<table border=\"1\" class=\"dataframe\">\n",
       "  <thead>\n",
       "    <tr style=\"text-align: right;\">\n",
       "      <th></th>\n",
       "      <th>Company Name</th>\n",
       "      <th>Industry</th>\n",
       "      <th>Round/Series</th>\n",
       "      <th>Amount</th>\n",
       "      <th>Location</th>\n",
       "      <th>About Company</th>\n",
       "    </tr>\n",
       "  </thead>\n",
       "  <tbody>\n",
       "    <tr>\n",
       "      <th>0</th>\n",
       "      <td>TheCollegeFever</td>\n",
       "      <td>Brand Marketing, Event Promotion, Marketing, S...</td>\n",
       "      <td>Seed</td>\n",
       "      <td>250000</td>\n",
       "      <td>Bangalore, Karnataka, India</td>\n",
       "      <td>TheCollegeFever is a hub for fun, fiesta and f...</td>\n",
       "    </tr>\n",
       "    <tr>\n",
       "      <th>1</th>\n",
       "      <td>Happy Cow Dairy</td>\n",
       "      <td>Agriculture, Farming</td>\n",
       "      <td>Seed</td>\n",
       "      <td>₹40,000,000</td>\n",
       "      <td>Mumbai, Maharashtra, India</td>\n",
       "      <td>A startup which aggregates milk from dairy far...</td>\n",
       "    </tr>\n",
       "    <tr>\n",
       "      <th>2</th>\n",
       "      <td>MyLoanCare</td>\n",
       "      <td>Credit, Financial Services, Lending, Marketplace</td>\n",
       "      <td>Series A</td>\n",
       "      <td>₹65,000,000</td>\n",
       "      <td>Gurgaon, Haryana, India</td>\n",
       "      <td>Leading Online Loans Marketplace in India</td>\n",
       "    </tr>\n",
       "  </tbody>\n",
       "</table>\n",
       "</div>"
      ],
      "text/plain": [
       "      Company Name                                           Industry  \\\n",
       "0  TheCollegeFever  Brand Marketing, Event Promotion, Marketing, S...   \n",
       "1  Happy Cow Dairy                               Agriculture, Farming   \n",
       "2       MyLoanCare   Credit, Financial Services, Lending, Marketplace   \n",
       "\n",
       "  Round/Series       Amount                     Location  \\\n",
       "0         Seed       250000  Bangalore, Karnataka, India   \n",
       "1         Seed  ₹40,000,000   Mumbai, Maharashtra, India   \n",
       "2     Series A  ₹65,000,000      Gurgaon, Haryana, India   \n",
       "\n",
       "                                       About Company  \n",
       "0  TheCollegeFever is a hub for fun, fiesta and f...  \n",
       "1  A startup which aggregates milk from dairy far...  \n",
       "2          Leading Online Loans Marketplace in India  "
      ]
     },
     "execution_count": 9,
     "metadata": {},
     "output_type": "execute_result"
    }
   ],
   "source": [
    "df_fund2018.head(3)"
   ]
  },
  {
   "cell_type": "code",
   "execution_count": 10,
   "metadata": {
    "tags": []
   },
   "outputs": [
    {
     "data": {
      "text/html": [
       "<div>\n",
       "<style scoped>\n",
       "    .dataframe tbody tr th:only-of-type {\n",
       "        vertical-align: middle;\n",
       "    }\n",
       "\n",
       "    .dataframe tbody tr th {\n",
       "        vertical-align: top;\n",
       "    }\n",
       "\n",
       "    .dataframe thead th {\n",
       "        text-align: right;\n",
       "    }\n",
       "</style>\n",
       "<table border=\"1\" class=\"dataframe\">\n",
       "  <thead>\n",
       "    <tr style=\"text-align: right;\">\n",
       "      <th></th>\n",
       "      <th>Company/Brand</th>\n",
       "      <th>Founded</th>\n",
       "      <th>HeadQuarter</th>\n",
       "      <th>Sector</th>\n",
       "      <th>What it does</th>\n",
       "      <th>Founders</th>\n",
       "      <th>Investor</th>\n",
       "      <th>Amount($)</th>\n",
       "      <th>Stage</th>\n",
       "    </tr>\n",
       "  </thead>\n",
       "  <tbody>\n",
       "    <tr>\n",
       "      <th>0</th>\n",
       "      <td>Bombay Shaving</td>\n",
       "      <td>NaN</td>\n",
       "      <td>NaN</td>\n",
       "      <td>Ecommerce</td>\n",
       "      <td>Provides a range of male grooming products</td>\n",
       "      <td>Shantanu Deshpande</td>\n",
       "      <td>Sixth Sense Ventures</td>\n",
       "      <td>$6,300,000</td>\n",
       "      <td>NaN</td>\n",
       "    </tr>\n",
       "    <tr>\n",
       "      <th>1</th>\n",
       "      <td>Ruangguru</td>\n",
       "      <td>2014.0</td>\n",
       "      <td>Mumbai</td>\n",
       "      <td>Edtech</td>\n",
       "      <td>A learning platform that provides topic-based ...</td>\n",
       "      <td>Adamas Belva Syah Devara, Iman Usman.</td>\n",
       "      <td>General Atlantic</td>\n",
       "      <td>$150,000,000</td>\n",
       "      <td>Series C</td>\n",
       "    </tr>\n",
       "    <tr>\n",
       "      <th>2</th>\n",
       "      <td>Eduisfun</td>\n",
       "      <td>NaN</td>\n",
       "      <td>Mumbai</td>\n",
       "      <td>Edtech</td>\n",
       "      <td>It aims to make learning fun via games.</td>\n",
       "      <td>Jatin Solanki</td>\n",
       "      <td>Deepak Parekh, Amitabh Bachchan, Piyush Pandey</td>\n",
       "      <td>$28,000,000</td>\n",
       "      <td>Fresh funding</td>\n",
       "    </tr>\n",
       "  </tbody>\n",
       "</table>\n",
       "</div>"
      ],
      "text/plain": [
       "    Company/Brand  Founded HeadQuarter     Sector  \\\n",
       "0  Bombay Shaving      NaN         NaN  Ecommerce   \n",
       "1       Ruangguru   2014.0      Mumbai     Edtech   \n",
       "2        Eduisfun      NaN      Mumbai     Edtech   \n",
       "\n",
       "                                        What it does  \\\n",
       "0         Provides a range of male grooming products   \n",
       "1  A learning platform that provides topic-based ...   \n",
       "2            It aims to make learning fun via games.   \n",
       "\n",
       "                                Founders  \\\n",
       "0                     Shantanu Deshpande   \n",
       "1  Adamas Belva Syah Devara, Iman Usman.   \n",
       "2                          Jatin Solanki   \n",
       "\n",
       "                                         Investor     Amount($)          Stage  \n",
       "0                            Sixth Sense Ventures    $6,300,000            NaN  \n",
       "1                                General Atlantic  $150,000,000       Series C  \n",
       "2  Deepak Parekh, Amitabh Bachchan, Piyush Pandey   $28,000,000  Fresh funding  "
      ]
     },
     "execution_count": 10,
     "metadata": {},
     "output_type": "execute_result"
    }
   ],
   "source": [
    "df_fund2019.head(3)"
   ]
  },
  {
   "cell_type": "markdown",
   "metadata": {},
   "source": [
    "#### We will create year column for each dataframe before concatenating to helps us identify which year funding was awarded"
   ]
  },
  {
   "cell_type": "code",
   "execution_count": 11,
   "metadata": {
    "tags": []
   },
   "outputs": [],
   "source": [
    "df_fund2018['Year']=2018\n",
    "df_fund2019['Year']=2019\n",
    "df_fund2020['Year']=2020\n",
    "df_fund2021['Year']=2021"
   ]
  },
  {
   "cell_type": "code",
   "execution_count": 12,
   "metadata": {
    "tags": []
   },
   "outputs": [
    {
     "name": "stdout",
     "output_type": "stream",
     "text": [
      "<class 'pandas.core.frame.DataFrame'>\n",
      "RangeIndex: 526 entries, 0 to 525\n",
      "Data columns (total 7 columns):\n",
      " #   Column         Non-Null Count  Dtype \n",
      "---  ------         --------------  ----- \n",
      " 0   Company Name   526 non-null    object\n",
      " 1   Industry       526 non-null    object\n",
      " 2   Round/Series   526 non-null    object\n",
      " 3   Amount         526 non-null    object\n",
      " 4   Location       526 non-null    object\n",
      " 5   About Company  526 non-null    object\n",
      " 6   Year           526 non-null    int64 \n",
      "dtypes: int64(1), object(6)\n",
      "memory usage: 28.9+ KB\n"
     ]
    }
   ],
   "source": [
    "df_fund2018.info()"
   ]
  },
  {
   "cell_type": "code",
   "execution_count": 13,
   "metadata": {
    "tags": []
   },
   "outputs": [
    {
     "name": "stdout",
     "output_type": "stream",
     "text": [
      "<class 'pandas.core.frame.DataFrame'>\n",
      "RangeIndex: 89 entries, 0 to 88\n",
      "Data columns (total 10 columns):\n",
      " #   Column         Non-Null Count  Dtype  \n",
      "---  ------         --------------  -----  \n",
      " 0   Company/Brand  89 non-null     object \n",
      " 1   Founded        60 non-null     float64\n",
      " 2   HeadQuarter    70 non-null     object \n",
      " 3   Sector         84 non-null     object \n",
      " 4   What it does   89 non-null     object \n",
      " 5   Founders       86 non-null     object \n",
      " 6   Investor       89 non-null     object \n",
      " 7   Amount($)      89 non-null     object \n",
      " 8   Stage          43 non-null     object \n",
      " 9   Year           89 non-null     int64  \n",
      "dtypes: float64(1), int64(1), object(8)\n",
      "memory usage: 7.1+ KB\n"
     ]
    }
   ],
   "source": [
    "df_fund2019.info()"
   ]
  },
  {
   "cell_type": "code",
   "execution_count": 14,
   "metadata": {
    "tags": []
   },
   "outputs": [
    {
     "name": "stdout",
     "output_type": "stream",
     "text": [
      "<class 'pandas.core.frame.DataFrame'>\n",
      "RangeIndex: 1055 entries, 0 to 1054\n",
      "Data columns (total 11 columns):\n",
      " #   Column         Non-Null Count  Dtype  \n",
      "---  ------         --------------  -----  \n",
      " 0   Company_Brand  1055 non-null   object \n",
      " 1   Founded        842 non-null    float64\n",
      " 2   HeadQuarter    961 non-null    object \n",
      " 3   Sector         1042 non-null   object \n",
      " 4   What_it_does   1055 non-null   object \n",
      " 5   Founders       1043 non-null   object \n",
      " 6   Investor       1017 non-null   object \n",
      " 7   Amount         801 non-null    float64\n",
      " 8   Stage          591 non-null    object \n",
      " 9   column10       2 non-null      object \n",
      " 10  Year           1055 non-null   int64  \n",
      "dtypes: float64(2), int64(1), object(8)\n",
      "memory usage: 90.8+ KB\n"
     ]
    }
   ],
   "source": [
    "df_fund2020.info()"
   ]
  },
  {
   "cell_type": "code",
   "execution_count": 15,
   "metadata": {
    "tags": []
   },
   "outputs": [
    {
     "name": "stdout",
     "output_type": "stream",
     "text": [
      "<class 'pandas.core.frame.DataFrame'>\n",
      "RangeIndex: 1209 entries, 0 to 1208\n",
      "Data columns (total 10 columns):\n",
      " #   Column         Non-Null Count  Dtype  \n",
      "---  ------         --------------  -----  \n",
      " 0   Company_Brand  1209 non-null   object \n",
      " 1   Founded        1208 non-null   float64\n",
      " 2   HeadQuarter    1208 non-null   object \n",
      " 3   Sector         1209 non-null   object \n",
      " 4   What_it_does   1209 non-null   object \n",
      " 5   Founders       1205 non-null   object \n",
      " 6   Investor       1147 non-null   object \n",
      " 7   Amount         1206 non-null   object \n",
      " 8   Stage          781 non-null    object \n",
      " 9   Year           1209 non-null   int64  \n",
      "dtypes: float64(1), int64(1), object(8)\n",
      "memory usage: 94.6+ KB\n"
     ]
    }
   ],
   "source": [
    "df_fund2021.info()"
   ]
  },
  {
   "cell_type": "markdown",
   "metadata": {},
   "source": [
    "### Observations\n",
    "\n",
    "- 'Company Name' in df_fund2018 is the same as 'Company/Brand' in df_fund2019, same as 'Company_Brand' in df_fund2020 and same as 'Company_Brand' in df_fund2021\n",
    "\n",
    "       - we will change Company Name in df_fund2018 to Company_Brand and Company/Brand in df_fund2019 will be change to Company_Brand.\n",
    "\n",
    "- Founded is in all dataframes except df_fund2018\n",
    "\n",
    "- We also observed that df_fund2018 contains Industry where as the remaining dataframes contains Sector, however after checking, we noticed the contain similar values.\n",
    "\n",
    "       - we change Industry in df_fund2018 to Sector\n",
    "    \n",
    "- We observed that Location and headquater looks the same, we have Headquarter in all dataframes except df_fund2018, which contains Location\n",
    "    \n",
    "    - We will change Headquarter to Location\n",
    "    \n",
    "- We observed stage in df_fund2019, df_fund2020, df_fund2021 have the same values as Round/Series in df_fund2018\n",
    "    \n",
    "    - we will change Round/Series in df_fund2018 to stage\n",
    "    \n",
    "- we observed Amount in df_fund2019 is Amount($), where as all other dataframes contain Amount\n",
    "    - we will change Amount($) to Amount\n",
    "    \n",
    "- we observed About Company in df_fund2018 has similar values as What_it_does in the remaining dataframes, in df_fund2019 there are no underscores\n",
    "    - we change all to About Company\n",
    "    \n",
    "\n",
    "- we observe Founders is in all dataframes except df_fund2018\n",
    "\n",
    "- we observe Investors is in all dataframes except df_fund2018\n",
    "\n",
    "- We observed df_fund2020 contains Column10 with null values\n",
    "\n",
    "    - we will drop column10\n",
    "\n",
    "\n"
   ]
  },
  {
   "cell_type": "code",
   "execution_count": 16,
   "metadata": {
    "tags": []
   },
   "outputs": [],
   "source": [
    "#Renaming the Columns for easy concatenation\n",
    "\n",
    "df_fund2018=df_fund2018.rename(columns={'Company Name': 'Company_Brand'})\n",
    "df_fund2018=df_fund2018.rename(columns={'Industry': 'Sector'})\n",
    "df_fund2018=df_fund2018.rename(columns={'Round/Series': 'Stage'})\n",
    "df_fund2019=df_fund2019.rename(columns={'Company/Brand': 'Company_Brand'})\n",
    "df_fund2019=df_fund2019.rename(columns={'HeadQuarter': 'Location'})\n",
    "df_fund2019=df_fund2019.rename(columns={'Amount($)': 'Amount'})\n",
    "df_fund2019=df_fund2019.rename(columns={'What it does': 'About Company'})\n",
    "df_fund2020=df_fund2020.rename(columns={'HeadQuarter': 'Location'})\n",
    "df_fund2020=df_fund2020.rename(columns={'What_it_does': 'About Company'})\n",
    "df_fund2021=df_fund2021.rename(columns={'HeadQuarter': 'Location'})\n",
    "df_fund2021=df_fund2021.rename(columns={'What_it_does': 'About Company'})"
   ]
  },
  {
   "cell_type": "markdown",
   "metadata": {},
   "source": [
    "## Cleaning the 2018 dataset"
   ]
  },
  {
   "cell_type": "code",
   "execution_count": 17,
   "metadata": {
    "tags": []
   },
   "outputs": [],
   "source": [
    "#Making a copy of 2018 dataframe\n",
    "\n",
    "df18=df_fund2018.copy()"
   ]
  },
  {
   "cell_type": "code",
   "execution_count": 18,
   "metadata": {
    "tags": []
   },
   "outputs": [
    {
     "data": {
      "text/plain": [
       "array(['Seed', 'Series A', 'Angel', 'Series B', 'Pre-Seed',\n",
       "       'Private Equity', 'Venture - Series Unknown', 'Grant',\n",
       "       'Debt Financing', 'Post-IPO Debt', 'Series H', 'Series C',\n",
       "       'Series E', 'Corporate Round', 'Undisclosed',\n",
       "       'https://docs.google.com/spreadsheets/d/1x9ziNeaz6auNChIHnMI8U6kS7knTr3byy_YBGfQaoUA/edit#gid=1861303593',\n",
       "       'Series D', 'Secondary Market', 'Post-IPO Equity',\n",
       "       'Non-equity Assistance', 'Funding Round'], dtype=object)"
      ]
     },
     "execution_count": 18,
     "metadata": {},
     "output_type": "execute_result"
    }
   ],
   "source": [
    "df18['Stage'].unique()"
   ]
  },
  {
   "cell_type": "markdown",
   "metadata": {},
   "source": [
    "#### Startup Stages\n",
    "\n",
    "Startups typically progress through several stages of funding rounds, often referred to as \"series.\" These series are indicative of the company's growth and development. Here are the common types of startup stages or series:\n",
    "\n",
    "\n",
    "1. **Seed Stage (Pre-Seed, Seed Round):**\n",
    "   - This is the earliest stage of funding where the startup is just getting off the ground.\n",
    "   - Seed funding is used to validate the business idea, develop a prototype, and conduct initial market research.\n",
    "   - Investors at this stage could include friends, family, angel investors, or early-stage venture capital firms.\n",
    "\n",
    "2. **Series A:**\n",
    "   - At this stage, the startup has usually developed a product or service and has some initial traction in the market.\n",
    "   - Series A funding is typically used to scale the business operations, expand the team, and further develop the product.\n",
    "   - Venture capital firms are the primary investors in Series A rounds, although some angel investors and early-stage investors may also participate.\n",
    "\n",
    "3. **Series B:**\n",
    "   - By the Series B stage, the startup has demonstrated significant growth potential and has a solid customer base.\n",
    "   - The funding raised in Series B rounds is often used to further scale the business, enter new markets, and invest in marketing and sales efforts.\n",
    "   - Venture capital firms continue to be the main source of funding at this stage, along with some participation from strategic investors.\n",
    "\n",
    "4. **Series C and Beyond:**\n",
    "   - These stages represent subsequent rounds of funding as the startup continues to grow and expand.\n",
    "   - Series C, D, E, and so forth rounds may involve larger amounts of funding and can be used for various purposes such as further expansion, acquisitions, or preparing for an initial public offering (IPO).\n",
    "   - At these later stages, the startup may attract investments from larger venture capital firms, private equity firms, hedge funds, or even corporate investors.\n",
    "\n",
    "5. **Bridge Rounds:**\n",
    "   - In between major funding rounds, startups may sometimes raise bridge rounds to provide additional runway while they prepare for the next significant financing round.\n",
    "   - Bridge rounds are often smaller and may involve existing investors providing additional capital to sustain operations until the next major round.\n",
    "\n",
    "Based on the above knowledge stages / series, we will rename some of the stage values in **all dataframes**"
   ]
  },
  {
   "cell_type": "code",
   "execution_count": 19,
   "metadata": {
    "tags": []
   },
   "outputs": [],
   "source": [
    " \n",
    "df18['Stage']=df18['Stage'].str.replace(r'\\b' + 'Seed' + r'\\b', 'Seed_Stage', regex=True)\n",
    "df18['Stage']=df18['Stage'].str.replace(r'\\b' + 'Angel' + r'\\b', 'Seed_Stage', regex=True)\n",
    "df18['Stage']=df18['Stage'].str.replace(r'\\b' + 'Pre-Seed' + r'\\b', 'Seed_Stage', regex=True)\n",
    "df18['Stage']=df18['Stage'].str.replace(r'\\b' + 'Grant' + r'\\b', 'Seed_Stage', regex=True)\n",
    "df18['Stage']=df18['Stage'].str.replace(r'\\b' + 'Non-equity Assistance' + r'\\b', 'Seed_Stage', regex=True)\n",
    "df18['Stage']=df18['Stage'].str.replace(r'\\b' + 'Funding Round' + r'\\b', 'Seed_Stage', regex=True)\n",
    "df18['Stage']=df18['Stage'].str.replace(r'\\b' + 'Pre-Seed_Stage' + r'\\b', 'Seed_Stage', regex=True)\n",
    " "
   ]
  },
  {
   "cell_type": "code",
   "execution_count": 20,
   "metadata": {
    "tags": []
   },
   "outputs": [],
   "source": [
    "df18['Stage']=df18['Stage'].str.replace(r'\\b' + 'Venture - Series Unknown' + r'\\b', 'Series A', regex=True)\n",
    "df18['Stage']=df18['Stage'].str.replace(r'\\b'+ 'Secondary Market'+ r'\\b', 'Series B', regex=True)\n",
    "df18['Stage']=df18['Stage'].str.replace(r'\\b'+ 'Private Equity'+ r'\\b', 'Series C', regex=True)\n",
    "df18['Stage']=df18['Stage'].str.replace(r'\\b'+ 'Series H'+ r'\\b', 'Series C', regex=True)\n",
    "df18['Stage']=df18['Stage'].str.replace(r'\\b'+ 'Series E'+ r'\\b', 'Series C', regex=True)\n",
    "df18['Stage']=df18['Stage'].str.replace(r'\\b'+ 'Series D'+ r'\\b', 'Series C', regex=True)"
   ]
  },
  {
   "cell_type": "code",
   "execution_count": 21,
   "metadata": {
    "tags": []
   },
   "outputs": [],
   "source": [
    "df18['Stage']=df18['Stage'].str.replace(r'\\b' + 'Debt Financing' + r'\\b', 'Bridge Rounds', regex=True)\n",
    "df18['Stage']=df18['Stage'].str.replace(r'\\b' + 'Post-IPO Debt' + r'\\b', 'Bridge Rounds', regex=True)\n",
    "df18['Stage']=df18['Stage'].str.replace(r'\\b' + 'Corporate Round' + r'\\b', 'Bridge Rounds', regex=True)\n",
    "df18['Stage']=df18['Stage'].str.replace(r'\\b' + 'Post-IPO Equity' + r'\\b', 'Bridge Rounds', regex=True)\n",
    "\n",
    "df18['Stage']=df18['Stage'].str.strip(']')\n",
    "df18['Stage']=df18['Stage'].str.replace(r'https://docs.google.com/spreadsheets/d/1x9ziNeaz6auNChIHnMI8U6kS7knTr3byy_YBGfQaoUA/edit#gid=1861303593','Undisclosed', regex=True)"
   ]
  },
  {
   "cell_type": "code",
   "execution_count": 22,
   "metadata": {
    "tags": []
   },
   "outputs": [
    {
     "data": {
      "text/plain": [
       "array(['Seed_Stage', 'Series A', 'Series B', 'Series C', 'Bridge Rounds',\n",
       "       'Undisclosed'], dtype=object)"
      ]
     },
     "execution_count": 22,
     "metadata": {},
     "output_type": "execute_result"
    }
   ],
   "source": [
    "df18['Stage'].unique()"
   ]
  },
  {
   "cell_type": "code",
   "execution_count": 23,
   "metadata": {
    "tags": []
   },
   "outputs": [],
   "source": [
    "#Replacing the digits part of value with nothing\n",
    "\n",
    "df18['cur_symb18']=df18['Amount'].astype(str).replace(('\\d'), '', regex= True)"
   ]
  },
  {
   "cell_type": "code",
   "execution_count": 24,
   "metadata": {
    "tags": []
   },
   "outputs": [
    {
     "data": {
      "text/plain": [
       "array(['', '₹,,', '—', '₹,', '$,', '$,,', '₹,,,', '$,,,'], dtype=object)"
      ]
     },
     "execution_count": 24,
     "metadata": {},
     "output_type": "execute_result"
    }
   ],
   "source": [
    "#Checking the unique currency symbols \n",
    "\n",
    "df18['cur_symb18'].unique()"
   ]
  },
  {
   "cell_type": "code",
   "execution_count": 25,
   "metadata": {
    "tags": []
   },
   "outputs": [],
   "source": [
    "# Replacing the symbols with nothing\n",
    "\n",
    "df18['Amount_no_symb18']=df18['Amount'].astype(str).replace('\\D', '', regex= True)"
   ]
  },
  {
   "cell_type": "code",
   "execution_count": 26,
   "metadata": {
    "tags": []
   },
   "outputs": [
    {
     "data": {
      "text/html": [
       "<div>\n",
       "<style scoped>\n",
       "    .dataframe tbody tr th:only-of-type {\n",
       "        vertical-align: middle;\n",
       "    }\n",
       "\n",
       "    .dataframe tbody tr th {\n",
       "        vertical-align: top;\n",
       "    }\n",
       "\n",
       "    .dataframe thead th {\n",
       "        text-align: right;\n",
       "    }\n",
       "</style>\n",
       "<table border=\"1\" class=\"dataframe\">\n",
       "  <thead>\n",
       "    <tr style=\"text-align: right;\">\n",
       "      <th></th>\n",
       "      <th>Company_Brand</th>\n",
       "      <th>Sector</th>\n",
       "      <th>Stage</th>\n",
       "      <th>Amount</th>\n",
       "      <th>Location</th>\n",
       "      <th>About Company</th>\n",
       "      <th>Year</th>\n",
       "      <th>cur_symb18</th>\n",
       "      <th>Amount_no_symb18</th>\n",
       "    </tr>\n",
       "  </thead>\n",
       "  <tbody>\n",
       "    <tr>\n",
       "      <th>0</th>\n",
       "      <td>TheCollegeFever</td>\n",
       "      <td>Brand Marketing, Event Promotion, Marketing, S...</td>\n",
       "      <td>Seed_Stage</td>\n",
       "      <td>250000</td>\n",
       "      <td>Bangalore, Karnataka, India</td>\n",
       "      <td>TheCollegeFever is a hub for fun, fiesta and f...</td>\n",
       "      <td>2018</td>\n",
       "      <td></td>\n",
       "      <td>250000</td>\n",
       "    </tr>\n",
       "    <tr>\n",
       "      <th>1</th>\n",
       "      <td>Happy Cow Dairy</td>\n",
       "      <td>Agriculture, Farming</td>\n",
       "      <td>Seed_Stage</td>\n",
       "      <td>₹40,000,000</td>\n",
       "      <td>Mumbai, Maharashtra, India</td>\n",
       "      <td>A startup which aggregates milk from dairy far...</td>\n",
       "      <td>2018</td>\n",
       "      <td>₹,,</td>\n",
       "      <td>40000000</td>\n",
       "    </tr>\n",
       "  </tbody>\n",
       "</table>\n",
       "</div>"
      ],
      "text/plain": [
       "     Company_Brand                                             Sector  \\\n",
       "0  TheCollegeFever  Brand Marketing, Event Promotion, Marketing, S...   \n",
       "1  Happy Cow Dairy                               Agriculture, Farming   \n",
       "\n",
       "        Stage       Amount                     Location  \\\n",
       "0  Seed_Stage       250000  Bangalore, Karnataka, India   \n",
       "1  Seed_Stage  ₹40,000,000   Mumbai, Maharashtra, India   \n",
       "\n",
       "                                       About Company  Year cur_symb18  \\\n",
       "0  TheCollegeFever is a hub for fun, fiesta and f...  2018              \n",
       "1  A startup which aggregates milk from dairy far...  2018        ₹,,   \n",
       "\n",
       "  Amount_no_symb18  \n",
       "0           250000  \n",
       "1         40000000  "
      ]
     },
     "execution_count": 26,
     "metadata": {},
     "output_type": "execute_result"
    }
   ],
   "source": [
    "#Checking to confirm changes were effected\n",
    "\n",
    "df18.head(2)"
   ]
  },
  {
   "cell_type": "code",
   "execution_count": 27,
   "metadata": {
    "tags": []
   },
   "outputs": [],
   "source": [
    "#droping the amount column with symbol\n",
    "\n",
    "df18=df18.drop('Amount',axis=1)"
   ]
  },
  {
   "cell_type": "code",
   "execution_count": 28,
   "metadata": {
    "tags": []
   },
   "outputs": [],
   "source": [
    "# Renaming columns\n",
    "\n",
    "df18=df18.rename(columns={'Amount_no_symb18':'Amount'})\n",
    "df18=df18.rename(columns={'cur_symb18':'Currency'})"
   ]
  },
  {
   "cell_type": "code",
   "execution_count": 29,
   "metadata": {
    "tags": []
   },
   "outputs": [],
   "source": [
    "#Changing Amount from object datatype to numeric type\n",
    "\n",
    "df18['Amount']=pd.to_numeric(df18['Amount'])"
   ]
  },
  {
   "cell_type": "code",
   "execution_count": 30,
   "metadata": {
    "tags": []
   },
   "outputs": [
    {
     "name": "stdout",
     "output_type": "stream",
     "text": [
      "<class 'pandas.core.frame.DataFrame'>\n",
      "RangeIndex: 526 entries, 0 to 525\n",
      "Data columns (total 8 columns):\n",
      " #   Column         Non-Null Count  Dtype  \n",
      "---  ------         --------------  -----  \n",
      " 0   Company_Brand  526 non-null    object \n",
      " 1   Sector         526 non-null    object \n",
      " 2   Stage          526 non-null    object \n",
      " 3   Location       526 non-null    object \n",
      " 4   About Company  526 non-null    object \n",
      " 5   Year           526 non-null    int64  \n",
      " 6   Currency       526 non-null    object \n",
      " 7   Amount         378 non-null    float64\n",
      "dtypes: float64(1), int64(1), object(6)\n",
      "memory usage: 33.0+ KB\n"
     ]
    }
   ],
   "source": [
    "# Confirming changes\n",
    "\n",
    "df18.info()"
   ]
  },
  {
   "cell_type": "code",
   "execution_count": 31,
   "metadata": {
    "tags": []
   },
   "outputs": [],
   "source": [
    "df18['Currency']=df18['Currency'].str.replace(',','')"
   ]
  },
  {
   "cell_type": "code",
   "execution_count": 32,
   "metadata": {
    "tags": []
   },
   "outputs": [
    {
     "data": {
      "text/plain": [
       "Currency\n",
       "     1.219853e+07\n",
       "$    5.535524e+07\n",
       "—             NaN\n",
       "₹    5.903119e+08\n",
       "Name: Amount, dtype: float64"
      ]
     },
     "execution_count": 32,
     "metadata": {},
     "output_type": "execute_result"
    }
   ],
   "source": [
    "currency_value=df18.groupby('Currency')['Amount'].mean()\n",
    "currency_value"
   ]
  },
  {
   "cell_type": "code",
   "execution_count": 33,
   "metadata": {
    "tags": []
   },
   "outputs": [
    {
     "data": {
      "text/html": [
       "<div>\n",
       "<style scoped>\n",
       "    .dataframe tbody tr th:only-of-type {\n",
       "        vertical-align: middle;\n",
       "    }\n",
       "\n",
       "    .dataframe tbody tr th {\n",
       "        vertical-align: top;\n",
       "    }\n",
       "\n",
       "    .dataframe thead th {\n",
       "        text-align: right;\n",
       "    }\n",
       "</style>\n",
       "<table border=\"1\" class=\"dataframe\">\n",
       "  <thead>\n",
       "    <tr style=\"text-align: right;\">\n",
       "      <th></th>\n",
       "      <th>Company_Brand</th>\n",
       "      <th>Sector</th>\n",
       "      <th>Stage</th>\n",
       "      <th>Location</th>\n",
       "      <th>About Company</th>\n",
       "      <th>Year</th>\n",
       "      <th>Currency</th>\n",
       "      <th>Amount</th>\n",
       "    </tr>\n",
       "  </thead>\n",
       "  <tbody>\n",
       "    <tr>\n",
       "      <th>0</th>\n",
       "      <td>TheCollegeFever</td>\n",
       "      <td>Brand Marketing, Event Promotion, Marketing, S...</td>\n",
       "      <td>Seed_Stage</td>\n",
       "      <td>Bangalore, Karnataka, India</td>\n",
       "      <td>TheCollegeFever is a hub for fun, fiesta and f...</td>\n",
       "      <td>2018</td>\n",
       "      <td></td>\n",
       "      <td>250000.0</td>\n",
       "    </tr>\n",
       "    <tr>\n",
       "      <th>1</th>\n",
       "      <td>Happy Cow Dairy</td>\n",
       "      <td>Agriculture, Farming</td>\n",
       "      <td>Seed_Stage</td>\n",
       "      <td>Mumbai, Maharashtra, India</td>\n",
       "      <td>A startup which aggregates milk from dairy far...</td>\n",
       "      <td>2018</td>\n",
       "      <td>₹</td>\n",
       "      <td>40000000.0</td>\n",
       "    </tr>\n",
       "    <tr>\n",
       "      <th>2</th>\n",
       "      <td>MyLoanCare</td>\n",
       "      <td>Credit, Financial Services, Lending, Marketplace</td>\n",
       "      <td>Series A</td>\n",
       "      <td>Gurgaon, Haryana, India</td>\n",
       "      <td>Leading Online Loans Marketplace in India</td>\n",
       "      <td>2018</td>\n",
       "      <td>₹</td>\n",
       "      <td>65000000.0</td>\n",
       "    </tr>\n",
       "    <tr>\n",
       "      <th>3</th>\n",
       "      <td>PayMe India</td>\n",
       "      <td>Financial Services, FinTech</td>\n",
       "      <td>Seed_Stage</td>\n",
       "      <td>Noida, Uttar Pradesh, India</td>\n",
       "      <td>PayMe India is an innovative FinTech organizat...</td>\n",
       "      <td>2018</td>\n",
       "      <td></td>\n",
       "      <td>2000000.0</td>\n",
       "    </tr>\n",
       "    <tr>\n",
       "      <th>4</th>\n",
       "      <td>Eunimart</td>\n",
       "      <td>E-Commerce Platforms, Retail, SaaS</td>\n",
       "      <td>Seed_Stage</td>\n",
       "      <td>Hyderabad, Andhra Pradesh, India</td>\n",
       "      <td>Eunimart is a one stop solution for merchants ...</td>\n",
       "      <td>2018</td>\n",
       "      <td>—</td>\n",
       "      <td>NaN</td>\n",
       "    </tr>\n",
       "  </tbody>\n",
       "</table>\n",
       "</div>"
      ],
      "text/plain": [
       "     Company_Brand                                             Sector  \\\n",
       "0  TheCollegeFever  Brand Marketing, Event Promotion, Marketing, S...   \n",
       "1  Happy Cow Dairy                               Agriculture, Farming   \n",
       "2       MyLoanCare   Credit, Financial Services, Lending, Marketplace   \n",
       "3      PayMe India                        Financial Services, FinTech   \n",
       "4         Eunimart                 E-Commerce Platforms, Retail, SaaS   \n",
       "\n",
       "        Stage                          Location  \\\n",
       "0  Seed_Stage       Bangalore, Karnataka, India   \n",
       "1  Seed_Stage        Mumbai, Maharashtra, India   \n",
       "2    Series A           Gurgaon, Haryana, India   \n",
       "3  Seed_Stage       Noida, Uttar Pradesh, India   \n",
       "4  Seed_Stage  Hyderabad, Andhra Pradesh, India   \n",
       "\n",
       "                                       About Company  Year Currency  \\\n",
       "0  TheCollegeFever is a hub for fun, fiesta and f...  2018            \n",
       "1  A startup which aggregates milk from dairy far...  2018        ₹   \n",
       "2          Leading Online Loans Marketplace in India  2018        ₹   \n",
       "3  PayMe India is an innovative FinTech organizat...  2018            \n",
       "4  Eunimart is a one stop solution for merchants ...  2018        —   \n",
       "\n",
       "       Amount  \n",
       "0    250000.0  \n",
       "1  40000000.0  \n",
       "2  65000000.0  \n",
       "3   2000000.0  \n",
       "4         NaN  "
      ]
     },
     "execution_count": 33,
     "metadata": {},
     "output_type": "execute_result"
    }
   ],
   "source": [
    "df18.head()"
   ]
  },
  {
   "cell_type": "markdown",
   "metadata": {},
   "source": [
    "#### converting rupees to dollars\n",
    "\n",
    "- We noticed apart from 2020 dataset which has no currency symbol, 2019 and 2021 had dollar symbols\n",
    "\n",
    "- we noticed that 2018 had both dollar and rupee symbols, since dollar is the dominant currency we decided to convert the rupees to dollars.\n",
    "    The Average exchange rate in 2018 was 0.0146 USD (https://www.exchangerates.org.uk/INR-USD-spot-exchange-rates-history-2018.html).\n",
    "    \n",
    "- We also decided to assume where the currency is empty was dollar. "
   ]
  },
  {
   "cell_type": "code",
   "execution_count": 34,
   "metadata": {
    "tags": []
   },
   "outputs": [
    {
     "data": {
      "text/html": [
       "<div>\n",
       "<style scoped>\n",
       "    .dataframe tbody tr th:only-of-type {\n",
       "        vertical-align: middle;\n",
       "    }\n",
       "\n",
       "    .dataframe tbody tr th {\n",
       "        vertical-align: top;\n",
       "    }\n",
       "\n",
       "    .dataframe thead th {\n",
       "        text-align: right;\n",
       "    }\n",
       "</style>\n",
       "<table border=\"1\" class=\"dataframe\">\n",
       "  <thead>\n",
       "    <tr style=\"text-align: right;\">\n",
       "      <th></th>\n",
       "      <th>Company_Brand</th>\n",
       "      <th>Sector</th>\n",
       "      <th>Stage</th>\n",
       "      <th>Location</th>\n",
       "      <th>About Company</th>\n",
       "      <th>Year</th>\n",
       "      <th>Currency</th>\n",
       "      <th>Amount</th>\n",
       "    </tr>\n",
       "  </thead>\n",
       "  <tbody>\n",
       "    <tr>\n",
       "      <th>0</th>\n",
       "      <td>TheCollegeFever</td>\n",
       "      <td>Brand Marketing, Event Promotion, Marketing, S...</td>\n",
       "      <td>Seed_Stage</td>\n",
       "      <td>Bangalore, Karnataka, India</td>\n",
       "      <td>TheCollegeFever is a hub for fun, fiesta and f...</td>\n",
       "      <td>2018</td>\n",
       "      <td></td>\n",
       "      <td>250000.0</td>\n",
       "    </tr>\n",
       "    <tr>\n",
       "      <th>1</th>\n",
       "      <td>Happy Cow Dairy</td>\n",
       "      <td>Agriculture, Farming</td>\n",
       "      <td>Seed_Stage</td>\n",
       "      <td>Mumbai, Maharashtra, India</td>\n",
       "      <td>A startup which aggregates milk from dairy far...</td>\n",
       "      <td>2018</td>\n",
       "      <td>₹</td>\n",
       "      <td>584000.0</td>\n",
       "    </tr>\n",
       "    <tr>\n",
       "      <th>2</th>\n",
       "      <td>MyLoanCare</td>\n",
       "      <td>Credit, Financial Services, Lending, Marketplace</td>\n",
       "      <td>Series A</td>\n",
       "      <td>Gurgaon, Haryana, India</td>\n",
       "      <td>Leading Online Loans Marketplace in India</td>\n",
       "      <td>2018</td>\n",
       "      <td>₹</td>\n",
       "      <td>949000.0</td>\n",
       "    </tr>\n",
       "    <tr>\n",
       "      <th>3</th>\n",
       "      <td>PayMe India</td>\n",
       "      <td>Financial Services, FinTech</td>\n",
       "      <td>Seed_Stage</td>\n",
       "      <td>Noida, Uttar Pradesh, India</td>\n",
       "      <td>PayMe India is an innovative FinTech organizat...</td>\n",
       "      <td>2018</td>\n",
       "      <td></td>\n",
       "      <td>2000000.0</td>\n",
       "    </tr>\n",
       "    <tr>\n",
       "      <th>4</th>\n",
       "      <td>Eunimart</td>\n",
       "      <td>E-Commerce Platforms, Retail, SaaS</td>\n",
       "      <td>Seed_Stage</td>\n",
       "      <td>Hyderabad, Andhra Pradesh, India</td>\n",
       "      <td>Eunimart is a one stop solution for merchants ...</td>\n",
       "      <td>2018</td>\n",
       "      <td>—</td>\n",
       "      <td>NaN</td>\n",
       "    </tr>\n",
       "  </tbody>\n",
       "</table>\n",
       "</div>"
      ],
      "text/plain": [
       "     Company_Brand                                             Sector  \\\n",
       "0  TheCollegeFever  Brand Marketing, Event Promotion, Marketing, S...   \n",
       "1  Happy Cow Dairy                               Agriculture, Farming   \n",
       "2       MyLoanCare   Credit, Financial Services, Lending, Marketplace   \n",
       "3      PayMe India                        Financial Services, FinTech   \n",
       "4         Eunimart                 E-Commerce Platforms, Retail, SaaS   \n",
       "\n",
       "        Stage                          Location  \\\n",
       "0  Seed_Stage       Bangalore, Karnataka, India   \n",
       "1  Seed_Stage        Mumbai, Maharashtra, India   \n",
       "2    Series A           Gurgaon, Haryana, India   \n",
       "3  Seed_Stage       Noida, Uttar Pradesh, India   \n",
       "4  Seed_Stage  Hyderabad, Andhra Pradesh, India   \n",
       "\n",
       "                                       About Company  Year Currency     Amount  \n",
       "0  TheCollegeFever is a hub for fun, fiesta and f...  2018            250000.0  \n",
       "1  A startup which aggregates milk from dairy far...  2018        ₹   584000.0  \n",
       "2          Leading Online Loans Marketplace in India  2018        ₹   949000.0  \n",
       "3  PayMe India is an innovative FinTech organizat...  2018           2000000.0  \n",
       "4  Eunimart is a one stop solution for merchants ...  2018        —        NaN  "
      ]
     },
     "execution_count": 34,
     "metadata": {},
     "output_type": "execute_result"
    }
   ],
   "source": [
    "# Exchange rate of rupee to dollars\n",
    "\n",
    "exchange_rate = 0.0146\n",
    "# convert exchange_rate from rupees to dollars and make a change to values with rupee symbol\n",
    "df18.loc[df18['Currency'] == '₹', 'Amount'] *= exchange_rate\n",
    "df18.head()"
   ]
  },
  {
   "cell_type": "code",
   "execution_count": 35,
   "metadata": {
    "tags": []
   },
   "outputs": [],
   "source": [
    "df18['Currency']='$'"
   ]
  },
  {
   "cell_type": "code",
   "execution_count": 36,
   "metadata": {
    "tags": []
   },
   "outputs": [
    {
     "data": {
      "text/html": [
       "<div>\n",
       "<style scoped>\n",
       "    .dataframe tbody tr th:only-of-type {\n",
       "        vertical-align: middle;\n",
       "    }\n",
       "\n",
       "    .dataframe tbody tr th {\n",
       "        vertical-align: top;\n",
       "    }\n",
       "\n",
       "    .dataframe thead th {\n",
       "        text-align: right;\n",
       "    }\n",
       "</style>\n",
       "<table border=\"1\" class=\"dataframe\">\n",
       "  <thead>\n",
       "    <tr style=\"text-align: right;\">\n",
       "      <th></th>\n",
       "      <th>Company_Brand</th>\n",
       "      <th>Sector</th>\n",
       "      <th>Stage</th>\n",
       "      <th>Location</th>\n",
       "      <th>About Company</th>\n",
       "      <th>Year</th>\n",
       "      <th>Currency</th>\n",
       "      <th>Amount</th>\n",
       "    </tr>\n",
       "  </thead>\n",
       "  <tbody>\n",
       "    <tr>\n",
       "      <th>0</th>\n",
       "      <td>TheCollegeFever</td>\n",
       "      <td>Brand Marketing, Event Promotion, Marketing, S...</td>\n",
       "      <td>Seed_Stage</td>\n",
       "      <td>Bangalore, Karnataka, India</td>\n",
       "      <td>TheCollegeFever is a hub for fun, fiesta and f...</td>\n",
       "      <td>2018</td>\n",
       "      <td>$</td>\n",
       "      <td>250000.0</td>\n",
       "    </tr>\n",
       "    <tr>\n",
       "      <th>1</th>\n",
       "      <td>Happy Cow Dairy</td>\n",
       "      <td>Agriculture, Farming</td>\n",
       "      <td>Seed_Stage</td>\n",
       "      <td>Mumbai, Maharashtra, India</td>\n",
       "      <td>A startup which aggregates milk from dairy far...</td>\n",
       "      <td>2018</td>\n",
       "      <td>$</td>\n",
       "      <td>584000.0</td>\n",
       "    </tr>\n",
       "    <tr>\n",
       "      <th>2</th>\n",
       "      <td>MyLoanCare</td>\n",
       "      <td>Credit, Financial Services, Lending, Marketplace</td>\n",
       "      <td>Series A</td>\n",
       "      <td>Gurgaon, Haryana, India</td>\n",
       "      <td>Leading Online Loans Marketplace in India</td>\n",
       "      <td>2018</td>\n",
       "      <td>$</td>\n",
       "      <td>949000.0</td>\n",
       "    </tr>\n",
       "    <tr>\n",
       "      <th>3</th>\n",
       "      <td>PayMe India</td>\n",
       "      <td>Financial Services, FinTech</td>\n",
       "      <td>Seed_Stage</td>\n",
       "      <td>Noida, Uttar Pradesh, India</td>\n",
       "      <td>PayMe India is an innovative FinTech organizat...</td>\n",
       "      <td>2018</td>\n",
       "      <td>$</td>\n",
       "      <td>2000000.0</td>\n",
       "    </tr>\n",
       "    <tr>\n",
       "      <th>4</th>\n",
       "      <td>Eunimart</td>\n",
       "      <td>E-Commerce Platforms, Retail, SaaS</td>\n",
       "      <td>Seed_Stage</td>\n",
       "      <td>Hyderabad, Andhra Pradesh, India</td>\n",
       "      <td>Eunimart is a one stop solution for merchants ...</td>\n",
       "      <td>2018</td>\n",
       "      <td>$</td>\n",
       "      <td>NaN</td>\n",
       "    </tr>\n",
       "  </tbody>\n",
       "</table>\n",
       "</div>"
      ],
      "text/plain": [
       "     Company_Brand                                             Sector  \\\n",
       "0  TheCollegeFever  Brand Marketing, Event Promotion, Marketing, S...   \n",
       "1  Happy Cow Dairy                               Agriculture, Farming   \n",
       "2       MyLoanCare   Credit, Financial Services, Lending, Marketplace   \n",
       "3      PayMe India                        Financial Services, FinTech   \n",
       "4         Eunimart                 E-Commerce Platforms, Retail, SaaS   \n",
       "\n",
       "        Stage                          Location  \\\n",
       "0  Seed_Stage       Bangalore, Karnataka, India   \n",
       "1  Seed_Stage        Mumbai, Maharashtra, India   \n",
       "2    Series A           Gurgaon, Haryana, India   \n",
       "3  Seed_Stage       Noida, Uttar Pradesh, India   \n",
       "4  Seed_Stage  Hyderabad, Andhra Pradesh, India   \n",
       "\n",
       "                                       About Company  Year Currency     Amount  \n",
       "0  TheCollegeFever is a hub for fun, fiesta and f...  2018        $   250000.0  \n",
       "1  A startup which aggregates milk from dairy far...  2018        $   584000.0  \n",
       "2          Leading Online Loans Marketplace in India  2018        $   949000.0  \n",
       "3  PayMe India is an innovative FinTech organizat...  2018        $  2000000.0  \n",
       "4  Eunimart is a one stop solution for merchants ...  2018        $        NaN  "
      ]
     },
     "execution_count": 36,
     "metadata": {},
     "output_type": "execute_result"
    }
   ],
   "source": [
    "df18.head()"
   ]
  },
  {
   "cell_type": "code",
   "execution_count": 37,
   "metadata": {
    "tags": []
   },
   "outputs": [
    {
     "data": {
      "text/plain": [
       "Index(['Company_Brand', 'Sector', 'Stage', 'Location', 'About Company', 'Year',\n",
       "       'Currency', 'Amount'],\n",
       "      dtype='object')"
      ]
     },
     "execution_count": 37,
     "metadata": {},
     "output_type": "execute_result"
    }
   ],
   "source": [
    "df18.columns"
   ]
  },
  {
   "cell_type": "code",
   "execution_count": 38,
   "metadata": {
    "tags": []
   },
   "outputs": [],
   "source": [
    "#df18['Company_Brand'].unique()"
   ]
  },
  {
   "cell_type": "markdown",
   "metadata": {},
   "source": [
    "### Observations\n",
    "\n",
    "- Guardian.in will be changed to GNC India\n",
    "- NoPaperForms Solutions Pvt. Ltd is now Meritto- we will decide whether to replace\n",
    "- Nutrisattva (Proliva) will be replaced by Nutrisattva Foods Pvt. Ltd."
   ]
  },
  {
   "cell_type": "code",
   "execution_count": 39,
   "metadata": {
    "tags": []
   },
   "outputs": [],
   "source": [
    "#df18['Company_Brand']=df18['Company_Brand'].str.replace('Guardian.in', 'GNC India')"
   ]
  },
  {
   "cell_type": "code",
   "execution_count": 40,
   "metadata": {
    "tags": []
   },
   "outputs": [
    {
     "data": {
      "text/plain": [
       "0"
      ]
     },
     "execution_count": 40,
     "metadata": {},
     "output_type": "execute_result"
    }
   ],
   "source": [
    "df18['Company_Brand'].isna().sum()"
   ]
  },
  {
   "cell_type": "code",
   "execution_count": 41,
   "metadata": {
    "tags": []
   },
   "outputs": [
    {
     "data": {
      "text/plain": [
       "array(['Bangalore, Karnataka, India', 'Mumbai, Maharashtra, India',\n",
       "       'Gurgaon, Haryana, India', 'Noida, Uttar Pradesh, India',\n",
       "       'Hyderabad, Andhra Pradesh, India', 'Bengaluru, Karnataka, India',\n",
       "       'Kalkaji, Delhi, India', 'Delhi, Delhi, India', 'India, Asia',\n",
       "       'Hubli, Karnataka, India', 'New Delhi, Delhi, India',\n",
       "       'Chennai, Tamil Nadu, India', 'Mohali, Punjab, India',\n",
       "       'Kolkata, West Bengal, India', 'Pune, Maharashtra, India',\n",
       "       'Jodhpur, Rajasthan, India', 'Kanpur, Uttar Pradesh, India',\n",
       "       'Ahmedabad, Gujarat, India', 'Azadpur, Delhi, India',\n",
       "       'Haryana, Haryana, India', 'Cochin, Kerala, India',\n",
       "       'Faridabad, Haryana, India', 'Jaipur, Rajasthan, India',\n",
       "       'Kota, Rajasthan, India', 'Anand, Gujarat, India',\n",
       "       'Bangalore City, Karnataka, India', 'Belgaum, Karnataka, India',\n",
       "       'Thane, Maharashtra, India', 'Margão, Goa, India',\n",
       "       'Indore, Madhya Pradesh, India', 'Alwar, Rajasthan, India',\n",
       "       'Kannur, Kerala, India', 'Trivandrum, Kerala, India',\n",
       "       'Ernakulam, Kerala, India', 'Kormangala, Karnataka, India',\n",
       "       'Uttar Pradesh, India, Asia', 'Andheri, Maharashtra, India',\n",
       "       'Mylapore, Tamil Nadu, India', 'Ghaziabad, Uttar Pradesh, India',\n",
       "       'Kochi, Kerala, India', 'Powai, Assam, India',\n",
       "       'Guntur, Andhra Pradesh, India', 'Kalpakkam, Tamil Nadu, India',\n",
       "       'Bhopal, Madhya Pradesh, India', 'Coimbatore, Tamil Nadu, India',\n",
       "       'Worli, Maharashtra, India', 'Alleppey, Kerala, India',\n",
       "       'Chandigarh, Chandigarh, India', 'Guindy, Tamil Nadu, India',\n",
       "       'Lucknow, Uttar Pradesh, India'], dtype=object)"
      ]
     },
     "execution_count": 41,
     "metadata": {},
     "output_type": "execute_result"
    }
   ],
   "source": [
    "df18['Location'].unique()"
   ]
  },
  {
   "cell_type": "code",
   "execution_count": 42,
   "metadata": {
    "tags": []
   },
   "outputs": [],
   "source": [
    "'''in order to have The location of 2018 dataset to correspond with \n",
    "the other three dataset which have only one city as loaction, we picked \n",
    "the first city in the location column and dropped the remaining'''  \n",
    "\n",
    "df18['Location'] = df18['Location'].str.split(',').str.get(0) \n"
   ]
  },
  {
   "cell_type": "code",
   "execution_count": 43,
   "metadata": {
    "tags": []
   },
   "outputs": [
    {
     "data": {
      "text/plain": [
       "array(['Bangalore', 'Mumbai', 'Gurgaon', 'Noida', 'Hyderabad',\n",
       "       'Bengaluru', 'Kalkaji', 'Delhi', 'India', 'Hubli', 'New Delhi',\n",
       "       'Chennai', 'Mohali', 'Kolkata', 'Pune', 'Jodhpur', 'Kanpur',\n",
       "       'Ahmedabad', 'Azadpur', 'Haryana', 'Cochin', 'Faridabad', 'Jaipur',\n",
       "       'Kota', 'Anand', 'Bangalore City', 'Belgaum', 'Thane', 'Margão',\n",
       "       'Indore', 'Alwar', 'Kannur', 'Trivandrum', 'Ernakulam',\n",
       "       'Kormangala', 'Uttar Pradesh', 'Andheri', 'Mylapore', 'Ghaziabad',\n",
       "       'Kochi', 'Powai', 'Guntur', 'Kalpakkam', 'Bhopal', 'Coimbatore',\n",
       "       'Worli', 'Alleppey', 'Chandigarh', 'Guindy', 'Lucknow'],\n",
       "      dtype=object)"
      ]
     },
     "execution_count": 43,
     "metadata": {},
     "output_type": "execute_result"
    }
   ],
   "source": [
    "df18['Location'].unique()"
   ]
  },
  {
   "cell_type": "code",
   "execution_count": 44,
   "metadata": {
    "tags": []
   },
   "outputs": [
    {
     "data": {
      "text/plain": [
       "Company_Brand      0\n",
       "Sector             0\n",
       "Stage              0\n",
       "Location           0\n",
       "About Company      0\n",
       "Year               0\n",
       "Currency           0\n",
       "Amount           148\n",
       "dtype: int64"
      ]
     },
     "execution_count": 44,
     "metadata": {},
     "output_type": "execute_result"
    }
   ],
   "source": [
    "df18.isna().sum()"
   ]
  },
  {
   "cell_type": "code",
   "execution_count": 45,
   "metadata": {
    "tags": []
   },
   "outputs": [],
   "source": [
    "#df18[df18['Amount'].isna()]"
   ]
  },
  {
   "cell_type": "code",
   "execution_count": 46,
   "metadata": {
    "tags": []
   },
   "outputs": [
    {
     "data": {
      "text/plain": [
       "1"
      ]
     },
     "execution_count": 46,
     "metadata": {},
     "output_type": "execute_result"
    }
   ],
   "source": [
    "df18.duplicated().sum()"
   ]
  },
  {
   "cell_type": "code",
   "execution_count": 47,
   "metadata": {
    "tags": []
   },
   "outputs": [],
   "source": [
    "df18=df18.drop_duplicates()"
   ]
  },
  {
   "cell_type": "code",
   "execution_count": 48,
   "metadata": {},
   "outputs": [
    {
     "data": {
      "text/plain": [
       "0"
      ]
     },
     "execution_count": 48,
     "metadata": {},
     "output_type": "execute_result"
    }
   ],
   "source": [
    "df18['Company_Brand'].duplicated().sum()"
   ]
  },
  {
   "cell_type": "markdown",
   "metadata": {},
   "source": [
    "### **Overview of the Sector** "
   ]
  },
  {
   "cell_type": "markdown",
   "metadata": {},
   "source": [
    "Top performing sectors \n",
    "Several factors like increased internet penetration, digitization, and government initiatives have fueled the growth of top-funded sectors from 2014 to 2023 in India. These sectors include Retail, Enterprise Applications, Fintech, Transportation & Logistics tech, Food & Agriculture tech, Auto tech, Travel & Hospitality tech, and Edtech, the Tracxn report said. \n",
    "\n",
    "In the Deep Tech (R&D oriented) sector, Indian investment has been increasing steadily over the years with total funding of $6.73 billion, and in a decade, it received $6.23 billion, reflecting the country’s steady growth and commitment to science and technology. This trend emphasizes the importance of technology-driven innovation in shaping India's future.\n",
    "\n",
    "New emerging sectors\n",
    "Various new sectors such as DeepTech, SpaceTech, Artificial Intelligence, and EVs have broadened the Indian startup landscape. The Tracxn report stated that DeepTech has seen a rise in funding, reaching $2.1 billion in 2022, while the EV industry has seen $4.8 billion in funding in the past ten years\n",
    "\n",
    "Top favorable cities for startups\n",
    "Bengaluru remains the startup hub as the Karnataka capital received total funding of $70.4 billion in a decade, the report said, adding that Delhi-NCR and Mumbai stand at second and third spot respectively. \n",
    "\n",
    "Besides metro cities, several successful startups have also emerged in non-metropolitan areas such as Jaipur which has secured its position among the top cities in FinTech funding with $214 million in 2023."
   ]
  },
  {
   "cell_type": "markdown",
   "metadata": {},
   "source": [
    "### Sectors to include\n",
    "\n",
    "1. Retail\n",
    "- (the sale of goods to the public in relatively small quantities for use or consumption rather than for resale.)-**Source:Definitions from Oxford Languages**\n",
    "\n",
    "2. Enterprise Applications -(ERPs, Saas, Autotech, Agritech, Healthtect) \n",
    "- (An enterprise application (EA) is a large software system platform typically designed to operate in a corporate environment such as business or government)-**Source: https://www.outsystems.com/tech-hub/app-dev/what-is-an-enterprise-app/**\n",
    "\n",
    "3. Fintech \n",
    "- (computer programs and other technology used to support or enable banking and financial services.\n",
    "\"fintech is one of the fastest-growing areas for venture capitalists\")-**Source:Definitions from Oxford Languages**\n",
    "- (refers to any app, software, or technology that allows people or businesses to digitally access, manage, or gain insights into their finances or make financial transactions.)**source: https://plaid.com/resources/fintech/what-is-fintech/**\n",
    "\n",
    "\n",
    "4. Supply Chain Management - Transportation & Logistics tech \n",
    "- (management of the flow of goods, data, and finances related to a product or service, from the procurement of raw materials to the delivery of the product at its final destination.)**Source:https://www.oracle.com/ke/scm/what-is-supply-chain-management**\n",
    "\n",
    "5. Food & Agriculture \n",
    "- (The Food and agriculture industry produce a large range of primary agricultural products and processed foods contributing to feeding most of the world population)- **Source:https://www.who.int/teams/epi-win/food-and-agriculture-sectors**\n",
    "\n",
    "6. Education \n",
    "- (the process of receiving or giving systematic instruction, especially at a school or university) **Source:Definitions from Oxford Languages**\n",
    "\n",
    "7. Travel & Hospitality\n",
    "- (Hospitality means extending a welcome to guests or offering a home away from home, and the word is derived from the Latin word “hospes” meaning host, visitor or stranger. The hospitality and tourism industry is a vast sector that includes all the economic activities that directly or indirectly contribute to, or depend upon, travel, tourism and hospitality) **Source:https://www.ehl.edu/en/what-is-hospitality**\n",
    "\n",
    "8. Edtech\n",
    "- (a combination of \"education\" and \"technology\") refers to hardware and software designed to enhance teacher-led learning in classrooms and improve students' education outcomes. **Source:https://www.investopedia.com/terms/e/edtech**\n",
    "\n",
    "9. E-commerce\n",
    "- commercial transactions conducted electronically on the internet **Source:Definitions from Oxford Languages**\n",
    "- Types of E-commerce are Business-to-Business (B2B), Business-to-Consumer (B2C), Consumer-to-Consumer (C2C), Consumer-to-Business (C2B), Business-to-Administration (B2A) and Consumer-to-Administration (C2A) **Source:https://bloomidea.com/en/blog/types-e-commerce**\n",
    "\n",
    "10. Banking and Finance \n",
    "- explores the dynamic, fast-paced world of money, shares, credit and investments.  Finance is an essential part of our economy as it provides the liquidity in terms of money or assets required for individuals and businesses to invest for the future. **Source:https://www.monash.edu/business/baf/study-options/why-banking-and-finance**\n",
    "- Finance and Banking is the operation of the monetary business through banks and specialized financial instruments. In addition, Finance and Banking is closely related to money circulation services, playing an essential role in guiding a country's strategy and monetary policy. **Source:https://www.hoasen.edu.vn/tuyensinh/en/what-is-finance-and-banking-finance-and-banking-a-to-z**\n",
    "\n",
    "11. Cosmetics & Jewelry\n",
    "- A \"cosmetic\" is any substance used to clean, improve or change the complexion, skin, hair, nails or teeth. Cosmetics include beauty preparations (make-up, perfume, skin cream, nail polish) and grooming aids (soap, shampoo, shaving cream, deodorant) **Source:https://www.canada.ca/en/health-canada/services/cosmetics/what-is-cosmetic**\n",
    "- personal ornaments, such as necklaces, rings, or bracelets, that are typically made from or contain jewels and precious metal **Source:Definitions from Oxford Languages**\n",
    "\n",
    "12. Artificial Intelligence and Robotics\n",
    "- AI allows articulated robots to perform tasks faster and more accurately. AI technologies infer information from vision sensors, such as 2D/3D cameras, to segment and understand scenes as well as detect and classify objects. **Source:https://www.intel.com/content/www/us/en/robotics/artificial-intelligence-robotics**\n",
    "- \n",
    "\n",
    "13. Automotive & Electric Vehicles(EV)\n",
    "- Anything automotive has to do with automobiles — in other words, cars. The automotive industry, for example, is all about making and selling cars. **Source:https://www.vocabulary.com/dictionary/automotive**"
   ]
  },
  {
   "cell_type": "code",
   "execution_count": 49,
   "metadata": {
    "tags": []
   },
   "outputs": [
    {
     "name": "stdout",
     "output_type": "stream",
     "text": [
      "['3d printing, manufacturing, product design', 'accounting, apps, fintech', 'accounting, banking, finance', 'accounting, business information systems, business travel, finance, saas', 'advertising, artificial intelligence, digital media, ios, location based services, news, video, video on demand, video streaming', 'advertising, consulting, digital marketing', 'advertising, human resources, marketing', 'advertising, internet, marketing', 'aerospace', 'agriculture', 'agriculture, agtech, artificial intelligence, internet of things, machine learning', 'agriculture, agtech, manufacturing', 'agriculture, analytics, big data, farming', 'agriculture, farmers market, farming', 'agriculture, farming', 'agriculture, mobile', 'agtech, b2b, supply chain management', 'air transportation, freight service, logistics, marine transportation', 'alternative medicine, health care', 'analytics, apps, market research', 'analytics, audio, digital media, innovation management, internet radio, media and entertainment', 'analytics, computer vision, enterprise software, machine learning, natural language processing, speech recognition', 'analytics, crm, loyalty programs, machine learning, marketing automation, retail technology, saas, small and medium businesses', 'android, big data, blockchain, cloud computing, edtech, education, information technology, ios, training, web development', 'apps', 'apps, audio', 'apps, b2b, freight service, logistics, saas, shipping, supply chain management, transportation', 'apps, beauty, consumer, retail', 'apps, collaboration, developer platform, enterprise software, messaging, productivity tools, video chat', 'apps, e-commerce, internet', 'apps, e-commerce, internet, mobile, ride sharing, transportation', 'apps, education, retail', 'apps, events, news', 'apps, financial services, fintech', 'apps, fitness, health care, mhealth', 'apps, health care, hospital, mobile apps', 'apps, health care, internet, mobile apps, personal health', 'apps, health care, pharmaceutical', 'apps, home services, information services, information technology', 'apps, information services, information technology', 'apps, messaging, navigation, public safety', 'apps, mobile, mobile apps, software', 'apps, mobile, transportation', 'apps, payments, retail', 'artificial intelligence', 'artificial intelligence, business intelligence, industrial automation, machine learning', 'artificial intelligence, cloud computing, video', 'artificial intelligence, computer, machine learning', 'artificial intelligence, drones, navigation, packaging services, robotics', 'artificial intelligence, energy, oil and gas', 'artificial intelligence, human resources, information services, information technology', 'artificial intelligence, information technology', 'artificial intelligence, machine learning, paas', 'artificial intelligence, machine learning, saas, virtual assistant', 'artificial intelligence, product search, saas, service industry, software', 'artificial intelligence, social', 'audio, mobile, tourism, travel', 'automotive', 'automotive, battery, electric vehicle, manufacturing, mechanical design', 'automotive, battery, energy, energy storage', 'automotive, e-commerce', 'automotive, e-commerce platforms, marketplace', 'automotive, e-commerce, information services', 'automotive, e-commerce, marketplace', 'automotive, e-commerce, mobile', 'automotive, electric vehicle, energy', 'automotive, electric vehicle, energy storage', 'automotive, electric vehicle, renewable energy', 'automotive, last mile transportation, peer to peer, ride sharing', 'automotive, marketplace, online portals', 'automotive, rental, sharing economy', 'automotive, retail', 'automotive, search engine, service industry', 'autonomous vehicles', 'autonomous vehicles, last mile transportation, recreational vehicles, rental', 'b2b, biometrics, cyber security, fraud detection, saas, security', 'b2b, business development, internet, marketplace', 'b2b, e-commerce, enterprise', 'b2b, e-commerce, mobile', 'b2b, farming, marketplace', 'b2b, food and beverage, food delivery', 'b2b, information services, information technology', 'b2b, marketplace', 'b2b, medical device', 'b2b, shoes', 'banking', 'banking, e-learning, trading platform', 'banking, finance, financial services', 'banking, finance, financial services, non profit', 'banking, financial services, fintech', 'banking, financial services, internet', 'basketball, cricket, cycling, esports, fitness, golf, health care, hockey, sports, swimming, table tennis, volley ball', 'battery, electric vehicle, energy, renewable energy, transportation', 'beauty, cosmetics, health care, service industry', 'beauty, fashion, wellness', 'beauty, fitness, home services, internet', 'beauty, health care', 'big data, business intelligence, financial services, fintech, personal finance', 'big data, consumer lending, fintech', 'big data, data visualization, logistics, software', 'big data, edtech, machine learning', 'big data, financial services, machine learning, predictive analytics', 'biopharma', 'biotechnology', 'biotechnology, diabetes, health care', 'biotechnology, health care, life science, medical device', 'biotechnology, health care, pharmaceutical', 'biotechnology, health care, wellness', 'biotechnology, life science, pharmaceutical, product research', 'blockchain, developer tools, enterprise software', 'brand marketing, event promotion, marketing, sponsorship, ticketing', 'broadcasting, media and entertainment, music, music streaming, video, video streaming', 'business development, market research, outsourcing', 'business intelligence, customer service, market research, saas', 'business travel, hospitality, hotel, marketplace, tourism, travel accommodations', 'career planning, education, higher education, service industry', 'career planning, education, internet', 'catering, food and beverage, food delivery, food processing', \"child care, health care, hospital, medical, women's\", 'child care, information technology', 'children, education, online portals', 'children, education, parenting', 'classifieds, internet, marketplace, rental property', 'clean energy, cleantech, laundry and dry-cleaning', 'cleantech', 'cloud computing, computer, saas, software', 'cloud computing, computer, semiconductor', 'cloud computing, computer, software', 'cloud computing, enterprise software, network hardware, network security, saas', 'cloud infrastructure, paas, saas', 'collaboration, communities, coworking, real estate', 'collaboration, communities, coworking, sharing economy', 'commercial real estate, coworking, office administration, real estate', 'commercial, e-learning, education', 'communities, coworking, incubators', 'communities, leisure, mobile apps, software', 'computer, digital marketing, facilities support services, graphic design, internet, mobile apps, social media marketing, web development', 'computer, fintech, risk management, software', 'computer, furniture, software', 'consulting', 'consulting, cyber security, network security', 'consulting, retail, social', 'consumer', 'consumer applications, information services, location based services, virtual assistant', 'consumer electronics', 'consumer electronics, e-commerce, e-commerce platforms, electronics, shipping, shopping', 'consumer electronics, embedded systems, hardware, smart building, software', 'consumer goods', \"consumer goods, lifestyle, men's\", 'consumer goods, manufacturing', 'consumer lending, finance, fintech', 'consumer lending, financial services, fintech, insurance, lending, mobile payments, payments, wealth management', 'consumer lending, financial services, lending, personal finance', 'consumer lending, fintech', 'consumer, financial services, fintech', 'consumer, furniture, home decor, home improvement', 'continuing education, edtech, education, skill assessment', 'cooking, e-commerce, food and beverage, food delivery, online portals', 'cosmetics', 'creative agency, crowdfunding, edtech, health care, internet, medical, non profit, personal health', 'credit cards, finance, mobile apps, mobile payments, payments', 'credit cards, payments, property insurance, property management, rental property', 'credit, finance, fintech, lending, sales automation', 'credit, financial services, fintech, lending', 'credit, financial services, fintech, personal finance', 'credit, financial services, lending, marketplace', 'crowdfunding, finance, financial services', 'crowdfunding, financial services, internet', 'crowdsourcing, financial services, funding platform, venture capital', 'cryptocurrency, trading platform', 'customer service, information technology, internet, sales automation', 'customer service, messaging, mobile apps, personalization', 'customer service, software, video, video streaming', 'dating, private social networking', 'delivery service, e-commerce, logistics', 'delivery service, food and beverage, food delivery', 'delivery service, logistics, service industry', 'delivery, drones, geospatial, robotics', 'delivery, information technology, mobile apps', 'delivery, logistics, transportation', 'dental, elder care, health care, home health care, personal health', 'dietary supplements, food and beverage, health care, organic food, snack food', 'digital entertainment', 'digital entertainment, fantasy sports, gaming, sports', 'digital entertainment, fantasy sports, sports', 'digital entertainment, mobile, pc games', 'digital marketing, sem, seo, web development', 'digital media', 'digital media, ebooks, publishing, reading apps', 'digital media, incubators, social entrepreneurship', 'digital media, internet, media and entertainment, online portals, social media', 'digital media, news, publishing', 'e-commerce', 'e-commerce platforms, retail, saas', 'e-commerce, e-commerce platforms, furniture, home decor, internet', 'e-commerce, e-commerce platforms, internet, mobile apps, social media', 'e-commerce, e-commerce platforms, internet, retail', 'e-commerce, e-commerce platforms, retail', 'e-commerce, education, health care', 'e-commerce, facilities support services, procurement, supply chain management', 'e-commerce, fashion, jewelry, retail', 'e-commerce, fashion, lifestyle', 'e-commerce, fashion, mobile', 'e-commerce, fashion, shopping', 'e-commerce, fitness, health care', 'e-commerce, food and beverage, internet', 'e-commerce, food and beverage, tea', 'e-commerce, food processing', 'e-commerce, furniture, home decor, interior design, internet', 'e-commerce, furniture, interior design', 'e-commerce, health care, retail', 'e-commerce, mobile, retail', 'e-commerce, mobile, sharing economy', 'e-commerce, retail, shopping', 'e-learning', 'e-learning, edtech, education', 'e-learning, edtech, education, image recognition, machine learning, stem education', 'e-learning, education', 'e-learning, education, higher education', 'e-learning, internet', 'e-learning, internet, video games', 'edtech, education', 'edtech, education, enterprise software, peer to peer', 'edtech, education, higher education, secondary education', 'edtech, education, information services, saas', 'edtech, education, knowledge management', 'edtech, education, mobile, tutoring', 'education', 'education, financial services, fintech', 'education, gaming, training', 'education, human resources', 'education, information technology, internet, mobile, software', 'electric vehicle', 'embedded systems, health care, medical, product research', 'energy, energy storage, infrastructure', 'energy, environmental consulting, renewable energy, solar', 'energy, natural resources', 'energy, renewable energy, solar', 'energy, solar', 'enterprise resource planning (erp), information services, information technology, real estate', 'enterprise software, health care, hospital, parenting, personal health, saas', 'environmental consulting, renewable energy', 'esports, gaming, video games', 'events', 'eyewear, internet', 'facilities support services', 'fantasy sports, mobile, sports', 'farming', 'fashion', 'fashion, graphic design, wearables', 'fashion, jewelry', 'fashion, lifestyle, rental', 'fashion, lifestyle, retail', 'file sharing, personalization, social media', 'finance', 'finance, financial exchanges, financial services, micro lending', 'finance, financial services', 'finance, financial services, fintech', 'finance, financial services, insurance', 'finance, financial services, marketing', 'finance, financial services, small and medium businesses', 'finance, fintech, mobile payments', 'finance, fintech, payments, property development, rental', 'finance, impact investing, internet', 'finance, impact investing, mobile apps', 'finance, internet, travel', 'financial services', 'financial services, fintech', 'financial services, insurance, private social networking', 'financial services, lending', 'financial services, lending, peer to peer', 'financial services, micro lending', 'financial services, professional services', 'financial services, saas, security', 'financial services, venture capital', 'fintech, internet, payments, service industry', 'fintech, mobile, mobile payments, payments, retail technology', 'fitness, food and beverage, health care, nutrition', 'fitness, greentech, internet of things, mobile apps, ride sharing, transportation', 'fitness, health care, wellness', 'fitness, sporting goods, sports', 'food and beverage', 'food and beverage, food delivery', 'food and beverage, food delivery, internet', 'food and beverage, food delivery, snack food', 'food and beverage, food processing', 'food and beverage, food processing, manufacturing', 'food and beverage, food processing, nutrition', 'food and beverage, food processing, organic food, snack food', 'food and beverage, restaurants, tea', 'food and beverage, snack food', 'food and beverage, snack food, tea', 'food and beverage, tea', 'food delivery', 'food delivery, food processing, internet', 'food delivery, hospitality, reservations, restaurants, search engine', 'food delivery, online portals, restaurants', 'food delivery, organic, organic food', 'food processing', 'food processing, retail', 'fraud detection, information services, security', 'funding platform, incubators, non profit', 'gaming, ios, sports', 'government, information technology, software', 'health care', 'health care, health diagnostics, internet of things, life science, machine learning, medical, medical device', 'health care, health diagnostics, predictive analytics', 'health care, health insurance', 'health care, hospital', 'health care, hospital, medical', 'health care, hospital, medical, robotics', 'health care, hospital, supply chain management', 'health care, hospital, wellness', 'health care, hospitality', 'health care, information technology', 'health care, information technology, management information systems', 'health care, medical', 'health care, medical device, mobile apps', 'health care, medical device, public safety', 'health care, medical, pharmaceutical', 'health care, pharmaceutical, wellness', 'health diagnostics', 'health insurance, insurance, life insurance', 'home decor, home improvement, home renovation, home services, interior design, smart home', 'home decor, interior design', 'hospital', 'hospitality', 'hospitality, hotel, leisure, travel', 'hospitality, information technology, travel accommodations', 'hospitality, real estate', 'human resources', 'human resources, security, training', 'industrial automation', 'industrial automation, logistics, supply chain management', 'industrial, industrial automation', 'information services, information technology', 'information services, information technology, insurtech', 'information services, information technology, mobile, software', 'information services, internet, logistics, supply chain management, transportation', 'information technology', 'information technology, logistics, supply chain management', 'information technology, mobile, news, operating systems, social media, social news', 'information technology, saas, security', 'insurance', 'internet', 'internet of things, robotics', 'internet of things, telecommunications', 'internet of things, waste management', 'internet, knowledge management', 'internet, leisure, marketplace', 'internet, marketplace, shopping', 'internet, mobile apps, social network', 'internet, mobile, social entrepreneurship, telecommunications, wireless', 'internet, social entrepreneurship', 'internet, social network, tv', 'internet, social news, sports', 'internet, software', 'last mile transportation, railroad, transportation, travel', 'logistics, railroad, transportation', 'logistics, supply chain management', 'logistics, transportation, travel', 'manufacturing', 'manufacturing, oil and gas, robotics', 'manufacturing, retail', 'market research', 'marketing', 'marketing, social media, video', 'marketplace, real estate, rental property', 'media and entertainment, news, outdoors', 'media and entertainment, news, publishing', 'medical', 'medical device', 'medical, tourism', 'mobile', 'mobile payments', 'mobile, mobile apps, personalization, test and measurement, web apps', 'mobile, software, travel', 'music streaming', 'music, social network, video', 'nanotechnology', 'news, publishing, social media', 'online games, software', 'online portals, property management, rental', 'packaging services', 'reading apps', 'renewable energy', 'rental', 'rental, taxi service, travel', 'retail', 'search engine', 'smart cities, telecommunications', 'social media, sports', 'software', 'software, virtual reality', 'sports', 'tourism, travel', 'trading platform', 'training', 'transportation', 'travel', 'veterinary', 'wealth management', 'wedding', 'wellness', '—']\n"
     ]
    }
   ],
   "source": [
    "#Identifying the unique values in the Sector Column \n",
    "\n",
    "df18['Sector'] = df18['Sector'].apply(lambda x: x.lower() if isinstance(x, str) else x)\n",
    "\n",
    "print(sorted(map(str, df18['Sector'].unique())))\n",
    "\n",
    "#df18['Sector'].unique()"
   ]
  },
  {
   "cell_type": "markdown",
   "metadata": {},
   "source": [
    "**Observations**\n",
    "- We observe there are list of Sectors for each company and for the purposes of our analysis, we will go with the first"
   ]
  },
  {
   "cell_type": "code",
   "execution_count": 50,
   "metadata": {},
   "outputs": [],
   "source": [
    "#Replacing the _ symbol with e-commerce (in reference to the About Company column)\n",
    "\n",
    "df18['Sector']=df18['Sector'].str.replace(r'—', 'e-commerce', regex=True)\n",
    "\n",
    "\n",
    "#Replacing agtech with agritech\n",
    "df18['Sector']=df18['Sector'].str.replace(r'agtech', 'agritech', regex=True)\n",
    "\n"
   ]
  },
  {
   "cell_type": "code",
   "execution_count": 51,
   "metadata": {},
   "outputs": [],
   "source": [
    "#Choosing the first Sector from the list of Sectors in each row\n",
    "df18['Sector'] = df18['Sector'].str.split(',').str.get(0) "
   ]
  },
  {
   "cell_type": "code",
   "execution_count": 52,
   "metadata": {},
   "outputs": [
    {
     "name": "stdout",
     "output_type": "stream",
     "text": [
      "['3d printing', 'accounting', 'advertising', 'aerospace', 'agriculture', 'agritech', 'air transportation', 'alternative medicine', 'analytics', 'android', 'apps', 'artificial intelligence', 'audio', 'automotive', 'autonomous vehicles', 'b2b', 'banking', 'basketball', 'battery', 'beauty', 'big data', 'biopharma', 'biotechnology', 'blockchain', 'brand marketing', 'broadcasting', 'business development', 'business intelligence', 'business travel', 'career planning', 'catering', 'child care', 'children', 'classifieds', 'clean energy', 'cleantech', 'cloud computing', 'cloud infrastructure', 'collaboration', 'commercial', 'commercial real estate', 'communities', 'computer', 'consulting', 'consumer', 'consumer applications', 'consumer electronics', 'consumer goods', 'consumer lending', 'continuing education', 'cooking', 'cosmetics', 'creative agency', 'credit', 'credit cards', 'crowdfunding', 'crowdsourcing', 'cryptocurrency', 'customer service', 'dating', 'delivery', 'delivery service', 'dental', 'dietary supplements', 'digital entertainment', 'digital marketing', 'digital media', 'e-commerce', 'e-commerce platforms', 'e-learning', 'edtech', 'education', 'electric vehicle', 'embedded systems', 'energy', 'enterprise resource planning (erp)', 'enterprise software', 'environmental consulting', 'esports', 'events', 'eyewear', 'facilities support services', 'fantasy sports', 'farming', 'fashion', 'file sharing', 'finance', 'financial services', 'fintech', 'fitness', 'food and beverage', 'food delivery', 'food processing', 'fraud detection', 'funding platform', 'gaming', 'government', 'health care', 'health diagnostics', 'health insurance', 'home decor', 'hospital', 'hospitality', 'human resources', 'industrial', 'industrial automation', 'information services', 'information technology', 'insurance', 'internet', 'internet of things', 'last mile transportation', 'logistics', 'manufacturing', 'market research', 'marketing', 'marketplace', 'media and entertainment', 'medical', 'medical device', 'mobile', 'mobile payments', 'music', 'music streaming', 'nanotechnology', 'news', 'online games', 'online portals', 'packaging services', 'reading apps', 'renewable energy', 'rental', 'retail', 'search engine', 'smart cities', 'social media', 'software', 'sports', 'tourism', 'trading platform', 'training', 'transportation', 'travel', 'veterinary', 'wealth management', 'wedding', 'wellness']\n"
     ]
    }
   ],
   "source": [
    "#Confirming our sector choice\n",
    "df18['Sector'] = df18['Sector'].apply(lambda x: x.lower() if isinstance(x, str) else x)\n",
    "\n",
    "print(sorted(map(str, df18['Sector'].unique())))"
   ]
  },
  {
   "cell_type": "code",
   "execution_count": 53,
   "metadata": {},
   "outputs": [],
   "source": [
    "# A function to reorganize the sector column\n",
    "\n",
    "df18['Main_Sector']=df18['Sector'].apply(lambda x: 'Automotive' if 'automobile' in x.lower() or 'electricv' in x.lower() or 'automotive' in x.lower() \\\n",
    "    or 'auto-tech' in x.lower() or 'battery' in x.lower() or 'electric vehicle' in x.lower() else  \n",
    "    \n",
    "    'Education' if 'edtech' in x.lower() or 'education' in x.lower() or 'edttech' in x.lower() or 'school' in x.lower() \n",
    "    or 'e-learning' in x.lower() or 'career planning' in x.lower() else \\\n",
    "    \n",
    "    'Food & Agric' if 'agri' in x.lower() or 'food' in x.lower() or 'beverage' in x.lower() or 'dairy' in x.lower() or 'nutrition' in x.lower() \\\n",
    "    or 'soil-tech' in x.lower() or 'farming' in x.lower() or 'catering' in x.lower() else \\\n",
    "    \n",
    "    'Technology' if 'technology' in x.lower() or 'logitech' in x.lower() or 'software' in x.lower() \\\n",
    "    or 'iot' in x.lower() or 'saas' in x.lower() or 'cloud' in x.lower() or 'api platform' in x.lower() or 'infotech' in x.lower() \\\n",
    "    or 'hrtech' in x.lower() or 'safety tech' in x.lower() or 'insuretech' in x.lower() or 'spacetech' in x.lower() \\\n",
    "    or 'legaltech' in x.lower() or 'infratech' in x.lower() or 'cybersecurity' in x.lower() or 'virtual auditing startup' in x.lower() \\\n",
    "    or 'internet' in x.lower() or 'enterprise resource planning (erp)' in x.lower() or 'artificial intelligence' in x.lower() \\\n",
    "    or 'deep' in x.lower() or 'defense tech' in x.lower() or 'data' in x.lower() or 'augr' in x.lower() or 'virtr' in x.lower() or 'automation' in x.lower() \\\n",
    "    or 'machine learning' in x.lower() or 'photonics' in x.lower() or 'robotics' in x.lower() or 'autonomous' in x.lower() \\\n",
    "    or 'telecommunication' in x.lower() or 'mobile' in x.lower() or 'systems' in x.lower() else \\\n",
    "    \n",
    "    \n",
    "    'Manufacturing' if 'aero company' in x.lower() or 'transport' in x.lower() or 'logistics' in x.lower() or 'packaging solution' in x.lower() or \\\n",
    "    'distribution' in x.lower() or 'supply_chain' in x.lower() or 'warehouse' in x.lower() else \\\n",
    "    \n",
    "    'Travel_Hosp&Fashion' if 'travel' in x.lower() or 'accomodation' in x.lower() or 'housing' in x.lower() or 'micro-mobiity' in x.lower() or \\\n",
    "    'co-living' in x.lower() or 'co-working' in x.lower() or 'coworking' in x.lower() \\\n",
    "    or 'hospitality' in x.lower() or 'luxury' in x.lower() or 'rental' in x.lower() or 'wl & rac' in x.lower() or 'tourism' in x.lower() \\\n",
    "    or 'cosmetic' in x.lower() or 'jewel' in x.lower() or 'beauty' in x.lower() or 'fashion' in x.lower() \\\n",
    "    or 'skincare' in x.lower() or 'social commerce' in x.lower() else\\\n",
    "    \n",
    "    \n",
    "    'Healthcare' if 'health' in x.lower() or 'healthtech' in x.lower() or 'yoga' in x.lower() or 'bio' in x.lower() or 'eye' in x.lower()  \\\n",
    "    or 'fertility' in x.lower() or 'fitness' in x.lower() or 'hygiene' in x.lower() or 'med tech' in x.lower() or 'mental' in x.lower() \\\n",
    "    or 'sanitation' in x.lower() or 'laboratory' in x.lower() or 'pharma' in x.lower() or 'medical' in x.lower() \\\n",
    "    or 'wellness' in x.lower() or 'hospital' in x.lower() or 'veterinary' in x.lower() or 'dietary supplements' in x.lower() \\\n",
    "    or 'child care' in x.lower() or 'medicine' in x.lower() or 'dental' in x.lower() else \\\n",
    "    \n",
    "    'Fintech' if 'fintech' in x.lower() or 'blockchain' in x.lower() or 'crypto' in x.lower() or 'mobile payments' in x.lower() else \\\n",
    "    \n",
    "    'Banking & Finance' if 'bank' in x.lower() or 'fund' in x.lower() or 'escrow' in x.lower() or 'finance' in x.lower() or 'insurance' in x.lower() \\\n",
    "    or 'investment' in x.lower() or 'online credit' in x.lower() or 'venture capital' in x.lower() or 'taxation' in x.lower() \\\n",
    "    or 'accounting' in x.lower() or 'credit' in x.lower() or 'wealth' in x.lower() else \\\n",
    "    \n",
    "        \n",
    "    'Construction' if 'construction' in x.lower() or 'home design' in x.lower() or 'decor' in x.lower() or 'design' in x.lower() \\\n",
    "    or 'real estate' in x.lower() or 'proptech' in x.lower() or 'electricity' in x.lower() or 'solar' in x.lower() \\\n",
    "    or 'renewable power' in x.lower() or r'energy' in x.lower() else \\\n",
    "    \n",
    "    \n",
    "    'Service' if 'consultancy' in x.lower() or 'crowdsourcing' in x.lower() or r'services' in x.lower() or 'legal' in x.lower() \\\n",
    "    or 'human res' in x.lower() or 'recruitment' in x.lower() or 'market research' in x.lower() or 'consulting' in x.lower() \\\n",
    "    or 'creative agency' in x.lower() or 'business development' in x.lower() or 'customer service' in x.lower() \\\n",
    "    or 'delivery' in x.lower() or 'cooking' in x.lower() else \\\n",
    "    \n",
    "    \n",
    "    'Retail' if 'consumer' in x.lower() or 'fmcg' in x.lower() or 'marketing' in x.lower() or 'retail' in x.lower() \\\n",
    "    or 'sales' in x.lower() or 'personal care' in x.lower() or 'advertising' in x.lower() or 'children' in x.lower() or\\\n",
    "    'ad-tech' in x.lower() or 'b2b' in x.lower() or 'ecommerce' in x.lower() \\\n",
    "    or 'e-commerce' in x.lower() or 'e-market'in x.lower() or 'social media' in x.lower() or 'content' in x.lower() or 'digital' in x.lower() \\\n",
    "    or 'e store' in x.lower() or 'e tailor' in x.lower() or 'e-connect' in x.lower() or 'e-mobility' in x.lower() or 'e-tail' in x.lower() \\\n",
    "    or 'emobility' in x.lower() or 'estore' in x.lower() or 'job portal'in x.lower() or 'trading' in x.lower() \\\n",
    "    or 'marketplace' in x.lower() or 'classifieds' in x.lower() or 'commercial' in x.lower() or 'car trade' in x.lower() else \\\n",
    "    \n",
    "    \n",
    "    \n",
    "    \n",
    "    'Media & Entertainment' if 'media' in x.lower() or 'video' in x.lower() or 'publication' in x.lower() or 'dating app' in x.lower() \\\n",
    "    or 'entertain' in x.lower() or 'news' in x.lower() or 'broadcasting' in x.lower() or 'communities' in x.lower() \\\n",
    "    or 'events' in x.lower() or 'audio' in x.lower() or 'streaming' in x.lower() or 'file sharing' in x.lower() \\\n",
    "    or 'music' in x.lower() or 'dating' in x.lower() or 'wedding' in x.lower() or 'sport' in x.lower() or 'game' in x.lower() \\\n",
    "    or 'gaming' in x.lower() or 'basketball' in x.lower() else 'Other')"
   ]
  },
  {
   "cell_type": "code",
   "execution_count": 54,
   "metadata": {},
   "outputs": [
    {
     "data": {
      "text/html": [
       "<div>\n",
       "<style scoped>\n",
       "    .dataframe tbody tr th:only-of-type {\n",
       "        vertical-align: middle;\n",
       "    }\n",
       "\n",
       "    .dataframe tbody tr th {\n",
       "        vertical-align: top;\n",
       "    }\n",
       "\n",
       "    .dataframe thead th {\n",
       "        text-align: right;\n",
       "    }\n",
       "</style>\n",
       "<table border=\"1\" class=\"dataframe\">\n",
       "  <thead>\n",
       "    <tr style=\"text-align: right;\">\n",
       "      <th></th>\n",
       "      <th>Company_Brand</th>\n",
       "      <th>Sector</th>\n",
       "      <th>Stage</th>\n",
       "      <th>Location</th>\n",
       "      <th>About Company</th>\n",
       "      <th>Year</th>\n",
       "      <th>Currency</th>\n",
       "      <th>Amount</th>\n",
       "      <th>Main_Sector</th>\n",
       "    </tr>\n",
       "  </thead>\n",
       "  <tbody>\n",
       "    <tr>\n",
       "      <th>100</th>\n",
       "      <td>Aavas Financiers</td>\n",
       "      <td>finance</td>\n",
       "      <td>Bridge Rounds</td>\n",
       "      <td>Jaipur</td>\n",
       "      <td>Aavas Financiers is engaged in the business of...</td>\n",
       "      <td>2018</td>\n",
       "      <td>$</td>\n",
       "      <td>2.920000e+07</td>\n",
       "      <td>Banking &amp; Finance</td>\n",
       "    </tr>\n",
       "    <tr>\n",
       "      <th>329</th>\n",
       "      <td>arzooo.com</td>\n",
       "      <td>consumer electronics</td>\n",
       "      <td>Seed_Stage</td>\n",
       "      <td>Bangalore</td>\n",
       "      <td>E-commerce website promising the best price on...</td>\n",
       "      <td>2018</td>\n",
       "      <td>$</td>\n",
       "      <td>2.190000e+05</td>\n",
       "      <td>Retail</td>\n",
       "    </tr>\n",
       "    <tr>\n",
       "      <th>101</th>\n",
       "      <td>Swiggy</td>\n",
       "      <td>food delivery</td>\n",
       "      <td>Series C</td>\n",
       "      <td>Bangalore</td>\n",
       "      <td>Swiggy is a food ordering and delivery company...</td>\n",
       "      <td>2018</td>\n",
       "      <td>$</td>\n",
       "      <td>1.000000e+09</td>\n",
       "      <td>Food &amp; Agric</td>\n",
       "    </tr>\n",
       "    <tr>\n",
       "      <th>257</th>\n",
       "      <td>MySEODoc</td>\n",
       "      <td>e-commerce</td>\n",
       "      <td>Seed_Stage</td>\n",
       "      <td>Delhi</td>\n",
       "      <td>SEO, PPC, Search Engine Marketing, Social Medi...</td>\n",
       "      <td>2018</td>\n",
       "      <td>$</td>\n",
       "      <td>NaN</td>\n",
       "      <td>Retail</td>\n",
       "    </tr>\n",
       "    <tr>\n",
       "      <th>106</th>\n",
       "      <td>Vivriti Capital</td>\n",
       "      <td>financial services</td>\n",
       "      <td>Series A</td>\n",
       "      <td>Chennai</td>\n",
       "      <td>Vivriti Capital is an online platform for inst...</td>\n",
       "      <td>2018</td>\n",
       "      <td>$</td>\n",
       "      <td>2.850000e+07</td>\n",
       "      <td>Service</td>\n",
       "    </tr>\n",
       "  </tbody>\n",
       "</table>\n",
       "</div>"
      ],
      "text/plain": [
       "        Company_Brand                Sector          Stage   Location  \\\n",
       "100  Aavas Financiers               finance  Bridge Rounds     Jaipur   \n",
       "329        arzooo.com  consumer electronics     Seed_Stage  Bangalore   \n",
       "101            Swiggy         food delivery       Series C  Bangalore   \n",
       "257          MySEODoc            e-commerce     Seed_Stage      Delhi   \n",
       "106   Vivriti Capital    financial services       Series A    Chennai   \n",
       "\n",
       "                                         About Company  Year Currency  \\\n",
       "100  Aavas Financiers is engaged in the business of...  2018        $   \n",
       "329  E-commerce website promising the best price on...  2018        $   \n",
       "101  Swiggy is a food ordering and delivery company...  2018        $   \n",
       "257  SEO, PPC, Search Engine Marketing, Social Medi...  2018        $   \n",
       "106  Vivriti Capital is an online platform for inst...  2018        $   \n",
       "\n",
       "           Amount        Main_Sector  \n",
       "100  2.920000e+07  Banking & Finance  \n",
       "329  2.190000e+05             Retail  \n",
       "101  1.000000e+09       Food & Agric  \n",
       "257           NaN             Retail  \n",
       "106  2.850000e+07            Service  "
      ]
     },
     "execution_count": 54,
     "metadata": {},
     "output_type": "execute_result"
    }
   ],
   "source": [
    "df18.sample(5)\n"
   ]
  },
  {
   "cell_type": "code",
   "execution_count": 55,
   "metadata": {},
   "outputs": [
    {
     "data": {
      "text/plain": [
       "Main_Sector\n",
       "Retail                   105\n",
       "Technology                76\n",
       "Service                   55\n",
       "Healthcare                50\n",
       "Other                     46\n",
       "Banking & Finance         42\n",
       "Food & Agric              34\n",
       "Education                 32\n",
       "Travel_Hosp&Fashion       24\n",
       "Automotive                20\n",
       "Media & Entertainment     20\n",
       "Construction              10\n",
       "Manufacturing              7\n",
       "Fintech                    4\n",
       "Name: count, dtype: int64"
      ]
     },
     "execution_count": 55,
     "metadata": {},
     "output_type": "execute_result"
    }
   ],
   "source": [
    "df18['Main_Sector'].value_counts()"
   ]
  },
  {
   "cell_type": "raw",
   "metadata": {},
   "source": []
  },
  {
   "cell_type": "markdown",
   "metadata": {},
   "source": [
    "### Cleaning the 2019 dataset"
   ]
  },
  {
   "cell_type": "code",
   "execution_count": 56,
   "metadata": {
    "tags": []
   },
   "outputs": [],
   "source": [
    "#Making a copy of 2019 dataframe\n",
    "\n",
    "df19=df_fund2019.copy()"
   ]
  },
  {
   "cell_type": "code",
   "execution_count": 57,
   "metadata": {
    "tags": []
   },
   "outputs": [
    {
     "data": {
      "text/plain": [
       "Index(['Company_Brand', 'Founded', 'Location', 'Sector', 'About Company',\n",
       "       'Founders', 'Investor', 'Amount', 'Stage', 'Year'],\n",
       "      dtype='object')"
      ]
     },
     "execution_count": 57,
     "metadata": {},
     "output_type": "execute_result"
    }
   ],
   "source": [
    "df19.columns"
   ]
  },
  {
   "cell_type": "code",
   "execution_count": 58,
   "metadata": {
    "tags": []
   },
   "outputs": [
    {
     "data": {
      "text/plain": [
       "array([  nan, 2014., 2004., 2013., 2010., 2018., 2019., 2017., 2011.,\n",
       "       2015., 2016., 2012., 2008.])"
      ]
     },
     "execution_count": 58,
     "metadata": {},
     "output_type": "execute_result"
    }
   ],
   "source": [
    "df19['Founded'].unique()"
   ]
  },
  {
   "cell_type": "markdown",
   "metadata": {},
   "source": [
    "#### We will decide whether to treat missing dates"
   ]
  },
  {
   "cell_type": "code",
   "execution_count": 59,
   "metadata": {
    "tags": []
   },
   "outputs": [
    {
     "data": {
      "text/plain": [
       "29"
      ]
     },
     "execution_count": 59,
     "metadata": {},
     "output_type": "execute_result"
    }
   ],
   "source": [
    "df19['Founded'].isna().sum()"
   ]
  },
  {
   "cell_type": "code",
   "execution_count": 60,
   "metadata": {
    "tags": []
   },
   "outputs": [
    {
     "data": {
      "text/plain": [
       "count      60.000000\n",
       "mean     2014.533333\n",
       "std         2.937003\n",
       "min      2004.000000\n",
       "25%      2013.000000\n",
       "50%      2015.000000\n",
       "75%      2016.250000\n",
       "max      2019.000000\n",
       "Name: Founded, dtype: float64"
      ]
     },
     "execution_count": 60,
     "metadata": {},
     "output_type": "execute_result"
    }
   ],
   "source": [
    "df19['Founded'].describe()"
   ]
  },
  {
   "cell_type": "code",
   "execution_count": 61,
   "metadata": {
    "tags": []
   },
   "outputs": [],
   "source": [
    "#Replacing the missing dates with 2014, which is approximate mean Founded date\n",
    "\n",
    "df19['Founded']=df19['Founded'].fillna(2014)"
   ]
  },
  {
   "cell_type": "code",
   "execution_count": 62,
   "metadata": {
    "tags": []
   },
   "outputs": [
    {
     "data": {
      "text/plain": [
       "0"
      ]
     },
     "execution_count": 62,
     "metadata": {},
     "output_type": "execute_result"
    }
   ],
   "source": [
    "df19['Founded'].isna().sum()"
   ]
  },
  {
   "cell_type": "code",
   "execution_count": 63,
   "metadata": {
    "tags": []
   },
   "outputs": [
    {
     "data": {
      "text/plain": [
       "array([nan, 'Mumbai', 'Chennai', 'Telangana', 'Pune', 'Bangalore',\n",
       "       'Noida', 'Delhi', 'Ahmedabad', 'Gurugram', 'Haryana', 'Chandigarh',\n",
       "       'Jaipur', 'New Delhi', 'Surat', 'Uttar pradesh', 'Hyderabad',\n",
       "       'Rajasthan'], dtype=object)"
      ]
     },
     "execution_count": 63,
     "metadata": {},
     "output_type": "execute_result"
    }
   ],
   "source": [
    "# Checking Unique values for Location to observe any abnormality\n",
    "\n",
    "df19['Location'].unique()"
   ]
  },
  {
   "cell_type": "code",
   "execution_count": 64,
   "metadata": {
    "tags": []
   },
   "outputs": [
    {
     "data": {
      "text/plain": [
       "19"
      ]
     },
     "execution_count": 64,
     "metadata": {},
     "output_type": "execute_result"
    }
   ],
   "source": [
    "df19['Location'].isna().sum()"
   ]
  },
  {
   "cell_type": "code",
   "execution_count": 65,
   "metadata": {
    "tags": []
   },
   "outputs": [
    {
     "data": {
      "text/plain": [
       "count            70\n",
       "unique           17\n",
       "top       Bangalore\n",
       "freq             21\n",
       "Name: Location, dtype: object"
      ]
     },
     "execution_count": 65,
     "metadata": {},
     "output_type": "execute_result"
    }
   ],
   "source": [
    "df19['Location'].describe()"
   ]
  },
  {
   "cell_type": "markdown",
   "metadata": {},
   "source": [
    "- We will fill missing values with Bangalore which is the most frequent"
   ]
  },
  {
   "cell_type": "code",
   "execution_count": 66,
   "metadata": {
    "tags": []
   },
   "outputs": [],
   "source": [
    "#Filling missing Location with the mode\n",
    "\n",
    "df19['Location']=df19['Location'].fillna('Bangalore')"
   ]
  },
  {
   "cell_type": "code",
   "execution_count": 67,
   "metadata": {
    "tags": []
   },
   "outputs": [
    {
     "data": {
      "text/plain": [
       "array(['Bangalore', 'Mumbai', 'Chennai', 'Telangana', 'Pune', 'Noida',\n",
       "       'Delhi', 'Ahmedabad', 'Gurugram', 'Haryana', 'Chandigarh',\n",
       "       'Jaipur', 'New Delhi', 'Surat', 'Uttar pradesh', 'Hyderabad',\n",
       "       'Rajasthan'], dtype=object)"
      ]
     },
     "execution_count": 67,
     "metadata": {},
     "output_type": "execute_result"
    }
   ],
   "source": [
    "# Confirming \n",
    "\n",
    "df19['Location'].unique()"
   ]
  },
  {
   "cell_type": "code",
   "execution_count": 68,
   "metadata": {
    "tags": []
   },
   "outputs": [],
   "source": [
    "#df19['Founders'].unique()"
   ]
  },
  {
   "cell_type": "markdown",
   "metadata": {},
   "source": [
    "##### observations\n",
    "- Some some companies have multiple founders"
   ]
  },
  {
   "cell_type": "code",
   "execution_count": 69,
   "metadata": {
    "tags": []
   },
   "outputs": [
    {
     "data": {
      "text/plain": [
       "3"
      ]
     },
     "execution_count": 69,
     "metadata": {},
     "output_type": "execute_result"
    }
   ],
   "source": [
    "df19['Founders'].isna().sum()"
   ]
  },
  {
   "cell_type": "code",
   "execution_count": 70,
   "metadata": {
    "tags": []
   },
   "outputs": [
    {
     "data": {
      "text/plain": [
       "count                             86\n",
       "unique                            85\n",
       "top       Vivek Gupta, Abhay Hanjura\n",
       "freq                               2\n",
       "Name: Founders, dtype: object"
      ]
     },
     "execution_count": 70,
     "metadata": {},
     "output_type": "execute_result"
    }
   ],
   "source": [
    "df19['Founders'].describe()"
   ]
  },
  {
   "cell_type": "markdown",
   "metadata": {},
   "source": [
    "##### We observe 3 missing values for Founders, we will not treat missing Founders, the most frequent apears only twice"
   ]
  },
  {
   "cell_type": "code",
   "execution_count": 71,
   "metadata": {
    "tags": []
   },
   "outputs": [
    {
     "data": {
      "text/plain": [
       "array(['Ecommerce', 'Edtech', 'Interior design', 'AgriTech', 'Technology',\n",
       "       'SaaS', 'AI & Tech', 'E-commerce', 'E-commerce & AR', 'Fintech',\n",
       "       'HR tech', 'Food tech', 'Health', 'Healthcare', 'Safety tech',\n",
       "       'Pharmaceutical', 'Insurance technology', 'AI', 'Foodtech', 'Food',\n",
       "       'IoT', 'E-marketplace', 'Robotics & AI', 'Logistics', 'Travel',\n",
       "       'Manufacturing', 'Food & Nutrition', 'Social Media', nan,\n",
       "       'E-Sports', 'Cosmetics', 'B2B', 'Jewellery', 'B2B Supply Chain',\n",
       "       'Games', 'Food & tech', 'Accomodation', 'Automotive tech',\n",
       "       'Legal tech', 'Mutual Funds', 'Cybersecurity', 'Automobile',\n",
       "       'Sports', 'Healthtech', 'Yoga & wellness', 'Virtual Banking',\n",
       "       'Transportation', 'Transport & Rentals',\n",
       "       'Marketing & Customer loyalty', 'Infratech', 'Hospitality',\n",
       "       'Automobile & Technology', 'Banking'], dtype=object)"
      ]
     },
     "execution_count": 71,
     "metadata": {},
     "output_type": "execute_result"
    }
   ],
   "source": [
    "df19['Sector'].unique()"
   ]
  },
  {
   "cell_type": "code",
   "execution_count": 72,
   "metadata": {
    "tags": []
   },
   "outputs": [
    {
     "data": {
      "text/plain": [
       "5"
      ]
     },
     "execution_count": 72,
     "metadata": {},
     "output_type": "execute_result"
    }
   ],
   "source": [
    "df19['Sector'].isna().sum()"
   ]
  },
  {
   "cell_type": "code",
   "execution_count": 73,
   "metadata": {},
   "outputs": [
    {
     "data": {
      "text/html": [
       "<div>\n",
       "<style scoped>\n",
       "    .dataframe tbody tr th:only-of-type {\n",
       "        vertical-align: middle;\n",
       "    }\n",
       "\n",
       "    .dataframe tbody tr th {\n",
       "        vertical-align: top;\n",
       "    }\n",
       "\n",
       "    .dataframe thead th {\n",
       "        text-align: right;\n",
       "    }\n",
       "</style>\n",
       "<table border=\"1\" class=\"dataframe\">\n",
       "  <thead>\n",
       "    <tr style=\"text-align: right;\">\n",
       "      <th></th>\n",
       "      <th>Company_Brand</th>\n",
       "      <th>Founded</th>\n",
       "      <th>Location</th>\n",
       "      <th>Sector</th>\n",
       "      <th>About Company</th>\n",
       "      <th>Founders</th>\n",
       "      <th>Investor</th>\n",
       "      <th>Amount</th>\n",
       "      <th>Stage</th>\n",
       "      <th>Year</th>\n",
       "    </tr>\n",
       "  </thead>\n",
       "  <tbody>\n",
       "    <tr>\n",
       "      <th>41</th>\n",
       "      <td>VMate</td>\n",
       "      <td>2014.0</td>\n",
       "      <td>Bangalore</td>\n",
       "      <td>NaN</td>\n",
       "      <td>A short video platform</td>\n",
       "      <td>NaN</td>\n",
       "      <td>Alibaba</td>\n",
       "      <td>$100,000,000</td>\n",
       "      <td>NaN</td>\n",
       "      <td>2019</td>\n",
       "    </tr>\n",
       "    <tr>\n",
       "      <th>49</th>\n",
       "      <td>Awign Enterprises</td>\n",
       "      <td>2016.0</td>\n",
       "      <td>Bangalore</td>\n",
       "      <td>NaN</td>\n",
       "      <td>It supplies workforce to the economy</td>\n",
       "      <td>Annanya Sarthak, Gurpreet Singh, Praveen Sah</td>\n",
       "      <td>Work10M, Michael and Susan Dell Foundation, Ea...</td>\n",
       "      <td>$4,000,000</td>\n",
       "      <td>Series A</td>\n",
       "      <td>2019</td>\n",
       "    </tr>\n",
       "    <tr>\n",
       "      <th>52</th>\n",
       "      <td>TapChief</td>\n",
       "      <td>2016.0</td>\n",
       "      <td>Bangalore</td>\n",
       "      <td>NaN</td>\n",
       "      <td>It connects individuals in need of advice in a...</td>\n",
       "      <td>Shashank Murali, Binay Krishna, Arjun Krishna</td>\n",
       "      <td>Blume Ventures.</td>\n",
       "      <td>$1,500,000</td>\n",
       "      <td>Pre series A</td>\n",
       "      <td>2019</td>\n",
       "    </tr>\n",
       "    <tr>\n",
       "      <th>56</th>\n",
       "      <td>KredX</td>\n",
       "      <td>2014.0</td>\n",
       "      <td>Bangalore</td>\n",
       "      <td>NaN</td>\n",
       "      <td>Invoice discounting platform</td>\n",
       "      <td>Manish Kumar</td>\n",
       "      <td>Tiger Global Management</td>\n",
       "      <td>$26,000,000</td>\n",
       "      <td>Series B</td>\n",
       "      <td>2019</td>\n",
       "    </tr>\n",
       "    <tr>\n",
       "      <th>57</th>\n",
       "      <td>m.Paani</td>\n",
       "      <td>2014.0</td>\n",
       "      <td>Mumbai</td>\n",
       "      <td>NaN</td>\n",
       "      <td>It digitizes and organises local retailers</td>\n",
       "      <td>Akanksha Hazari</td>\n",
       "      <td>AC Ventures, Henkel</td>\n",
       "      <td>$5,500,000</td>\n",
       "      <td>Series A</td>\n",
       "      <td>2019</td>\n",
       "    </tr>\n",
       "  </tbody>\n",
       "</table>\n",
       "</div>"
      ],
      "text/plain": [
       "        Company_Brand  Founded   Location Sector  \\\n",
       "41              VMate   2014.0  Bangalore    NaN   \n",
       "49  Awign Enterprises   2016.0  Bangalore    NaN   \n",
       "52           TapChief   2016.0  Bangalore    NaN   \n",
       "56              KredX   2014.0  Bangalore    NaN   \n",
       "57            m.Paani   2014.0     Mumbai    NaN   \n",
       "\n",
       "                                        About Company  \\\n",
       "41                             A short video platform   \n",
       "49               It supplies workforce to the economy   \n",
       "52  It connects individuals in need of advice in a...   \n",
       "56                       Invoice discounting platform   \n",
       "57         It digitizes and organises local retailers   \n",
       "\n",
       "                                         Founders  \\\n",
       "41                                            NaN   \n",
       "49   Annanya Sarthak, Gurpreet Singh, Praveen Sah   \n",
       "52  Shashank Murali, Binay Krishna, Arjun Krishna   \n",
       "56                                   Manish Kumar   \n",
       "57                                Akanksha Hazari   \n",
       "\n",
       "                                             Investor        Amount  \\\n",
       "41                                            Alibaba  $100,000,000   \n",
       "49  Work10M, Michael and Susan Dell Foundation, Ea...    $4,000,000   \n",
       "52                                    Blume Ventures.    $1,500,000   \n",
       "56                            Tiger Global Management   $26,000,000   \n",
       "57                                AC Ventures, Henkel    $5,500,000   \n",
       "\n",
       "           Stage  Year  \n",
       "41           NaN  2019  \n",
       "49      Series A  2019  \n",
       "52  Pre series A  2019  \n",
       "56      Series B  2019  \n",
       "57      Series A  2019  "
      ]
     },
     "execution_count": 73,
     "metadata": {},
     "output_type": "execute_result"
    }
   ],
   "source": [
    "df19[df19['Sector'].isna()]"
   ]
  },
  {
   "cell_type": "code",
   "execution_count": 74,
   "metadata": {},
   "outputs": [],
   "source": [
    "#Replacing the NaNs with assumed sector based on the About Company Value\n",
    "\n",
    "df19.loc[df19['About Company'] == 'A short video platform', 'Sector'] = 'Social Media'\n",
    "df19.loc[df19['About Company'] == 'It supplies workforce to the economy', 'Sector'] = 'Education'\n",
    "df19.loc[df19['About Company'] == 'It connects individuals in need of advice in a...', 'Sector'] = 'Counselling center'\n",
    "df19.loc[df19['About Company'] == 'Invoice discounting platform', 'Sector'] = 'Banking'\n",
    "df19.loc[df19['About Company'] == 'It digitizes and organises local retailers', 'Sector'] = 'E-commerce'"
   ]
  },
  {
   "cell_type": "code",
   "execution_count": 75,
   "metadata": {},
   "outputs": [
    {
     "data": {
      "text/html": [
       "<div>\n",
       "<style scoped>\n",
       "    .dataframe tbody tr th:only-of-type {\n",
       "        vertical-align: middle;\n",
       "    }\n",
       "\n",
       "    .dataframe tbody tr th {\n",
       "        vertical-align: top;\n",
       "    }\n",
       "\n",
       "    .dataframe thead th {\n",
       "        text-align: right;\n",
       "    }\n",
       "</style>\n",
       "<table border=\"1\" class=\"dataframe\">\n",
       "  <thead>\n",
       "    <tr style=\"text-align: right;\">\n",
       "      <th></th>\n",
       "      <th>Company_Brand</th>\n",
       "      <th>Founded</th>\n",
       "      <th>Location</th>\n",
       "      <th>Sector</th>\n",
       "      <th>About Company</th>\n",
       "      <th>Founders</th>\n",
       "      <th>Investor</th>\n",
       "      <th>Amount</th>\n",
       "      <th>Stage</th>\n",
       "      <th>Year</th>\n",
       "    </tr>\n",
       "  </thead>\n",
       "  <tbody>\n",
       "    <tr>\n",
       "      <th>52</th>\n",
       "      <td>TapChief</td>\n",
       "      <td>2016.0</td>\n",
       "      <td>Bangalore</td>\n",
       "      <td>NaN</td>\n",
       "      <td>It connects individuals in need of advice in a...</td>\n",
       "      <td>Shashank Murali, Binay Krishna, Arjun Krishna</td>\n",
       "      <td>Blume Ventures.</td>\n",
       "      <td>$1,500,000</td>\n",
       "      <td>Pre series A</td>\n",
       "      <td>2019</td>\n",
       "    </tr>\n",
       "  </tbody>\n",
       "</table>\n",
       "</div>"
      ],
      "text/plain": [
       "   Company_Brand  Founded   Location Sector  \\\n",
       "52      TapChief   2016.0  Bangalore    NaN   \n",
       "\n",
       "                                        About Company  \\\n",
       "52  It connects individuals in need of advice in a...   \n",
       "\n",
       "                                         Founders         Investor  \\\n",
       "52  Shashank Murali, Binay Krishna, Arjun Krishna  Blume Ventures.   \n",
       "\n",
       "        Amount         Stage  Year  \n",
       "52  $1,500,000  Pre series A  2019  "
      ]
     },
     "execution_count": 75,
     "metadata": {},
     "output_type": "execute_result"
    }
   ],
   "source": [
    "df19[df19['Sector'].isna()]"
   ]
  },
  {
   "cell_type": "code",
   "execution_count": 76,
   "metadata": {},
   "outputs": [
    {
     "data": {
      "text/plain": [
       "'It connects individuals in need of advice in a specific domain to individuals who have expertise in the same'"
      ]
     },
     "execution_count": 76,
     "metadata": {},
     "output_type": "execute_result"
    }
   ],
   "source": [
    "df19.iloc[52,4]"
   ]
  },
  {
   "cell_type": "code",
   "execution_count": 77,
   "metadata": {},
   "outputs": [],
   "source": [
    "df19.loc[df19['About Company']=='It connects individuals in need of advice in a specific domain to individuals who have expertise in the same', 'Sector']='Artificial_I'"
   ]
  },
  {
   "cell_type": "code",
   "execution_count": 78,
   "metadata": {},
   "outputs": [
    {
     "data": {
      "text/plain": [
       "0"
      ]
     },
     "execution_count": 78,
     "metadata": {},
     "output_type": "execute_result"
    }
   ],
   "source": [
    "df19['Sector'].isna().sum()"
   ]
  },
  {
   "cell_type": "code",
   "execution_count": 79,
   "metadata": {
    "tags": []
   },
   "outputs": [
    {
     "data": {
      "text/plain": [
       "count         89\n",
       "unique        54\n",
       "top       Edtech\n",
       "freq           7\n",
       "Name: Sector, dtype: object"
      ]
     },
     "execution_count": 79,
     "metadata": {},
     "output_type": "execute_result"
    }
   ],
   "source": [
    "df19['Sector'].describe()"
   ]
  },
  {
   "cell_type": "code",
   "execution_count": 80,
   "metadata": {
    "tags": []
   },
   "outputs": [
    {
     "data": {
      "text/plain": [
       "array(['Ecommerce', 'Edtech', 'Interior design', 'AgriTech', 'Technology',\n",
       "       'SaaS', 'AI & Tech', 'E-commerce', 'E-commerce & AR', 'Fintech',\n",
       "       'HR tech', 'Food tech', 'Health', 'Healthcare', 'Safety tech',\n",
       "       'Pharmaceutical', 'Insurance technology', 'AI', 'Foodtech', 'Food',\n",
       "       'IoT', 'E-marketplace', 'Robotics & AI', 'Logistics', 'Travel',\n",
       "       'Manufacturing', 'Food & Nutrition', 'Social Media', 'E-Sports',\n",
       "       'Education', 'Cosmetics', 'B2B', 'Artificial_I', 'Jewellery',\n",
       "       'B2B Supply Chain', 'Games', 'Banking', 'Food & tech',\n",
       "       'Accomodation', 'Automotive tech', 'Legal tech', 'Mutual Funds',\n",
       "       'Cybersecurity', 'Automobile', 'Sports', 'Healthtech',\n",
       "       'Yoga & wellness', 'Virtual Banking', 'Transportation',\n",
       "       'Transport & Rentals', 'Marketing & Customer loyalty', 'Infratech',\n",
       "       'Hospitality', 'Automobile & Technology'], dtype=object)"
      ]
     },
     "execution_count": 80,
     "metadata": {},
     "output_type": "execute_result"
    }
   ],
   "source": [
    "df19['Sector'].unique()"
   ]
  },
  {
   "cell_type": "code",
   "execution_count": null,
   "metadata": {},
   "outputs": [],
   "source": []
  },
  {
   "cell_type": "code",
   "execution_count": 81,
   "metadata": {
    "tags": []
   },
   "outputs": [],
   "source": [
    "df19['Main_Sector']=df19['Sector'].apply(lambda x: 'Automotive' if 'automobile' in x.lower() or 'electricv' in x.lower() or 'automotive' in x.lower() \\\n",
    "    or 'auto-tech' in x.lower() or 'battery' in x.lower() or 'electric vehicle' in x.lower() else  \n",
    "    \n",
    "    'Education' if 'edtech' in x.lower() or 'education' in x.lower() or 'edttech' in x.lower() or 'school' in x.lower() \n",
    "    or 'e-learning' in x.lower() or 'career planning' in x.lower() else \\\n",
    "    \n",
    "    'Food & Agric' if 'agri' in x.lower() or 'food' in x.lower() or 'beverage' in x.lower() or 'dairy' in x.lower() or 'nutrition' in x.lower() \\\n",
    "    or 'soil-tech' in x.lower() or 'farming' in x.lower() or 'catering' in x.lower() else \\\n",
    "    \n",
    "    'Technology' if 'technology' in x.lower() or 'logitech' in x.lower() or 'software' in x.lower() \\\n",
    "    or 'iot' in x.lower() or 'saas' in x.lower() or 'cloud' in x.lower() or 'api platform' in x.lower() or 'infotech' in x.lower() \\\n",
    "    or 'hrtech' in x.lower() or 'safety tech' in x.lower() or 'insuretech' in x.lower() or 'spacetech' in x.lower() \\\n",
    "    or 'legaltech' in x.lower() or 'infratech' in x.lower() or 'cybersecurity' in x.lower() or 'virtual auditing startup' in x.lower() \\\n",
    "    or 'internet' in x.lower() or 'enterprise resource planning (erp)' in x.lower() or 'artificial intelligence' in x.lower() \\\n",
    "    or 'deep' in x.lower() or 'defense tech' in x.lower() or 'data' in x.lower() or 'augr' in x.lower() or 'virtr' in x.lower() or 'automation' in x.lower() \\\n",
    "    or 'machine learning' in x.lower() or 'photonics' in x.lower() or 'robotics' in x.lower() or 'autonomous' in x.lower() \\\n",
    "    or 'telecommunication' in x.lower() or 'mobile' in x.lower() else \\\n",
    "    \n",
    "    \n",
    "    'Manufacturing' if 'aero company' in x.lower() or 'transport' in x.lower() or 'logistics' in x.lower() or 'packaging solution' in x.lower() or \\\n",
    "    'distribution' in x.lower() or 'supply_chain' in x.lower() or 'warehouse' in x.lower() else \\\n",
    "    \n",
    "    'Travel_Hosp&Fashion' if 'travel' in x.lower() or 'accomodation' in x.lower() or 'housing' in x.lower() or 'micro-mobiity' in x.lower() or \\\n",
    "    'co-living' in x.lower() or 'co-working' in x.lower() or 'coworking' in x.lower() \\\n",
    "    or 'hospitality' in x.lower() or 'luxury' in x.lower() or 'rental' in x.lower() or 'wl & rac' in x.lower() or 'tourism' in x.lower() \\\n",
    "    or 'cosmetic' in x.lower() or 'jewel' in x.lower() or 'beauty' in x.lower() or 'fashion' in x.lower() \\\n",
    "    or 'skincare' in x.lower() or 'social commerce' in x.lower() else\\\n",
    "    \n",
    "    \n",
    "    'Healthcare' if 'health' in x.lower() or 'healthtech' in x.lower() or 'yoga' in x.lower() or 'bio' in x.lower() or 'eye' in x.lower()  \\\n",
    "    or 'fertility' in x.lower() or 'fitness' in x.lower() or 'hygiene' in x.lower() or 'med tech' in x.lower() or 'mental' in x.lower() \\\n",
    "    or 'sanitation' in x.lower() or 'laboratory' in x.lower() or 'pharma' in x.lower() or 'medical' in x.lower() \\\n",
    "    or 'wellness' in x.lower() or 'hospital' in x.lower() or 'veterinary' in x.lower() or 'dietary supplements' in x.lower() \\\n",
    "    or 'child care' in x.lower() or 'medicine' in x.lower() or 'dental' in x.lower() else \\\n",
    "    \n",
    "    'Fintech' if 'fintech' in x.lower() or 'blockchain' in x.lower() or 'crypto' in x.lower() or 'mobile payments' in x.lower() else \\\n",
    "    \n",
    "    'Banking & Finance' if 'bank' in x.lower() or 'fund' in x.lower() or 'escrow' in x.lower() or 'finance' in x.lower() or 'insurance' in x.lower() \\\n",
    "    or 'investment' in x.lower() or 'online credit' in x.lower() or 'venture capital' in x.lower() or 'taxation' in x.lower() \\\n",
    "    or 'accounting' in x.lower() or 'credit' in x.lower() or 'wealth' in x.lower() else \\\n",
    "    \n",
    "        \n",
    "    'Construction' if 'construction' in x.lower() or 'home design' in x.lower() or 'decor' in x.lower() or 'design' in x.lower() \\\n",
    "    or 'real estate' in x.lower() or 'proptech' in x.lower() or 'electricity' in x.lower() or 'solar' in x.lower() \\\n",
    "    or 'renewable power' in x.lower() or r'energy' in x.lower() else \\\n",
    "    \n",
    "    \n",
    "    'Service' if 'consultancy' in x.lower() or 'crowdsourcing' in x.lower() or r'services' in x.lower() or 'legal' in x.lower() \\\n",
    "    or 'human res' in x.lower() or 'recruitment' in x.lower() or 'market research' in x.lower() or 'consulting' in x.lower() \\\n",
    "    or 'creative agency' in x.lower() or 'business development' in x.lower() or 'customer service' in x.lower() \\\n",
    "    or 'delivery' in x.lower() or 'cooking' in x.lower() else \\\n",
    "    \n",
    "    \n",
    "    'Retail' if 'consumer' in x.lower() or 'fmcg' in x.lower() or 'marketing' in x.lower() or 'retail' in x.lower() \\\n",
    "    or 'sales' in x.lower() or 'personal care' in x.lower() or 'advertising' in x.lower() or 'children' in x.lower() or\\\n",
    "    'ad-tech' in x.lower() or 'b2b' in x.lower() or 'ecommerce' in x.lower() \\\n",
    "    or 'e-commerce' in x.lower() or 'e-market'in x.lower() or 'social media' in x.lower() or 'content' in x.lower() or 'digital' in x.lower() \\\n",
    "    or 'e store' in x.lower() or 'e tailor' in x.lower() or 'e-connect' in x.lower() or 'e-mobility' in x.lower() or 'e-tail' in x.lower() \\\n",
    "    or 'emobility' in x.lower() or 'estore' in x.lower() or 'job portal'in x.lower() or 'trading' in x.lower() \\\n",
    "    or 'marketplace' in x.lower() or 'classifieds' in x.lower() or 'commercial' in x.lower() or 'car trade' in x.lower() else \\\n",
    "    \n",
    "    \n",
    "    \n",
    "    \n",
    "    'Media & Entertainment' if 'media' in x.lower() or 'video' in x.lower() or 'publication' in x.lower() or 'dating app' in x.lower() \\\n",
    "    or 'entertain' in x.lower() or 'news' in x.lower() or 'broadcasting' in x.lower() or 'communities' in x.lower() \\\n",
    "    or 'events' in x.lower() or 'audio' in x.lower() or 'streaming' in x.lower() or 'file sharing' in x.lower() \\\n",
    "    or 'music' in x.lower() or 'dating' in x.lower() or 'wedding' in x.lower() or 'sport' in x.lower() or 'game' in x.lower() \\\n",
    "    or 'gaming' in x.lower() or 'basketball' in x.lower() else 'Other')"
   ]
  },
  {
   "cell_type": "code",
   "execution_count": 82,
   "metadata": {},
   "outputs": [
    {
     "data": {
      "text/html": [
       "<div>\n",
       "<style scoped>\n",
       "    .dataframe tbody tr th:only-of-type {\n",
       "        vertical-align: middle;\n",
       "    }\n",
       "\n",
       "    .dataframe tbody tr th {\n",
       "        vertical-align: top;\n",
       "    }\n",
       "\n",
       "    .dataframe thead th {\n",
       "        text-align: right;\n",
       "    }\n",
       "</style>\n",
       "<table border=\"1\" class=\"dataframe\">\n",
       "  <thead>\n",
       "    <tr style=\"text-align: right;\">\n",
       "      <th></th>\n",
       "      <th>Company_Brand</th>\n",
       "      <th>Founded</th>\n",
       "      <th>Location</th>\n",
       "      <th>Sector</th>\n",
       "      <th>About Company</th>\n",
       "      <th>Founders</th>\n",
       "      <th>Investor</th>\n",
       "      <th>Amount</th>\n",
       "      <th>Stage</th>\n",
       "      <th>Year</th>\n",
       "      <th>Main_Sector</th>\n",
       "    </tr>\n",
       "  </thead>\n",
       "  <tbody>\n",
       "    <tr>\n",
       "      <th>0</th>\n",
       "      <td>Bombay Shaving</td>\n",
       "      <td>2014.0</td>\n",
       "      <td>Bangalore</td>\n",
       "      <td>Ecommerce</td>\n",
       "      <td>Provides a range of male grooming products</td>\n",
       "      <td>Shantanu Deshpande</td>\n",
       "      <td>Sixth Sense Ventures</td>\n",
       "      <td>$6,300,000</td>\n",
       "      <td>NaN</td>\n",
       "      <td>2019</td>\n",
       "      <td>Retail</td>\n",
       "    </tr>\n",
       "    <tr>\n",
       "      <th>1</th>\n",
       "      <td>Ruangguru</td>\n",
       "      <td>2014.0</td>\n",
       "      <td>Mumbai</td>\n",
       "      <td>Edtech</td>\n",
       "      <td>A learning platform that provides topic-based ...</td>\n",
       "      <td>Adamas Belva Syah Devara, Iman Usman.</td>\n",
       "      <td>General Atlantic</td>\n",
       "      <td>$150,000,000</td>\n",
       "      <td>Series C</td>\n",
       "      <td>2019</td>\n",
       "      <td>Education</td>\n",
       "    </tr>\n",
       "    <tr>\n",
       "      <th>2</th>\n",
       "      <td>Eduisfun</td>\n",
       "      <td>2014.0</td>\n",
       "      <td>Mumbai</td>\n",
       "      <td>Edtech</td>\n",
       "      <td>It aims to make learning fun via games.</td>\n",
       "      <td>Jatin Solanki</td>\n",
       "      <td>Deepak Parekh, Amitabh Bachchan, Piyush Pandey</td>\n",
       "      <td>$28,000,000</td>\n",
       "      <td>Fresh funding</td>\n",
       "      <td>2019</td>\n",
       "      <td>Education</td>\n",
       "    </tr>\n",
       "    <tr>\n",
       "      <th>3</th>\n",
       "      <td>HomeLane</td>\n",
       "      <td>2014.0</td>\n",
       "      <td>Chennai</td>\n",
       "      <td>Interior design</td>\n",
       "      <td>Provides interior designing solutions</td>\n",
       "      <td>Srikanth Iyer, Rama Harinath</td>\n",
       "      <td>Evolvence India Fund (EIF), Pidilite Group, FJ...</td>\n",
       "      <td>$30,000,000</td>\n",
       "      <td>Series D</td>\n",
       "      <td>2019</td>\n",
       "      <td>Construction</td>\n",
       "    </tr>\n",
       "    <tr>\n",
       "      <th>4</th>\n",
       "      <td>Nu Genes</td>\n",
       "      <td>2004.0</td>\n",
       "      <td>Telangana</td>\n",
       "      <td>AgriTech</td>\n",
       "      <td>It is a seed company engaged in production, pr...</td>\n",
       "      <td>Narayana Reddy Punyala</td>\n",
       "      <td>Innovation in Food and Agriculture (IFA)</td>\n",
       "      <td>$6,000,000</td>\n",
       "      <td>NaN</td>\n",
       "      <td>2019</td>\n",
       "      <td>Food &amp; Agric</td>\n",
       "    </tr>\n",
       "  </tbody>\n",
       "</table>\n",
       "</div>"
      ],
      "text/plain": [
       "    Company_Brand  Founded   Location           Sector  \\\n",
       "0  Bombay Shaving   2014.0  Bangalore        Ecommerce   \n",
       "1       Ruangguru   2014.0     Mumbai           Edtech   \n",
       "2        Eduisfun   2014.0     Mumbai           Edtech   \n",
       "3        HomeLane   2014.0    Chennai  Interior design   \n",
       "4        Nu Genes   2004.0  Telangana         AgriTech   \n",
       "\n",
       "                                       About Company  \\\n",
       "0         Provides a range of male grooming products   \n",
       "1  A learning platform that provides topic-based ...   \n",
       "2            It aims to make learning fun via games.   \n",
       "3              Provides interior designing solutions   \n",
       "4  It is a seed company engaged in production, pr...   \n",
       "\n",
       "                                Founders  \\\n",
       "0                     Shantanu Deshpande   \n",
       "1  Adamas Belva Syah Devara, Iman Usman.   \n",
       "2                          Jatin Solanki   \n",
       "3           Srikanth Iyer, Rama Harinath   \n",
       "4                 Narayana Reddy Punyala   \n",
       "\n",
       "                                            Investor        Amount  \\\n",
       "0                               Sixth Sense Ventures    $6,300,000   \n",
       "1                                   General Atlantic  $150,000,000   \n",
       "2     Deepak Parekh, Amitabh Bachchan, Piyush Pandey   $28,000,000   \n",
       "3  Evolvence India Fund (EIF), Pidilite Group, FJ...   $30,000,000   \n",
       "4           Innovation in Food and Agriculture (IFA)    $6,000,000   \n",
       "\n",
       "           Stage  Year   Main_Sector  \n",
       "0            NaN  2019        Retail  \n",
       "1       Series C  2019     Education  \n",
       "2  Fresh funding  2019     Education  \n",
       "3       Series D  2019  Construction  \n",
       "4            NaN  2019  Food & Agric  "
      ]
     },
     "execution_count": 82,
     "metadata": {},
     "output_type": "execute_result"
    }
   ],
   "source": [
    "df19.head(5)"
   ]
  },
  {
   "cell_type": "code",
   "execution_count": 83,
   "metadata": {},
   "outputs": [
    {
     "data": {
      "text/plain": [
       "Main_Sector\n",
       "Technology               15\n",
       "Retail                   13\n",
       "Food & Agric             11\n",
       "Education                 8\n",
       "Other                     6\n",
       "Travel_Hosp&Fashion       6\n",
       "Automotive                6\n",
       "Fintech                   5\n",
       "Healthcare                5\n",
       "Manufacturing             5\n",
       "Banking & Finance         4\n",
       "Media & Entertainment     3\n",
       "Construction              1\n",
       "Service                   1\n",
       "Name: count, dtype: int64"
      ]
     },
     "execution_count": 83,
     "metadata": {},
     "output_type": "execute_result"
    }
   ],
   "source": [
    "df19['Main_Sector'].value_counts()"
   ]
  },
  {
   "cell_type": "code",
   "execution_count": null,
   "metadata": {},
   "outputs": [],
   "source": []
  },
  {
   "cell_type": "code",
   "execution_count": 84,
   "metadata": {
    "tags": []
   },
   "outputs": [
    {
     "data": {
      "text/plain": [
       "array(['Provides a range of male grooming products',\n",
       "       'A learning platform that provides topic-based journey, animated videos, quizzes, infographic and mock tests to students',\n",
       "       'It aims to make learning fun via games.',\n",
       "       'Provides interior designing solutions',\n",
       "       'It is a seed company engaged in production, processing and marketing of seeds',\n",
       "       'A drone automation platform',\n",
       "       'It builds software products that makes work simpler, pleasant, and productive',\n",
       "       'It is a product-based cybersecurity solutions provider',\n",
       "       'It is an AI and big data services company providing business solutions.',\n",
       "       'It is a eyewear company',\n",
       "       'A B2C\\xa0\\xa0brand that focusses on premium and comfortable merchandise for Generation Alpha – kids',\n",
       "       'It is a self-healing enterprise, the IT operations software detects, predicts and prevents problems before they happen',\n",
       "       'Platform that provides complete financial solutions for excluded individuals and households',\n",
       "       'Technology-based platform that is connecting suitable applicants to the right recruiters',\n",
       "       'It produces and sells top quality snacks',\n",
       "       'Grants small business loans, supply chain finance and working capital loans to small and medium enterprises',\n",
       "       'Provides online learning classes',\n",
       "       'Uses AI to do risk profiling of e-commerce consumers who opt for EMI',\n",
       "       'Offers a range of robotics learning tools',\n",
       "       'Aims to solve some problems in the feminine hygiene sector',\n",
       "       'A platform that promotes financial well-being of employees at workplace',\n",
       "       'Delivers advanced medical care & clinical excellence aided by next-level technology',\n",
       "       'Offers online courses and extensive mentor-based learning',\n",
       "       'It uses technology to create a trust-based network of responsible citizens to ensure safety',\n",
       "       'It solves inadequacies in the healthcare delivery system through technology',\n",
       "       'Customer Experience (CX) Automation platform',\n",
       "       'Provides variety of insurance plans and policies',\n",
       "       'Developer of an artificial intelligence-powered assistant for businesses',\n",
       "       'Offers B2B tech platform to corporates, aimed at improving the operations of their cafeterias',\n",
       "       'B2B platform for agricultural commodities.', 'Online meat shop',\n",
       "       'A global platform for Identity and Access Management',\n",
       "       'B2B model for appliances and electrical products',\n",
       "       'Develops drones that are used by the military, paramilitary, police forces and in various industries.',\n",
       "       'It offers delivery services across India to retail, e-commerce, pharmaceutical, automobile and FMCG companies',\n",
       "       'Online flight booking',\n",
       "       'Provides facilities to get products manufactured.',\n",
       "       'Creates a voice AI platform',\n",
       "       'Online fruits and vegetables delivery company',\n",
       "       \"It empowers moms to provide the best of foods to their Lil' ones\",\n",
       "       'Blogging platform that enables people to create visual collections of their travel and local experiences',\n",
       "       'A short video platform', 'Online custom shirt brand',\n",
       "       'It helps sales and marketing teams understand purchase intent of buyers on buying patterns, usage and renewals',\n",
       "       'eSports platform where players can access various multiplayer mobile games to participate in online tournaments',\n",
       "       'Online financial marketplace for customized rate quotes on loans and investment products in India',\n",
       "       'It develops, publishes and distributes games across various platforms',\n",
       "       'It develops technology-enabled products to strengthen the farm-to-fork value chain of perishables.',\n",
       "       'Enables to order food online',\n",
       "       'It supplies workforce to the economy',\n",
       "       'Online makeup and beauty products retailer',\n",
       "       'Provides digital platform for businesses to plan and manage their international freight shipments online',\n",
       "       'It connects individuals in need of advice in a specific domain to individuals who have expertise in the same',\n",
       "       'Omnichannel marketplace for gems and jewellery',\n",
       "       'It connects producers of food directly to retailers, restuarants and service providers.',\n",
       "       'It offers games that are available across India and UK.',\n",
       "       'Invoice discounting platform',\n",
       "       'It digitizes and organises local retailers',\n",
       "       'It provides post-harvest management services for agricultural commodities',\n",
       "       'Provides management solution for restaurants',\n",
       "       'It is a technology enabled logistics solutions provider to the Indian e-commerce industry',\n",
       "       'Provides comfortable and secure accomodation for students',\n",
       "       'It is engaged in building sustainable and affordable micro-mobility electric vehicles',\n",
       "       'It is offering mobility as a service',\n",
       "       'It is into mother and baby care-focused consumer goods',\n",
       "       'Home automation solution provider',\n",
       "       'It helps to connect to legal advise online',\n",
       "       'It helps students to learn math online',\n",
       "       'The platform simplifies the process of investment',\n",
       "       'Platform uses encryption technology to allow businesses to safely store files, invoices, and schedules',\n",
       "       'A platform to learn online',\n",
       "       'Enables people to buy and sell new/old cars.',\n",
       "       'A platform for delivery services',\n",
       "       'A marketplace to buy and sell used bikes and scooters',\n",
       "       'It is a sports discovery app that helps to find people and places to play 700+ sports',\n",
       "       'It creates an engagement loop between doctors, hospitals, and patients via its app',\n",
       "       'It drives a cultural change in making yoga-based wellness a part of modern lifestyle',\n",
       "       'It helps lenders to directly provide short-term loans to merchants, employees, and students',\n",
       "       'It offers affordable housing apartments to young professionals and students',\n",
       "       'It enables one to book cab online',\n",
       "       'A car rental service platform',\n",
       "       'Provides cyber security solutions',\n",
       "       'A cloud based Customer Loyalty & Engagement Platform',\n",
       "       'It connects client requirements to their supply chain infrastructure for ease of ordering, tracking and manufacturing',\n",
       "       'Provides rooms for comfortable stay',\n",
       "       'Find automobile repair and maintenance service providers',\n",
       "       'Online car retailer', 'Organised Non-Banking Finance Company'],\n",
       "      dtype=object)"
      ]
     },
     "execution_count": 84,
     "metadata": {},
     "output_type": "execute_result"
    }
   ],
   "source": [
    "df19['About Company'].unique()"
   ]
  },
  {
   "cell_type": "markdown",
   "metadata": {},
   "source": [
    "- We will change **B2C\\xa0\\xa0brand** to **B2C brand**"
   ]
  },
  {
   "cell_type": "code",
   "execution_count": 85,
   "metadata": {
    "tags": []
   },
   "outputs": [],
   "source": [
    "import re\n",
    "\n",
    "df19['About Company']=df19['About Company'].str.replace(r'\\b' + 'B2C\\xa0\\xa0brand' + r'\\b', 'B2C brand', regex=True)"
   ]
  },
  {
   "cell_type": "raw",
   "metadata": {},
   "source": []
  },
  {
   "cell_type": "code",
   "execution_count": 86,
   "metadata": {
    "tags": []
   },
   "outputs": [
    {
     "data": {
      "text/plain": [
       "array(['Sixth Sense Ventures', 'General Atlantic',\n",
       "       'Deepak Parekh, Amitabh Bachchan, Piyush Pandey',\n",
       "       'Evolvence India Fund (EIF), Pidilite Group, FJ Labs',\n",
       "       'Innovation in Food and Agriculture (IFA)', 'Undisclosed',\n",
       "       'Social Capital, AngelList India, Gemba Capital, Omphalos Ventures,\\xa0\\xa091springboard via Atal Innovation Mission, Niti Aayog.',\n",
       "       'Gilda VC, Art Venture, Rajeev Chitrabhanu.',\n",
       "       'Multiples Alternate Asset Management', 'SoftBank',\n",
       "       'Venture Catalysts', 'Avataar Ventures', 'Oikocredit',\n",
       "       'Titan Capital', 'Matrix Partners',\n",
       "       'German development finance institution DEG',\n",
       "       'South Africa’s Naspers Ventures, the CPP Investment Board',\n",
       "       'Goldman Sachs.', 'Mumbai Angels Network',\n",
       "       'Kunal Bahl, Rohit Bansal.', 'Brazilian VC Fund Confrapar',\n",
       "       'Sequoia India, Hummingbird Ventures, Greenoaks Capital, AngelList.',\n",
       "       'Reach Capital', 'Inflection Point Ventures',\n",
       "       'Wilson Global Opportunities Fund', 'Sequoia Capita',\n",
       "       'IVM Intersurer', 'Canaan Partners',\n",
       "       'Paytm, Asian VC fund NPTK, Sabre Partners, Neoplux.',\n",
       "       'Omnivore and Omidyar Network India, Sequoia Capital',\n",
       "       'Vertex Growth Fund', 'Rajan Kaistha', 'Dinesh Dua',\n",
       "       'Reliance Industries',\n",
       "       'SAIF Partners India VI Ltd, Spring Canter Investment Ltd',\n",
       "       'Korea Investment Partners (KIP), Samsung Venture Investment Corporation (SVIC), UOB Venture, 10 Fund, CVCapital, Zero2IPO Ventures, M&S Partners',\n",
       "       'Lightspeed and Greenoaks Capital, Sequoia India, Accel and Kae Capital',\n",
       "       'Scale Venture Partners', 'ThinkLab',\n",
       "       'Sajan Pillai, Muthu Krishnan,',\n",
       "       'Ruizheng Investment, Tej Kapoor, Krinshavataram Venkata Vinjamuri, Harsh Shah',\n",
       "       'Alibaba', 'Lightbox Ventures', 'Stellaris Ventures',\n",
       "       'Jindagi Live Angels,', 'Fintech innovation lab',\n",
       "       'Manipal Education and Medical Group (MEMG) family office, Titan Capital',\n",
       "       'Innovation in Food & Agriculture Fund (IFA Fund)',\n",
       "       'Trifecta Capital',\n",
       "       'Work10M, Michael and Susan Dell Foundation, Eagle10, Unitus Ventures.',\n",
       "       'Goldman Sachs', 'Amplo, FJ Labs, Rogue One Capital',\n",
       "       'Blume Ventures.', 'Rajesh Ranavat', 'Walmart, Flipkart',\n",
       "       'Sunil Gavaskar', 'Tiger Global Management', 'AC Ventures, Henkel',\n",
       "       'Oikocredit, Caspian SME Impact Fund IV,\\xa0\\xa0Triodos Investment Management',\n",
       "       'CDC Group', 'Alteria Capital', 'GAIL (India) Ltd',\n",
       "       'Blume Ventures, Emergent Ventures',\n",
       "       'Saama Capital, DSG Consumer Partners', 'Rockstud Capital',\n",
       "       'Pramendra Tomar, Ratish Pandey, Munish Bhatia, Sumit Aggarwal',\n",
       "       'Manta Ray Ventures Limited, Google’s Capital G, Sequoia India.',\n",
       "       'Vertex Ventures', 'Windrose Capital', 'HNI investors',\n",
       "       'Ping An Global Voyager Fund, Hillhouse Capital, Sequoia Capital',\n",
       "       'Flipkart, Eight Roads Ventures, NGP Capital, Qualcomm Ventures, Mirae Asset Naver Fund, World Bank-backed IFC',\n",
       "       'Omidyar Network, Eight Roads Ventures, GrowthStory, AngelList',\n",
       "       'Inflection Point Ventures, SucSEED Venture Partners.',\n",
       "       'LetsVenture, 91 Springboard, IKP Knowledge, Angel investors, AbInbev-Serge DeVos, Wouter Peeters.',\n",
       "       'Venture fund, Fireside Ventures.', 'Saravanan Adiseshan',\n",
       "       'Kia Motors, Hyundai', 'Zoomcar Inc',\n",
       "       'Gilda VC, Art Venture, Rajeev Chitrabhanu',\n",
       "       'US-based angel investors',\n",
       "       'Tiger Global, Nexus Venture Partners, Accel Partners, Dhruv Agarwala',\n",
       "       'MyPreferred Transformation, Avendus Finance, SoftBank',\n",
       "       'Sequoia Capital',\n",
       "       'Norwest Venture Partners, General Catalyst, Fundamentum, Accel Partners',\n",
       "       'TPG, Norwest Venture Partners, Evolvence India'], dtype=object)"
      ]
     },
     "execution_count": 86,
     "metadata": {},
     "output_type": "execute_result"
    }
   ],
   "source": [
    "df19['Investor'].unique()"
   ]
  },
  {
   "cell_type": "markdown",
   "metadata": {},
   "source": [
    "**We Observe some unusual charactors**\n",
    "\n",
    "- replace \\xa0\\xa091springboard with 91 Springboard\n",
    "\n",
    "- replace \\xa0\\xa0Triodos with Triodos"
   ]
  },
  {
   "cell_type": "code",
   "execution_count": 87,
   "metadata": {
    "tags": []
   },
   "outputs": [],
   "source": [
    "df19['Investor']=df19['Investor'].str.replace(r'\\xa0\\xa091springboard', '91 Springboard', regex=True)\n",
    "df19['Investor']=df19['Investor'].str.replace(r'\\xa0\\xa0Triodos', 'Triodos', regex=True)"
   ]
  },
  {
   "cell_type": "code",
   "execution_count": 88,
   "metadata": {
    "tags": []
   },
   "outputs": [
    {
     "data": {
      "text/plain": [
       "0"
      ]
     },
     "execution_count": 88,
     "metadata": {},
     "output_type": "execute_result"
    }
   ],
   "source": [
    "df19['Investor'].isna().sum()"
   ]
  },
  {
   "cell_type": "code",
   "execution_count": 89,
   "metadata": {
    "tags": []
   },
   "outputs": [
    {
     "data": {
      "text/plain": [
       "count              89\n",
       "unique             86\n",
       "top       Undisclosed\n",
       "freq                3\n",
       "Name: Investor, dtype: object"
      ]
     },
     "execution_count": 89,
     "metadata": {},
     "output_type": "execute_result"
    }
   ],
   "source": [
    "df19['Investor'].describe()"
   ]
  },
  {
   "cell_type": "markdown",
   "metadata": {},
   "source": [
    "**We Observe Undisclosed is the most frequent, we assume those companies with missing Investor information chose not to disclose**\n",
    "- We will therefore fill missing Investor with Undisclosed"
   ]
  },
  {
   "cell_type": "raw",
   "metadata": {},
   "source": []
  },
  {
   "cell_type": "code",
   "execution_count": 90,
   "metadata": {
    "tags": []
   },
   "outputs": [
    {
     "data": {
      "text/plain": [
       "array([nan, 'Series C', 'Fresh funding', 'Series D', 'Pre series A',\n",
       "       'Series A', 'Series G', 'Series B', 'Post series A',\n",
       "       'Seed funding', 'Seed fund', 'Series E', 'Series F', 'Series B+',\n",
       "       'Seed round', 'Pre-series A'], dtype=object)"
      ]
     },
     "execution_count": 90,
     "metadata": {},
     "output_type": "execute_result"
    }
   ],
   "source": [
    "df19['Stage'].unique()"
   ]
  },
  {
   "cell_type": "markdown",
   "metadata": {},
   "source": [
    "**The values are not standardised, we will standardise the values to match with stages in other columns**"
   ]
  },
  {
   "cell_type": "code",
   "execution_count": 91,
   "metadata": {
    "tags": []
   },
   "outputs": [],
   "source": [
    "df19['Stage']=df19['Stage'].str.replace(r'\\b' + 'Fresh funding' + r'\\b', 'Seed_Stage', regex=True)\n",
    "df19['Stage']=df19['Stage'].str.replace(r'\\b' + 'Pre series A' + r'\\b', 'Seed_Stage', regex=True)\n",
    "df19['Stage']=df19['Stage'].str.replace(r'\\b' + 'Seed funding' + r'\\b', 'Seed_Stage', regex=True)\n",
    "df19['Stage']=df19['Stage'].str.replace(r'\\b' + 'Seed round' + r'\\b', 'Seed_Stage', regex=True)\n",
    "df19['Stage']=df19['Stage'].str.replace(r'\\b' + 'Seed fund' + r'\\b', 'Seed_Stage', regex=True)\n",
    "df19['Stage']=df19['Stage'].str.replace(r'\\b' + 'Pre-series A' + r'\\b', 'Seed_Stage', regex=True)"
   ]
  },
  {
   "cell_type": "raw",
   "metadata": {},
   "source": []
  },
  {
   "cell_type": "code",
   "execution_count": 92,
   "metadata": {
    "tags": []
   },
   "outputs": [],
   "source": [
    "df19['Stage']=df19['Stage'].str.replace(r'\\b' + 'Post series A' + r'\\b', 'Series B', regex=True)\n",
    "df19['Stage']=df19['Stage'].str.replace(r'Series B+', 'Series B', regex=True)\n",
    "df19['Stage']=df19['Stage'].str.strip('+')"
   ]
  },
  {
   "cell_type": "raw",
   "metadata": {},
   "source": []
  },
  {
   "cell_type": "code",
   "execution_count": 93,
   "metadata": {
    "tags": []
   },
   "outputs": [],
   "source": [
    "df19['Stage']=df19['Stage'].str.replace(r'\\b' + 'Series D' + r'\\b', 'Series C', regex=True)\n",
    "df19['Stage']=df19['Stage'].str.replace(r'\\b' + 'Series G' + r'\\b', 'Series C', regex=True)\n",
    "df19['Stage']=df19['Stage'].str.replace(r'\\b' + 'Series E' + r'\\b', 'Series C', regex=True)\n",
    "df19['Stage']=df19['Stage'].str.replace(r'\\b' + 'Series F' + r'\\b', 'Series C', regex=True)"
   ]
  },
  {
   "cell_type": "markdown",
   "metadata": {},
   "source": [
    " "
   ]
  },
  {
   "cell_type": "code",
   "execution_count": 94,
   "metadata": {
    "tags": []
   },
   "outputs": [
    {
     "data": {
      "text/plain": [
       "array([nan, 'Series C', 'Seed_Stage', 'Series A', 'Series B'],\n",
       "      dtype=object)"
      ]
     },
     "execution_count": 94,
     "metadata": {},
     "output_type": "execute_result"
    }
   ],
   "source": [
    "df19['Stage'].unique()"
   ]
  },
  {
   "cell_type": "code",
   "execution_count": 95,
   "metadata": {
    "tags": []
   },
   "outputs": [
    {
     "data": {
      "text/plain": [
       "46"
      ]
     },
     "execution_count": 95,
     "metadata": {},
     "output_type": "execute_result"
    }
   ],
   "source": [
    "df19['Stage'].isna().sum()"
   ]
  },
  {
   "cell_type": "code",
   "execution_count": 96,
   "metadata": {
    "tags": []
   },
   "outputs": [
    {
     "data": {
      "text/plain": [
       "count             43\n",
       "unique             4\n",
       "top       Seed_Stage\n",
       "freq              13\n",
       "Name: Stage, dtype: object"
      ]
     },
     "execution_count": 96,
     "metadata": {},
     "output_type": "execute_result"
    }
   ],
   "source": [
    "# Checking for the most frequent to replace with missing values\n",
    "\n",
    "df19['Stage'].describe()"
   ]
  },
  {
   "cell_type": "code",
   "execution_count": 97,
   "metadata": {
    "tags": []
   },
   "outputs": [],
   "source": [
    "# Replacing missing stage with Seed_Stage\n",
    "\n",
    "df19['Stage']=df19['Stage'].fillna('Seed_Stage')"
   ]
  },
  {
   "cell_type": "raw",
   "metadata": {},
   "source": []
  },
  {
   "cell_type": "code",
   "execution_count": 98,
   "metadata": {
    "tags": []
   },
   "outputs": [
    {
     "data": {
      "text/plain": [
       "array(['$6,300,000', '$150,000,000', '$28,000,000', '$30,000,000',\n",
       "       '$6,000,000', 'Undisclosed', '$1,000,000', '$20,000,000',\n",
       "       '$275,000,000', '$22,000,000', '$5,000,000', '$140,500',\n",
       "       '$540,000,000', '$15,000,000', '$182,700', '$12,000,000',\n",
       "       '$11,000,000', '$15,500,000', '$1,500,000', '$5,500,000',\n",
       "       '$2,500,000', '$140,000', '$230,000,000', '$49,400,000',\n",
       "       '$32,000,000', '$26,000,000', '$150,000', '$400,000', '$2,000,000',\n",
       "       '$100,000,000', '$8,000,000', '$100,000', '$50,000,000',\n",
       "       '$120,000,000', '$4,000,000', '$6,800,000', '$36,000,000',\n",
       "       '$5,700,000', '$25,000,000', '$600,000', '$70,000,000',\n",
       "       '$60,000,000', '$220,000', '$2,800,000', '$2,100,000',\n",
       "       '$7,000,000', '$311,000,000', '$4,800,000', '$693,000,000',\n",
       "       '$33,000,000'], dtype=object)"
      ]
     },
     "execution_count": 98,
     "metadata": {},
     "output_type": "execute_result"
    }
   ],
   "source": [
    "df19['Amount'].unique()"
   ]
  },
  {
   "cell_type": "code",
   "execution_count": 99,
   "metadata": {
    "tags": []
   },
   "outputs": [],
   "source": [
    "df19['cur_symb19']=df19['Amount'].str.replace('\\d','', regex=True)"
   ]
  },
  {
   "cell_type": "code",
   "execution_count": 100,
   "metadata": {
    "tags": []
   },
   "outputs": [
    {
     "data": {
      "text/plain": [
       "array(['$,,', 'Undisclosed', '$,'], dtype=object)"
      ]
     },
     "execution_count": 100,
     "metadata": {},
     "output_type": "execute_result"
    }
   ],
   "source": [
    "df19['cur_symb19'].unique()"
   ]
  },
  {
   "cell_type": "code",
   "execution_count": 101,
   "metadata": {
    "tags": []
   },
   "outputs": [],
   "source": [
    "df19['Amount_no_symb19']=df19['Amount'].str.replace('\\D', '', regex= True)"
   ]
  },
  {
   "cell_type": "code",
   "execution_count": 102,
   "metadata": {
    "tags": []
   },
   "outputs": [
    {
     "data": {
      "text/plain": [
       "array(['6300000', '150000000', '28000000', '30000000', '6000000', '',\n",
       "       '1000000', '20000000', '275000000', '22000000', '5000000',\n",
       "       '140500', '540000000', '15000000', '182700', '12000000',\n",
       "       '11000000', '15500000', '1500000', '5500000', '2500000', '140000',\n",
       "       '230000000', '49400000', '32000000', '26000000', '150000',\n",
       "       '400000', '2000000', '100000000', '8000000', '100000', '50000000',\n",
       "       '120000000', '4000000', '6800000', '36000000', '5700000',\n",
       "       '25000000', '600000', '70000000', '60000000', '220000', '2800000',\n",
       "       '2100000', '7000000', '311000000', '4800000', '693000000',\n",
       "       '33000000'], dtype=object)"
      ]
     },
     "execution_count": 102,
     "metadata": {},
     "output_type": "execute_result"
    }
   ],
   "source": [
    "df19['Amount_no_symb19'].unique()"
   ]
  },
  {
   "cell_type": "raw",
   "metadata": {},
   "source": []
  },
  {
   "cell_type": "code",
   "execution_count": 103,
   "metadata": {
    "tags": []
   },
   "outputs": [],
   "source": [
    "#droping the amount column with symbol\n",
    "\n",
    "df19=df19.drop('Amount',axis=1)"
   ]
  },
  {
   "cell_type": "code",
   "execution_count": 104,
   "metadata": {
    "tags": []
   },
   "outputs": [],
   "source": [
    "# Renaming columns\n",
    "\n",
    "df19=df19.rename(columns={'Amount_no_symb19':'Amount'})\n",
    "df19=df19.rename(columns={'cur_symb19':'Currency'})"
   ]
  },
  {
   "cell_type": "code",
   "execution_count": 105,
   "metadata": {
    "tags": []
   },
   "outputs": [],
   "source": [
    "#Changing Amount from object datatype to numeric type\n",
    "\n",
    "df19['Amount']=pd.to_numeric(df19['Amount'])"
   ]
  },
  {
   "cell_type": "code",
   "execution_count": 106,
   "metadata": {
    "tags": []
   },
   "outputs": [
    {
     "data": {
      "text/plain": [
       "array(['$,,', 'Undisclosed', '$,'], dtype=object)"
      ]
     },
     "execution_count": 106,
     "metadata": {},
     "output_type": "execute_result"
    }
   ],
   "source": [
    "df19['Currency'].unique()"
   ]
  },
  {
   "cell_type": "code",
   "execution_count": 107,
   "metadata": {
    "tags": []
   },
   "outputs": [],
   "source": [
    "df19['Currency']=df19['Currency'].str.strip(',')"
   ]
  },
  {
   "cell_type": "code",
   "execution_count": 108,
   "metadata": {
    "tags": []
   },
   "outputs": [
    {
     "data": {
      "text/plain": [
       "array(['$', 'Undisclosed'], dtype=object)"
      ]
     },
     "execution_count": 108,
     "metadata": {},
     "output_type": "execute_result"
    }
   ],
   "source": [
    "df19['Currency'].unique()"
   ]
  },
  {
   "cell_type": "code",
   "execution_count": 109,
   "metadata": {
    "tags": []
   },
   "outputs": [
    {
     "data": {
      "text/plain": [
       "0"
      ]
     },
     "execution_count": 109,
     "metadata": {},
     "output_type": "execute_result"
    }
   ],
   "source": [
    "df19.duplicated().sum()"
   ]
  },
  {
   "cell_type": "code",
   "execution_count": 110,
   "metadata": {
    "tags": []
   },
   "outputs": [
    {
     "data": {
      "text/plain": [
       "Company_Brand     0\n",
       "Founded           0\n",
       "Location          0\n",
       "Sector            0\n",
       "About Company     0\n",
       "Founders          3\n",
       "Investor          0\n",
       "Stage             0\n",
       "Year              0\n",
       "Main_Sector       0\n",
       "Currency          0\n",
       "Amount           12\n",
       "dtype: int64"
      ]
     },
     "execution_count": 110,
     "metadata": {},
     "output_type": "execute_result"
    }
   ],
   "source": [
    "df19.isna().sum()"
   ]
  },
  {
   "cell_type": "code",
   "execution_count": 111,
   "metadata": {
    "tags": []
   },
   "outputs": [
    {
     "data": {
      "text/plain": [
       "count    7.700000e+01\n",
       "mean     4.333030e+07\n",
       "std      1.106216e+08\n",
       "min      1.000000e+05\n",
       "25%      2.100000e+06\n",
       "50%      6.000000e+06\n",
       "75%      3.000000e+07\n",
       "max      6.930000e+08\n",
       "Name: Amount, dtype: float64"
      ]
     },
     "execution_count": 111,
     "metadata": {},
     "output_type": "execute_result"
    }
   ],
   "source": [
    "df19['Amount'].describe()"
   ]
  },
  {
   "cell_type": "code",
   "execution_count": 112,
   "metadata": {
    "tags": []
   },
   "outputs": [],
   "source": [
    "df19['Amount']=df19['Amount'].fillna(4.333030e+07)"
   ]
  },
  {
   "cell_type": "code",
   "execution_count": 113,
   "metadata": {
    "tags": []
   },
   "outputs": [
    {
     "data": {
      "text/plain": [
       "Company_Brand    0\n",
       "Founded          0\n",
       "Location         0\n",
       "Sector           0\n",
       "About Company    0\n",
       "Founders         3\n",
       "Investor         0\n",
       "Stage            0\n",
       "Year             0\n",
       "Main_Sector      0\n",
       "Currency         0\n",
       "Amount           0\n",
       "dtype: int64"
      ]
     },
     "execution_count": 113,
     "metadata": {},
     "output_type": "execute_result"
    }
   ],
   "source": [
    "df19.isna().sum()"
   ]
  },
  {
   "cell_type": "raw",
   "metadata": {},
   "source": []
  },
  {
   "cell_type": "markdown",
   "metadata": {},
   "source": [
    "### Cleaning the 2020 dataset"
   ]
  },
  {
   "cell_type": "code",
   "execution_count": 114,
   "metadata": {
    "tags": []
   },
   "outputs": [],
   "source": [
    "# Making a copy of the 2020 dataset\n",
    "\n",
    "df20=df_fund2020.copy()"
   ]
  },
  {
   "cell_type": "code",
   "execution_count": 115,
   "metadata": {
    "tags": []
   },
   "outputs": [
    {
     "data": {
      "text/plain": [
       "Index(['Company_Brand', 'Founded', 'Location', 'Sector', 'About Company',\n",
       "       'Founders', 'Investor', 'Amount', 'Stage', 'column10', 'Year'],\n",
       "      dtype='object')"
      ]
     },
     "execution_count": 115,
     "metadata": {},
     "output_type": "execute_result"
    }
   ],
   "source": [
    "df20.columns\n"
   ]
  },
  {
   "cell_type": "markdown",
   "metadata": {},
   "source": [
    "- we will drop column10"
   ]
  },
  {
   "cell_type": "code",
   "execution_count": 116,
   "metadata": {
    "tags": []
   },
   "outputs": [],
   "source": [
    "df20=df20.drop('column10', axis=1)"
   ]
  },
  {
   "cell_type": "code",
   "execution_count": 117,
   "metadata": {
    "tags": []
   },
   "outputs": [
    {
     "data": {
      "text/plain": [
       "array([2019., 2018., 2020., 2016., 2008., 2015., 2017., 2014., 1998.,\n",
       "       2007., 2011., 1982., 2013., 2009., 2012., 1995., 2010., 2006.,\n",
       "       1978.,   nan, 1999., 1994., 2005., 1973., 2002., 2004., 2001.])"
      ]
     },
     "execution_count": 117,
     "metadata": {},
     "output_type": "execute_result"
    }
   ],
   "source": [
    "df20['Founded'].unique()"
   ]
  },
  {
   "cell_type": "markdown",
   "metadata": {},
   "source": [
    "- Founded contains missing values that need to be treated, if it will have impact on our analysis."
   ]
  },
  {
   "cell_type": "code",
   "execution_count": 118,
   "metadata": {
    "tags": []
   },
   "outputs": [
    {
     "data": {
      "text/plain": [
       "213"
      ]
     },
     "execution_count": 118,
     "metadata": {},
     "output_type": "execute_result"
    }
   ],
   "source": [
    "df20['Founded'].isna().sum()\n"
   ]
  },
  {
   "cell_type": "code",
   "execution_count": 119,
   "metadata": {
    "tags": []
   },
   "outputs": [
    {
     "data": {
      "text/plain": [
       "count     842.000000\n",
       "mean     2015.363420\n",
       "std         4.097909\n",
       "min      1973.000000\n",
       "25%      2014.000000\n",
       "50%      2016.000000\n",
       "75%      2018.000000\n",
       "max      2020.000000\n",
       "Name: Founded, dtype: float64"
      ]
     },
     "execution_count": 119,
     "metadata": {},
     "output_type": "execute_result"
    }
   ],
   "source": [
    "df20['Founded'].describe()"
   ]
  },
  {
   "cell_type": "code",
   "execution_count": 120,
   "metadata": {
    "tags": []
   },
   "outputs": [],
   "source": [
    "df20['Founded']=df20['Founded'].fillna(2015)"
   ]
  },
  {
   "cell_type": "raw",
   "metadata": {},
   "source": []
  },
  {
   "cell_type": "code",
   "execution_count": 121,
   "metadata": {
    "tags": []
   },
   "outputs": [
    {
     "data": {
      "text/plain": [
       "array([None, 'Pre-seed', 'Seed', 'Pre-series A', 'Pre-series', 'Series C',\n",
       "       'Series A', 'Series B', 'Debt', 'Pre-series C', 'Pre-series B',\n",
       "       'Series E', 'Bridge', 'Series D', 'Series B2', 'Series F',\n",
       "       'Pre- series A', 'Edge', 'Series H', 'Pre-Series B', 'Seed A',\n",
       "       'Series A-1', 'Seed Funding', 'Pre-Seed', 'Seed round',\n",
       "       'Pre-seed Round', 'Seed Round & Series A', 'Pre Series A',\n",
       "       'Pre seed Round', 'Angel Round', 'Pre series A1', 'Series E2',\n",
       "       'Pre series A', 'Seed Round', 'Bridge Round', 'Pre seed round',\n",
       "       'Pre series B', 'Pre series C', 'Seed Investment', 'Series D1',\n",
       "       'Mid series', 'Series C, D', 'Seed funding'], dtype=object)"
      ]
     },
     "execution_count": 121,
     "metadata": {},
     "output_type": "execute_result"
    }
   ],
   "source": [
    "df20['Stage'].unique()"
   ]
  },
  {
   "cell_type": "code",
   "execution_count": 122,
   "metadata": {
    "tags": []
   },
   "outputs": [
    {
     "data": {
      "text/plain": [
       "464"
      ]
     },
     "execution_count": 122,
     "metadata": {},
     "output_type": "execute_result"
    }
   ],
   "source": [
    "df20['Stage'].isna().sum()\n"
   ]
  },
  {
   "cell_type": "markdown",
   "metadata": {},
   "source": [
    "- Stage is missing 462 rows, this will be treated if it will impact our analysis"
   ]
  },
  {
   "cell_type": "code",
   "execution_count": 123,
   "metadata": {
    "tags": []
   },
   "outputs": [],
   "source": [
    "df20['Stage']=df20['Stage'].str.replace(r'\\b' + 'Seed' + r'\\b', 'Seed_Stage', regex=True)\n",
    "df20['Stage']=df20['Stage'].str.replace(r'\\b' + 'Pre-seed' + r'\\b', 'Seed_Stage', regex=True)\n",
    "df20['Stage']=df20['Stage'].str.replace(r'\\b' + 'Pre-series' + r'\\b', 'Seed_Stage', regex=True)\n",
    "df20['Stage']=df20['Stage'].str.replace(r'\\b' + 'Seed_Stage Funding' + r'\\b', 'Seed_Stage', regex=True)\n",
    "df20['Stage']=df20['Stage'].str.replace(r'\\b' + 'Pre-Seed_Stage' + r'\\b', 'Seed_Stage', regex=True)\n",
    "df20['Stage']=df20['Stage'].str.replace(r'\\b' + 'Seed_Stage round' + r'\\b', 'Seed_Stage', regex=True)\n",
    "df20['Stage']=df20['Stage'].str.replace(r'\\b' + 'Seed_Stage Round' + r'\\b', 'Seed_Stage', regex=True)\n",
    "df20['Stage']=df20['Stage'].str.replace(r'\\b' + 'Pre seed Round' + r'\\b', 'Seed_Stage', regex=True)\n",
    "df20['Stage']=df20['Stage'].str.replace(r'\\b' + 'Angel Round' + r'\\b', 'Seed_Stage', regex=True)\n",
    "df20['Stage']=df20['Stage'].str.replace(r'\\b' + 'Pre seed round' + r'\\b', 'Seed_Stage', regex=True)\n",
    "df20['Stage']=df20['Stage'].str.replace(r'\\b' + 'Seed_Stage Investment' + r'\\b', 'Seed_Stage', regex=True)\n",
    "df20['Stage']=df20['Stage'].str.replace(r'\\b' + 'Seed_Stage funding' + r'\\b', 'Seed_Stage', regex=True)"
   ]
  },
  {
   "cell_type": "raw",
   "metadata": {},
   "source": []
  },
  {
   "cell_type": "code",
   "execution_count": 124,
   "metadata": {
    "tags": []
   },
   "outputs": [],
   "source": [
    "df20['Stage']=df20['Stage'].str.replace(r'\\b' + 'Seed_Stage A' + r'\\b', 'Series A', regex=True)\n",
    "df20['Stage']=df20['Stage'].str.replace(r'\\b' + 'Pre- series A' + r'\\b', 'Series A', regex=True)\n",
    "df20['Stage']=df20['Stage'].str.replace(r'\\b' + 'Series A-1' + r'\\b', 'Series A', regex=True)\n",
    "df20['Stage']=df20['Stage'].str.replace(r'\\b' + 'Seed_Stage & Series A' + r'\\b', 'Series A', regex=True)\n",
    "df20['Stage']=df20['Stage'].str.replace(r'\\b' + 'Pre Series A' + r'\\b', 'Series A', regex=True)\n",
    "df20['Stage']=df20['Stage'].str.replace(r'\\b' + 'Pre series A1' + r'\\b', 'Series A', regex=True)\n",
    "df20['Stage']=df20['Stage'].str.replace(r'\\b' + 'Pre series A' + r'\\b', 'Series A', regex=True)"
   ]
  },
  {
   "cell_type": "raw",
   "metadata": {},
   "source": []
  },
  {
   "cell_type": "code",
   "execution_count": 125,
   "metadata": {
    "tags": []
   },
   "outputs": [],
   "source": [
    "df20['Stage']=df20['Stage'].str.replace(r'\\b' + 'Seed_Stage B' + r'\\b', 'Series B', regex=True)\n",
    "df20['Stage']=df20['Stage'].str.replace(r'\\b' + 'Series B2' + r'\\b', 'Series B', regex=True)\n",
    "df20['Stage']=df20['Stage'].str.replace(r'\\b' + 'Pre-Series B' + r'\\b', 'Series B', regex=True)\n",
    "df20['Stage']=df20['Stage'].str.replace(r'\\b' + 'Pre series B' + r'\\b', 'Series B', regex=True)\n",
    "df20['Stage']=df20['Stage'].str.replace(r'\\b' + 'Mid series' + r'\\b', 'Series B', regex=True)"
   ]
  },
  {
   "cell_type": "raw",
   "metadata": {},
   "source": []
  },
  {
   "cell_type": "code",
   "execution_count": 126,
   "metadata": {
    "tags": []
   },
   "outputs": [],
   "source": [
    "df20['Stage']=df20['Stage'].str.replace(r'\\b' + 'Seed_Stage C' + r'\\b', 'Series C', regex=True)\n",
    "df20['Stage']=df20['Stage'].str.replace(r'\\b' + 'Series E' + r'\\b', 'Series C', regex=True)\n",
    "df20['Stage']=df20['Stage'].str.replace(r'\\b' + 'Series F' + r'\\b', 'Series C', regex=True)\n",
    "df20['Stage']=df20['Stage'].str.replace(r'\\b' + 'Series D' + r'\\b', 'Series C', regex=True)\n",
    "df20['Stage']=df20['Stage'].str.replace(r'\\b' + 'Series H' + r'\\b', 'Series C', regex=True)\n",
    "df20['Stage']=df20['Stage'].str.replace(r'\\b' + 'Pre series C' + r'\\b', 'Series C', regex=True)\n",
    "df20['Stage']=df20['Stage'].str.replace(r'\\b' + 'Series C, D' + r'\\b', 'Series C', regex=True)\n",
    "df20['Stage']=df20['Stage'].str.replace(r'\\b' + 'Series D1' + r'\\b', 'Series C', regex=True)\n",
    "df20['Stage']=df20['Stage'].str.replace(r'\\b' + 'Series E2' + r'\\b', 'Series C', regex=True)"
   ]
  },
  {
   "cell_type": "raw",
   "metadata": {},
   "source": []
  },
  {
   "cell_type": "code",
   "execution_count": 127,
   "metadata": {
    "tags": []
   },
   "outputs": [],
   "source": [
    "df20['Stage']=df20['Stage'].str.replace(r'\\b' + 'Bridge' + r'\\b', 'Bridge Rounds', regex=True)\n",
    "df20['Stage']=df20['Stage'].str.replace(r'\\b' + 'Bridge Rounds Round' + r'\\b', 'Bridge Rounds', regex=True)\n",
    "df20['Stage']=df20['Stage'].str.replace(r'\\b' + 'Debt' + r'\\b', 'Bridge Rounds', regex=True)\n",
    "df20['Stage']=df20['Stage'].str.replace(r'\\b' + 'Edge' + r'\\b', 'Bridge Rounds', regex=True)"
   ]
  },
  {
   "cell_type": "raw",
   "metadata": {},
   "source": []
  },
  {
   "cell_type": "code",
   "execution_count": 128,
   "metadata": {
    "tags": []
   },
   "outputs": [
    {
     "data": {
      "text/plain": [
       "array([None, 'Seed_Stage', 'Series A', 'Series C', 'Series B',\n",
       "       'Bridge Rounds'], dtype=object)"
      ]
     },
     "execution_count": 128,
     "metadata": {},
     "output_type": "execute_result"
    }
   ],
   "source": [
    "df20['Stage'].unique()"
   ]
  },
  {
   "cell_type": "code",
   "execution_count": 129,
   "metadata": {
    "tags": []
   },
   "outputs": [
    {
     "data": {
      "text/plain": [
       "count          591\n",
       "unique           5\n",
       "top       Series A\n",
       "freq           220\n",
       "Name: Stage, dtype: object"
      ]
     },
     "execution_count": 129,
     "metadata": {},
     "output_type": "execute_result"
    }
   ],
   "source": [
    "df20['Stage'].describe()"
   ]
  },
  {
   "cell_type": "markdown",
   "metadata": {},
   "source": [
    "- since Series A is the most frequent, we will replace the None values with Series A "
   ]
  },
  {
   "cell_type": "code",
   "execution_count": 130,
   "metadata": {
    "tags": []
   },
   "outputs": [],
   "source": [
    "df20['Stage']=df20['Stage'].fillna(value='Series A')"
   ]
  },
  {
   "cell_type": "code",
   "execution_count": 131,
   "metadata": {
    "tags": []
   },
   "outputs": [
    {
     "data": {
      "text/plain": [
       "array(['Series A', 'Seed_Stage', 'Series C', 'Series B', 'Bridge Rounds'],\n",
       "      dtype=object)"
      ]
     },
     "execution_count": 131,
     "metadata": {},
     "output_type": "execute_result"
    }
   ],
   "source": [
    "df20['Stage'].unique()"
   ]
  },
  {
   "cell_type": "raw",
   "metadata": {},
   "source": []
  },
  {
   "cell_type": "code",
   "execution_count": 132,
   "metadata": {
    "tags": []
   },
   "outputs": [],
   "source": [
    "#Converting the Amount column from object datatype to numeric type\n",
    "\n",
    "df20['Amount']=pd.to_numeric(df20['Amount'])"
   ]
  },
  {
   "cell_type": "code",
   "execution_count": 133,
   "metadata": {
    "tags": []
   },
   "outputs": [],
   "source": [
    "'''\n",
    "    Since dollar is the dorminant currency and 2020 data had no currency, we are assuming the currency was dollars\n",
    "    '''\n",
    "\n",
    "df20['Currency']='$'"
   ]
  },
  {
   "cell_type": "code",
   "execution_count": 134,
   "metadata": {},
   "outputs": [
    {
     "data": {
      "text/plain": [
       "(1055, 11)"
      ]
     },
     "execution_count": 134,
     "metadata": {},
     "output_type": "execute_result"
    }
   ],
   "source": [
    "df20.shape"
   ]
  },
  {
   "cell_type": "code",
   "execution_count": 135,
   "metadata": {},
   "outputs": [
    {
     "name": "stdout",
     "output_type": "stream",
     "text": [
      "['None', 'accomodation', 'ad-tech', 'aero company', 'agri tech', 'agriculture', 'agritech', 'agritech startup', 'agritech/commerce', 'ai', 'ai & data science', 'ai & debt', 'ai & deep learning', 'ai & media', 'ai company', 'ai health', 'ai platform', 'ai robotics', 'ai startup', 'api platform', 'appliance', 'ar platform', 'ar startup', 'ar/vr', 'ar/vr startup', 'auto-tech', 'automation', 'automation tech', 'automobile', 'automobile technology', 'automobiles', 'automotive', 'automotive and rentals', 'automotive company', 'automotive startup', 'automotive tech', 'ayurveda tech', 'b2b', 'b2b agritech', 'b2b marketplace', 'battery design', 'battery manufacturer', 'beauty', 'beauty & wellness', 'beverage', 'beverages', 'bike marketplace', 'biomaterial startup', 'biopharma', 'biotech', 'biotechnology company', 'blockchain', 'blockchain startup', 'car service', 'car trade', 'cleantech', 'cloud company', 'cloud kitchen', 'co-living', 'co-working', 'co-working startup', 'construction', 'construction tech', 'consultancy', 'consumer appliances', 'consumer goods', 'content management', 'content marketplace', 'content marktplace', 'conversational ai platform', 'cosmetics', 'coworking', 'craft beer', 'crowdsourcing', 'cryptocurrency', 'customer service company', 'dairy', 'dairy startup', 'data analytics', 'data intelligence', 'data science', 'dating app', 'deep tech', 'deep tech ai', 'deeptech', 'deeptech startup', 'defense tech', 'deisgning', 'digital media', 'digital tech', 'e store', 'e tailor', 'e-commerce', 'e-connect', 'e-market', 'e-mobility', 'e-tail', 'ecommerce', 'edtech', 'edtech startup', 'edttech', 'education', 'electricity', 'emobility', 'entertainment', 'entreprenurship', 'escrow', 'estore', 'ev', 'ev startup', 'eye wear', 'eyeglasses', 'fashion', 'fashion startup', 'fashion tech', 'fertility tech', 'finance', 'finance company', 'financial services', 'fintech', 'fitness', 'fitness startup', 'fm', 'fmcg', 'food', 'food & bevarages', 'food & beverages', 'food & logistics', 'food and beverages', 'food delivery', 'food devlivery', 'food diet', 'food industry', 'food startup', 'food tech', 'foodtech', 'foodtech & logistics', 'fusion beverages', 'gaming', 'gaming startup', 'health', 'health & wellness', 'health and fitness', 'healthcare', 'healthcare/edtech', 'healthtech', 'heathtech', 'home design', 'home interior services', 'hospitality', 'housing', 'housing & rentals', 'hr', 'hr tech', 'hr tech startup', 'hrtech', 'hygiene', 'hygiene management', 'insurance', 'insurance tech', 'insurance technology', 'insuretech', 'insurtech', 'interior & decor', 'interior design', 'investment', 'investment tech', 'iot', 'iot startup', 'iot/automobile', 'it', 'jewellery', 'jewellery startup', 'job portal', 'legal', 'legaltech', 'life sciences', 'linguistic spiritual', 'location analytics', 'logistics', 'logitech', 'luxury car startup', 'machine learning', 'manufacturing', 'marketing', 'marketing company', 'marketing startup', 'marketplace', 'med tech', 'media', 'media & networking', 'media tech', 'medtech', 'mental health', 'micro-mobiity', 'mobility tech', 'mobility/transport', 'multinational conglomerate company', 'nano distribution network', 'neo-banking', 'networking platform', 'nutrition', 'nutrition sector', 'nutrition tech', 'online credit management startup', 'online financial service', 'paas startup', 'packaging solution startup', 'personal care startup', 'pharma', 'pharmaceutical', 'pharmacy', 'photonics startup', 'preschool daycare', 'proptech', 'publication', 'qsr startup', 'real estate', 'reatil startup', 'recruitment startup', 'renewable player', 'rental', 'rental space', 'retail', 'retail aggregator', 'retail startup', 'retail tech', 'robotics', 'saas', 'saas platform', 'saas startup', 'saas/edtech', 'saas\\xa0\\xa0startup', 'sales & services', 'sanitation solutions', 'scanning app', 'service industry', 'skincare startup', 'sles and marketing', 'social commerce', 'social e-commerce', 'social media', 'social network', 'software company', 'soil-tech', 'solar monitoring company', 'solar saas', 'solar solution', 'spacetech', 'sports', 'startup laboratory', 'supply chain, agritech', 'taxation', 'tech', 'tech company', 'tech hub', 'tech platform', 'tech startup', 'technology', 'techonology', 'telecommunication', 'tourism & ev', 'trading platform', 'transport', 'transport & rentals', 'transport automation', 'transportation', 'travel', 'travel & saas', 'travel tech', 'traveltech', 'tyre management', 'venture capital', 'venture capitalist', 'video', 'video personalization', 'video platform', 'video sharing platform', 'video streaming platform', 'virtual auditing startup', 'visual media', 'vr & saas', 'warehouse', 'wl & rac protection', 'work fulfillment', 'yoga & wellness']\n"
     ]
    }
   ],
   "source": [
    "df20['Sector'] = df20['Sector'].apply(lambda x: x.lower() if isinstance(x, str) else x)\n",
    "\n",
    "print(sorted(map(str, df20['Sector'].unique())))\n",
    "\n",
    "\n",
    "#df20['Sector'].unique()"
   ]
  },
  {
   "cell_type": "code",
   "execution_count": 136,
   "metadata": {},
   "outputs": [],
   "source": [
    "\n",
    "\n",
    "\n",
    "df20['Sector']=df20['Sector'].str.replace(r'paas', 'saas', regex=True)\n",
    "df20['Sector']=df20['Sector'].str.replace(r'supply chain', 'supply_chain', regex=True)\n",
    "\n",
    "df20['Sector']=df20['Sector'].str.replace(r'sles', 'sales', regex=True)\n",
    "\n",
    "df20['Sector']=df20['Sector'].str.replace(r'reatil', 'retail', regex=True)\n",
    "\n",
    "df20['Sector']=df20['Sector'].str.replace(r'media tech', 'mediatech', regex=True)\n",
    "\n",
    "df20['Sector']=df20['Sector'].str.replace(r'hr tech', 'hrtech', regex=True)\n",
    "df20['Sector']=df20['Sector'].str.replace(r'techonology', 'Technology', regex=True)\n",
    "df20['Sector']=df20['Sector'].str.replace(r'healthcare/edtech', 'edtech', regex=True)\n",
    "df20['Sector']=df20['Sector'].str.replace(r'saas\\xa0\\xa0startup', 'saas startup', regex=True)\n",
    "df20['Sector']=df20['Sector'].str.replace(r'saas/edtech', 'edtech', regex=True)\n",
    "df20['Sector']=df20['Sector'].str.replace(r'agritech/commerce', 'e-commerce', regex=True)\n",
    "df20['Sector']=df20['Sector'].str.replace(r'mobility/transport', 'Supply_Chain', regex=True)\n",
    "df20['Sector']=df20['Sector'].str.replace(r'iot/automobile', 'Automobile', regex=True)\n",
    "df20['Sector']=df20['Sector'].str.replace(r'ai & debt', 'debt', regex=True)\n",
    "df20['Sector']=df20['Sector'].str.replace(r'b2b agritech', 'agritech', regex=True)\n",
    "df20['Sector']=df20['Sector'].str.replace(r'heathtech', 'healthtech', regex=True)\n",
    "df20['Sector']=df20['Sector'].str.replace(r'medtech', 'med tech', regex=True)\n",
    "df20['Sector']=df20['Sector'].str.replace(r'insurance technology', 'insuretech', regex=True)\n",
    "df20['Sector']=df20['Sector'].str.replace(r'insurance tech', 'insuretech', regex=True)\n",
    "df20['Sector']=df20['Sector'].str.replace(r'insurtech', 'insuretech', regex=True)\n",
    "df20['Sector']=df20['Sector'].str.replace(r'\\b'+'ai'+ r'\\b', 'Artificial Intelligence', regex=True)\n",
    "df20['Sector']=df20['Sector'].str.replace(r'\\b'+'it'+ r'\\b', 'Infotech', regex=True)\n",
    "df20['Sector']=df20['Sector'].str.replace(r'\\b'+'Tech'+ r'\\b', 'Technology', regex=True)\n",
    "\n",
    "df20['Sector']=df20['Sector'].str.replace(r'\\b'+'ev'+ r'\\b', 'ElectricV', regex=True)\n",
    "df20['Sector']=df20['Sector'].str.replace(r'\\b' +'ar'+ r'\\b', 'AugR', regex=True)\n",
    "df20['Sector']=df20['Sector'].str.replace(r'\\b' +'vr'+r'\\b', 'VirtR', regex=True)\n",
    "\n",
    "df20['Sector']=df20['Sector'].str.replace(r'\\b' +'fm'+r'\\b', 'fmcg', regex=True)\n",
    "\n",
    "df20['Sector']=df20['Sector'].str.replace(r'\\b' +'tech'+ r'\\b', 'Technology', regex=True)\n",
    "df20['Sector']=df20['Sector'].str.replace(r'renewable player', 'renewable power', regex=True)\n",
    "\n",
    "df20['Sector']=df20['Sector'].str.replace(r'deisgning', 'designing', regex=True)\n",
    "df20['Sector']=df20['Sector'].str.replace(r'\\b' +'hr'+ r'\\b', 'human res', regex=True)\n",
    "\n"
   ]
  },
  {
   "cell_type": "code",
   "execution_count": 137,
   "metadata": {},
   "outputs": [
    {
     "data": {
      "text/plain": [
       "13"
      ]
     },
     "execution_count": 137,
     "metadata": {},
     "output_type": "execute_result"
    }
   ],
   "source": [
    "df20['Sector'].isna().sum()"
   ]
  },
  {
   "cell_type": "code",
   "execution_count": 138,
   "metadata": {},
   "outputs": [
    {
     "data": {
      "text/plain": [
       "count        1042\n",
       "unique        270\n",
       "top       fintech\n",
       "freq          131\n",
       "Name: Sector, dtype: object"
      ]
     },
     "execution_count": 138,
     "metadata": {},
     "output_type": "execute_result"
    }
   ],
   "source": [
    "df20['Sector'].describe()"
   ]
  },
  {
   "cell_type": "code",
   "execution_count": 139,
   "metadata": {},
   "outputs": [],
   "source": [
    "#Filling missing values with the mode\n",
    "\n",
    "df20['Sector']=df20['Sector'].fillna('Fintech')"
   ]
  },
  {
   "cell_type": "code",
   "execution_count": 140,
   "metadata": {},
   "outputs": [],
   "source": [
    "# A function to reorganize the sector column\n",
    "\n",
    "df20['Main_Sector']=df20['Sector'].apply(lambda x: 'Automotive' if 'automobile' in x.lower() or 'electricv' in x.lower() or 'automotive' in x.lower() \\\n",
    "    or 'auto-tech' in x.lower() or 'battery' in x.lower() or 'electric vehicle' in x.lower() else  \n",
    "    \n",
    "    'Education' if 'edtech' in x.lower() or 'education' in x.lower() or 'edttech' in x.lower() or 'school' in x.lower() \n",
    "    or 'e-learning' in x.lower() or 'career planning' in x.lower() else \\\n",
    "    \n",
    "    'Food & Agric' if 'agri' in x.lower() or 'food' in x.lower() or 'beverage' in x.lower() or 'dairy' in x.lower() or 'nutrition' in x.lower() \\\n",
    "    or 'soil-tech' in x.lower() or 'farming' in x.lower() or 'catering' in x.lower() else \\\n",
    "    \n",
    "    'Technology' if 'technology' in x.lower() or 'logitech' in x.lower() or 'software' in x.lower() \\\n",
    "    or 'iot' in x.lower() or 'saas' in x.lower() or 'cloud' in x.lower() or 'api platform' in x.lower() or 'infotech' in x.lower() \\\n",
    "    or 'hrtech' in x.lower() or 'safety tech' in x.lower() or 'insuretech' in x.lower() or 'spacetech' in x.lower() \\\n",
    "    or 'legaltech' in x.lower() or 'infratech' in x.lower() or 'cybersecurity' in x.lower() or 'virtual auditing startup' in x.lower() \\\n",
    "    or 'internet' in x.lower() or 'enterprise resource planning (erp)' in x.lower() or 'artificial intelligence' in x.lower() \\\n",
    "    or 'deep' in x.lower() or 'defense tech' in x.lower() or 'data' in x.lower() or 'augr' in x.lower() or 'virtr' in x.lower() or 'automation' in x.lower() \\\n",
    "    or 'machine learning' in x.lower() or 'photonics' in x.lower() or 'robotics' in x.lower() or 'autonomous' in x.lower() \\\n",
    "    or 'telecommunication' in x.lower() or 'mobile' in x.lower() else \\\n",
    "    \n",
    "    \n",
    "    'Manufacturing' if 'aero company' in x.lower() or 'transport' in x.lower() or 'logistics' in x.lower() or 'packaging solution' in x.lower() or \\\n",
    "    'distribution' in x.lower() or 'supply_chain' in x.lower() or 'warehouse' in x.lower() else \\\n",
    "    \n",
    "    'Travel_Hosp&Fashion' if 'travel' in x.lower() or 'accomodation' in x.lower() or 'housing' in x.lower() or 'micro-mobiity' in x.lower() or \\\n",
    "    'co-living' in x.lower() or 'co-working' in x.lower() or 'coworking' in x.lower() \\\n",
    "    or 'hospitality' in x.lower() or 'luxury' in x.lower() or 'rental' in x.lower() or 'wl & rac' in x.lower() or 'tourism' in x.lower() \\\n",
    "    or 'cosmetic' in x.lower() or 'jewel' in x.lower() or 'beauty' in x.lower() or 'fashion' in x.lower() \\\n",
    "    or 'skincare' in x.lower() or 'social commerce' in x.lower() else\\\n",
    "    \n",
    "    \n",
    "    'Healthcare' if 'health' in x.lower() or 'healthtech' in x.lower() or 'yoga' in x.lower() or 'bio' in x.lower() or 'eye' in x.lower()  \\\n",
    "    or 'fertility' in x.lower() or 'fitness' in x.lower() or 'hygiene' in x.lower() or 'med tech' in x.lower() or 'mental' in x.lower() \\\n",
    "    or 'sanitation' in x.lower() or 'laboratory' in x.lower() or 'pharma' in x.lower() or 'medical' in x.lower() \\\n",
    "    or 'wellness' in x.lower() or 'hospital' in x.lower() or 'veterinary' in x.lower() or 'dietary supplements' in x.lower() \\\n",
    "    or 'child care' in x.lower() or 'medicine' in x.lower() or 'dental' in x.lower() else \\\n",
    "    \n",
    "    'Fintech' if 'fintech' in x.lower() or 'blockchain' in x.lower() or 'crypto' in x.lower() or 'mobile payments' in x.lower() else \\\n",
    "    \n",
    "    'Banking & Finance' if 'bank' in x.lower() or 'fund' in x.lower() or 'escrow' in x.lower() or 'finance' in x.lower() or 'insurance' in x.lower() \\\n",
    "    or 'investment' in x.lower() or 'online credit' in x.lower() or 'venture capital' in x.lower() or 'taxation' in x.lower() \\\n",
    "    or 'accounting' in x.lower() or 'credit' in x.lower() or 'wealth' in x.lower() else \\\n",
    "    \n",
    "        \n",
    "    'Construction' if 'construction' in x.lower() or 'home design' in x.lower() or 'decor' in x.lower() or 'design' in x.lower() \\\n",
    "    or 'real estate' in x.lower() or 'proptech' in x.lower() or 'electricity' in x.lower() or 'solar' in x.lower() \\\n",
    "    or 'renewable power' in x.lower() or r'energy' in x.lower() else \\\n",
    "    \n",
    "    \n",
    "    'Service' if 'consultancy' in x.lower() or 'crowdsourcing' in x.lower() or r'services' in x.lower() or 'legal' in x.lower() \\\n",
    "    or 'human res' in x.lower() or 'recruitment' in x.lower() or 'market research' in x.lower() or 'consulting' in x.lower() \\\n",
    "    or 'creative agency' in x.lower() or 'business development' in x.lower() or 'customer service' in x.lower() \\\n",
    "    or 'delivery' in x.lower() or 'cooking' in x.lower() else \\\n",
    "    \n",
    "    \n",
    "    'Retail' if 'consumer' in x.lower() or 'fmcg' in x.lower() or 'marketing' in x.lower() or 'retail' in x.lower() \\\n",
    "    or 'sales' in x.lower() or 'personal care' in x.lower() or 'advertising' in x.lower() or 'children' in x.lower() or\\\n",
    "    'ad-tech' in x.lower() or 'b2b' in x.lower() or 'ecommerce' in x.lower() \\\n",
    "    or 'e-commerce' in x.lower() or 'e-market'in x.lower() or 'social media' in x.lower() or 'content' in x.lower() or 'digital' in x.lower() \\\n",
    "    or 'e store' in x.lower() or 'e tailor' in x.lower() or 'e-connect' in x.lower() or 'e-mobility' in x.lower() or 'e-tail' in x.lower() \\\n",
    "    or 'emobility' in x.lower() or 'estore' in x.lower() or 'job portal'in x.lower() or 'trading' in x.lower() \\\n",
    "    or 'marketplace' in x.lower() or 'classifieds' in x.lower() or 'commercial' in x.lower() or 'car trade' in x.lower() else \\\n",
    "    \n",
    "    \n",
    "    \n",
    "    \n",
    "    'Media & Entertainment' if 'media' in x.lower() or 'video' in x.lower() or 'publication' in x.lower() or 'dating app' in x.lower() \\\n",
    "    or 'entertain' in x.lower() or 'news' in x.lower() or 'broadcasting' in x.lower() or 'communities' in x.lower() \\\n",
    "    or 'events' in x.lower() or 'audio' in x.lower() or 'streaming' in x.lower() or 'file sharing' in x.lower() \\\n",
    "    or 'music' in x.lower() or 'dating' in x.lower() or 'wedding' in x.lower() or 'sport' in x.lower() or 'game' in x.lower() \\\n",
    "    or 'gaming' in x.lower() or 'basketball' in x.lower() else 'Other')"
   ]
  },
  {
   "cell_type": "code",
   "execution_count": 141,
   "metadata": {},
   "outputs": [
    {
     "data": {
      "text/html": [
       "<div>\n",
       "<style scoped>\n",
       "    .dataframe tbody tr th:only-of-type {\n",
       "        vertical-align: middle;\n",
       "    }\n",
       "\n",
       "    .dataframe tbody tr th {\n",
       "        vertical-align: top;\n",
       "    }\n",
       "\n",
       "    .dataframe thead th {\n",
       "        text-align: right;\n",
       "    }\n",
       "</style>\n",
       "<table border=\"1\" class=\"dataframe\">\n",
       "  <thead>\n",
       "    <tr style=\"text-align: right;\">\n",
       "      <th></th>\n",
       "      <th>Company_Brand</th>\n",
       "      <th>Founded</th>\n",
       "      <th>Location</th>\n",
       "      <th>Sector</th>\n",
       "      <th>About Company</th>\n",
       "      <th>Founders</th>\n",
       "      <th>Investor</th>\n",
       "      <th>Amount</th>\n",
       "      <th>Stage</th>\n",
       "      <th>Year</th>\n",
       "      <th>Currency</th>\n",
       "      <th>Main_Sector</th>\n",
       "    </tr>\n",
       "  </thead>\n",
       "  <tbody>\n",
       "    <tr>\n",
       "      <th>0</th>\n",
       "      <td>Aqgromalin</td>\n",
       "      <td>2019.0</td>\n",
       "      <td>Chennai</td>\n",
       "      <td>agritech</td>\n",
       "      <td>Cultivating Ideas for Profit</td>\n",
       "      <td>Prasanna Manogaran, Bharani C L</td>\n",
       "      <td>Angel investors</td>\n",
       "      <td>200000.0</td>\n",
       "      <td>Series A</td>\n",
       "      <td>2020</td>\n",
       "      <td>$</td>\n",
       "      <td>Food &amp; Agric</td>\n",
       "    </tr>\n",
       "    <tr>\n",
       "      <th>1</th>\n",
       "      <td>Krayonnz</td>\n",
       "      <td>2019.0</td>\n",
       "      <td>Bangalore</td>\n",
       "      <td>edtech</td>\n",
       "      <td>An academy-guardian-scholar centric ecosystem ...</td>\n",
       "      <td>Saurabh Dixit, Gurudutt Upadhyay</td>\n",
       "      <td>GSF Accelerator</td>\n",
       "      <td>100000.0</td>\n",
       "      <td>Seed_Stage</td>\n",
       "      <td>2020</td>\n",
       "      <td>$</td>\n",
       "      <td>Education</td>\n",
       "    </tr>\n",
       "    <tr>\n",
       "      <th>2</th>\n",
       "      <td>PadCare Labs</td>\n",
       "      <td>2018.0</td>\n",
       "      <td>Pune</td>\n",
       "      <td>hygiene management</td>\n",
       "      <td>Converting bio-hazardous waste to harmless waste</td>\n",
       "      <td>Ajinkya Dhariya</td>\n",
       "      <td>Venture Center</td>\n",
       "      <td>NaN</td>\n",
       "      <td>Seed_Stage</td>\n",
       "      <td>2020</td>\n",
       "      <td>$</td>\n",
       "      <td>Healthcare</td>\n",
       "    </tr>\n",
       "    <tr>\n",
       "      <th>3</th>\n",
       "      <td>NCOME</td>\n",
       "      <td>2020.0</td>\n",
       "      <td>New Delhi</td>\n",
       "      <td>escrow</td>\n",
       "      <td>Escrow-as-a-service platform</td>\n",
       "      <td>Ritesh Tiwari</td>\n",
       "      <td>Venture Catalysts, PointOne Capital</td>\n",
       "      <td>400000.0</td>\n",
       "      <td>Series A</td>\n",
       "      <td>2020</td>\n",
       "      <td>$</td>\n",
       "      <td>Banking &amp; Finance</td>\n",
       "    </tr>\n",
       "    <tr>\n",
       "      <th>4</th>\n",
       "      <td>Gramophone</td>\n",
       "      <td>2016.0</td>\n",
       "      <td>Indore</td>\n",
       "      <td>agritech</td>\n",
       "      <td>Gramophone is an AgTech platform enabling acce...</td>\n",
       "      <td>Ashish Rajan Singh, Harshit Gupta, Nishant Mah...</td>\n",
       "      <td>Siana Capital Management, Info Edge</td>\n",
       "      <td>340000.0</td>\n",
       "      <td>Series A</td>\n",
       "      <td>2020</td>\n",
       "      <td>$</td>\n",
       "      <td>Food &amp; Agric</td>\n",
       "    </tr>\n",
       "  </tbody>\n",
       "</table>\n",
       "</div>"
      ],
      "text/plain": [
       "  Company_Brand  Founded   Location              Sector  \\\n",
       "0    Aqgromalin   2019.0    Chennai            agritech   \n",
       "1      Krayonnz   2019.0  Bangalore              edtech   \n",
       "2  PadCare Labs   2018.0       Pune  hygiene management   \n",
       "3         NCOME   2020.0  New Delhi              escrow   \n",
       "4    Gramophone   2016.0     Indore            agritech   \n",
       "\n",
       "                                       About Company  \\\n",
       "0                       Cultivating Ideas for Profit   \n",
       "1  An academy-guardian-scholar centric ecosystem ...   \n",
       "2   Converting bio-hazardous waste to harmless waste   \n",
       "3                       Escrow-as-a-service platform   \n",
       "4  Gramophone is an AgTech platform enabling acce...   \n",
       "\n",
       "                                            Founders  \\\n",
       "0                    Prasanna Manogaran, Bharani C L   \n",
       "1                   Saurabh Dixit, Gurudutt Upadhyay   \n",
       "2                                    Ajinkya Dhariya   \n",
       "3                                      Ritesh Tiwari   \n",
       "4  Ashish Rajan Singh, Harshit Gupta, Nishant Mah...   \n",
       "\n",
       "                              Investor    Amount       Stage  Year Currency  \\\n",
       "0                      Angel investors  200000.0    Series A  2020        $   \n",
       "1                      GSF Accelerator  100000.0  Seed_Stage  2020        $   \n",
       "2                       Venture Center       NaN  Seed_Stage  2020        $   \n",
       "3  Venture Catalysts, PointOne Capital  400000.0    Series A  2020        $   \n",
       "4  Siana Capital Management, Info Edge  340000.0    Series A  2020        $   \n",
       "\n",
       "         Main_Sector  \n",
       "0       Food & Agric  \n",
       "1          Education  \n",
       "2         Healthcare  \n",
       "3  Banking & Finance  \n",
       "4       Food & Agric  "
      ]
     },
     "execution_count": 141,
     "metadata": {},
     "output_type": "execute_result"
    }
   ],
   "source": [
    "df20.head()\n",
    "\n",
    "#df20[df20['Main_Sector']=='Other']"
   ]
  },
  {
   "cell_type": "code",
   "execution_count": 142,
   "metadata": {},
   "outputs": [
    {
     "data": {
      "text/plain": [
       "Main_Sector\n",
       "Technology               224\n",
       "Fintech                  147\n",
       "Retail                   120\n",
       "Education                117\n",
       "Food & Agric             112\n",
       "Healthcare                87\n",
       "Media & Entertainment     65\n",
       "Travel_Hosp&Fashion       50\n",
       "Manufacturing             29\n",
       "Automotive                29\n",
       "Other                     23\n",
       "Construction              22\n",
       "Banking & Finance         20\n",
       "Service                   10\n",
       "Name: count, dtype: int64"
      ]
     },
     "execution_count": 142,
     "metadata": {},
     "output_type": "execute_result"
    }
   ],
   "source": [
    "df20['Main_Sector'].value_counts()"
   ]
  },
  {
   "cell_type": "code",
   "execution_count": 143,
   "metadata": {},
   "outputs": [
    {
     "data": {
      "text/plain": [
       "array(['Chennai', 'Bangalore', 'Pune', 'New Delhi', 'Indore', 'Hyderabad',\n",
       "       'Gurgaon', 'Belgaum', 'Noida', 'Mumbai', 'Andheri', 'Jaipur',\n",
       "       'Ahmedabad', 'Kolkata', 'Tirunelveli, Tamilnadu', 'Thane', None,\n",
       "       'Singapore', 'Gurugram', 'Gujarat', 'Haryana', 'Kerala', 'Jodhpur',\n",
       "       'Jaipur, Rajastan', 'Delhi', 'Frisco, Texas, United States',\n",
       "       'California', 'Dhingsara, Haryana', 'New York, United States',\n",
       "       'Patna', 'San Francisco, California, United States',\n",
       "       'San Francisco, United States', 'San Ramon, California',\n",
       "       'Paris, Ile-de-France, France', 'Plano, Texas, United States',\n",
       "       'Sydney', 'San Francisco Bay Area, Silicon Valley, West Coast',\n",
       "       'Bangaldesh', 'London, England, United Kingdom',\n",
       "       'Sydney, New South Wales, Australia', 'Milano, Lombardia, Italy',\n",
       "       'Palmwoods, Queensland, Australia', 'France',\n",
       "       'San Francisco Bay Area, West Coast, Western US',\n",
       "       'Trivandrum, Kerala, India', 'Cochin', 'Samastipur, Bihar',\n",
       "       'Irvine, California, United States', 'Tumkur, Karnataka',\n",
       "       'Newcastle Upon Tyne, Newcastle upon Tyne, United Kingdom',\n",
       "       'Shanghai, China', 'Jiaxing, Zhejiang, China', 'Rajastan', 'Kochi',\n",
       "       'Ludhiana', 'Dehradun', 'San Franciscao', 'San Francisco',\n",
       "       'Tangerang, Jawa Barat, Indonesia', 'Berlin', 'Seattle', 'Riyadh',\n",
       "       'Seoul', 'New York', 'Bangkok', 'Kanpur', 'Chandigarh', 'Warangal',\n",
       "       'Hyderebad', 'Odisha', 'Bihar', 'Goa', 'Tamil Nadu',\n",
       "       'Uttar Pradesh', 'Bhopal', 'Banglore', 'Coimbatore', 'Bengaluru'],\n",
       "      dtype=object)"
      ]
     },
     "execution_count": 143,
     "metadata": {},
     "output_type": "execute_result"
    }
   ],
   "source": [
    "df20['Location'].unique()"
   ]
  },
  {
   "cell_type": "markdown",
   "metadata": {},
   "source": [
    "**Observations**\n",
    "- We identify some rows have multiple values for location\n",
    "- We will pick first item, since the second and third items are either a country or a state."
   ]
  },
  {
   "cell_type": "code",
   "execution_count": 144,
   "metadata": {},
   "outputs": [],
   "source": [
    "#Choosing the first Location value from the list of cities in each row\n",
    "df20['Location'] = df20['Location'].str.split(',').str.get(0) "
   ]
  },
  {
   "cell_type": "code",
   "execution_count": 145,
   "metadata": {},
   "outputs": [
    {
     "data": {
      "text/plain": [
       "array(['Chennai', 'Bangalore', 'Pune', 'New Delhi', 'Indore', 'Hyderabad',\n",
       "       'Gurgaon', 'Belgaum', 'Noida', 'Mumbai', 'Andheri', 'Jaipur',\n",
       "       'Ahmedabad', 'Kolkata', 'Tirunelveli', 'Thane', None, 'Singapore',\n",
       "       'Gurugram', 'Gujarat', 'Haryana', 'Kerala', 'Jodhpur', 'Delhi',\n",
       "       'Frisco', 'California', 'Dhingsara', 'New York', 'Patna',\n",
       "       'San Francisco', 'San Ramon', 'Paris', 'Plano', 'Sydney',\n",
       "       'San Francisco Bay Area', 'Bangaldesh', 'London', 'Milano',\n",
       "       'Palmwoods', 'France', 'Trivandrum', 'Cochin', 'Samastipur',\n",
       "       'Irvine', 'Tumkur', 'Newcastle Upon Tyne', 'Shanghai', 'Jiaxing',\n",
       "       'Rajastan', 'Kochi', 'Ludhiana', 'Dehradun', 'San Franciscao',\n",
       "       'Tangerang', 'Berlin', 'Seattle', 'Riyadh', 'Seoul', 'Bangkok',\n",
       "       'Kanpur', 'Chandigarh', 'Warangal', 'Hyderebad', 'Odisha', 'Bihar',\n",
       "       'Goa', 'Tamil Nadu', 'Uttar Pradesh', 'Bhopal', 'Banglore',\n",
       "       'Coimbatore', 'Bengaluru'], dtype=object)"
      ]
     },
     "execution_count": 145,
     "metadata": {},
     "output_type": "execute_result"
    }
   ],
   "source": [
    "df20['Location'].unique()"
   ]
  },
  {
   "cell_type": "code",
   "execution_count": 146,
   "metadata": {
    "tags": []
   },
   "outputs": [
    {
     "data": {
      "text/plain": [
       "3"
      ]
     },
     "execution_count": 146,
     "metadata": {},
     "output_type": "execute_result"
    }
   ],
   "source": [
    "df20.duplicated().sum()"
   ]
  },
  {
   "cell_type": "markdown",
   "metadata": {},
   "source": [
    "- There are duplicates in df20, these will be droped"
   ]
  },
  {
   "cell_type": "code",
   "execution_count": 147,
   "metadata": {
    "tags": []
   },
   "outputs": [],
   "source": [
    "df20=df20.drop_duplicates()"
   ]
  },
  {
   "cell_type": "code",
   "execution_count": 148,
   "metadata": {
    "tags": []
   },
   "outputs": [
    {
     "data": {
      "text/plain": [
       "0"
      ]
     },
     "execution_count": 148,
     "metadata": {},
     "output_type": "execute_result"
    }
   ],
   "source": [
    "df20.duplicated().sum()"
   ]
  },
  {
   "cell_type": "code",
   "execution_count": 149,
   "metadata": {
    "tags": []
   },
   "outputs": [
    {
     "data": {
      "text/plain": [
       "Company_Brand      0\n",
       "Founded            0\n",
       "Location          94\n",
       "Sector             0\n",
       "About Company      0\n",
       "Founders          12\n",
       "Investor          38\n",
       "Amount           253\n",
       "Stage              0\n",
       "Year               0\n",
       "Currency           0\n",
       "Main_Sector        0\n",
       "dtype: int64"
      ]
     },
     "execution_count": 149,
     "metadata": {},
     "output_type": "execute_result"
    }
   ],
   "source": [
    "df20.isna().sum()"
   ]
  },
  {
   "cell_type": "code",
   "execution_count": 150,
   "metadata": {
    "tags": []
   },
   "outputs": [
    {
     "name": "stdout",
     "output_type": "stream",
     "text": [
      "<class 'pandas.core.frame.DataFrame'>\n",
      "Index: 1052 entries, 0 to 1054\n",
      "Data columns (total 12 columns):\n",
      " #   Column         Non-Null Count  Dtype  \n",
      "---  ------         --------------  -----  \n",
      " 0   Company_Brand  1052 non-null   object \n",
      " 1   Founded        1052 non-null   float64\n",
      " 2   Location       958 non-null    object \n",
      " 3   Sector         1052 non-null   object \n",
      " 4   About Company  1052 non-null   object \n",
      " 5   Founders       1040 non-null   object \n",
      " 6   Investor       1014 non-null   object \n",
      " 7   Amount         799 non-null    float64\n",
      " 8   Stage          1052 non-null   object \n",
      " 9   Year           1052 non-null   int64  \n",
      " 10  Currency       1052 non-null   object \n",
      " 11  Main_Sector    1052 non-null   object \n",
      "dtypes: float64(2), int64(1), object(9)\n",
      "memory usage: 106.8+ KB\n"
     ]
    }
   ],
   "source": [
    "#Confirming changes\n",
    "\n",
    "df20.info()"
   ]
  },
  {
   "cell_type": "raw",
   "metadata": {},
   "source": []
  },
  {
   "cell_type": "markdown",
   "metadata": {},
   "source": [
    "### Cleaning the 2021 dataset"
   ]
  },
  {
   "cell_type": "code",
   "execution_count": 151,
   "metadata": {
    "tags": []
   },
   "outputs": [],
   "source": [
    "#Making a copy of 2021 dataset\n",
    "\n",
    "df21=df_fund2021.copy()"
   ]
  },
  {
   "cell_type": "code",
   "execution_count": 152,
   "metadata": {
    "tags": []
   },
   "outputs": [
    {
     "data": {
      "text/plain": [
       "Index(['Company_Brand', 'Founded', 'Location', 'Sector', 'About Company',\n",
       "       'Founders', 'Investor', 'Amount', 'Stage', 'Year'],\n",
       "      dtype='object')"
      ]
     },
     "execution_count": 152,
     "metadata": {},
     "output_type": "execute_result"
    }
   ],
   "source": [
    "df21.columns"
   ]
  },
  {
   "cell_type": "code",
   "execution_count": 153,
   "metadata": {},
   "outputs": [
    {
     "data": {
      "text/plain": [
       "array(['Bangalore', 'Mumbai', 'Gurugram', 'New Delhi', 'Hyderabad',\n",
       "       'Jaipur', 'Ahmadabad', 'Chennai', None,\n",
       "       'Small Towns, Andhra Pradesh', 'Goa', 'Rajsamand', 'Ranchi',\n",
       "       'Faridabad, Haryana', 'Gujarat', 'Pune', 'Thane', 'Computer Games',\n",
       "       'Cochin', 'Noida', 'Chandigarh', 'Gurgaon', 'Vadodara',\n",
       "       'Food & Beverages', 'Pharmaceuticals\\t#REF!', 'Gurugram\\t#REF!',\n",
       "       'Kolkata', 'Ahmedabad', 'Mohali', 'Haryana', 'Indore', 'Powai',\n",
       "       'Ghaziabad', 'Nagpur', 'West Bengal', 'Patna', 'Samsitpur',\n",
       "       'Lucknow', 'Telangana', 'Silvassa', 'Thiruvananthapuram',\n",
       "       'Faridabad', 'Roorkee', 'Ambernath', 'Panchkula', 'Surat',\n",
       "       'Coimbatore', 'Andheri', 'Mangalore', 'Telugana', 'Bhubaneswar',\n",
       "       'Kottayam', 'Beijing', 'Panaji', 'Satara', 'Orissia', 'Jodhpur',\n",
       "       'New York', 'Santra', 'Mountain View, CA', 'Trivandrum',\n",
       "       'Jharkhand', 'Kanpur', 'Bhilwara', 'Guwahati',\n",
       "       'Online Media\\t#REF!', 'Kochi', 'London',\n",
       "       'Information Technology & Services', 'The Nilgiris', 'Gandhinagar'],\n",
       "      dtype=object)"
      ]
     },
     "execution_count": 153,
     "metadata": {},
     "output_type": "execute_result"
    }
   ],
   "source": [
    "df21['Location'].unique()"
   ]
  },
  {
   "cell_type": "code",
   "execution_count": 154,
   "metadata": {},
   "outputs": [
    {
     "data": {
      "text/html": [
       "<div>\n",
       "<style scoped>\n",
       "    .dataframe tbody tr th:only-of-type {\n",
       "        vertical-align: middle;\n",
       "    }\n",
       "\n",
       "    .dataframe tbody tr th {\n",
       "        vertical-align: top;\n",
       "    }\n",
       "\n",
       "    .dataframe thead th {\n",
       "        text-align: right;\n",
       "    }\n",
       "</style>\n",
       "<table border=\"1\" class=\"dataframe\">\n",
       "  <thead>\n",
       "    <tr style=\"text-align: right;\">\n",
       "      <th></th>\n",
       "      <th>Company_Brand</th>\n",
       "      <th>Founded</th>\n",
       "      <th>Location</th>\n",
       "      <th>Sector</th>\n",
       "      <th>About Company</th>\n",
       "      <th>Founders</th>\n",
       "      <th>Investor</th>\n",
       "      <th>Amount</th>\n",
       "      <th>Stage</th>\n",
       "      <th>Year</th>\n",
       "    </tr>\n",
       "  </thead>\n",
       "  <tbody>\n",
       "    <tr>\n",
       "      <th>241</th>\n",
       "      <td>MasterChow</td>\n",
       "      <td>2020.0</td>\n",
       "      <td>Food &amp; Beverages</td>\n",
       "      <td>Hauz Khas</td>\n",
       "      <td>A ready-to-cook Asian cuisine brand</td>\n",
       "      <td>Vidur Kataria, Sidhanth Madan</td>\n",
       "      <td>WEH Ventures</td>\n",
       "      <td>$461000</td>\n",
       "      <td>Seed</td>\n",
       "      <td>2021</td>\n",
       "    </tr>\n",
       "    <tr>\n",
       "      <th>255</th>\n",
       "      <td>MasterChow</td>\n",
       "      <td>2020.0</td>\n",
       "      <td>Food &amp; Beverages</td>\n",
       "      <td>Hauz Khas</td>\n",
       "      <td>A ready-to-cook Asian cuisine brand</td>\n",
       "      <td>Vidur Kataria, Sidhanth Madan</td>\n",
       "      <td>WEH Ventures</td>\n",
       "      <td>$461000</td>\n",
       "      <td>Seed</td>\n",
       "      <td>2021</td>\n",
       "    </tr>\n",
       "  </tbody>\n",
       "</table>\n",
       "</div>"
      ],
      "text/plain": [
       "    Company_Brand  Founded          Location     Sector  \\\n",
       "241    MasterChow   2020.0  Food & Beverages  Hauz Khas   \n",
       "255    MasterChow   2020.0  Food & Beverages  Hauz Khas   \n",
       "\n",
       "                           About Company                       Founders  \\\n",
       "241  A ready-to-cook Asian cuisine brand  Vidur Kataria, Sidhanth Madan   \n",
       "255  A ready-to-cook Asian cuisine brand  Vidur Kataria, Sidhanth Madan   \n",
       "\n",
       "         Investor   Amount Stage  Year  \n",
       "241  WEH Ventures  $461000  Seed  2021  \n",
       "255  WEH Ventures  $461000  Seed  2021  "
      ]
     },
     "execution_count": 154,
     "metadata": {},
     "output_type": "execute_result"
    }
   ],
   "source": [
    "df21[df21['Location']=='Food & Beverages']"
   ]
  },
  {
   "cell_type": "code",
   "execution_count": 155,
   "metadata": {},
   "outputs": [],
   "source": [
    "df21.loc[df21['Location']=='Food & Beverages', 'Location']='hauz khas'\n",
    "df21['Sector']=df21['Sector'].str.replace('hauz khas', 'Food & Beverages')"
   ]
  },
  {
   "cell_type": "code",
   "execution_count": 156,
   "metadata": {},
   "outputs": [
    {
     "data": {
      "text/html": [
       "<div>\n",
       "<style scoped>\n",
       "    .dataframe tbody tr th:only-of-type {\n",
       "        vertical-align: middle;\n",
       "    }\n",
       "\n",
       "    .dataframe tbody tr th {\n",
       "        vertical-align: top;\n",
       "    }\n",
       "\n",
       "    .dataframe thead th {\n",
       "        text-align: right;\n",
       "    }\n",
       "</style>\n",
       "<table border=\"1\" class=\"dataframe\">\n",
       "  <thead>\n",
       "    <tr style=\"text-align: right;\">\n",
       "      <th></th>\n",
       "      <th>Company_Brand</th>\n",
       "      <th>Founded</th>\n",
       "      <th>Location</th>\n",
       "      <th>Sector</th>\n",
       "      <th>About Company</th>\n",
       "      <th>Founders</th>\n",
       "      <th>Investor</th>\n",
       "      <th>Amount</th>\n",
       "      <th>Stage</th>\n",
       "      <th>Year</th>\n",
       "    </tr>\n",
       "  </thead>\n",
       "  <tbody>\n",
       "    <tr>\n",
       "      <th>241</th>\n",
       "      <td>MasterChow</td>\n",
       "      <td>2020.0</td>\n",
       "      <td>hauz khas</td>\n",
       "      <td>Hauz Khas</td>\n",
       "      <td>A ready-to-cook Asian cuisine brand</td>\n",
       "      <td>Vidur Kataria, Sidhanth Madan</td>\n",
       "      <td>WEH Ventures</td>\n",
       "      <td>$461000</td>\n",
       "      <td>Seed</td>\n",
       "      <td>2021</td>\n",
       "    </tr>\n",
       "    <tr>\n",
       "      <th>255</th>\n",
       "      <td>MasterChow</td>\n",
       "      <td>2020.0</td>\n",
       "      <td>hauz khas</td>\n",
       "      <td>Hauz Khas</td>\n",
       "      <td>A ready-to-cook Asian cuisine brand</td>\n",
       "      <td>Vidur Kataria, Sidhanth Madan</td>\n",
       "      <td>WEH Ventures</td>\n",
       "      <td>$461000</td>\n",
       "      <td>Seed</td>\n",
       "      <td>2021</td>\n",
       "    </tr>\n",
       "  </tbody>\n",
       "</table>\n",
       "</div>"
      ],
      "text/plain": [
       "    Company_Brand  Founded   Location     Sector  \\\n",
       "241    MasterChow   2020.0  hauz khas  Hauz Khas   \n",
       "255    MasterChow   2020.0  hauz khas  Hauz Khas   \n",
       "\n",
       "                           About Company                       Founders  \\\n",
       "241  A ready-to-cook Asian cuisine brand  Vidur Kataria, Sidhanth Madan   \n",
       "255  A ready-to-cook Asian cuisine brand  Vidur Kataria, Sidhanth Madan   \n",
       "\n",
       "         Investor   Amount Stage  Year  \n",
       "241  WEH Ventures  $461000  Seed  2021  \n",
       "255  WEH Ventures  $461000  Seed  2021  "
      ]
     },
     "execution_count": 156,
     "metadata": {},
     "output_type": "execute_result"
    }
   ],
   "source": [
    "df21[df21['Location']=='hauz khas']"
   ]
  },
  {
   "cell_type": "code",
   "execution_count": 157,
   "metadata": {
    "tags": []
   },
   "outputs": [],
   "source": [
    "#print(sorted(map(str, df21['Company_Brand'].unique())))\n",
    "\n",
    "#df21['Company_Brand'].unique()"
   ]
  },
  {
   "cell_type": "code",
   "execution_count": 158,
   "metadata": {
    "tags": []
   },
   "outputs": [
    {
     "data": {
      "text/plain": [
       "array([2019., 2015., 2012., 2021., 2014., 2018., 2016., 2020., 2010.,\n",
       "       2017., 1993., 2008., 2013., 1999., 1989., 2011.,   nan, 2009.,\n",
       "       2002., 1994., 2006., 2000., 2007., 1978., 2003., 1998., 1991.,\n",
       "       1984., 2004., 2005., 1963.])"
      ]
     },
     "execution_count": 158,
     "metadata": {},
     "output_type": "execute_result"
    }
   ],
   "source": [
    "#Checking the unique values of founded\n",
    "\n",
    "df21['Founded'].unique()"
   ]
  },
  {
   "cell_type": "markdown",
   "metadata": {},
   "source": [
    "**We observe Founded have missing dates** "
   ]
  },
  {
   "cell_type": "code",
   "execution_count": 159,
   "metadata": {
    "tags": []
   },
   "outputs": [
    {
     "data": {
      "text/plain": [
       "array(['Pre-series A', None, 'Series D', 'Series C', 'Seed', 'Series B',\n",
       "       'Series E', 'Pre-seed', 'Series A', 'Pre-series B', 'Debt',\n",
       "       '$1200000', 'Bridge', 'Seed+', 'Series F2', 'Series A+',\n",
       "       'Series G', 'Series F', 'Series H', 'Series B3', 'PE', 'Series F1',\n",
       "       'Pre-series A1', '$300000', 'Early seed', 'Series D1', '$6000000',\n",
       "       '$1000000', 'Seies A', 'Pre-series', 'Series A2', 'Series I'],\n",
       "      dtype=object)"
      ]
     },
     "execution_count": 159,
     "metadata": {},
     "output_type": "execute_result"
    }
   ],
   "source": [
    "#Checking the unique values of Stage\n",
    "\n",
    "df21['Stage'].unique()"
   ]
  },
  {
   "cell_type": "markdown",
   "metadata": {},
   "source": [
    "#### Observations\n",
    "\n",
    "- we observe the data contains some values supposed to be in the Amount column"
   ]
  },
  {
   "cell_type": "code",
   "execution_count": 160,
   "metadata": {
    "tags": []
   },
   "outputs": [
    {
     "data": {
      "text/html": [
       "<div>\n",
       "<style scoped>\n",
       "    .dataframe tbody tr th:only-of-type {\n",
       "        vertical-align: middle;\n",
       "    }\n",
       "\n",
       "    .dataframe tbody tr th {\n",
       "        vertical-align: top;\n",
       "    }\n",
       "\n",
       "    .dataframe thead th {\n",
       "        text-align: right;\n",
       "    }\n",
       "</style>\n",
       "<table border=\"1\" class=\"dataframe\">\n",
       "  <thead>\n",
       "    <tr style=\"text-align: right;\">\n",
       "      <th></th>\n",
       "      <th>Company_Brand</th>\n",
       "      <th>Founded</th>\n",
       "      <th>Location</th>\n",
       "      <th>Sector</th>\n",
       "      <th>About Company</th>\n",
       "      <th>Founders</th>\n",
       "      <th>Investor</th>\n",
       "      <th>Amount</th>\n",
       "      <th>Stage</th>\n",
       "      <th>Year</th>\n",
       "    </tr>\n",
       "  </thead>\n",
       "  <tbody>\n",
       "    <tr>\n",
       "      <th>98</th>\n",
       "      <td>FanPlay</td>\n",
       "      <td>2020.0</td>\n",
       "      <td>Computer Games</td>\n",
       "      <td>Computer Games</td>\n",
       "      <td>A real money game app specializing in trivia g...</td>\n",
       "      <td>YC W21</td>\n",
       "      <td>Pritesh Kumar, Bharat Gupta</td>\n",
       "      <td>Upsparks</td>\n",
       "      <td>$1200000</td>\n",
       "      <td>2021</td>\n",
       "    </tr>\n",
       "    <tr>\n",
       "      <th>111</th>\n",
       "      <td>FanPlay</td>\n",
       "      <td>2020.0</td>\n",
       "      <td>Computer Games</td>\n",
       "      <td>Computer Games</td>\n",
       "      <td>A real money game app specializing in trivia g...</td>\n",
       "      <td>YC W21</td>\n",
       "      <td>Pritesh Kumar, Bharat Gupta</td>\n",
       "      <td>Upsparks</td>\n",
       "      <td>$1200000</td>\n",
       "      <td>2021</td>\n",
       "    </tr>\n",
       "  </tbody>\n",
       "</table>\n",
       "</div>"
      ],
      "text/plain": [
       "    Company_Brand  Founded        Location          Sector  \\\n",
       "98        FanPlay   2020.0  Computer Games  Computer Games   \n",
       "111       FanPlay   2020.0  Computer Games  Computer Games   \n",
       "\n",
       "                                         About Company Founders  \\\n",
       "98   A real money game app specializing in trivia g...   YC W21   \n",
       "111  A real money game app specializing in trivia g...   YC W21   \n",
       "\n",
       "                        Investor    Amount     Stage  Year  \n",
       "98   Pritesh Kumar, Bharat Gupta  Upsparks  $1200000  2021  \n",
       "111  Pritesh Kumar, Bharat Gupta  Upsparks  $1200000  2021  "
      ]
     },
     "execution_count": 160,
     "metadata": {},
     "output_type": "execute_result"
    }
   ],
   "source": [
    "df21[df21['Stage']=='$1200000']"
   ]
  },
  {
   "cell_type": "code",
   "execution_count": 161,
   "metadata": {
    "tags": []
   },
   "outputs": [],
   "source": [
    "'''we will replace Upspark in Amount column with $1200000 and replace $1200000 in \n",
    "    Stage column with Seed_Stage since upsparks is a venture capital in its early stage \n",
    "    '''\n",
    "\n",
    "df21.loc[df21['Stage'] == '$1200000', 'Amount'] = '$1200000'\n",
    "df21['Stage']=df21['Stage'].str.replace('$1200000', 'Seed_Stage')"
   ]
  },
  {
   "cell_type": "code",
   "execution_count": 162,
   "metadata": {
    "tags": []
   },
   "outputs": [
    {
     "data": {
      "text/html": [
       "<div>\n",
       "<style scoped>\n",
       "    .dataframe tbody tr th:only-of-type {\n",
       "        vertical-align: middle;\n",
       "    }\n",
       "\n",
       "    .dataframe tbody tr th {\n",
       "        vertical-align: top;\n",
       "    }\n",
       "\n",
       "    .dataframe thead th {\n",
       "        text-align: right;\n",
       "    }\n",
       "</style>\n",
       "<table border=\"1\" class=\"dataframe\">\n",
       "  <thead>\n",
       "    <tr style=\"text-align: right;\">\n",
       "      <th></th>\n",
       "      <th>Company_Brand</th>\n",
       "      <th>Founded</th>\n",
       "      <th>Location</th>\n",
       "      <th>Sector</th>\n",
       "      <th>About Company</th>\n",
       "      <th>Founders</th>\n",
       "      <th>Investor</th>\n",
       "      <th>Amount</th>\n",
       "      <th>Stage</th>\n",
       "      <th>Year</th>\n",
       "    </tr>\n",
       "  </thead>\n",
       "  <tbody>\n",
       "    <tr>\n",
       "      <th>538</th>\n",
       "      <td>Little Leap</td>\n",
       "      <td>2020.0</td>\n",
       "      <td>New Delhi</td>\n",
       "      <td>EdTech</td>\n",
       "      <td>Soft Skills that make Smart Leaders</td>\n",
       "      <td>Holistic Development Programs for children in ...</td>\n",
       "      <td>Vishal Gupta</td>\n",
       "      <td>ah! Ventures</td>\n",
       "      <td>$300000</td>\n",
       "      <td>2021</td>\n",
       "    </tr>\n",
       "    <tr>\n",
       "      <th>551</th>\n",
       "      <td>BHyve</td>\n",
       "      <td>2020.0</td>\n",
       "      <td>Mumbai</td>\n",
       "      <td>Human Resources</td>\n",
       "      <td>A Future of Work Platform for diffusing Employ...</td>\n",
       "      <td>Backed by 100x.VC</td>\n",
       "      <td>Omkar Pandharkame, Ketaki Ogale</td>\n",
       "      <td>ITO Angel Network, LetsVenture</td>\n",
       "      <td>$300000</td>\n",
       "      <td>2021</td>\n",
       "    </tr>\n",
       "  </tbody>\n",
       "</table>\n",
       "</div>"
      ],
      "text/plain": [
       "    Company_Brand  Founded   Location           Sector  \\\n",
       "538   Little Leap   2020.0  New Delhi           EdTech   \n",
       "551         BHyve   2020.0     Mumbai  Human Resources   \n",
       "\n",
       "                                         About Company  \\\n",
       "538                Soft Skills that make Smart Leaders   \n",
       "551  A Future of Work Platform for diffusing Employ...   \n",
       "\n",
       "                                              Founders  \\\n",
       "538  Holistic Development Programs for children in ...   \n",
       "551                                  Backed by 100x.VC   \n",
       "\n",
       "                            Investor                          Amount    Stage  \\\n",
       "538                     Vishal Gupta                    ah! Ventures  $300000   \n",
       "551  Omkar Pandharkame, Ketaki Ogale  ITO Angel Network, LetsVenture  $300000   \n",
       "\n",
       "     Year  \n",
       "538  2021  \n",
       "551  2021  "
      ]
     },
     "execution_count": 162,
     "metadata": {},
     "output_type": "execute_result"
    }
   ],
   "source": [
    "df21[df21['Stage']=='$300000']"
   ]
  },
  {
   "cell_type": "code",
   "execution_count": 163,
   "metadata": {
    "tags": []
   },
   "outputs": [],
   "source": [
    "'''we will replace $300000 in Stage column with Seed_Stage, since ah! Ventures and \n",
    "    ITO Angel Network, LetsVenture are Angel Investor and replace ah! Ventures in Amount column with $300000\n",
    "    '''\n",
    "\n",
    "df21.loc[df21['Amount'] == 'ah! Ventures', 'Stage'] = 'Seed_Stage'\n",
    "df21['Amount']=df21['Amount'].str.replace('ah! Ventures', '$300000')\n",
    "df21.loc[df21['Stage'] == '$300000', 'Amount'] = '$300000'\n",
    "df21['Stage']=df21['Stage'].str.replace('$300000', 'Seed_Stage')"
   ]
  },
  {
   "cell_type": "raw",
   "metadata": {},
   "source": []
  },
  {
   "cell_type": "code",
   "execution_count": 164,
   "metadata": {
    "tags": []
   },
   "outputs": [
    {
     "data": {
      "text/html": [
       "<div>\n",
       "<style scoped>\n",
       "    .dataframe tbody tr th:only-of-type {\n",
       "        vertical-align: middle;\n",
       "    }\n",
       "\n",
       "    .dataframe tbody tr th {\n",
       "        vertical-align: top;\n",
       "    }\n",
       "\n",
       "    .dataframe thead th {\n",
       "        text-align: right;\n",
       "    }\n",
       "</style>\n",
       "<table border=\"1\" class=\"dataframe\">\n",
       "  <thead>\n",
       "    <tr style=\"text-align: right;\">\n",
       "      <th></th>\n",
       "      <th>Company_Brand</th>\n",
       "      <th>Founded</th>\n",
       "      <th>Location</th>\n",
       "      <th>Sector</th>\n",
       "      <th>About Company</th>\n",
       "      <th>Founders</th>\n",
       "      <th>Investor</th>\n",
       "      <th>Amount</th>\n",
       "      <th>Stage</th>\n",
       "      <th>Year</th>\n",
       "    </tr>\n",
       "  </thead>\n",
       "  <tbody>\n",
       "    <tr>\n",
       "      <th>674</th>\n",
       "      <td>MYRE Capital</td>\n",
       "      <td>2020.0</td>\n",
       "      <td>Mumbai</td>\n",
       "      <td>Commercial Real Estate</td>\n",
       "      <td>Democratising Real Estate Ownership</td>\n",
       "      <td>Own rent yielding commercial properties</td>\n",
       "      <td>Aryaman Vir</td>\n",
       "      <td>None</td>\n",
       "      <td>$6000000</td>\n",
       "      <td>2021</td>\n",
       "    </tr>\n",
       "  </tbody>\n",
       "</table>\n",
       "</div>"
      ],
      "text/plain": [
       "    Company_Brand  Founded Location                  Sector  \\\n",
       "674  MYRE Capital   2020.0   Mumbai  Commercial Real Estate   \n",
       "\n",
       "                           About Company  \\\n",
       "674  Democratising Real Estate Ownership   \n",
       "\n",
       "                                    Founders     Investor Amount     Stage  \\\n",
       "674  Own rent yielding commercial properties  Aryaman Vir   None  $6000000   \n",
       "\n",
       "     Year  \n",
       "674  2021  "
      ]
     },
     "execution_count": 164,
     "metadata": {},
     "output_type": "execute_result"
    }
   ],
   "source": [
    "df21[df21['Stage']=='$6000000']"
   ]
  },
  {
   "cell_type": "code",
   "execution_count": 165,
   "metadata": {
    "tags": []
   },
   "outputs": [],
   "source": [
    "#we will replace $6000000 in Stage column with None and replace None in Amount column with $6000000\n",
    "\n",
    "df21.loc[df21['Stage'] == '$6000000', 'Amount'] = '$6000000'\n",
    "df21['Stage']=df21['Stage'].str.replace('$6000000', 'Seed_Stage')"
   ]
  },
  {
   "cell_type": "code",
   "execution_count": 166,
   "metadata": {
    "tags": []
   },
   "outputs": [
    {
     "data": {
      "text/html": [
       "<div>\n",
       "<style scoped>\n",
       "    .dataframe tbody tr th:only-of-type {\n",
       "        vertical-align: middle;\n",
       "    }\n",
       "\n",
       "    .dataframe tbody tr th {\n",
       "        vertical-align: top;\n",
       "    }\n",
       "\n",
       "    .dataframe thead th {\n",
       "        text-align: right;\n",
       "    }\n",
       "</style>\n",
       "<table border=\"1\" class=\"dataframe\">\n",
       "  <thead>\n",
       "    <tr style=\"text-align: right;\">\n",
       "      <th></th>\n",
       "      <th>Company_Brand</th>\n",
       "      <th>Founded</th>\n",
       "      <th>Location</th>\n",
       "      <th>Sector</th>\n",
       "      <th>About Company</th>\n",
       "      <th>Founders</th>\n",
       "      <th>Investor</th>\n",
       "      <th>Amount</th>\n",
       "      <th>Stage</th>\n",
       "      <th>Year</th>\n",
       "    </tr>\n",
       "  </thead>\n",
       "  <tbody>\n",
       "    <tr>\n",
       "      <th>677</th>\n",
       "      <td>Saarthi Pedagogy</td>\n",
       "      <td>2015.0</td>\n",
       "      <td>Ahmadabad</td>\n",
       "      <td>EdTech</td>\n",
       "      <td>India's fastest growing Pedagogy company, serv...</td>\n",
       "      <td>Pedagogy</td>\n",
       "      <td>Sushil Agarwal</td>\n",
       "      <td>JITO Angel Network, LetsVenture</td>\n",
       "      <td>$1000000</td>\n",
       "      <td>2021</td>\n",
       "    </tr>\n",
       "  </tbody>\n",
       "</table>\n",
       "</div>"
      ],
      "text/plain": [
       "        Company_Brand  Founded   Location  Sector  \\\n",
       "677  Saarthi Pedagogy   2015.0  Ahmadabad  EdTech   \n",
       "\n",
       "                                         About Company  Founders  \\\n",
       "677  India's fastest growing Pedagogy company, serv...  Pedagogy   \n",
       "\n",
       "           Investor                           Amount     Stage  Year  \n",
       "677  Sushil Agarwal  JITO Angel Network, LetsVenture  $1000000  2021  "
      ]
     },
     "execution_count": 166,
     "metadata": {},
     "output_type": "execute_result"
    }
   ],
   "source": [
    "df21[df21['Stage']=='$1000000']"
   ]
  },
  {
   "cell_type": "code",
   "execution_count": 167,
   "metadata": {
    "tags": []
   },
   "outputs": [],
   "source": [
    "'''we will replace JITO Angel Network, LetsVenture in Stage column with Seed_Stage \n",
    "    and replace JITO Angel Network, LetsVenture in Amount column with $1000000\n",
    "    '''\n",
    "\n",
    "df21.loc[df21['Stage'] == '$1000000', 'Amount'] = '$1000000'\n",
    "df21['Stage']=df21['Stage'].str.replace('$1000000', 'Seed_Stage')"
   ]
  },
  {
   "cell_type": "code",
   "execution_count": 168,
   "metadata": {
    "tags": []
   },
   "outputs": [
    {
     "data": {
      "text/plain": [
       "array(['Pre-series A', None, 'Series D', 'Series C', 'Seed', 'Series B',\n",
       "       'Series E', 'Pre-seed', 'Series A', 'Pre-series B', 'Debt',\n",
       "       'Seed_Stage', 'Bridge', 'Seed+', 'Series F2', 'Series A+',\n",
       "       'Series G', 'Series F', 'Series H', 'Series B3', 'PE', 'Series F1',\n",
       "       'Pre-series A1', 'Early seed', 'Series D1', 'Seies A',\n",
       "       'Pre-series', 'Series A2', 'Series I'], dtype=object)"
      ]
     },
     "execution_count": 168,
     "metadata": {},
     "output_type": "execute_result"
    }
   ],
   "source": [
    "df21['Stage'].unique()"
   ]
  },
  {
   "cell_type": "raw",
   "metadata": {},
   "source": []
  },
  {
   "cell_type": "code",
   "execution_count": 169,
   "metadata": {
    "tags": []
   },
   "outputs": [],
   "source": [
    " \n",
    "df21['Stage']=df21['Stage'].str.replace(r'\\b' + 'Pre-series A' + r'\\b', 'Seed_Stage', regex=True) #Pre-series A implies before Series A, therefore replacing with seed_Stage\n",
    "df21['Stage']=df21['Stage'].str.replace(r'\\b' + 'Series D' + r'\\b', 'Series C', regex=True)\n",
    "df21['Stage']=df21['Stage'].str.replace(r'\\b' + 'Seed' + r'\\b', 'Seed_Stage', regex=True)\n",
    "df21['Stage']=df21['Stage'].str.replace(r'\\b' + 'Series E' + r'\\b', 'Series C', regex=True)\n",
    "df21['Stage']=df21['Stage'].str.replace(r'\\b' + 'Pre-seed' + r'\\b', 'Seed_Stage', regex=True)\n",
    "df21['Stage']=df21['Stage'].str.replace(r'\\b' + 'Pre-series B' + r'\\b', 'Series A', regex=True)\n",
    "\n",
    " "
   ]
  },
  {
   "cell_type": "code",
   "execution_count": 170,
   "metadata": {
    "tags": []
   },
   "outputs": [],
   "source": [
    "df21['Stage']=df21['Stage'].str.replace(r'\\b' + 'Bridge' + r'\\b', 'Bridge Rounds', regex=True)\n",
    "df21['Stage']=df21['Stage'].str.replace(r'\\b'+ 'Seed+'+ r'\\b', 'Seed_Stage', regex=True)\n",
    "df21['Stage']=df21['Stage'].str.replace(r'\\b'+ 'Series F2'+ r'\\b', 'Series C', regex=True)\n",
    "df21['Stage']=df21['Stage'].str.replace(r'\\b'+ 'Series A+'+ r'\\b', 'Series B', regex=True)\n",
    "df21['Stage']=df21['Stage'].str.replace(r'\\b'+ 'Series G'+ r'\\b', 'Series C', regex=True)\n",
    "df21['Stage']=df21['Stage'].str.replace(r'\\b'+ 'Series F'+ r'\\b', 'Series C', regex=True)\n",
    "df21['Stage']=df21['Stage'].str.replace(r'\\b' + 'Debt' + r'\\b', 'Bridge Rounds', regex=True)"
   ]
  },
  {
   "cell_type": "code",
   "execution_count": 171,
   "metadata": {
    "tags": []
   },
   "outputs": [],
   "source": [
    "df21['Stage']=df21['Stage'].str.replace(r'\\b' + 'Series H' + r'\\b', 'Series C', regex=True)\n",
    "df21['Stage']=df21['Stage'].str.replace(r'\\b' + 'Series B3' + r'\\b', 'Series B', regex=True)\n",
    "df21['Stage']=df21['Stage'].str.replace(r'\\b' + 'PE' + r'\\b', 'Series B', regex=True)\n",
    "df21['Stage']=df21['Stage'].str.replace(r'\\b' + 'Series F1' + r'\\b', 'Series C', regex=True)"
   ]
  },
  {
   "cell_type": "code",
   "execution_count": 172,
   "metadata": {
    "tags": []
   },
   "outputs": [],
   "source": [
    "df21['Stage']=df21['Stage'].str.replace(r'\\b' + 'Pre-series A1' + r'\\b', 'Series A', regex=True)\n",
    "df21['Stage']=df21['Stage'].str.replace(r'\\b'+ 'Early seed'+ r'\\b', 'Seed_Stage', regex=True)\n",
    "df21['Stage']=df21['Stage'].str.replace(r'\\b'+ 'Series D1'+ r'\\b', 'Series C', regex=True)\n",
    "df21['Stage']=df21['Stage'].str.replace(r'\\b'+ 'Pre-series'+ r'\\b', 'Seed_Stage', regex=True)\n",
    "df21['Stage']=df21['Stage'].str.replace(r'\\b'+ 'Series A2'+ r'\\b', 'Series A', regex=True)\n",
    "df21['Stage']=df21['Stage'].str.replace(r'\\b'+ 'Seies A'+ r'\\b', 'Series A', regex=True)\n",
    "df21['Stage']=df21['Stage'].str.replace(r'\\b'+ 'Series I'+ r'\\b', 'Series C', regex=True)\n"
   ]
  },
  {
   "cell_type": "code",
   "execution_count": 173,
   "metadata": {
    "tags": []
   },
   "outputs": [],
   "source": [
    "df21['Stage']=df21['Stage'].str.strip('+')"
   ]
  },
  {
   "cell_type": "code",
   "execution_count": 174,
   "metadata": {
    "tags": []
   },
   "outputs": [
    {
     "data": {
      "text/plain": [
       "array(['Seed_Stage', None, 'Series C', 'Series B', 'Bridge Rounds',\n",
       "       'Series A'], dtype=object)"
      ]
     },
     "execution_count": 174,
     "metadata": {},
     "output_type": "execute_result"
    }
   ],
   "source": [
    "df21['Stage'].unique()"
   ]
  },
  {
   "cell_type": "code",
   "execution_count": 175,
   "metadata": {
    "tags": []
   },
   "outputs": [
    {
     "data": {
      "text/plain": [
       "428"
      ]
     },
     "execution_count": 175,
     "metadata": {},
     "output_type": "execute_result"
    }
   ],
   "source": [
    "df21['Stage'].isna().sum()"
   ]
  },
  {
   "cell_type": "code",
   "execution_count": 176,
   "metadata": {},
   "outputs": [
    {
     "data": {
      "text/plain": [
       "count            781\n",
       "unique             5\n",
       "top       Seed_Stage\n",
       "freq             460\n",
       "Name: Stage, dtype: object"
      ]
     },
     "execution_count": 176,
     "metadata": {},
     "output_type": "execute_result"
    }
   ],
   "source": [
    "df21['Stage'].describe()"
   ]
  },
  {
   "cell_type": "code",
   "execution_count": 177,
   "metadata": {},
   "outputs": [],
   "source": [
    "df21['Stage']=df21['Stage'].fillna('Seed_Stage')"
   ]
  },
  {
   "cell_type": "code",
   "execution_count": 178,
   "metadata": {
    "tags": []
   },
   "outputs": [],
   "source": [
    "#df21['Founders'] = df21['Founders'].apply(lambda x: x.lower() if isinstance(x, str) else x)\n",
    "\n",
    "#print(sorted(map(str, df21['Founders'].unique())))\n"
   ]
  },
  {
   "cell_type": "code",
   "execution_count": 179,
   "metadata": {
    "tags": []
   },
   "outputs": [],
   "source": [
    "#About Company column\n",
    "\n",
    "df21['About Company']=df21['About Company'].str.strip('#')\n",
    "\n",
    "#print(sorted(map(str, df21['About Company'].unique())))\n"
   ]
  },
  {
   "cell_type": "code",
   "execution_count": 180,
   "metadata": {
    "tags": []
   },
   "outputs": [
    {
     "name": "stdout",
     "output_type": "stream",
     "text": [
      "['advertisement', 'advisory firm', 'aeorspace', 'agritech', 'ai chatbot', 'ai company', 'ai startup', 'analytics', 'apparel & fashion', 'ar startup', 'arts & crafts', 'augmented reality', 'automation', 'automobile', 'automotive', 'aviation', 'aviation & aerospace', 'b2b', 'b2b e-commerce', 'b2b ecommerce', 'b2b manufacturing', 'b2b marketplace', 'b2b service', 'b2b startup', 'b2b travel', 'banking', 'battery', 'beauty products', 'beverages', 'bike rental', 'biotechnology', 'blockchain', 'blockchain startup', 'blogging', 'business supplies & equipment', 'cannabis startup', 'capital markets', 'celebrity engagement', 'cleantech', 'clothing', 'cloud kitchen', 'co-working', 'commerce', 'commercial real estate', 'community', 'community platform', 'company-as-a-service', 'computer & network security', 'computer games', 'computer software', 'construction', 'consulting', 'consumer electronics', 'consumer goods', 'consumer service', 'consumer services', 'consumer software', 'content commerce', 'content creation', 'content publishing', 'cosmetics', 'crm', 'crypto', 'cryptocurrency', 'cultural', 'd2c', 'd2c business', 'd2c fashion', 'd2c jewellery', 'd2c startup', 'dating', 'deep tech', 'deeptech', 'defense & space', 'delivery service', 'design', 'digital mortgage', 'digital platform', 'drone', 'e-commerce', 'e-learning', 'edtech', 'education', 'education management', 'electronics', 'entertainment', 'environmental service', 'environmental services', 'equity management', 'ev', 'ev startup', 'eyewear', 'facilities services', 'fantasy sports', 'farming', 'fashion', 'fashion & lifestyle', 'fashion and lifestyle', 'femtech', 'finance', 'financial services', 'fintech', 'fishery', 'fitness', 'food', 'food & beverages', 'food and beverages', 'food delivery', 'food industry', 'food production', 'foootwear', 'furniture', 'furniture rental', 'gaming', 'hauz khas', 'healtcare', 'health', 'health care', 'health, wellness & fitness', 'healthcare', 'healthtech', 'heathcare', 'heathtech', 'helathcare', 'higher education', 'home decor', 'home services', 'hospital & health care', 'hospitality', 'housing marketplace', 'hr tech', 'hrtech', 'human resources', 'industrial automation', 'information services', 'information technology', 'information technology & services', 'innovation management', 'insurance', 'insuretech', 'interior design', 'internet', 'investment banking', 'investment management', 'iot', 'iot platform', 'it', 'it company', 'it startup', 'job discovery platform', 'legal services', 'legaltech', 'lifestyle', 'location analytics', 'logistics', 'logistics & supply chain', 'management consulting', 'manchester, greater manchester', 'manufacturing startup', 'maritime', 'marketing', 'marketing & advertising', 'martech', 'matrimony', 'mechanical & industrial engineering', 'mechanical or industrial engineering', 'media', 'merchandise', 'milk startup', 'mlops platform', 'mobile games', 'mobility', \"moeving is india's only electric mobility focused technology platform with a vision to accelerate ev adoption in india.\", 'music', 'nanotechnology', 'networking', 'nft', 'nft marketplace', 'nutrition', 'oil & energy', 'oil and energy', 'online media', 'online storytelling', 'ott', 'personal care', 'pet care', 'podcast', 'pollution control equiptment', 'primary business is development and manufacturing of novel healthcare products in effervescent forms using imported propriety ingredients.', 'product studio', 'professional training & coaching', 'real estate', 'recruitment', 'renewable energy', 'renewables & environment', 'rental', 'rental space', 'retail', 'robotics', 'saas', 'saas startup', 'sales and distribution', 'skill development', 'sochcast is an audio experiences company that give the listener and creators an immersive audio experience', 'social audio', 'social commerce', 'social community', 'social media', 'social network', 'social platform', 'software', 'software company', 'software startup', 'solar', 'spacetech', 'spiritual', 'sports', 'sports startup', 'sportstech', 'staffing & recruiting', 'supply chain platform', 'taas startup', 'tech startup', 'telecommuncation', 'telecommunications', 'textiles', 'tobacco', 'tourism', 'trading platform', 'translation & localization', 'transportation', 'vehicle repair startup', 'venture capital', 'venture capital & private equity', 'venture capitalist', 'veterinary', 'video communication', 'water purification', 'wholesale', 'wine & spirits']\n"
     ]
    }
   ],
   "source": [
    "#Sector Column\n",
    "\n",
    "df21['Sector'] = df21['Sector'].apply(lambda x:x.lower() if isinstance(x,str) else x)\n",
    "print(sorted(map(str, df21['Sector'].unique())))\n",
    "#sector to correspond other tables "
   ]
  },
  {
   "cell_type": "code",
   "execution_count": 181,
   "metadata": {},
   "outputs": [],
   "source": [
    "# A function to rationalise the sector column\n",
    "\n",
    "df21['Main_Sector']=df21['Sector'].apply(lambda x: 'Automotive' if 'automobile' in x.lower() or 'electricv' in x.lower() or 'automotive' in x.lower() \\\n",
    "    or 'auto-tech' in x.lower() or 'battery' in x.lower() or 'electric vehicle' in x.lower() else  \n",
    "    \n",
    "    'Education' if 'edtech' in x.lower() or 'education' in x.lower() or 'edttech' in x.lower() or 'school' in x.lower() \n",
    "    or 'e-learning' in x.lower() or 'career planning' in x.lower() else \\\n",
    "    \n",
    "    'Food & Agric' if 'agri' in x.lower() or 'food' in x.lower() or 'beverage' in x.lower() or 'dairy' in x.lower() or 'nutrition' in x.lower() \\\n",
    "    or 'soil-tech' in x.lower() or 'farming' in x.lower() or 'catering' in x.lower() else \\\n",
    "    \n",
    "    'Technology' if 'technology' in x.lower() or 'logitech' in x.lower() or 'software' in x.lower() \\\n",
    "    or 'iot' in x.lower() or 'saas' in x.lower() or 'cloud' in x.lower() or 'api platform' in x.lower() or 'infotech' in x.lower() \\\n",
    "    or 'hrtech' in x.lower() or 'safety tech' in x.lower() or 'insuretech' in x.lower() or 'spacetech' in x.lower() \\\n",
    "    or 'legaltech' in x.lower() or 'infratech' in x.lower() or 'cybersecurity' in x.lower() or 'virtual auditing startup' in x.lower() \\\n",
    "    or 'internet' in x.lower() or 'enterprise resource planning (erp)' in x.lower() or 'artificial intelligence' in x.lower() \\\n",
    "    or 'deep' in x.lower() or 'defense tech' in x.lower() or 'data' in x.lower() or 'augr' in x.lower() or 'virtr' in x.lower() or 'automation' in x.lower() \\\n",
    "    or 'machine learning' in x.lower() or 'photonics' in x.lower() or 'robotics' in x.lower() or 'autonomous' in x.lower() \\\n",
    "    or 'telecommunication' in x.lower() or 'mobile' in x.lower() else \\\n",
    "    \n",
    "    \n",
    "    'Manufacturing' if 'aero company' in x.lower() or 'transport' in x.lower() or 'logistics' in x.lower() or 'packaging solution' in x.lower() or \\\n",
    "    'distribution' in x.lower() or 'supply_chain' in x.lower() or 'warehouse' in x.lower() else \\\n",
    "    \n",
    "    'Travel_Hosp&Fashion' if 'travel' in x.lower() or 'accomodation' in x.lower() or 'housing' in x.lower() or 'micro-mobiity' in x.lower() or \\\n",
    "    'co-living' in x.lower() or 'co-working' in x.lower() or 'coworking' in x.lower() \\\n",
    "    or 'hospitality' in x.lower() or 'luxury' in x.lower() or 'rental' in x.lower() or 'wl & rac' in x.lower() or 'tourism' in x.lower() \\\n",
    "    or 'cosmetic' in x.lower() or 'jewel' in x.lower() or 'beauty' in x.lower() or 'fashion' in x.lower() \\\n",
    "    or 'skincare' in x.lower() or 'social commerce' in x.lower() else\\\n",
    "    \n",
    "    \n",
    "    'Healthcare' if 'health' in x.lower() or 'healthtech' in x.lower() or 'yoga' in x.lower() or 'bio' in x.lower() or 'eye' in x.lower()  \\\n",
    "    or 'fertility' in x.lower() or 'fitness' in x.lower() or 'hygiene' in x.lower() or 'med tech' in x.lower() or 'mental' in x.lower() \\\n",
    "    or 'sanitation' in x.lower() or 'laboratory' in x.lower() or 'pharma' in x.lower() or 'medical' in x.lower() \\\n",
    "    or 'wellness' in x.lower() or 'hospital' in x.lower() or 'veterinary' in x.lower() or 'dietary supplements' in x.lower() \\\n",
    "    or 'child care' in x.lower() or 'medicine' in x.lower() or 'dental' in x.lower() else \\\n",
    "    \n",
    "    'Fintech' if 'fintech' in x.lower() or 'blockchain' in x.lower() or 'crypto' in x.lower() or 'mobile payments' in x.lower() else \\\n",
    "    \n",
    "    'Banking & Finance' if 'bank' in x.lower() or 'fund' in x.lower() or 'escrow' in x.lower() or 'finance' in x.lower() or 'insurance' in x.lower() \\\n",
    "    or 'investment' in x.lower() or 'online credit' in x.lower() or 'venture capital' in x.lower() or 'taxation' in x.lower() \\\n",
    "    or 'accounting' in x.lower() or 'credit' in x.lower() or 'wealth' in x.lower() else \\\n",
    "    \n",
    "        \n",
    "    'Construction' if 'construction' in x.lower() or 'home design' in x.lower() or 'decor' in x.lower() or 'design' in x.lower() \\\n",
    "    or 'real estate' in x.lower() or 'proptech' in x.lower() or 'electricity' in x.lower() or 'solar' in x.lower() \\\n",
    "    or 'renewable power' in x.lower() or r'energy' in x.lower() else \\\n",
    "    \n",
    "    \n",
    "    'Service' if 'consultancy' in x.lower() or 'crowdsourcing' in x.lower() or r'services' in x.lower() or 'legal' in x.lower() \\\n",
    "    or 'human res' in x.lower() or 'recruitment' in x.lower() or 'market research' in x.lower() or 'consulting' in x.lower() \\\n",
    "    or 'creative agency' in x.lower() or 'business development' in x.lower() or 'customer service' in x.lower() \\\n",
    "    or 'delivery' in x.lower() or 'cooking' in x.lower() else \\\n",
    "    \n",
    "    \n",
    "    'Retail' if 'consumer' in x.lower() or 'fmcg' in x.lower() or 'marketing' in x.lower() or 'retail' in x.lower() \\\n",
    "    or 'sales' in x.lower() or 'personal care' in x.lower() or 'advertising' in x.lower() or 'children' in x.lower() or\\\n",
    "    'ad-tech' in x.lower() or 'b2b' in x.lower() or 'ecommerce' in x.lower() \\\n",
    "    or 'e-commerce' in x.lower() or 'e-market'in x.lower() or 'social media' in x.lower() or 'content' in x.lower() or 'digital' in x.lower() \\\n",
    "    or 'e store' in x.lower() or 'e tailor' in x.lower() or 'e-connect' in x.lower() or 'e-mobility' in x.lower() or 'e-tail' in x.lower() \\\n",
    "    or 'emobility' in x.lower() or 'estore' in x.lower() or 'job portal'in x.lower() or 'trading' in x.lower() \\\n",
    "    or 'marketplace' in x.lower() or 'classifieds' in x.lower() or 'commercial' in x.lower() or 'car trade' in x.lower() else \\\n",
    "    \n",
    "    \n",
    "    \n",
    "    \n",
    "    'Media & Entertainment' if 'media' in x.lower() or 'video' in x.lower() or 'publication' in x.lower() or 'dating app' in x.lower() \\\n",
    "    or 'entertain' in x.lower() or 'news' in x.lower() or 'broadcasting' in x.lower() or 'communities' in x.lower() \\\n",
    "    or 'events' in x.lower() or 'audio' in x.lower() or 'streaming' in x.lower() or 'file sharing' in x.lower() \\\n",
    "    or 'music' in x.lower() or 'dating' in x.lower() or 'wedding' in x.lower() or 'sport' in x.lower() or 'game' in x.lower() \\\n",
    "    or 'gaming' in x.lower() or 'basketball' in x.lower() else 'Other')"
   ]
  },
  {
   "cell_type": "code",
   "execution_count": 182,
   "metadata": {},
   "outputs": [
    {
     "data": {
      "text/html": [
       "<div>\n",
       "<style scoped>\n",
       "    .dataframe tbody tr th:only-of-type {\n",
       "        vertical-align: middle;\n",
       "    }\n",
       "\n",
       "    .dataframe tbody tr th {\n",
       "        vertical-align: top;\n",
       "    }\n",
       "\n",
       "    .dataframe thead th {\n",
       "        text-align: right;\n",
       "    }\n",
       "</style>\n",
       "<table border=\"1\" class=\"dataframe\">\n",
       "  <thead>\n",
       "    <tr style=\"text-align: right;\">\n",
       "      <th></th>\n",
       "      <th>Company_Brand</th>\n",
       "      <th>Founded</th>\n",
       "      <th>Location</th>\n",
       "      <th>Sector</th>\n",
       "      <th>About Company</th>\n",
       "      <th>Founders</th>\n",
       "      <th>Investor</th>\n",
       "      <th>Amount</th>\n",
       "      <th>Stage</th>\n",
       "      <th>Year</th>\n",
       "      <th>Main_Sector</th>\n",
       "    </tr>\n",
       "  </thead>\n",
       "  <tbody>\n",
       "    <tr>\n",
       "      <th>43</th>\n",
       "      <td>LimeChat</td>\n",
       "      <td>2020.0</td>\n",
       "      <td>Faridabad, Haryana</td>\n",
       "      <td>ai chatbot</td>\n",
       "      <td>Limechat provides a personalised shopping expe...</td>\n",
       "      <td>Aniket Bajpai, Nikhil Gupta</td>\n",
       "      <td>Stellaris Venture Partners, Ramakant Sharma</td>\n",
       "      <td>$7,500,000</td>\n",
       "      <td>Seed_Stage</td>\n",
       "      <td>2021</td>\n",
       "      <td>Other</td>\n",
       "    </tr>\n",
       "    <tr>\n",
       "      <th>762</th>\n",
       "      <td>Livve Homes</td>\n",
       "      <td>2017.0</td>\n",
       "      <td>Bangalore</td>\n",
       "      <td>rental space</td>\n",
       "      <td>India's homegrown online portal, championing t...</td>\n",
       "      <td>Maya Lakshman</td>\n",
       "      <td>Angel investors</td>\n",
       "      <td>$5,000,000</td>\n",
       "      <td>Seed_Stage</td>\n",
       "      <td>2021</td>\n",
       "      <td>Travel_Hosp&amp;Fashion</td>\n",
       "    </tr>\n",
       "    <tr>\n",
       "      <th>49</th>\n",
       "      <td>CredFlow</td>\n",
       "      <td>2020.0</td>\n",
       "      <td>New Delhi</td>\n",
       "      <td>fintech</td>\n",
       "      <td>CredFlow provides financial solutions to autom...</td>\n",
       "      <td>Kunal Aggarwal</td>\n",
       "      <td>Stellaris Venture Partners, Omidyar Network In...</td>\n",
       "      <td>$2,000,000</td>\n",
       "      <td>Seed_Stage</td>\n",
       "      <td>2021</td>\n",
       "      <td>Fintech</td>\n",
       "    </tr>\n",
       "    <tr>\n",
       "      <th>1011</th>\n",
       "      <td>MarketWolf</td>\n",
       "      <td>2017.0</td>\n",
       "      <td>Mumbai</td>\n",
       "      <td>financial services</td>\n",
       "      <td>MarketWolf provides everyone an opportunity to...</td>\n",
       "      <td>Vishesh Dhingra, Thomas Joseph</td>\n",
       "      <td>Anil Thadani, Ashutosh Sinha, Roy van Leeuwen</td>\n",
       "      <td>$5500000</td>\n",
       "      <td>Seed_Stage</td>\n",
       "      <td>2021</td>\n",
       "      <td>Service</td>\n",
       "    </tr>\n",
       "    <tr>\n",
       "      <th>736</th>\n",
       "      <td>BYJU'S</td>\n",
       "      <td>2011.0</td>\n",
       "      <td>Bangalore</td>\n",
       "      <td>edtech</td>\n",
       "      <td>BYJU'S is an educational technology company th...</td>\n",
       "      <td>Byju Raveendran, Divya Gokulnath</td>\n",
       "      <td>BlackRock, Owl Ventures</td>\n",
       "      <td>$460,000,000</td>\n",
       "      <td>Series C</td>\n",
       "      <td>2021</td>\n",
       "      <td>Education</td>\n",
       "    </tr>\n",
       "  </tbody>\n",
       "</table>\n",
       "</div>"
      ],
      "text/plain": [
       "     Company_Brand  Founded            Location              Sector  \\\n",
       "43        LimeChat   2020.0  Faridabad, Haryana          ai chatbot   \n",
       "762    Livve Homes   2017.0           Bangalore        rental space   \n",
       "49        CredFlow   2020.0           New Delhi             fintech   \n",
       "1011    MarketWolf   2017.0              Mumbai  financial services   \n",
       "736         BYJU'S   2011.0           Bangalore              edtech   \n",
       "\n",
       "                                          About Company  \\\n",
       "43    Limechat provides a personalised shopping expe...   \n",
       "762   India's homegrown online portal, championing t...   \n",
       "49    CredFlow provides financial solutions to autom...   \n",
       "1011  MarketWolf provides everyone an opportunity to...   \n",
       "736   BYJU'S is an educational technology company th...   \n",
       "\n",
       "                              Founders  \\\n",
       "43         Aniket Bajpai, Nikhil Gupta   \n",
       "762                      Maya Lakshman   \n",
       "49                      Kunal Aggarwal   \n",
       "1011    Vishesh Dhingra, Thomas Joseph   \n",
       "736   Byju Raveendran, Divya Gokulnath   \n",
       "\n",
       "                                               Investor        Amount  \\\n",
       "43          Stellaris Venture Partners, Ramakant Sharma    $7,500,000   \n",
       "762                                     Angel investors    $5,000,000   \n",
       "49    Stellaris Venture Partners, Omidyar Network In...    $2,000,000   \n",
       "1011      Anil Thadani, Ashutosh Sinha, Roy van Leeuwen      $5500000   \n",
       "736                             BlackRock, Owl Ventures  $460,000,000   \n",
       "\n",
       "           Stage  Year          Main_Sector  \n",
       "43    Seed_Stage  2021                Other  \n",
       "762   Seed_Stage  2021  Travel_Hosp&Fashion  \n",
       "49    Seed_Stage  2021              Fintech  \n",
       "1011  Seed_Stage  2021              Service  \n",
       "736     Series C  2021            Education  "
      ]
     },
     "execution_count": 182,
     "metadata": {},
     "output_type": "execute_result"
    }
   ],
   "source": [
    "df21.sample(5)\n",
    "\n",
    "#df21[df21['Main_Sector']=='Other']"
   ]
  },
  {
   "cell_type": "code",
   "execution_count": 183,
   "metadata": {},
   "outputs": [
    {
     "data": {
      "text/plain": [
       "Main_Sector\n",
       "Other                    161\n",
       "Technology               153\n",
       "Education                133\n",
       "Fintech                  131\n",
       "Retail                   115\n",
       "Healthcare               114\n",
       "Service                   91\n",
       "Food & Agric              72\n",
       "Media & Entertainment     61\n",
       "Travel_Hosp&Fashion       53\n",
       "Manufacturing             39\n",
       "Automotive                35\n",
       "Construction              30\n",
       "Banking & Finance         21\n",
       "Name: count, dtype: int64"
      ]
     },
     "execution_count": 183,
     "metadata": {},
     "output_type": "execute_result"
    }
   ],
   "source": [
    "df21['Main_Sector'].value_counts()"
   ]
  },
  {
   "cell_type": "code",
   "execution_count": 184,
   "metadata": {
    "tags": []
   },
   "outputs": [],
   "source": [
    "#location column\n",
    "#print(df21['Location'].unique())\n",
    " \n",
    "value_map_location = {\n",
    "    'Pharmaceuticals\\t#REF!': 'Pharmaceuticals',\n",
    "    'Online Media\\t#REF!': 'Online Media',\n",
    "    'Gurugram\\t#REF!': 'Gurugram'\n",
    "    \n",
    "}\n",
    "#observation on pharmaceuticals and Information Technology $ Services\n"
   ]
  },
  {
   "cell_type": "code",
   "execution_count": 185,
   "metadata": {
    "tags": []
   },
   "outputs": [
    {
     "name": "stdout",
     "output_type": "stream",
     "text": [
      "['Bangalore' 'Mumbai' 'Gurugram' 'New Delhi' 'Hyderabad' 'Jaipur'\n",
      " 'Ahmadabad' 'Chennai' None 'Small Towns, Andhra Pradesh' 'Goa'\n",
      " 'Rajsamand' 'Ranchi' 'Faridabad, Haryana' 'Gujarat' 'Pune' 'Thane'\n",
      " 'Computer Games' 'Cochin' 'Noida' 'Chandigarh' 'Gurgaon' 'Vadodara'\n",
      " 'hauz khas' 'Pharmaceuticals' 'Kolkata' 'Ahmedabad' 'Mohali' 'Haryana'\n",
      " 'Indore' 'Powai' 'Ghaziabad' 'Nagpur' 'West Bengal' 'Patna' 'Samsitpur'\n",
      " 'Lucknow' 'Telangana' 'Silvassa' 'Thiruvananthapuram' 'Faridabad'\n",
      " 'Roorkee' 'Ambernath' 'Panchkula' 'Surat' 'Coimbatore' 'Andheri'\n",
      " 'Mangalore' 'Telugana' 'Bhubaneswar' 'Kottayam' 'Beijing' 'Panaji'\n",
      " 'Satara' 'Orissia' 'Jodhpur' 'New York' 'Santra' 'Mountain View, CA'\n",
      " 'Trivandrum' 'Jharkhand' 'Kanpur' 'Bhilwara' 'Guwahati' 'Online Media'\n",
      " 'Kochi' 'London' 'Information Technology & Services' 'The Nilgiris'\n",
      " 'Gandhinagar']\n"
     ]
    }
   ],
   "source": [
    "\n",
    "# Use the map function to replace values\n",
    "df21['Location'] = df21['Location'].map(value_map_location).fillna(df21['Location'])\n",
    "print(df21['Location'].unique())\n",
    "#print(df21[(df21['Location'] == 'Pharmaceuticals') | (df21['Location'] == 'Information Technology & Services')])\n"
   ]
  },
  {
   "cell_type": "code",
   "execution_count": 186,
   "metadata": {
    "tags": []
   },
   "outputs": [],
   "source": [
    "df21.loc[df21['Location'] == 'Pharmaceuticals', 'Sector'] = 'Pharmaceuticals'\n",
    "df21.loc[df21['Location'] == 'Information Technology & Services', 'Sector'] = 'Information Technology & Services'\n",
    "\n",
    "df21.iloc[242, df21.columns.get_loc('About Company')] = 'Primary Business is Development and Manufacturing of Novel Healthcare Products in Effervescent forms using imported propriety ingredients.'\n",
    "df21.iloc[256, df21.columns.get_loc('About Company')] = 'Primary Business is Development and Manufacturing of Novel Healthcare Products in Effervescent forms using imported propriety ingredients.'\n",
    "\n",
    "df21.iloc[242, df21.columns.get_loc('Founders')] = 'Varun Khanna'\n",
    "df21.iloc[256, df21.columns.get_loc('Founders')] = 'Varun Khanna'\n",
    "\n",
    "df21.iloc[242, df21.columns.get_loc('Investor')] = 'morgan stanley private equity asia'\n",
    "df21.iloc[256, df21.columns.get_loc('Investor')] = 'morgan stanley private equity asia'\n",
    "\n",
    "\n",
    "df21.loc[df21['Location'] == 'Pharmaceuticals', 'Location'] = 'NaN'\n",
    "df21.loc[df21['Location'] == 'Information Technology & Services', 'Location'] = 'Manchester, greater manchester'\n",
    "\n",
    "df21.iloc[242, df21.columns.get_loc('Amount')] = 22000000\n",
    "df21.iloc[256, df21.columns.get_loc('Amount')] = 22000000\n"
   ]
  },
  {
   "cell_type": "raw",
   "metadata": {},
   "source": []
  },
  {
   "cell_type": "code",
   "execution_count": 187,
   "metadata": {
    "tags": []
   },
   "outputs": [],
   "source": [
    "df21[(df21['Sector'] == 'Pharmaceuticals') | (df21['Sector'] == 'Information Technology & Services')]\n",
    "df21.iloc[1100, df21.columns.get_loc('Sector')] = 'Online Media'\n"
   ]
  },
  {
   "cell_type": "code",
   "execution_count": 188,
   "metadata": {
    "tags": []
   },
   "outputs": [
    {
     "data": {
      "text/html": [
       "<div>\n",
       "<style scoped>\n",
       "    .dataframe tbody tr th:only-of-type {\n",
       "        vertical-align: middle;\n",
       "    }\n",
       "\n",
       "    .dataframe tbody tr th {\n",
       "        vertical-align: top;\n",
       "    }\n",
       "\n",
       "    .dataframe thead th {\n",
       "        text-align: right;\n",
       "    }\n",
       "</style>\n",
       "<table border=\"1\" class=\"dataframe\">\n",
       "  <thead>\n",
       "    <tr style=\"text-align: right;\">\n",
       "      <th></th>\n",
       "      <th>Company_Brand</th>\n",
       "      <th>Founded</th>\n",
       "      <th>Location</th>\n",
       "      <th>Sector</th>\n",
       "      <th>About Company</th>\n",
       "      <th>Founders</th>\n",
       "      <th>Investor</th>\n",
       "      <th>Amount</th>\n",
       "      <th>Stage</th>\n",
       "      <th>Year</th>\n",
       "      <th>Main_Sector</th>\n",
       "    </tr>\n",
       "  </thead>\n",
       "  <tbody>\n",
       "    <tr>\n",
       "      <th>242</th>\n",
       "      <td>Fullife Healthcare</td>\n",
       "      <td>2009.0</td>\n",
       "      <td>NaN</td>\n",
       "      <td>Pharmaceuticals</td>\n",
       "      <td>Primary Business is Development and Manufactur...</td>\n",
       "      <td>Varun Khanna</td>\n",
       "      <td>morgan stanley private equity asia</td>\n",
       "      <td>22000000</td>\n",
       "      <td>Seed_Stage</td>\n",
       "      <td>2021</td>\n",
       "      <td>Healthcare</td>\n",
       "    </tr>\n",
       "    <tr>\n",
       "      <th>256</th>\n",
       "      <td>Fullife Healthcare</td>\n",
       "      <td>2009.0</td>\n",
       "      <td>NaN</td>\n",
       "      <td>Pharmaceuticals</td>\n",
       "      <td>Primary Business is Development and Manufactur...</td>\n",
       "      <td>Varun Khanna</td>\n",
       "      <td>morgan stanley private equity asia</td>\n",
       "      <td>22000000</td>\n",
       "      <td>Seed_Stage</td>\n",
       "      <td>2021</td>\n",
       "      <td>Healthcare</td>\n",
       "    </tr>\n",
       "    <tr>\n",
       "      <th>1176</th>\n",
       "      <td>Peak</td>\n",
       "      <td>2014.0</td>\n",
       "      <td>Manchester, greater manchester</td>\n",
       "      <td>Information Technology &amp; Services</td>\n",
       "      <td>Peak helps the world's smartest companies put ...</td>\n",
       "      <td>Atul Sharma</td>\n",
       "      <td>SoftBank Vision Fund 2</td>\n",
       "      <td>$75000000</td>\n",
       "      <td>Series C</td>\n",
       "      <td>2021</td>\n",
       "      <td>Other</td>\n",
       "    </tr>\n",
       "  </tbody>\n",
       "</table>\n",
       "</div>"
      ],
      "text/plain": [
       "           Company_Brand  Founded                        Location  \\\n",
       "242   Fullife Healthcare   2009.0                             NaN   \n",
       "256   Fullife Healthcare   2009.0                             NaN   \n",
       "1176                Peak   2014.0  Manchester, greater manchester   \n",
       "\n",
       "                                 Sector  \\\n",
       "242                     Pharmaceuticals   \n",
       "256                     Pharmaceuticals   \n",
       "1176  Information Technology & Services   \n",
       "\n",
       "                                          About Company      Founders  \\\n",
       "242   Primary Business is Development and Manufactur...  Varun Khanna   \n",
       "256   Primary Business is Development and Manufactur...  Varun Khanna   \n",
       "1176  Peak helps the world's smartest companies put ...   Atul Sharma   \n",
       "\n",
       "                                Investor     Amount       Stage  Year  \\\n",
       "242   morgan stanley private equity asia   22000000  Seed_Stage  2021   \n",
       "256   morgan stanley private equity asia   22000000  Seed_Stage  2021   \n",
       "1176              SoftBank Vision Fund 2  $75000000    Series C  2021   \n",
       "\n",
       "     Main_Sector  \n",
       "242   Healthcare  \n",
       "256   Healthcare  \n",
       "1176       Other  "
      ]
     },
     "execution_count": 188,
     "metadata": {},
     "output_type": "execute_result"
    }
   ],
   "source": [
    "conf=df21[(df21['Sector'] == 'Pharmaceuticals') | (df21['Sector'] == 'Information Technology & Services')]\n",
    "conf"
   ]
  },
  {
   "cell_type": "raw",
   "metadata": {},
   "source": []
  },
  {
   "cell_type": "code",
   "execution_count": 189,
   "metadata": {
    "tags": []
   },
   "outputs": [
    {
     "name": "stdout",
     "output_type": "stream",
     "text": [
      "     Company_Brand  Founded      Location                    Sector  \\\n",
      "1100      Sochcast   2020.0  Online Media              Online Media   \n",
      "1148     Godamwale   2016.0        Mumbai  logistics & supply chain   \n",
      "\n",
      "                                          About Company  \\\n",
      "1100  CA Harvinderjit Singh Bhatia, Garima Surana, A...   \n",
      "1148  Godamwale is tech enabled integrated logistics...   \n",
      "\n",
      "                                       Founders        Investor Amount  \\\n",
      "1100    Vinners, Raj Nayak, Amritaanshu Agrawal    $Undisclosed   None   \n",
      "1148  Basant Kumar, Vivek Tiwari, Ranbir Nandan  1000000\\t#REF!   Seed   \n",
      "\n",
      "           Stage  Year            Main_Sector  \n",
      "1100  Seed_Stage  2021  Media & Entertainment  \n",
      "1148  Seed_Stage  2021          Manufacturing  \n",
      "    Company_Brand  Founded  Location  \\\n",
      "257       MoEVing   2021.0  Gurugram   \n",
      "545     AdmitKard   2016.0     Noida   \n",
      "\n",
      "                                                Sector  \\\n",
      "257  moeving is india's only electric mobility focu...   \n",
      "545                                             edtech   \n",
      "\n",
      "                                         About Company  \\\n",
      "257                        Vikash Mishra, Mragank Jain   \n",
      "545  A tech solution for end to end career advisory...   \n",
      "\n",
      "                                             Founders  Investor        Amount  \\\n",
      "257    Anshuman Maheshwary, Dr Srihari Raju Kalidindi  $5000000          Seed   \n",
      "545  Vamsi Krishna, Pulkit Jain, Gaurav Munjal\\t#REF!  $1000000  Pre-series A   \n",
      "\n",
      "          Stage  Year Main_Sector  \n",
      "257  Seed_Stage  2021  Technology  \n",
      "545  Seed_Stage  2021   Education  \n",
      "    Company_Brand  Founded  Location   Sector  \\\n",
      "902      EyeMyEye   2021.0  Gurugram  eyewear   \n",
      "\n",
      "                                         About Company     Founders Investor  \\\n",
      "902  Shop the latest Eyeglasses, Sunglasses, Power ...  Ganesh Iyer  2000000   \n",
      "\n",
      "       Amount       Stage  Year Main_Sector  \n",
      "902  $2000000  Seed_Stage  2021  Healthcare  \n"
     ]
    }
   ],
   "source": [
    "\n",
    "print(df21[(df21['Investor'] == '$Undisclosed') | (df21['Investor'] == '1000000\\t#REF!')]) \n",
    "print(df21[(df21['Investor'] == '$1000000') | (df21['Investor'] == '$5000000')]) \n",
    "print(df21[(df21['Investor'] == '$300000') | (df21['Investor'] == '2000000')]) \n"
   ]
  },
  {
   "cell_type": "code",
   "execution_count": 190,
   "metadata": {
    "tags": []
   },
   "outputs": [],
   "source": [
    "df21.iloc[1100, df21.columns.get_loc('Location')] = 'NaN'\n",
    "df21.iloc[1100, df21.columns.get_loc('About Company')] = 'Sochcast is an Audio experiences company that give the listener and creators an Immersive Audio experience'\n",
    "df21.iloc[1100, df21.columns.get_loc('Investor')] = 'CA Harvinderjit Singh Bhatia, Garima Surana, Anil Srivatsa'\n"
   ]
  },
  {
   "cell_type": "code",
   "execution_count": 191,
   "metadata": {
    "tags": []
   },
   "outputs": [],
   "source": [
    "df21.iloc[257, df21.columns.get_loc('Investor')] = 'Vikash Mishra, Mragank Jain'\n",
    "df21.iloc[257, df21.columns.get_loc('About Company')] =  'moeving is india\"s only electric mobility focused Technology Platform with a vision to accelerate EV adoption in India.'\n",
    "df21.iloc[257, df21.columns.get_loc('Sector')]  = 'NaN'\n",
    "df21.iloc[545, df21.columns.get_loc('Investor')]  = 'NaN'"
   ]
  },
  {
   "cell_type": "code",
   "execution_count": 192,
   "metadata": {
    "tags": []
   },
   "outputs": [],
   "source": [
    "\n",
    "#print(df21[(df21['Investor'] == '2000000') | (df21['Investor'] == '$5000000')]) \n",
    "df21.loc[df21['Investor'] == '1000000\\t#REF!', 'Amount'] = '1000000'\n",
    "df21.loc[df21['Investor'] == '$1000000', 'Amount'] = '1000000'\n",
    "\n",
    "df21.loc[df21['Investor'] == '$5000000', 'Amount'] = '5000000'\n",
    "df21.loc[df21['Investor'] == '$300000', 'Amount'] = '300000'\n"
   ]
  },
  {
   "cell_type": "code",
   "execution_count": 193,
   "metadata": {
    "tags": []
   },
   "outputs": [],
   "source": [
    "df21.loc[df21['Investor'] == '2000000', 'Investor'] = 'NaN'\n",
    "df21.loc[df21['Investor'] == '1000000\\t#REF!', 'Investor'] = 'NaN'\n",
    "\n"
   ]
  },
  {
   "cell_type": "code",
   "execution_count": 194,
   "metadata": {
    "tags": []
   },
   "outputs": [],
   "source": [
    "\n",
    "replace_dict = {\n",
    "    '\\ufeff': ''  # Replace '\\ufeff' with an empty string\n",
    "}\n"
   ]
  },
  {
   "cell_type": "code",
   "execution_count": 195,
   "metadata": {
    "tags": []
   },
   "outputs": [],
   "source": [
    "\n",
    "\n",
    "# Apply the replacement to the 'Investor' column\n",
    "df21['Investor'] = df21['Investor'].str.replace(r'|'.join(replace_dict.keys()), lambda x: replace_dict[x.group()], regex=True)\n",
    "df21['Investor'] = df21['Investor'].apply(lambda x: x.lower() if isinstance(x, str) else x)\n",
    "\n",
    "#print(df21['Investor'].unique())\n"
   ]
  },
  {
   "cell_type": "code",
   "execution_count": 196,
   "metadata": {
    "tags": []
   },
   "outputs": [],
   "source": [
    "df21['Investor']=df21['Investor'].str.replace(r'http://100x.vc/','100X')"
   ]
  },
  {
   "cell_type": "code",
   "execution_count": 197,
   "metadata": {
    "tags": []
   },
   "outputs": [
    {
     "data": {
      "text/plain": [
       "array(['$1,200,000', '$120,000,000', '$30,000,000', '$51,000,000',\n",
       "       '$2,000,000', '$188,000,000', '$200,000', 'Undisclosed',\n",
       "       '$1,000,000', '$3,000,000', '$100,000', '$700,000', '$9,000,000',\n",
       "       '$40,000,000', '$49,000,000', '$400,000', '$300,000',\n",
       "       '$25,000,000', '$160,000,000', '$150,000', '$1,800,000',\n",
       "       '$5,000,000', '$850,000', '$53,000,000', '$500,000', '$1,100,000',\n",
       "       '$6,000,000', '$800,000', '$10,000,000', '$21,000,000',\n",
       "       '$7,500,000', '$26,000,000', '$7,400,000', '$1,500,000',\n",
       "       '$600,000', '$800,000,000', '$17,000,000', '$3,500,000',\n",
       "       '$15,000,000', '$215,000,000', '$2,500,000', '$350,000,000',\n",
       "       '$5,500,000', '$83,000,000', '$110,000,000', '$500,000,000',\n",
       "       '$65,000,000', '$150,000,000,000', '$300,000,000', '$2,200,000',\n",
       "       '$35,000,000', '$140,000,000', '$4,000,000', '$13,000,000', None,\n",
       "       '$Undisclosed', '$2000000', '$800000', '$6000000', '$2500000',\n",
       "       '$9500000', '$13000000', '$5000000', '$8000000', '$1000000',\n",
       "       '$1200000', '$200000', '$12000000', '$1500000', '$1700000',\n",
       "       '$5500000', '$400000', '$150000000', '$4000000', '$100000000',\n",
       "       '$500000', '$15000000', '$10000000', '$40000000', '$225000000',\n",
       "       '$6700000', '$1300000', '$20000000', '$250000', '$21000000',\n",
       "       '$52000000', '$3800000', '$17500000', '$42000000', '$2300000',\n",
       "       '$7000000', '$30000000', '$450000000', '$28000000', '$300000',\n",
       "       '$3500000', '$8500000', '$25000000', '$3000000', '$37000000',\n",
       "       '$370000000', '$700000', '$16000000', '$100000', '$44000000',\n",
       "       '$770000', '$125000000', '$35000000', '$50000000', '$4900000',\n",
       "       '$145000000', '$22000000', '$70000000', '$6600000', '$32000000',\n",
       "       '$24000000', '$725000', '$461000', 22000000, 'Seed', '$96000000',\n",
       "       '$60000000', '$500000000', '$266000000', '$4500000', '$325000000',\n",
       "       '$6500000', '$1600000', '$150000', '$225000', '$85000000',\n",
       "       '$235000', '$260000', '$2900000', '$53000000', '$1100000',\n",
       "       '$86000000', '$130000', '$$100,00', '$111000000', '$265000',\n",
       "       '$76000000', '$100,000,000', '$75,000,000', '$3,800,000',\n",
       "       '$12,000,000', '$1,600,000', '$260,000', '$1,000,000,000',\n",
       "       '$18,000,000', '$20,000,000', '$350,000', '$95,000,000',\n",
       "       '$4,100,000', '$5,200,000', '$8,000,000', '$1,400,000',\n",
       "       '$2,600,000', '$900,000', '$250,000', '$16,000,000', '$7,000,000',\n",
       "       '$11,000,000', '$280,000,000', '$50,000,000', '$14,300,000',\n",
       "       '$81,000,000', '$1,300,000', '$8,200,000', '$70,000,000',\n",
       "       '$720,000', '$600000', '$9000000', '$1800000', '$330000',\n",
       "       '$undisclosed', '$200000000', '$36000000', '$67000000',\n",
       "       '$10200000', '$220000000', '$108000000', '$75000000', '$450000',\n",
       "       '$660000000', '$45000000', '$3200000', '$370000', 'Pre-series A',\n",
       "       '$48000000', '$3600000', '$11000000', '$192000000', '$65000000',\n",
       "       '$1400000', '$1900000', '$41000000', '$144000000', '$5200000',\n",
       "       '$270000000', '$140000', '$250000000', '$320000', '$350000000',\n",
       "       '$4800000', '$38000000', '$125000', '$26000000', '$64000000',\n",
       "       '$620000', '$900000', '$2600000', '$1,250,000', '$400,000,000',\n",
       "       '$1,700,000', '$27,000,000', '$234,000,000', '$460,000,000',\n",
       "       '$13,500,000', '$5,100,000', '$195,000,000', '$125,000',\n",
       "       '$45,000,000', '$200,000,000', '$7,300,000', '$6,300,000',\n",
       "       '$12,500,000', '$24,000,000', '$140,000', '$16,500,000',\n",
       "       '$340,000', '$43,000,000', '$150,000,000', '$3300000', '$92000000',\n",
       "       '$17000000', '$135000000', '$$1,55,000', '$2100000', '$840000000',\n",
       "       '$248000000', '$4300000', '$570000', '$2200000', '$4700000',\n",
       "       '$300000000', '$260000000', '$140000000', '$175000000',\n",
       "       '$19000000', '$810000', '$7500000', '$600000000', '$90000000',\n",
       "       '$5700000', '$6750000', '$78000000', '$5400000', '$115000000',\n",
       "       '$255000000', '$18000000', '$570000000', '$550000', '$2700000',\n",
       "       '$4200000', '$31000000', '$540000', '$14000000', '$340000', '$',\n",
       "       '$6200000', '1000000', '$750000', '$6300000', '$23000000',\n",
       "       '$55000000'], dtype=object)"
      ]
     },
     "execution_count": 197,
     "metadata": {},
     "output_type": "execute_result"
    }
   ],
   "source": [
    "df21['Amount'].unique()"
   ]
  },
  {
   "cell_type": "code",
   "execution_count": 198,
   "metadata": {
    "tags": []
   },
   "outputs": [],
   "source": [
    "#df21[df21['Amount']=='Undisclosed']"
   ]
  },
  {
   "cell_type": "code",
   "execution_count": 199,
   "metadata": {
    "tags": []
   },
   "outputs": [],
   "source": [
    "#Swapping Seed value at Amount column to Stage column\n",
    "\n",
    "df21.loc[df21['Amount']=='Seed', 'Stage']='Seed_Stage'\n",
    "df21.loc[df21['Amount']=='Pre-series A', 'Stage']='Series A'\n",
    "\n",
    "df21.iloc[545, df21.columns.get_loc('Amount')]='NaN'\n",
    "df21.iloc[257, df21.columns.get_loc('Amount')]='NaN'\n",
    "\n",
    "df21['Amount']=df21['Amount'].str.replace('Undisclosed', 'NaN')"
   ]
  },
  {
   "cell_type": "code",
   "execution_count": 200,
   "metadata": {
    "tags": []
   },
   "outputs": [
    {
     "data": {
      "text/plain": [
       "array(['$1,200,000', '$120,000,000', '$30,000,000', '$51,000,000',\n",
       "       '$2,000,000', '$188,000,000', '$200,000', 'NaN', '$1,000,000',\n",
       "       '$3,000,000', '$100,000', '$700,000', '$9,000,000', '$40,000,000',\n",
       "       '$49,000,000', '$400,000', '$300,000', '$25,000,000',\n",
       "       '$160,000,000', '$150,000', '$1,800,000', '$5,000,000', '$850,000',\n",
       "       '$53,000,000', '$500,000', '$1,100,000', '$6,000,000', '$800,000',\n",
       "       '$10,000,000', '$21,000,000', '$7,500,000', '$26,000,000',\n",
       "       '$7,400,000', '$1,500,000', '$600,000', '$800,000,000',\n",
       "       '$17,000,000', '$3,500,000', '$15,000,000', '$215,000,000',\n",
       "       '$2,500,000', '$350,000,000', '$5,500,000', '$83,000,000',\n",
       "       '$110,000,000', '$500,000,000', '$65,000,000', '$150,000,000,000',\n",
       "       '$300,000,000', '$2,200,000', '$35,000,000', '$140,000,000',\n",
       "       '$4,000,000', '$13,000,000', None, '$NaN', '$2000000', '$800000',\n",
       "       '$6000000', '$2500000', '$9500000', '$13000000', '$5000000',\n",
       "       '$8000000', '$1000000', '$1200000', '$200000', '$12000000',\n",
       "       '$1500000', '$1700000', '$5500000', '$400000', '$150000000',\n",
       "       '$4000000', '$100000000', '$500000', '$15000000', '$10000000',\n",
       "       '$40000000', '$225000000', '$6700000', '$1300000', '$20000000',\n",
       "       '$250000', '$21000000', '$52000000', '$3800000', '$17500000',\n",
       "       '$42000000', '$2300000', '$7000000', '$30000000', '$450000000',\n",
       "       '$28000000', '$300000', '$3500000', '$8500000', '$25000000',\n",
       "       '$3000000', '$37000000', '$370000000', '$700000', '$16000000',\n",
       "       '$100000', '$44000000', '$770000', '$125000000', '$35000000',\n",
       "       '$50000000', '$4900000', '$145000000', '$22000000', '$70000000',\n",
       "       '$6600000', '$32000000', '$24000000', '$725000', '$461000', nan,\n",
       "       '$96000000', '$60000000', '$500000000', '$266000000', '$4500000',\n",
       "       '$325000000', '$6500000', '$1600000', '$150000', '$225000',\n",
       "       '$85000000', '$235000', '$260000', '$2900000', '$53000000',\n",
       "       '$1100000', '$86000000', '$130000', '$$100,00', '$111000000',\n",
       "       '$265000', '$76000000', '$100,000,000', '$75,000,000',\n",
       "       '$3,800,000', '$12,000,000', '$1,600,000', '$260,000',\n",
       "       '$1,000,000,000', '$18,000,000', '$20,000,000', '$350,000',\n",
       "       '$95,000,000', '$4,100,000', '$5,200,000', '$8,000,000',\n",
       "       '$1,400,000', '$2,600,000', '$900,000', '$250,000', '$16,000,000',\n",
       "       '$7,000,000', '$11,000,000', '$280,000,000', '$50,000,000',\n",
       "       '$14,300,000', '$81,000,000', '$1,300,000', '$8,200,000',\n",
       "       '$70,000,000', '$720,000', '$600000', '$9000000', '$1800000',\n",
       "       '$330000', '$undisclosed', '$200000000', '$36000000', '$67000000',\n",
       "       '$10200000', '$220000000', '$108000000', '$75000000', '$450000',\n",
       "       '$660000000', '$45000000', '$3200000', '$370000', '$48000000',\n",
       "       '$3600000', '$11000000', '$192000000', '$65000000', '$1400000',\n",
       "       '$1900000', '$41000000', '$144000000', '$5200000', '$270000000',\n",
       "       '$140000', '$250000000', '$320000', '$350000000', '$4800000',\n",
       "       '$38000000', '$125000', '$26000000', '$64000000', '$620000',\n",
       "       '$900000', '$2600000', '$1,250,000', '$400,000,000', '$1,700,000',\n",
       "       '$27,000,000', '$234,000,000', '$460,000,000', '$13,500,000',\n",
       "       '$5,100,000', '$195,000,000', '$125,000', '$45,000,000',\n",
       "       '$200,000,000', '$7,300,000', '$6,300,000', '$12,500,000',\n",
       "       '$24,000,000', '$140,000', '$16,500,000', '$340,000',\n",
       "       '$43,000,000', '$150,000,000', '$3300000', '$92000000',\n",
       "       '$17000000', '$135000000', '$$1,55,000', '$2100000', '$840000000',\n",
       "       '$248000000', '$4300000', '$570000', '$2200000', '$4700000',\n",
       "       '$300000000', '$260000000', '$140000000', '$175000000',\n",
       "       '$19000000', '$810000', '$7500000', '$600000000', '$90000000',\n",
       "       '$5700000', '$6750000', '$78000000', '$5400000', '$115000000',\n",
       "       '$255000000', '$18000000', '$570000000', '$550000', '$2700000',\n",
       "       '$4200000', '$31000000', '$540000', '$14000000', '$340000', '$',\n",
       "       '$6200000', '1000000', '$750000', '$6300000', '$23000000',\n",
       "       '$55000000'], dtype=object)"
      ]
     },
     "execution_count": 200,
     "metadata": {},
     "output_type": "execute_result"
    }
   ],
   "source": [
    "df21['Amount'].unique()"
   ]
  },
  {
   "cell_type": "code",
   "execution_count": 201,
   "metadata": {
    "tags": []
   },
   "outputs": [],
   "source": [
    "#Replacing the digits partof Amount with nothing\n",
    "\n",
    "df21['Currency']=df21['Amount'].astype(str).replace(('\\d'), '', regex= True)"
   ]
  },
  {
   "cell_type": "code",
   "execution_count": 202,
   "metadata": {
    "tags": []
   },
   "outputs": [
    {
     "data": {
      "text/plain": [
       "array(['$,,', '$,', 'NaN', '$,,,', 'None', '$NaN', '$', 'nan', '$$,',\n",
       "       '$undisclosed', '$$,,', ''], dtype=object)"
      ]
     },
     "execution_count": 202,
     "metadata": {},
     "output_type": "execute_result"
    }
   ],
   "source": [
    "#Checking for type of symbols \n",
    "\n",
    "df21['Currency'].unique()"
   ]
  },
  {
   "cell_type": "code",
   "execution_count": 203,
   "metadata": {
    "tags": []
   },
   "outputs": [],
   "source": [
    "#Replacing the symbols with nothing\n",
    "\n",
    "df21['Amount_no_symb21']=df21['Amount'].astype(str).replace('\\D', '', regex= True)"
   ]
  },
  {
   "cell_type": "code",
   "execution_count": 204,
   "metadata": {
    "tags": []
   },
   "outputs": [],
   "source": [
    "#df21['Amount_no_symb21'].unique()"
   ]
  },
  {
   "cell_type": "code",
   "execution_count": 205,
   "metadata": {
    "tags": []
   },
   "outputs": [],
   "source": [
    "df21=df21.drop('Amount', axis=1)"
   ]
  },
  {
   "cell_type": "code",
   "execution_count": 206,
   "metadata": {
    "tags": []
   },
   "outputs": [],
   "source": [
    "df21=df21.rename({'Amount_no_symb21': 'Amount'}, axis=1)"
   ]
  },
  {
   "cell_type": "code",
   "execution_count": 207,
   "metadata": {
    "tags": []
   },
   "outputs": [
    {
     "data": {
      "text/html": [
       "<div>\n",
       "<style scoped>\n",
       "    .dataframe tbody tr th:only-of-type {\n",
       "        vertical-align: middle;\n",
       "    }\n",
       "\n",
       "    .dataframe tbody tr th {\n",
       "        vertical-align: top;\n",
       "    }\n",
       "\n",
       "    .dataframe thead th {\n",
       "        text-align: right;\n",
       "    }\n",
       "</style>\n",
       "<table border=\"1\" class=\"dataframe\">\n",
       "  <thead>\n",
       "    <tr style=\"text-align: right;\">\n",
       "      <th></th>\n",
       "      <th>Company_Brand</th>\n",
       "      <th>Founded</th>\n",
       "      <th>Location</th>\n",
       "      <th>Sector</th>\n",
       "      <th>About Company</th>\n",
       "      <th>Founders</th>\n",
       "      <th>Investor</th>\n",
       "      <th>Stage</th>\n",
       "      <th>Year</th>\n",
       "      <th>Main_Sector</th>\n",
       "      <th>Currency</th>\n",
       "      <th>Amount</th>\n",
       "    </tr>\n",
       "  </thead>\n",
       "  <tbody>\n",
       "    <tr>\n",
       "      <th>0</th>\n",
       "      <td>Unbox Robotics</td>\n",
       "      <td>2019.0</td>\n",
       "      <td>Bangalore</td>\n",
       "      <td>ai startup</td>\n",
       "      <td>Unbox Robotics builds on-demand AI-driven ware...</td>\n",
       "      <td>Pramod Ghadge, Shahid Memon</td>\n",
       "      <td>beenext, entrepreneur first</td>\n",
       "      <td>Seed_Stage</td>\n",
       "      <td>2021</td>\n",
       "      <td>Other</td>\n",
       "      <td>$,,</td>\n",
       "      <td>1200000</td>\n",
       "    </tr>\n",
       "    <tr>\n",
       "      <th>1</th>\n",
       "      <td>upGrad</td>\n",
       "      <td>2015.0</td>\n",
       "      <td>Mumbai</td>\n",
       "      <td>edtech</td>\n",
       "      <td>UpGrad is an online higher education platform.</td>\n",
       "      <td>Mayank Kumar, Phalgun Kompalli, Ravijot Chugh,...</td>\n",
       "      <td>unilazer ventures, iifl asset management</td>\n",
       "      <td>Seed_Stage</td>\n",
       "      <td>2021</td>\n",
       "      <td>Education</td>\n",
       "      <td>$,,</td>\n",
       "      <td>120000000</td>\n",
       "    </tr>\n",
       "  </tbody>\n",
       "</table>\n",
       "</div>"
      ],
      "text/plain": [
       "    Company_Brand  Founded   Location      Sector  \\\n",
       "0  Unbox Robotics   2019.0  Bangalore  ai startup   \n",
       "1          upGrad   2015.0     Mumbai      edtech   \n",
       "\n",
       "                                       About Company  \\\n",
       "0  Unbox Robotics builds on-demand AI-driven ware...   \n",
       "1     UpGrad is an online higher education platform.   \n",
       "\n",
       "                                            Founders  \\\n",
       "0                        Pramod Ghadge, Shahid Memon   \n",
       "1  Mayank Kumar, Phalgun Kompalli, Ravijot Chugh,...   \n",
       "\n",
       "                                   Investor       Stage  Year Main_Sector  \\\n",
       "0               beenext, entrepreneur first  Seed_Stage  2021       Other   \n",
       "1  unilazer ventures, iifl asset management  Seed_Stage  2021   Education   \n",
       "\n",
       "  Currency     Amount  \n",
       "0      $,,    1200000  \n",
       "1      $,,  120000000  "
      ]
     },
     "execution_count": 207,
     "metadata": {},
     "output_type": "execute_result"
    }
   ],
   "source": [
    "df21.head(2)"
   ]
  },
  {
   "cell_type": "code",
   "execution_count": 208,
   "metadata": {
    "tags": []
   },
   "outputs": [],
   "source": [
    "df21['Currency']='$'"
   ]
  },
  {
   "cell_type": "code",
   "execution_count": 209,
   "metadata": {
    "tags": []
   },
   "outputs": [
    {
     "data": {
      "text/plain": [
       "array(['$'], dtype=object)"
      ]
     },
     "execution_count": 209,
     "metadata": {},
     "output_type": "execute_result"
    }
   ],
   "source": [
    "df21['Currency'].unique()"
   ]
  },
  {
   "cell_type": "code",
   "execution_count": 210,
   "metadata": {
    "tags": []
   },
   "outputs": [
    {
     "name": "stdout",
     "output_type": "stream",
     "text": [
      "<class 'pandas.core.frame.DataFrame'>\n",
      "RangeIndex: 1209 entries, 0 to 1208\n",
      "Data columns (total 12 columns):\n",
      " #   Column         Non-Null Count  Dtype  \n",
      "---  ------         --------------  -----  \n",
      " 0   Company_Brand  1209 non-null   object \n",
      " 1   Founded        1208 non-null   float64\n",
      " 2   Location       1208 non-null   object \n",
      " 3   Sector         1209 non-null   object \n",
      " 4   About Company  1209 non-null   object \n",
      " 5   Founders       1205 non-null   object \n",
      " 6   Investor       1147 non-null   object \n",
      " 7   Stage          1209 non-null   object \n",
      " 8   Year           1209 non-null   int64  \n",
      " 9   Main_Sector    1209 non-null   object \n",
      " 10  Currency       1209 non-null   object \n",
      " 11  Amount         1209 non-null   object \n",
      "dtypes: float64(1), int64(1), object(10)\n",
      "memory usage: 113.5+ KB\n"
     ]
    }
   ],
   "source": [
    "df21.info()"
   ]
  },
  {
   "cell_type": "code",
   "execution_count": 211,
   "metadata": {
    "tags": []
   },
   "outputs": [],
   "source": [
    "df21['Amount']=pd.to_numeric(df21['Amount'])"
   ]
  },
  {
   "cell_type": "code",
   "execution_count": 212,
   "metadata": {
    "tags": []
   },
   "outputs": [
    {
     "data": {
      "text/plain": [
       "24"
      ]
     },
     "execution_count": 212,
     "metadata": {},
     "output_type": "execute_result"
    }
   ],
   "source": [
    "df21.duplicated().sum()"
   ]
  },
  {
   "cell_type": "code",
   "execution_count": 213,
   "metadata": {
    "tags": []
   },
   "outputs": [],
   "source": [
    "df21=df21.drop_duplicates()"
   ]
  },
  {
   "cell_type": "code",
   "execution_count": 214,
   "metadata": {
    "tags": []
   },
   "outputs": [
    {
     "data": {
      "text/plain": [
       "143"
      ]
     },
     "execution_count": 214,
     "metadata": {},
     "output_type": "execute_result"
    }
   ],
   "source": [
    "df21['Amount'].isna().sum()"
   ]
  },
  {
   "cell_type": "code",
   "execution_count": 215,
   "metadata": {
    "tags": []
   },
   "outputs": [
    {
     "data": {
      "text/plain": [
       "count    1.042000e+03\n",
       "mean     1.723376e+08\n",
       "std      4.646669e+09\n",
       "min      1.000000e+04\n",
       "25%      1.000000e+06\n",
       "50%      3.700000e+06\n",
       "75%      1.500000e+07\n",
       "max      1.500000e+11\n",
       "Name: Amount, dtype: float64"
      ]
     },
     "execution_count": 215,
     "metadata": {},
     "output_type": "execute_result"
    }
   ],
   "source": [
    "df21['Amount'].describe()"
   ]
  },
  {
   "cell_type": "code",
   "execution_count": 216,
   "metadata": {
    "tags": []
   },
   "outputs": [],
   "source": [
    "#df21['Amount'].fillna(3.500000e+06)"
   ]
  },
  {
   "cell_type": "code",
   "execution_count": 217,
   "metadata": {
    "tags": []
   },
   "outputs": [],
   "source": [
    "df21.iloc[98, df21.columns.get_loc('Location')] = 'Nan'\n"
   ]
  },
  {
   "cell_type": "markdown",
   "metadata": {},
   "source": [
    "## Concatenating all the dataframes"
   ]
  },
  {
   "cell_type": "code",
   "execution_count": 218,
   "metadata": {
    "tags": []
   },
   "outputs": [],
   "source": [
    "df_concat=pd.concat([df18,df19,df20,df21], ignore_index=True)"
   ]
  },
  {
   "cell_type": "code",
   "execution_count": 219,
   "metadata": {
    "tags": []
   },
   "outputs": [
    {
     "data": {
      "text/html": [
       "<div>\n",
       "<style scoped>\n",
       "    .dataframe tbody tr th:only-of-type {\n",
       "        vertical-align: middle;\n",
       "    }\n",
       "\n",
       "    .dataframe tbody tr th {\n",
       "        vertical-align: top;\n",
       "    }\n",
       "\n",
       "    .dataframe thead th {\n",
       "        text-align: right;\n",
       "    }\n",
       "</style>\n",
       "<table border=\"1\" class=\"dataframe\">\n",
       "  <thead>\n",
       "    <tr style=\"text-align: right;\">\n",
       "      <th></th>\n",
       "      <th>Company_Brand</th>\n",
       "      <th>Sector</th>\n",
       "      <th>Stage</th>\n",
       "      <th>Location</th>\n",
       "      <th>About Company</th>\n",
       "      <th>Year</th>\n",
       "      <th>Currency</th>\n",
       "      <th>Amount</th>\n",
       "      <th>Main_Sector</th>\n",
       "      <th>Founded</th>\n",
       "      <th>Founders</th>\n",
       "      <th>Investor</th>\n",
       "    </tr>\n",
       "  </thead>\n",
       "  <tbody>\n",
       "    <tr>\n",
       "      <th>0</th>\n",
       "      <td>TheCollegeFever</td>\n",
       "      <td>brand marketing</td>\n",
       "      <td>Seed_Stage</td>\n",
       "      <td>Bangalore</td>\n",
       "      <td>TheCollegeFever is a hub for fun, fiesta and f...</td>\n",
       "      <td>2018</td>\n",
       "      <td>$</td>\n",
       "      <td>250000.0</td>\n",
       "      <td>Retail</td>\n",
       "      <td>NaN</td>\n",
       "      <td>NaN</td>\n",
       "      <td>NaN</td>\n",
       "    </tr>\n",
       "    <tr>\n",
       "      <th>1</th>\n",
       "      <td>Happy Cow Dairy</td>\n",
       "      <td>agriculture</td>\n",
       "      <td>Seed_Stage</td>\n",
       "      <td>Mumbai</td>\n",
       "      <td>A startup which aggregates milk from dairy far...</td>\n",
       "      <td>2018</td>\n",
       "      <td>$</td>\n",
       "      <td>584000.0</td>\n",
       "      <td>Food &amp; Agric</td>\n",
       "      <td>NaN</td>\n",
       "      <td>NaN</td>\n",
       "      <td>NaN</td>\n",
       "    </tr>\n",
       "    <tr>\n",
       "      <th>2</th>\n",
       "      <td>MyLoanCare</td>\n",
       "      <td>credit</td>\n",
       "      <td>Series A</td>\n",
       "      <td>Gurgaon</td>\n",
       "      <td>Leading Online Loans Marketplace in India</td>\n",
       "      <td>2018</td>\n",
       "      <td>$</td>\n",
       "      <td>949000.0</td>\n",
       "      <td>Banking &amp; Finance</td>\n",
       "      <td>NaN</td>\n",
       "      <td>NaN</td>\n",
       "      <td>NaN</td>\n",
       "    </tr>\n",
       "    <tr>\n",
       "      <th>3</th>\n",
       "      <td>PayMe India</td>\n",
       "      <td>financial services</td>\n",
       "      <td>Seed_Stage</td>\n",
       "      <td>Noida</td>\n",
       "      <td>PayMe India is an innovative FinTech organizat...</td>\n",
       "      <td>2018</td>\n",
       "      <td>$</td>\n",
       "      <td>2000000.0</td>\n",
       "      <td>Service</td>\n",
       "      <td>NaN</td>\n",
       "      <td>NaN</td>\n",
       "      <td>NaN</td>\n",
       "    </tr>\n",
       "    <tr>\n",
       "      <th>4</th>\n",
       "      <td>Eunimart</td>\n",
       "      <td>e-commerce platforms</td>\n",
       "      <td>Seed_Stage</td>\n",
       "      <td>Hyderabad</td>\n",
       "      <td>Eunimart is a one stop solution for merchants ...</td>\n",
       "      <td>2018</td>\n",
       "      <td>$</td>\n",
       "      <td>NaN</td>\n",
       "      <td>Retail</td>\n",
       "      <td>NaN</td>\n",
       "      <td>NaN</td>\n",
       "      <td>NaN</td>\n",
       "    </tr>\n",
       "  </tbody>\n",
       "</table>\n",
       "</div>"
      ],
      "text/plain": [
       "     Company_Brand                Sector       Stage   Location  \\\n",
       "0  TheCollegeFever       brand marketing  Seed_Stage  Bangalore   \n",
       "1  Happy Cow Dairy           agriculture  Seed_Stage     Mumbai   \n",
       "2       MyLoanCare                credit    Series A    Gurgaon   \n",
       "3      PayMe India    financial services  Seed_Stage      Noida   \n",
       "4         Eunimart  e-commerce platforms  Seed_Stage  Hyderabad   \n",
       "\n",
       "                                       About Company  Year Currency  \\\n",
       "0  TheCollegeFever is a hub for fun, fiesta and f...  2018        $   \n",
       "1  A startup which aggregates milk from dairy far...  2018        $   \n",
       "2          Leading Online Loans Marketplace in India  2018        $   \n",
       "3  PayMe India is an innovative FinTech organizat...  2018        $   \n",
       "4  Eunimart is a one stop solution for merchants ...  2018        $   \n",
       "\n",
       "      Amount        Main_Sector  Founded Founders Investor  \n",
       "0   250000.0             Retail      NaN      NaN      NaN  \n",
       "1   584000.0       Food & Agric      NaN      NaN      NaN  \n",
       "2   949000.0  Banking & Finance      NaN      NaN      NaN  \n",
       "3  2000000.0            Service      NaN      NaN      NaN  \n",
       "4        NaN             Retail      NaN      NaN      NaN  "
      ]
     },
     "execution_count": 219,
     "metadata": {},
     "output_type": "execute_result"
    }
   ],
   "source": [
    "df_concat.head()"
   ]
  },
  {
   "cell_type": "code",
   "execution_count": 220,
   "metadata": {
    "tags": []
   },
   "outputs": [
    {
     "name": "stdout",
     "output_type": "stream",
     "text": [
      "<class 'pandas.core.frame.DataFrame'>\n",
      "RangeIndex: 2851 entries, 0 to 2850\n",
      "Data columns (total 12 columns):\n",
      " #   Column         Non-Null Count  Dtype  \n",
      "---  ------         --------------  -----  \n",
      " 0   Company_Brand  2851 non-null   object \n",
      " 1   Sector         2851 non-null   object \n",
      " 2   Stage          2851 non-null   object \n",
      " 3   Location       2756 non-null   object \n",
      " 4   About Company  2851 non-null   object \n",
      " 5   Year           2851 non-null   int64  \n",
      " 6   Currency       2851 non-null   object \n",
      " 7   Amount         2307 non-null   float64\n",
      " 8   Main_Sector    2851 non-null   object \n",
      " 9   Founded        2325 non-null   float64\n",
      " 10  Founders       2307 non-null   object \n",
      " 11  Investor       2228 non-null   object \n",
      "dtypes: float64(2), int64(1), object(9)\n",
      "memory usage: 267.4+ KB\n"
     ]
    }
   ],
   "source": [
    "df_concat.info()"
   ]
  },
  {
   "cell_type": "code",
   "execution_count": 221,
   "metadata": {
    "tags": []
   },
   "outputs": [
    {
     "data": {
      "text/plain": [
       "0"
      ]
     },
     "execution_count": 221,
     "metadata": {},
     "output_type": "execute_result"
    }
   ],
   "source": [
    "df_concat.duplicated().sum()"
   ]
  },
  {
   "cell_type": "code",
   "execution_count": 222,
   "metadata": {},
   "outputs": [],
   "source": [
    "df_concat=df_concat.drop_duplicates()"
   ]
  },
  {
   "cell_type": "code",
   "execution_count": 223,
   "metadata": {
    "tags": []
   },
   "outputs": [
    {
     "data": {
      "text/plain": [
       "Company_Brand      0\n",
       "Sector             0\n",
       "Stage              0\n",
       "Location          95\n",
       "About Company      0\n",
       "Year               0\n",
       "Currency           0\n",
       "Amount           544\n",
       "Main_Sector        0\n",
       "Founded          526\n",
       "Founders         544\n",
       "Investor         623\n",
       "dtype: int64"
      ]
     },
     "execution_count": 223,
     "metadata": {},
     "output_type": "execute_result"
    }
   ],
   "source": [
    "df_concat.isna().sum()"
   ]
  },
  {
   "cell_type": "code",
   "execution_count": 224,
   "metadata": {},
   "outputs": [
    {
     "data": {
      "text/html": [
       "<div>\n",
       "<style scoped>\n",
       "    .dataframe tbody tr th:only-of-type {\n",
       "        vertical-align: middle;\n",
       "    }\n",
       "\n",
       "    .dataframe tbody tr th {\n",
       "        vertical-align: top;\n",
       "    }\n",
       "\n",
       "    .dataframe thead th {\n",
       "        text-align: right;\n",
       "    }\n",
       "</style>\n",
       "<table border=\"1\" class=\"dataframe\">\n",
       "  <thead>\n",
       "    <tr style=\"text-align: right;\">\n",
       "      <th></th>\n",
       "      <th>count</th>\n",
       "      <th>unique</th>\n",
       "      <th>top</th>\n",
       "      <th>freq</th>\n",
       "      <th>mean</th>\n",
       "      <th>std</th>\n",
       "      <th>min</th>\n",
       "      <th>25%</th>\n",
       "      <th>50%</th>\n",
       "      <th>75%</th>\n",
       "      <th>max</th>\n",
       "    </tr>\n",
       "  </thead>\n",
       "  <tbody>\n",
       "    <tr>\n",
       "      <th>Company_Brand</th>\n",
       "      <td>2851</td>\n",
       "      <td>2214</td>\n",
       "      <td>BharatPe</td>\n",
       "      <td>10</td>\n",
       "      <td>NaN</td>\n",
       "      <td>NaN</td>\n",
       "      <td>NaN</td>\n",
       "      <td>NaN</td>\n",
       "      <td>NaN</td>\n",
       "      <td>NaN</td>\n",
       "      <td>NaN</td>\n",
       "    </tr>\n",
       "    <tr>\n",
       "      <th>Sector</th>\n",
       "      <td>2851</td>\n",
       "      <td>583</td>\n",
       "      <td>fintech</td>\n",
       "      <td>254</td>\n",
       "      <td>NaN</td>\n",
       "      <td>NaN</td>\n",
       "      <td>NaN</td>\n",
       "      <td>NaN</td>\n",
       "      <td>NaN</td>\n",
       "      <td>NaN</td>\n",
       "      <td>NaN</td>\n",
       "    </tr>\n",
       "    <tr>\n",
       "      <th>Stage</th>\n",
       "      <td>2851</td>\n",
       "      <td>6</td>\n",
       "      <td>Seed_Stage</td>\n",
       "      <td>1440</td>\n",
       "      <td>NaN</td>\n",
       "      <td>NaN</td>\n",
       "      <td>NaN</td>\n",
       "      <td>NaN</td>\n",
       "      <td>NaN</td>\n",
       "      <td>NaN</td>\n",
       "      <td>NaN</td>\n",
       "    </tr>\n",
       "    <tr>\n",
       "      <th>Location</th>\n",
       "      <td>2756</td>\n",
       "      <td>131</td>\n",
       "      <td>Bangalore</td>\n",
       "      <td>877</td>\n",
       "      <td>NaN</td>\n",
       "      <td>NaN</td>\n",
       "      <td>NaN</td>\n",
       "      <td>NaN</td>\n",
       "      <td>NaN</td>\n",
       "      <td>NaN</td>\n",
       "      <td>NaN</td>\n",
       "    </tr>\n",
       "    <tr>\n",
       "      <th>About Company</th>\n",
       "      <td>2851</td>\n",
       "      <td>2691</td>\n",
       "      <td>BYJU'S is an educational technology company th...</td>\n",
       "      <td>5</td>\n",
       "      <td>NaN</td>\n",
       "      <td>NaN</td>\n",
       "      <td>NaN</td>\n",
       "      <td>NaN</td>\n",
       "      <td>NaN</td>\n",
       "      <td>NaN</td>\n",
       "      <td>NaN</td>\n",
       "    </tr>\n",
       "    <tr>\n",
       "      <th>Year</th>\n",
       "      <td>2851.0</td>\n",
       "      <td>NaN</td>\n",
       "      <td>NaN</td>\n",
       "      <td>NaN</td>\n",
       "      <td>2020.016135</td>\n",
       "      <td>1.087933</td>\n",
       "      <td>2018.0</td>\n",
       "      <td>2020.0</td>\n",
       "      <td>2020.0</td>\n",
       "      <td>2021.0</td>\n",
       "      <td>2021.0</td>\n",
       "    </tr>\n",
       "    <tr>\n",
       "      <th>Currency</th>\n",
       "      <td>2851</td>\n",
       "      <td>2</td>\n",
       "      <td>$</td>\n",
       "      <td>2839</td>\n",
       "      <td>NaN</td>\n",
       "      <td>NaN</td>\n",
       "      <td>NaN</td>\n",
       "      <td>NaN</td>\n",
       "      <td>NaN</td>\n",
       "      <td>NaN</td>\n",
       "      <td>NaN</td>\n",
       "    </tr>\n",
       "    <tr>\n",
       "      <th>Amount</th>\n",
       "      <td>2307.0</td>\n",
       "      <td>NaN</td>\n",
       "      <td>NaN</td>\n",
       "      <td>NaN</td>\n",
       "      <td>121422004.586476</td>\n",
       "      <td>3446668571.070957</td>\n",
       "      <td>876.0</td>\n",
       "      <td>1000000.0</td>\n",
       "      <td>3000000.0</td>\n",
       "      <td>12000000.0</td>\n",
       "      <td>150000000000.0</td>\n",
       "    </tr>\n",
       "    <tr>\n",
       "      <th>Main_Sector</th>\n",
       "      <td>2851</td>\n",
       "      <td>14</td>\n",
       "      <td>Technology</td>\n",
       "      <td>464</td>\n",
       "      <td>NaN</td>\n",
       "      <td>NaN</td>\n",
       "      <td>NaN</td>\n",
       "      <td>NaN</td>\n",
       "      <td>NaN</td>\n",
       "      <td>NaN</td>\n",
       "      <td>NaN</td>\n",
       "    </tr>\n",
       "    <tr>\n",
       "      <th>Founded</th>\n",
       "      <td>2325.0</td>\n",
       "      <td>NaN</td>\n",
       "      <td>NaN</td>\n",
       "      <td>NaN</td>\n",
       "      <td>2015.938065</td>\n",
       "      <td>4.153834</td>\n",
       "      <td>1963.0</td>\n",
       "      <td>2015.0</td>\n",
       "      <td>2016.0</td>\n",
       "      <td>2019.0</td>\n",
       "      <td>2021.0</td>\n",
       "    </tr>\n",
       "    <tr>\n",
       "      <th>Founders</th>\n",
       "      <td>2307</td>\n",
       "      <td>1979</td>\n",
       "      <td>Ashneer Grover, Shashvat Nakrani</td>\n",
       "      <td>7</td>\n",
       "      <td>NaN</td>\n",
       "      <td>NaN</td>\n",
       "      <td>NaN</td>\n",
       "      <td>NaN</td>\n",
       "      <td>NaN</td>\n",
       "      <td>NaN</td>\n",
       "      <td>NaN</td>\n",
       "    </tr>\n",
       "    <tr>\n",
       "      <th>Investor</th>\n",
       "      <td>2228</td>\n",
       "      <td>1846</td>\n",
       "      <td>inflection point ventures</td>\n",
       "      <td>23</td>\n",
       "      <td>NaN</td>\n",
       "      <td>NaN</td>\n",
       "      <td>NaN</td>\n",
       "      <td>NaN</td>\n",
       "      <td>NaN</td>\n",
       "      <td>NaN</td>\n",
       "      <td>NaN</td>\n",
       "    </tr>\n",
       "  </tbody>\n",
       "</table>\n",
       "</div>"
      ],
      "text/plain": [
       "                count unique  \\\n",
       "Company_Brand    2851   2214   \n",
       "Sector           2851    583   \n",
       "Stage            2851      6   \n",
       "Location         2756    131   \n",
       "About Company    2851   2691   \n",
       "Year           2851.0    NaN   \n",
       "Currency         2851      2   \n",
       "Amount         2307.0    NaN   \n",
       "Main_Sector      2851     14   \n",
       "Founded        2325.0    NaN   \n",
       "Founders         2307   1979   \n",
       "Investor         2228   1846   \n",
       "\n",
       "                                                             top  freq  \\\n",
       "Company_Brand                                           BharatPe    10   \n",
       "Sector                                                   fintech   254   \n",
       "Stage                                                 Seed_Stage  1440   \n",
       "Location                                               Bangalore   877   \n",
       "About Company  BYJU'S is an educational technology company th...     5   \n",
       "Year                                                         NaN   NaN   \n",
       "Currency                                                       $  2839   \n",
       "Amount                                                       NaN   NaN   \n",
       "Main_Sector                                           Technology   464   \n",
       "Founded                                                      NaN   NaN   \n",
       "Founders                        Ashneer Grover, Shashvat Nakrani     7   \n",
       "Investor                               inflection point ventures    23   \n",
       "\n",
       "                           mean                std     min        25%  \\\n",
       "Company_Brand               NaN                NaN     NaN        NaN   \n",
       "Sector                      NaN                NaN     NaN        NaN   \n",
       "Stage                       NaN                NaN     NaN        NaN   \n",
       "Location                    NaN                NaN     NaN        NaN   \n",
       "About Company               NaN                NaN     NaN        NaN   \n",
       "Year                2020.016135           1.087933  2018.0     2020.0   \n",
       "Currency                    NaN                NaN     NaN        NaN   \n",
       "Amount         121422004.586476  3446668571.070957   876.0  1000000.0   \n",
       "Main_Sector                 NaN                NaN     NaN        NaN   \n",
       "Founded             2015.938065           4.153834  1963.0     2015.0   \n",
       "Founders                    NaN                NaN     NaN        NaN   \n",
       "Investor                    NaN                NaN     NaN        NaN   \n",
       "\n",
       "                     50%         75%             max  \n",
       "Company_Brand        NaN         NaN             NaN  \n",
       "Sector               NaN         NaN             NaN  \n",
       "Stage                NaN         NaN             NaN  \n",
       "Location             NaN         NaN             NaN  \n",
       "About Company        NaN         NaN             NaN  \n",
       "Year              2020.0      2021.0          2021.0  \n",
       "Currency             NaN         NaN             NaN  \n",
       "Amount         3000000.0  12000000.0  150000000000.0  \n",
       "Main_Sector          NaN         NaN             NaN  \n",
       "Founded           2016.0      2019.0          2021.0  \n",
       "Founders             NaN         NaN             NaN  \n",
       "Investor             NaN         NaN             NaN  "
      ]
     },
     "execution_count": 224,
     "metadata": {},
     "output_type": "execute_result"
    }
   ],
   "source": [
    "#checking the statistics of the columns\n",
    "df_concat.describe(include='all').T"
   ]
  },
  {
   "cell_type": "markdown",
   "metadata": {},
   "source": [
    "**Observations**"
   ]
  },
  {
   "cell_type": "code",
   "execution_count": 225,
   "metadata": {},
   "outputs": [
    {
     "data": {
      "text/plain": [
       "array(['Bangalore', 'Mumbai', 'Gurgaon', 'Noida', 'Hyderabad',\n",
       "       'Bengaluru', 'Kalkaji', 'Delhi', 'India', 'Hubli', 'New Delhi',\n",
       "       'Chennai', 'Mohali', 'Kolkata', 'Pune', 'Jodhpur', 'Kanpur',\n",
       "       'Ahmedabad', 'Azadpur', 'Haryana', 'Cochin', 'Faridabad', 'Jaipur',\n",
       "       'Kota', 'Anand', 'Bangalore City', 'Belgaum', 'Thane', 'Margão',\n",
       "       'Indore', 'Alwar', 'Kannur', 'Trivandrum', 'Ernakulam',\n",
       "       'Kormangala', 'Uttar Pradesh', 'Andheri', 'Mylapore', 'Ghaziabad',\n",
       "       'Kochi', 'Powai', 'Guntur', 'Kalpakkam', 'Bhopal', 'Coimbatore',\n",
       "       'Worli', 'Alleppey', 'Chandigarh', 'Guindy', 'Lucknow',\n",
       "       'Telangana', 'Gurugram', 'Surat', 'Uttar pradesh', 'Rajasthan',\n",
       "       'Tirunelveli', None, 'Singapore', 'Gujarat', 'Kerala', 'Frisco',\n",
       "       'California', 'Dhingsara', 'New York', 'Patna', 'San Francisco',\n",
       "       'San Ramon', 'Paris', 'Plano', 'Sydney', 'San Francisco Bay Area',\n",
       "       'Bangaldesh', 'London', 'Milano', 'Palmwoods', 'France',\n",
       "       'Samastipur', 'Irvine', 'Tumkur', 'Newcastle Upon Tyne',\n",
       "       'Shanghai', 'Jiaxing', 'Rajastan', 'Ludhiana', 'Dehradun',\n",
       "       'San Franciscao', 'Tangerang', 'Berlin', 'Seattle', 'Riyadh',\n",
       "       'Seoul', 'Bangkok', 'Warangal', 'Hyderebad', 'Odisha', 'Bihar',\n",
       "       'Goa', 'Tamil Nadu', 'Banglore', 'Ahmadabad',\n",
       "       'Small Towns, Andhra Pradesh', 'Rajsamand', 'Ranchi',\n",
       "       'Faridabad, Haryana', 'Nan', 'Vadodara', 'hauz khas', 'NaN',\n",
       "       'Nagpur', 'West Bengal', 'Samsitpur', 'Silvassa',\n",
       "       'Thiruvananthapuram', 'Roorkee', 'Ambernath', 'Panchkula',\n",
       "       'Mangalore', 'Telugana', 'Bhubaneswar', 'Kottayam', 'Beijing',\n",
       "       'Panaji', 'Satara', 'Orissia', 'Santra', 'Mountain View, CA',\n",
       "       'Jharkhand', 'Bhilwara', 'Guwahati',\n",
       "       'Manchester, greater manchester', 'The Nilgiris', 'Gandhinagar'],\n",
       "      dtype=object)"
      ]
     },
     "execution_count": 225,
     "metadata": {},
     "output_type": "execute_result"
    }
   ],
   "source": [
    "df_concat['Location'].unique()"
   ]
  },
  {
   "cell_type": "code",
   "execution_count": 226,
   "metadata": {},
   "outputs": [],
   "source": [
    "#since Bengaluru and Bangalore are the same city, we will replace Bangalore with Bengaluru since the later is the official name of the city\n",
    "\n",
    "df_concat['Location']=df_concat['Location'].str.replace('Bangalore', 'Bengaluru')\n",
    "df_concat['Location']=df_concat['Location'].str.replace('Banglore', 'Bengaluru')"
   ]
  },
  {
   "cell_type": "code",
   "execution_count": 227,
   "metadata": {},
   "outputs": [
    {
     "data": {
      "text/plain": [
       "array(['Bengaluru', 'Mumbai', 'Gurgaon', 'Noida', 'Hyderabad', 'Kalkaji',\n",
       "       'Delhi', 'India', 'Hubli', 'New Delhi', 'Chennai', 'Mohali',\n",
       "       'Kolkata', 'Pune', 'Jodhpur', 'Kanpur', 'Ahmedabad', 'Azadpur',\n",
       "       'Haryana', 'Cochin', 'Faridabad', 'Jaipur', 'Kota', 'Anand',\n",
       "       'Bengaluru City', 'Belgaum', 'Thane', 'Margão', 'Indore', 'Alwar',\n",
       "       'Kannur', 'Trivandrum', 'Ernakulam', 'Kormangala', 'Uttar Pradesh',\n",
       "       'Andheri', 'Mylapore', 'Ghaziabad', 'Kochi', 'Powai', 'Guntur',\n",
       "       'Kalpakkam', 'Bhopal', 'Coimbatore', 'Worli', 'Alleppey',\n",
       "       'Chandigarh', 'Guindy', 'Lucknow', 'Telangana', 'Gurugram',\n",
       "       'Surat', 'Uttar pradesh', 'Rajasthan', 'Tirunelveli', None,\n",
       "       'Singapore', 'Gujarat', 'Kerala', 'Frisco', 'California',\n",
       "       'Dhingsara', 'New York', 'Patna', 'San Francisco', 'San Ramon',\n",
       "       'Paris', 'Plano', 'Sydney', 'San Francisco Bay Area', 'Bangaldesh',\n",
       "       'London', 'Milano', 'Palmwoods', 'France', 'Samastipur', 'Irvine',\n",
       "       'Tumkur', 'Newcastle Upon Tyne', 'Shanghai', 'Jiaxing', 'Rajastan',\n",
       "       'Ludhiana', 'Dehradun', 'San Franciscao', 'Tangerang', 'Berlin',\n",
       "       'Seattle', 'Riyadh', 'Seoul', 'Bangkok', 'Warangal', 'Hyderebad',\n",
       "       'Odisha', 'Bihar', 'Goa', 'Tamil Nadu', 'Ahmadabad',\n",
       "       'Small Towns, Andhra Pradesh', 'Rajsamand', 'Ranchi',\n",
       "       'Faridabad, Haryana', 'Nan', 'Vadodara', 'hauz khas', 'NaN',\n",
       "       'Nagpur', 'West Bengal', 'Samsitpur', 'Silvassa',\n",
       "       'Thiruvananthapuram', 'Roorkee', 'Ambernath', 'Panchkula',\n",
       "       'Mangalore', 'Telugana', 'Bhubaneswar', 'Kottayam', 'Beijing',\n",
       "       'Panaji', 'Satara', 'Orissia', 'Santra', 'Mountain View, CA',\n",
       "       'Jharkhand', 'Bhilwara', 'Guwahati',\n",
       "       'Manchester, greater manchester', 'The Nilgiris', 'Gandhinagar'],\n",
       "      dtype=object)"
      ]
     },
     "execution_count": 227,
     "metadata": {},
     "output_type": "execute_result"
    }
   ],
   "source": [
    "df_concat['Location'].unique()"
   ]
  },
  {
   "cell_type": "markdown",
   "metadata": {},
   "source": [
    "### Univariate Analysis"
   ]
  },
  {
   "cell_type": "code",
   "execution_count": 228,
   "metadata": {},
   "outputs": [],
   "source": [
    "num_cols=df_concat.select_dtypes(include='number')\n"
   ]
  },
  {
   "cell_type": "code",
   "execution_count": 229,
   "metadata": {},
   "outputs": [
    {
     "data": {
      "image/png": "[encoded data removed]",
      "text/plain": [
       "<Figure size 640x480 with 1 Axes>"
      ]
     },
     "metadata": {},
     "output_type": "display_data"
    },
    {
     "data": {
      "image/png": "[encoded data removed]",
      "text/plain": [
       "<Figure size 640x480 with 1 Axes>"
      ]
     },
     "metadata": {},
     "output_type": "display_data"
    },
    {
     "data": {
      "image/png": "[encoded data removed]",
      "text/plain": [
       "<Figure size 640x480 with 1 Axes>"
      ]
     },
     "metadata": {},
     "output_type": "display_data"
    }
   ],
   "source": [
    "for column in num_cols:\n",
    "    plt.hist(df_concat[column], bins=10, histtype='bar')\n",
    "    plt.title(f'The distribution of {column}')\n",
    "    plt.xlabel(column)\n",
    "    plt.ylabel('Frequency')\n",
    "    plt.show()"
   ]
  },
  {
   "cell_type": "markdown",
   "metadata": {},
   "source": [
    "**Observations**\n",
    "\n",
    "- 2019 recorded the lowest funding frequency, this might be due to the covid 19 pandemic, there was a steep increase from 2019 to 2020, 2021 had the highest funding frequency\n",
    "\n",
    "- The Amount column is skewed to the right with concentration at the left (lower) end\n",
    "\n",
    "- Majority of Companies were founded between 2010 and 2021"
   ]
  },
  {
   "cell_type": "markdown",
   "metadata": {},
   "source": [
    "**Treating Outliers in the Amount column**"
   ]
  },
  {
   "cell_type": "code",
   "execution_count": null,
   "metadata": {},
   "outputs": [],
   "source": [
    "#Calculating the 25th and 75th quantiles to identify the upper and lower limits\n",
    "\n",
    "seventy_fifth = df_concat['Amount'].quantile(0.75)\n",
    "twenty_fifth = df_concat['Amount'].quantile(0.25)\n",
    "\n",
    "iqr_amount = seventy_fifth-twenty_fifth \n",
    "\n",
    "upper = seventy_fifth+(1.5*iqr_amount)\n",
    "lower = twenty_fifth-(1.5*iqr_amount)\n",
    "\n",
    "outlier_rows = df_concat[(df_concat['Amount'] > upper) | (df_concat['Amount'] < lower)]\n"
   ]
  },
  {
   "cell_type": "code",
   "execution_count": null,
   "metadata": {},
   "outputs": [],
   "source": [
    "#Creating a new dataframe without the outliers in the Amount column\n",
    "\n",
    "df_no_outlier = df_concat[(df_concat.Amount > lower ) & (df_concat.Amount<upper)]\n",
    "\n",
    "\n"
   ]
  },
  {
   "cell_type": "code",
   "execution_count": null,
   "metadata": {},
   "outputs": [],
   "source": [
    "\n",
    "#Checking the ditribution of the Amount column using box plot\n",
    "plt.figure(figsize=(5,2))\n",
    "sns.boxplot(x='Amount', data=df_no_outlier)\n",
    "plt.xticks(rotation=45)\n",
    "plt.title('The distribution of Amount after removing outliers')\n",
    "plt.show()\n",
    "\n",
    "\n",
    "plt.figure(figsize=(5,2))\n",
    "plt.hist(df_no_outlier['Amount'], bins=10)\n",
    "plt.xticks(rotation=90)\n",
    "plt.xlabel('Amount Recieved')\n",
    "plt.ylabel('Frequency')\n",
    "plt.show()"
   ]
  },
  {
   "cell_type": "code",
   "execution_count": null,
   "metadata": {},
   "outputs": [],
   "source": [
    "cat_cols=df_concat.select_dtypes(include='object').columns\n",
    "cat_cols\n"
   ]
  },
  {
   "cell_type": "code",
   "execution_count": null,
   "metadata": {},
   "outputs": [],
   "source": [
    "\n",
    "plt.figure(figsize=(5,2))\n",
    "plt.hist(df_no_outlier['Main_Sector'])\n",
    "plt.title('The distribution of Main Sectors')\n",
    "plt.xticks(rotation=90)\n",
    "plt.xlabel('Main Sectors')\n",
    "plt.ylabel('Frequency')\n",
    "plt.show()\n"
   ]
  },
  {
   "cell_type": "code",
   "execution_count": null,
   "metadata": {},
   "outputs": [],
   "source": [
    "plt.figure(figsize=(5,2))\n",
    "plt.hist(df_no_outlier['Company_Brand'])\n",
    "plt.title('The distribution of Company Brand')\n",
    "plt.xticks([])\n",
    "plt.xlabel('Company Brand')\n",
    "plt.ylabel('Frequency')\n",
    "plt.show()\n"
   ]
  },
  {
   "cell_type": "code",
   "execution_count": null,
   "metadata": {},
   "outputs": [],
   "source": [
    "plt.figure(figsize=(5,2))\n",
    "plt.hist(df_no_outlier['Stage'])\n",
    "plt.title('The distribution of Stage of Company')\n",
    "plt.xticks(rotation=90)\n",
    "plt.xlabel('Stage')\n",
    "plt.ylabel('Frequency')\n",
    "plt.show()"
   ]
  },
  {
   "cell_type": "markdown",
   "metadata": {},
   "source": [
    "### Bi-variate Analysis\n"
   ]
  },
  {
   "cell_type": "code",
   "execution_count": null,
   "metadata": {},
   "outputs": [],
   "source": [
    "#Reducing the Amount values by 10,000 to make values more readable\n",
    "\n",
    "df_no_outlier['Amount(10000)']=df_no_outlier['Amount']/10000\n"
   ]
  },
  {
   "cell_type": "markdown",
   "metadata": {},
   "source": [
    "## Questions 1 & 2\n",
    "\n",
    "#### What is the average amount of funding received in 2018 compared to 2019?\n",
    "#### What is the average amount of funding received in 2020 compared to 2021?"
   ]
  },
  {
   "cell_type": "code",
   "execution_count": null,
   "metadata": {},
   "outputs": [],
   "source": [
    "avg_fund_yr=df_no_outlier.groupby('Year')['Amount(10000)'].agg([('Average Fund','mean'), ('Total Fund','sum')])\n",
    "avg_fund_yr\n"
   ]
  },
  {
   "cell_type": "code",
   "execution_count": null,
   "metadata": {},
   "outputs": [],
   "source": [
    "\n",
    "avg_fund_yr.plot.line( y=['Average Fund'], figsize=(5,2) )\n",
    "plt.title('The trend of average funding per year')\n",
    "plt.xlabel('Year')\n",
    "plt.ylabel('Amount(10,000)')\n",
    "plt.legend([])\n",
    "plt.show()\n",
    "\n",
    "\n",
    "avg_fund_yr.plot.bar(y=['Average Fund'], figsize=(5,2))\n",
    "plt.title('The trend of average funding per year')\n",
    "plt.xlabel('Year')\n",
    "plt.ylabel('Amount(10,000)')\n",
    "plt.legend([])\n",
    "plt.show()"
   ]
  },
  {
   "cell_type": "markdown",
   "metadata": {},
   "source": [
    "#### Observations\n",
    "\n",
    "- 2019 is the year with highest average funding\n",
    "- The average funding recieved in 2019 is higher than that of 2018\n",
    "- The average funding recieved in 2020 is slighly higher than that of 2021\n"
   ]
  },
  {
   "cell_type": "markdown",
   "metadata": {},
   "source": [
    "## Questions 3\n",
    "\n",
    "#### How has the funding trend been from 2018 to 2021?\n",
    "\n"
   ]
  },
  {
   "cell_type": "code",
   "execution_count": null,
   "metadata": {},
   "outputs": [],
   "source": [
    "avg_fund_yr.plot.line( y=['Total Fund'], figsize=(5,2) )\n",
    "plt.title('The trend of Total funding per year')\n",
    "plt.ylabel('Amount(10,000)')\n",
    "plt.xlabel([])\n",
    "plt.legend([])\n",
    "plt.show()\n",
    "\n",
    "\n",
    "avg_fund_yr.plot.bar( y=['Total Fund'], figsize=(5,2) )\n",
    "plt.xlabel('Year')\n",
    "plt.ylabel('Amount(10,000)')\n",
    "plt.legend([])\n",
    "plt.show()"
   ]
  },
  {
   "cell_type": "markdown",
   "metadata": {},
   "source": [
    "#### Observations\n",
    "\n",
    "- Total fundind fell from 2018 t0 2019 and rose from 2019 to 2021\n",
    "- 2021 recorded the highest funding followed by 2020 and 2018\n",
    "- 2019 recieved the lowest total funding, despite been the year with the highest average funding, this might be due to the covid 19 pandemic.   \n"
   ]
  },
  {
   "cell_type": "code",
   "execution_count": null,
   "metadata": {},
   "outputs": [],
   "source": [
    "#Grouping start-up companies per their total funding amount recieved  \n",
    "fund_per_startup_top10=df_no_outlier.groupby('Company_Brand')['Amount(10000)'].agg([('Total fund', 'sum')]).sort_values(by='Total fund', ascending=False).head(10)\n",
    "fund_per_startup_top10\n"
   ]
  },
  {
   "cell_type": "code",
   "execution_count": null,
   "metadata": {},
   "outputs": [],
   "source": [
    "fund_per_startup_top10.plot.bar( y=['Total fund'], figsize=(5,2) )\n",
    "plt.title('Top 10 start-ups that recieved the highest funding')\n",
    "plt.xlabel('Company')\n",
    "plt.ylabel('Amount(10,000)')\n",
    "plt.legend([])\n",
    "plt.show()"
   ]
  },
  {
   "cell_type": "markdown",
   "metadata": {},
   "source": [
    "#### Observations\n",
    "\n",
    "- **Aye Finance** was the start-up that recieved the highest funding\n"
   ]
  },
  {
   "cell_type": "markdown",
   "metadata": {},
   "source": [
    "## Questions 5\n",
    "\n",
    "#### Which are the top 10 cities with more start-ups?\n"
   ]
  },
  {
   "cell_type": "code",
   "execution_count": null,
   "metadata": {},
   "outputs": [],
   "source": [
    "top10_cities_per_startups=df_no_outlier.groupby('Location')['Company_Brand'].agg([('Number 0f Start-ups', 'count')]).\\\n",
    "                            sort_values(by='Number 0f Start-ups', ascending=False).head(10)\n",
    "top10_cities_per_startups\n"
   ]
  },
  {
   "cell_type": "code",
   "execution_count": null,
   "metadata": {},
   "outputs": [],
   "source": [
    "top10_cities_per_startups.plot.bar( y=['Number 0f Start-ups'], figsize=(5,2) )\n",
    "plt.title('The top 10 cities with more start-ups')\n",
    "plt.xlabel('Cities')\n",
    "plt.ylabel('Number 0f Start-ups')\n",
    "plt.legend([])\n",
    "plt.show()"
   ]
  },
  {
   "cell_type": "markdown",
   "metadata": {},
   "source": [
    "#### Observations\n",
    "\n",
    "- The Top 10 cities with most start-ups counts as shown in the chart above\n",
    "- Bengaluru is the city with most start-ups followed by Mumbai, Gurugram, New Delhi, Chennai, Pune, Hyderabad, Gurgaon, Noida and Delhi respectively\n"
   ]
  },
  {
   "cell_type": "markdown",
   "metadata": {},
   "source": [
    "## Questions 6\n",
    "\n",
    "#### Which are the top 10 cities that attract most start-up funding?\n"
   ]
  },
  {
   "cell_type": "code",
   "execution_count": null,
   "metadata": {},
   "outputs": [],
   "source": [
    "top10_cities_per_fund=df_no_outlier.groupby('Location')['Amount(10000)'].agg([('Total Funds', 'sum'), ('Average Funds', 'mean')]).\\\n",
    "                            sort_values(by='Total Funds', ascending=False).head(10)\n",
    "\n",
    "av_top10_cities_per_fund=top10_cities_per_fund.sort_values(by='Average Funds', ascending=False)\n",
    "top10_cities_per_fund"
   ]
  },
  {
   "cell_type": "code",
   "execution_count": null,
   "metadata": {},
   "outputs": [],
   "source": [
    "top10_cities_per_fund.plot.bar(y=['Total Funds'], figsize=(5,2))\n",
    "\n",
    "plt.title('The total funding recieved by top 10 cities')\n",
    "plt.xlabel('Cities')\n",
    "plt.ylabel('Total fund (10,000)')\n",
    "plt.legend([])\n",
    "plt.show()\n",
    "\n",
    "\n",
    "av_top10_cities_per_fund.plot.bar(y=['Average Funds'], figsize=(5,2))\n",
    "\n",
    "plt.title('The average funding of top 10 cities')\n",
    "plt.xlabel('Cities')\n",
    "plt.ylabel('Average funding (10,000)')\n",
    "plt.legend([])\n",
    "plt.show()"
   ]
  },
  {
   "cell_type": "markdown",
   "metadata": {},
   "source": [
    "#### Observations\n",
    "\n",
    "- We observe that when you look at total revenue Bengaluru was the city that recieves the highest funding, followed by Mumbai, Gurugram, New Delhi, Chennai, Pune, Gurgaon, Noida, Hyderabad and Delhi respectively\n",
    "\n",
    "- We also observe that on the average companies in Gurugram received the highest funding followed by Bengaluru, Mumbai, New Delhi, Chennai, Gurgaon, Noida, Pune, Delhi and Hyderabad respectively. \n",
    "\n"
   ]
  },
  {
   "cell_type": "markdown",
   "metadata": {},
   "source": [
    "## Questions 7\n",
    "\n",
    "#### Which are the top 10 sectors that attract most start-up funding?\n"
   ]
  },
  {
   "cell_type": "code",
   "execution_count": null,
   "metadata": {},
   "outputs": [],
   "source": [
    "top_sector_per_fund=df_no_outlier.groupby('Main_Sector')['Amount(10000)'].agg([('Average Fund', 'mean'), ('Total Fund', 'sum')]).\\\n",
    "                        sort_values(by='Total Fund', ascending =False)\n",
    "\n",
    "av_top_sector_per_fund=top_sector_per_fund.sort_values(by='Average Fund', ascending=False)\n"
   ]
  },
  {
   "cell_type": "code",
   "execution_count": null,
   "metadata": {},
   "outputs": [],
   "source": [
    "top_sector_per_fund.plot.bar(y=['Total Fund'], figsize=(5,2))\n",
    "\n",
    "plt.title('The total funding recieved by Sectors')\n",
    "plt.xlabel('Cities')\n",
    "plt.ylabel('Total fund (10,000)')\n",
    "plt.legend([])\n",
    "plt.show()\n",
    "\n",
    "\n",
    "\n",
    "av_top_sector_per_fund.plot.bar(y=['Average Fund'], figsize=(5,2))\n",
    "\n",
    "plt.title('The average funding of recieved by Sectors')\n",
    "plt.xlabel('Cities')\n",
    "plt.ylabel('Average fund(10,000)')\n",
    "plt.legend([])\n",
    "plt.show()"
   ]
  },
  {
   "cell_type": "markdown",
   "metadata": {},
   "source": [
    "#### Observations\n",
    "\n",
    "- Fintech is the sector that recieved most funding in terms of total funding followed by Technology, Retail, Food and Agric, Education, Healthcare, Services, Tavel & hospitality & Fahion, Manufacturing, Media and intertainment, Construction, Banking & Finance, and Automotive respectively\n",
    "\n",
    "- On the average the companies in Funtech sector recieved more funding, followed by Manufacturing, Construction, Food & Agric, Service, Retail, Healthcare, Travel & Hospitality and Fashion, Education, Automotive, Technology, Banking & Finance and Media and Entertainment \n"
   ]
  },
  {
   "cell_type": "markdown",
   "metadata": {},
   "source": [
    "## Questions 8\n",
    "\n",
    "#### How has the funding trend been for the sectors over the years?\n"
   ]
  },
  {
   "cell_type": "code",
   "execution_count": null,
   "metadata": {},
   "outputs": [],
   "source": [
    "\n",
    "top_sector_year_per_fund=df_no_outlier.groupby(['Main_Sector','Year'])['Amount(10000)'].agg([('Average Fund', 'mean'), ('Total Fund', 'sum')]).\\\n",
    "                        sort_values(by=['Total Fund','Year'], ascending =False)\n",
    "\n",
    "top_sector_year_per_fund.head(2)\n",
    "#converting the groupby ouput into a dataset\n",
    "\n",
    "df_top_sector_year_per_fund=top_sector_year_per_fund.reset_index()\n"
   ]
  },
  {
   "cell_type": "code",
   "execution_count": null,
   "metadata": {},
   "outputs": [],
   "source": [
    "plt.figure(figsize=(7,4))\n",
    "sns.catplot(df_top_sector_year_per_fund, x = 'Main_Sector', y='Total Fund', kind='swarm', hue='Year', palette='viridis', height=3, aspect=2)\n",
    "plt.title('Funding trend among Sectors over the Years')\n",
    "plt.xticks(rotation=90)\n",
    "plt.ylabel('Total Fund (10,000)')\n",
    "plt.show()\n",
    "\n",
    "plt.figure(figsize=(7,4))\n",
    "sns.catplot(df_top_sector_year_per_fund, x = 'Year', y='Total Fund', kind='swarm', hue='Main_Sector', palette='bright', height=5, aspect=2)\n",
    "plt.xticks(rotation=90)\n",
    "plt.ylabel('Total Fund (10,000)')\n",
    "plt.show()"
   ]
  },
  {
   "cell_type": "markdown",
   "metadata": {},
   "source": [
    "#### Observations\n",
    "\n",
    "- In the first plot we notice Fintech recieved very low funding in 2018 and 2019, in 2020 and 2021 Fintech recieved the highest funding\n",
    "- In the second plot we noticed in 2018, Retail recieved the highest funding, in 2019 food and Agric recieved the highest funding and in 2020 and 2021 fintech recieved the highest funding in total.\n",
    "- We also noticed Technology, Retail and Education recieved high funding in 2020 and 2021.\n"
   ]
  },
  {
   "cell_type": "markdown",
   "metadata": {},
   "source": [
    "## Questions 9\n",
    "\n",
    "#### Which is the predominant Stage with more start-ups?\n",
    "\n"
   ]
  },
  {
   "cell_type": "code",
   "execution_count": null,
   "metadata": {},
   "outputs": [],
   "source": [
    "\n",
    "stage_most_startups=df_no_outlier.groupby('Stage')['Company_Brand'].\\\n",
    "                                agg([('Number of Companies', 'count')]).\\\n",
    "                                sort_values(by='Number of Companies', ascending=False)\n",
    "stage_most_startups\n",
    "df_stage_most_startups=stage_most_startups.reset_index()\n"
   ]
  },
  {
   "cell_type": "code",
   "execution_count": null,
   "metadata": {},
   "outputs": [],
   "source": [
    "df_stage_most_startups.plot.bar(x='Stage', y='Number of Companies', figsize=(5,2))\n",
    "plt.title('The Stage of Start-ups')\n",
    "plt.ylabel('Number of Companies')\n",
    "plt.legend([])\n",
    "plt.show()\n"
   ]
  },
  {
   "cell_type": "markdown",
   "metadata": {},
   "source": [
    "#### Observations\n",
    "\n",
    "- Majority of the companies are at the Seed Stage, followed by Series A, Series B, Series C and Bridge Rounds respectively \n"
   ]
  },
  {
   "cell_type": "markdown",
   "metadata": {},
   "source": [
    "## Questions 10\n",
    "\n",
    "\n",
    "#### Which startup stage received most funding"
   ]
  },
  {
   "cell_type": "code",
   "execution_count": null,
   "metadata": {},
   "outputs": [],
   "source": [
    "stage_fund=df_no_outlier.groupby('Stage')['Amount(10000)'].\\\n",
    "                                agg([('Total Fund', 'sum'), ('Average Fund', 'mean')]).\\\n",
    "                                sort_values(by='Total Fund', ascending=False)\n",
    "stage_fund\n"
   ]
  },
  {
   "cell_type": "code",
   "execution_count": null,
   "metadata": {},
   "outputs": [],
   "source": [
    "#sorting by average funding in decending order\n",
    "av_stage_fund=stage_fund.sort_values(by='Average Fund', ascending=False)\n"
   ]
  },
  {
   "cell_type": "code",
   "execution_count": null,
   "metadata": {},
   "outputs": [],
   "source": [
    "#plotting bar charts\n",
    "av_stage_fund.plot.bar(y='Average Fund', figsize=(5,2))\n",
    "plt.title('Top Stage per average funding recieved')\n",
    "plt.ylabel('Amount(10,000)')\n",
    "plt.legend([])\n",
    "plt.show()\n",
    "\n",
    "stage_fund.plot.bar( y='Total Fund', figsize=(5,2))\n",
    "plt.title('Top Stage per Total Funding recieved')\n",
    "plt.ylabel('Amount(10,000)')\n",
    "plt.legend([])\n",
    "plt.show()"
   ]
  },
  {
   "cell_type": "markdown",
   "metadata": {},
   "source": [
    "#### Observations\n",
    "\n",
    "- On the average Series C recieved more funding followed by Series B, Bridge Rounds, Series A and Seed Stage respectively\n",
    "- Comparing total funding, Seed Stage recieved more funding followed by Series A, Series B, Series C and Bridge Rounds respectively  \n"
   ]
  },
  {
   "cell_type": "markdown",
   "metadata": {},
   "source": [
    "## Questions 11\n",
    "\n",
    "#### How has the funding trend been for the Stages over the years?\n"
   ]
  },
  {
   "cell_type": "code",
   "execution_count": null,
   "metadata": {},
   "outputs": [],
   "source": [
    "top_stage_year_per_fund=df_no_outlier.groupby(['Stage','Year'])['Amount(10000)'].agg([('Average Fund', 'mean'), ('Total Fund', 'sum')]).\\\n",
    "                        sort_values(by=['Total Fund','Year'], ascending =False)\n",
    "\n",
    "top_stage_year_per_fund.head()\n",
    "df_top_stage_year_per_fund=top_stage_year_per_fund.reset_index()\n",
    "av_df_top_stage_year_per_fund=df_top_stage_year_per_fund.sort_values(by='Average Fund', ascending=False)\n"
   ]
  },
  {
   "cell_type": "code",
   "execution_count": null,
   "metadata": {},
   "outputs": [],
   "source": [
    "plt.figure(figsize=(7,4))\n",
    "sns.catplot(df_top_stage_year_per_fund, x = 'Year', y='Total Fund', kind='swarm', hue='Stage', palette='bright', height=3, aspect=1)\n",
    "plt.title('Funding trend among Stages over the Years')\n",
    "plt.xticks(rotation=90)\n",
    "plt.ylabel('Amount(10,000)')\n",
    "plt.show()\n",
    "\n",
    "plt.figure(figsize=(7,4))\n",
    "sns.catplot(av_df_top_stage_year_per_fund, x = 'Year', y='Average Fund', kind='swarm', hue='Stage', palette='bright', height=3, aspect=1)\n",
    "plt.title('Average funding trend among Stages over the Years')\n",
    "plt.xticks(rotation=90)\n",
    "plt.ylabel('Amount(10,000)')\n",
    "plt.show()"
   ]
  },
  {
   "cell_type": "markdown",
   "metadata": {},
   "source": [
    "#### Observations\n",
    "\n",
    "- On the average Series C recieved most funding across all the years followed by Series B with similar trend\n",
    "- Series A recieved the highest Total funding in 2018 and 2020 and Seed Stage recieving highest funding in 2019 and 2021\n"
   ]
  },
  {
   "cell_type": "code",
   "execution_count": null,
   "metadata": {},
   "outputs": [],
   "source": [
    "plt.figure(figsize=(7,4))\n",
    "sns.catplot(df_top_stage_year_per_fund, x = 'Stage', y='Total Fund', kind='swarm', hue='Year', palette='viridis', height=3, aspect=1)\n",
    "plt.title('Funding trend among Stages over the Years')\n",
    "plt.xticks(rotation=90)\n",
    "plt.ylabel('Amount(10,000)')\n",
    "plt.show()\n",
    "\n",
    "plt.figure(figsize=(7,4))\n",
    "sns.catplot(av_df_top_stage_year_per_fund, x = 'Stage', y='Average Fund', kind='swarm', hue='Year', palette='viridis', height=3, aspect=1)\n",
    "plt.title('Average funding trend among Stages over the Years')\n",
    "plt.xticks(rotation=90)\n",
    "plt.ylabel('Amount(10,000)')\n",
    "plt.show()"
   ]
  },
  {
   "cell_type": "markdown",
   "metadata": {},
   "source": [
    "#### Observations\n",
    "\n",
    "- Seed Stage recieved the highest funding in 2021\n",
    "- Series A recieved the highest funding in 2020\n",
    "- Series B recieved the highest funding in 2021\n",
    "- Series C recieved the highest funding in 2020\n",
    "\n",
    "- Companies in Series C stage recieved more funding on the average, in 2019, 2018, 2020 and 2021 respectively\n"
   ]
  },
  {
   "cell_type": "markdown",
   "metadata": {},
   "source": [
    "## Hypothesis Tests\n",
    "\n",
    "- A significance level (α) of 5% will used to perform all the hypothesis testing\n"
   ]
  },
  {
   "cell_type": "code",
   "execution_count": null,
   "metadata": {},
   "outputs": [],
   "source": [
    "from scipy.stats import ttest_ind\n"
   ]
  },
  {
   "cell_type": "markdown",
   "metadata": {},
   "source": [
    "\n",
    "\n",
    "**1 The amount of funding received by start-ups in Bengaluru is more or equal to that of New Delhi**\n",
    "\n",
    "**2 The average amount of funding received Fintech is more than or equal to the average amount of funding** \n",
    "\n",
    "**3 The average amount of funding received in 2020 is less than or equal to that of 2021**\n",
    "\n",
    "**4 The average amount of funding received in 2018 is more than or equal to that of 2019** \n",
    "\n",
    "**5 Companies that are 5 years and above receive less than or equal average amount of funding**\n"
   ]
  },
  {
   "cell_type": "markdown",
   "metadata": {},
   "source": [
    "### 1\n",
    "\n",
    "Let  μ1,μ2 be the mean amount of funds recieved by Bengaluru and New Delhi respectively\n",
    "\n",
    "The null hypothesis : The amount of funding recieved by start-ups in Bengaluru is more or equal to that of New Delhi \n",
    "\n",
    "Ho:μ1>=μ2\n",
    " \n",
    "The alternate hypothesis :The amount of funding recieved by start-ups in Bengaluru is less than that of New Delhi \n",
    "\n",
    "Ha:μ1<μ2\n",
    " "
   ]
  },
  {
   "cell_type": "code",
   "execution_count": null,
   "metadata": {},
   "outputs": [],
   "source": [
    "\n",
    "#printing means and standard deviations of amount recieved by Bengaluru and New Delhi\n",
    "\n",
    "print('The mean amount recieved by start-ups in Bengaluru is ' + str(round(df_no_outlier[df_no_outlier['Location']=='Bengaluru']['Amount(10000)'].mean(), 2)))\n",
    "print('The mean amount recieved by start-ups in New Delhi is ' + str(round(df_no_outlier[df_no_outlier['Location']=='New Delhi']['Amount(10000)'].mean(), 2)))\n",
    "print('The standard deviation of amount recieved by start-ups in Bengaluru is ' + str(round(df_no_outlier[df_no_outlier['Location']=='Bengaluru']['Amount(10000)'].std(), 2)))\n",
    "print('The standard deviation of amount recieved by start-ups in New Delhi is ' + str(round(df_no_outlier[df_no_outlier['Location']=='New Delhi']['Amount(10000)'].std(), 2)))\n"
   ]
  },
  {
   "cell_type": "code",
   "execution_count": null,
   "metadata": {},
   "outputs": [],
   "source": [
    "\n",
    "Benga_amount=df_no_outlier[df_no_outlier['Location']=='Bengaluru']['Amount(10000)']\n",
    "\n",
    "\n",
    "#amount recieved by start-ups in New Delhi\n",
    "newdel_amount=df_no_outlier[df_no_outlier['Location']=='New Delhi']['Amount(10000)']\n"
   ]
  },
  {
   "cell_type": "code",
   "execution_count": null,
   "metadata": {},
   "outputs": [],
   "source": [
    "# Calculating the p-value\n",
    "\n",
    "\n",
    "test_stat, p_value=ttest_ind(Benga_amount,newdel_amount, equal_var=False, alternative='less')\n",
    "print(f'The p-value is:  {p_value}\\nThe Test statistics is: {test_stat}')\n"
   ]
  },
  {
   "cell_type": "code",
   "execution_count": null,
   "metadata": {},
   "outputs": [],
   "source": [
    "# Comparing the p-value with α\n",
    "if p_value < 0.05:\n",
    "    print(f'As the p-value {p_value} is less than the level of significance, we reject the null hypothesis.')\n",
    "else:\n",
    "    print(f'As the p-value {p_value} is greater than the level of significance, we fail to reject the null hypothesis.')\n"
   ]
  },
  {
   "cell_type": "markdown",
   "metadata": {},
   "source": [
    "**Remarks**\n",
    "\n",
    "- Since the pvalue (~0.97221) is greater than the level of significance(α=0.05), we fail to reject the null hypothesis. Hence, we have enough statistical evidence to say that the amount of funding recieved by start-ups in Bengaluru is more than or equal to that of New Delhi.\n"
   ]
  },
  {
   "cell_type": "markdown",
   "metadata": {},
   "source": [
    "### 2\n",
    "\n",
    "Let  μ1,μ2 be the mean amount of funds received by Fintech and Sectors respectively\n",
    "\n",
    "The null hypothesis : The average amount of funding received Fintech is more than or equal to the average amount of funding for all Sectors\n",
    "\n",
    "Ho:μ1>=μ2\n",
    " \n",
    "The alternate hypothesis :The average amount of funding received Fintech is less the average amount of funding for all sectors\n",
    "\n",
    "Ha:μ1<μ2"
   ]
  },
  {
   "cell_type": "code",
   "execution_count": null,
   "metadata": {},
   "outputs": [],
   "source": [
    "\n",
    "#printing means and standard deviations of amount recieved by Fintech and Across Sectors\n",
    "\n",
    "print('The mean amount of funding received by Fintech is ' + str(round(df_no_outlier[df_no_outlier['Main_Sector']=='Fintech']['Amount(10000)'].mean(), 2)))\n",
    "print('The mean amount of funding received by Sectors is ' + str(round(df_no_outlier[df_no_outlier['Main_Sector']!='None']['Amount(10000)'].mean(), 2)))\n",
    "print('The standard deviation of amount of funding received by Fintech is ' + str(round(df_no_outlier[df_no_outlier['Main_Sector']=='Fintech']['Amount(10000)'].std(), 2)))\n",
    "print('The standard deviation of amount of funding received by Sectors is ' + str(round(df_no_outlier[df_no_outlier['Main_Sector']!='None']['Amount(10000)'].std(), 2)))\n"
   ]
  },
  {
   "cell_type": "code",
   "execution_count": null,
   "metadata": {},
   "outputs": [],
   "source": [
    "#amount received by start-ups in Fintech\n",
    "fintech_amount=df_no_outlier[df_no_outlier['Main_Sector']=='Fintech']['Amount(10000)']\n",
    "\n",
    "\n",
    "#amount received by start-ups in all sectors\n",
    "sector_amount=df_no_outlier[df_no_outlier['Main_Sector']!='None']['Amount(10000)']\n"
   ]
  },
  {
   "cell_type": "code",
   "execution_count": null,
   "metadata": {},
   "outputs": [],
   "source": [
    "# Calculating the p-value\n",
    "\n",
    "\n",
    "test_stat, p_value=ttest_ind(fintech_amount,sector_amount, equal_var=False, alternative='less')\n",
    "print(f'The p-value is:  {p_value}\\nThe Test statistics is: {test_stat}')\n"
   ]
  },
  {
   "cell_type": "code",
   "execution_count": null,
   "metadata": {},
   "outputs": [],
   "source": [
    "# Comparing the p-value with α\n",
    "if p_value < 0.05:\n",
    "    print(f'As the p-value {p_value} is less than the level of significance, we reject the null hypothesis.')\n",
    "else:\n",
    "    print(f'As the p-value {p_value} is greater than the level of significance, we fail to reject the null hypothesis.')\n"
   ]
  },
  {
   "cell_type": "markdown",
   "metadata": {},
   "source": [
    "**Remarks**\n",
    "\n",
    "- Since the pvalue (~0.99998) is greater than the level of significance(α=0.05), we fail to reject the null hypothesis. Hence, we have enough statistical evidence to say that the amount of funding recieved by start-ups in Fintech is more than or equal to that of start-ups in all other Sectors.\n"
   ]
  },
  {
   "cell_type": "markdown",
   "metadata": {},
   "source": [
    "### 3\n",
    "\n",
    "Let  μ1,μ2 be the mean amount of funds received in 2020 and 2021 respectively\n",
    "\n",
    "The null hypothesis : The average amount of funding received in 2020 is less than or equal to that of 2021\n",
    "\n",
    "Ho:μ1<=μ2\n",
    " \n",
    "The alternate hypothesis :The average amount of funding received in 2020 is greater than to that of 2021\n",
    "\n",
    "Ha:μ1>μ2"
   ]
  },
  {
   "cell_type": "code",
   "execution_count": null,
   "metadata": {},
   "outputs": [],
   "source": [
    "#printing means and standard deviations of amount received in 2020 and 2021\n",
    "\n",
    "print('The mean amount of funding received  in 2020 is ' + str(round(df_no_outlier[df_no_outlier['Year']==2020]['Amount(10000)'].mean(), 2)))\n",
    "print('The mean amount of funding received in 2021 is ' + str(round(df_no_outlier[df_no_outlier['Year']==2021]['Amount(10000)'].mean(), 2)))\n",
    "print('The standard deviation of amount of funding received in 2020 is ' + str(round(df_no_outlier[df_no_outlier['Year']==2020]['Amount(10000)'].std(), 2)))\n",
    "print('The standard deviation of amount of funding received in 2021 is ' + str(round(df_no_outlier[df_no_outlier['Year']==2021]['Amount(10000)'].std(), 2)))\n"
   ]
  },
  {
   "cell_type": "code",
   "execution_count": null,
   "metadata": {},
   "outputs": [],
   "source": [
    "#amount received by start-ups in 2020\n",
    "amount_2020=df_no_outlier[df_no_outlier['Year']==2020]['Amount(10000)']\n",
    "\n",
    "\n",
    "#amount received by start-ups in 2021\n",
    "amount_2021=df_no_outlier[df_no_outlier['Year']==2021]['Amount(10000)']\n"
   ]
  },
  {
   "cell_type": "code",
   "execution_count": null,
   "metadata": {},
   "outputs": [],
   "source": [
    "# Calculating the p-value\n",
    "\n",
    "\n",
    "test_stat, p_value=ttest_ind(amount_2020,amount_2021, equal_var=False, alternative='greater')\n",
    "print(f'The p-value is:  {p_value}\\nThe Test statistics is: {test_stat}')\n"
   ]
  },
  {
   "cell_type": "code",
   "execution_count": null,
   "metadata": {},
   "outputs": [],
   "source": [
    "\n",
    "# Comparing the p-value with α\n",
    "if p_value < 0.05:\n",
    "    print(f'As the p-value {p_value} is less than the level of significance, we reject the null hypothesis.')\n",
    "else:\n",
    "    print(f'As the p-value {p_value} is greater than the level of significance, we fail to reject the null hypothesis.')\n"
   ]
  },
  {
   "cell_type": "markdown",
   "metadata": {},
   "source": [
    "**Remarks**\n",
    "\n",
    "- Since the pvalue (~0.1969296) is greater than the level of significance(α=0.05), we fail to reject the null hypothesis. Hence, we have enough statistical evidence to say that the amount of funding recieved by start-ups in 2020 is less than or equal to that of start-ups in 2021.\n"
   ]
  },
  {
   "cell_type": "markdown",
   "metadata": {},
   "source": [
    "### 4\n",
    "\n",
    "Let  μ1,μ2 be the mean amount of funds received in 2018 and 2019 respectively\n",
    "\n",
    "The null hypothesis : The average amount of funding received in 2018 is greater than or equal to that of 2019\n",
    "\n",
    "Ho:μ1>=μ2\n",
    " \n",
    "The alternate hypothesis :The average amount of funding received in 2018 is less than that of 2019\n",
    "\n",
    "Ha:μ1<μ2"
   ]
  },
  {
   "cell_type": "code",
   "execution_count": null,
   "metadata": {},
   "outputs": [],
   "source": [
    "\n",
    "#printing means and standard deviations of amount received in 2018 and 2019\n",
    "\n",
    "print('The mean amount of funding received  in 2018 is ' + str(round(df_no_outlier[df_no_outlier['Year']==2018]['Amount(10000)'].mean(), 2)))\n",
    "print('The mean amount of funding received in 2019 is ' + str(round(df_no_outlier[df_no_outlier['Year']==2019]['Amount(10000)'].mean(), 2)))\n",
    "print('The standard deviation of amount of funding received in 2018 is ' + str(round(df_no_outlier[df_no_outlier['Year']==2018]['Amount(10000)'].std(), 2)))\n",
    "print('The standard deviation of amount of funding received in 2019 is ' + str(round(df_no_outlier[df_no_outlier['Year']==2019]['Amount(10000)'].std(), 2)))\n"
   ]
  },
  {
   "cell_type": "code",
   "execution_count": null,
   "metadata": {},
   "outputs": [],
   "source": [
    "#amount received by start-ups in 2018\n",
    "amount_2018=df_no_outlier[df_no_outlier['Year']==2018]['Amount(10000)']\n",
    "\n",
    "\n",
    "#amount received by start-ups in 2019\n",
    "amount_2019=df_no_outlier[df_no_outlier['Year']==2019]['Amount(10000)']\n"
   ]
  },
  {
   "cell_type": "code",
   "execution_count": null,
   "metadata": {},
   "outputs": [],
   "source": [
    "# Calculating the p-value\n",
    "\n",
    "\n",
    "test_stat, p_value=ttest_ind(amount_2018,amount_2019, equal_var=True, alternative='less')\n",
    "print(f'The p-value is:  {p_value}\\nThe Test statistics is: {test_stat}')\n"
   ]
  },
  {
   "cell_type": "code",
   "execution_count": null,
   "metadata": {},
   "outputs": [],
   "source": [
    "# Comparing the p-value with α\n",
    "if p_value < 0.05:\n",
    "    print(f'As the p-value {p_value} is less than the level of significance, we reject the null hypothesis.')\n",
    "else:\n",
    "    print(f'As the p-value {p_value} is greater than the level of significance, we fail to reject the null hypothesis.')\n"
   ]
  },
  {
   "cell_type": "markdown",
   "metadata": {},
   "source": [
    "**Remarks**\n",
    "\n",
    "- Since the pvalue (~0.00000) is less than the level of significance(α=0.05), we reject the null hypothesis. Hence, we not have enough statistical evidence to say that The average amount of funding received in 2018 is greater than or equal to that of 2019.\n"
   ]
  },
  {
   "cell_type": "markdown",
   "metadata": {},
   "source": [
    "### 5\n",
    "\n",
    "Let  μ1,μ2 be the mean amount of funds received in 2018 and 2019 respectively\n",
    "\n",
    "The null hypothesis : Companies that are 5 years and above receive less than or equal average amount of funding\n",
    "\n",
    "Ho:μ1<=μ2\n",
    " \n",
    "The alternate hypothesis :Companies that are below 5 years receive more than average amount of funding\n",
    "\n",
    "Ha:μ1>μ2"
   ]
  },
  {
   "cell_type": "code",
   "execution_count": null,
   "metadata": {},
   "outputs": [],
   "source": []
  },
  {
   "cell_type": "code",
   "execution_count": null,
   "metadata": {},
   "outputs": [],
   "source": []
  },
  {
   "cell_type": "code",
   "execution_count": null,
   "metadata": {},
   "outputs": [],
   "source": []
  },
  {
   "cell_type": "code",
   "execution_count": null,
   "metadata": {},
   "outputs": [],
   "source": []
  },
  {
   "cell_type": "code",
   "execution_count": 230,
   "metadata": {},
   "outputs": [
    {
     "data": {
      "image/png": "[encoded data removed]",
      "text/plain": [
       "<Figure size 1000x600 with 1 Axes>"
      ]
     },
     "metadata": {},
     "output_type": "display_data"
    },
    {
     "data": {
      "image/png": "[encoded data removed]",
      "text/plain": [
       "<Figure size 1000x600 with 1 Axes>"
      ]
     },
     "metadata": {},
     "output_type": "display_data"
    },
    {
     "data": {
      "image/png": "[encoded data removed]",
      "text/plain": [
       "<Figure size 1000x600 with 1 Axes>"
      ]
     },
     "metadata": {},
     "output_type": "display_data"
    }
   ],
   "source": [
    "for column in num_cols:\n",
    "    plt.figure(figsize=(10, 6))\n",
    "    plt.boxplot(df_concat[column], vert=False)\n",
    "    plt.title(f'Box plot of {column}')\n",
    "    plt.xlabel('Values')\n",
    "    plt.ylabel(column)\n",
    "    plt.show()"
   ]
  },
  {
   "cell_type": "markdown",
   "metadata": {},
   "source": [
    "**Observations**\n",
    "\n",
    "- 2019 recorded the lowest funding frequency, this might be due to the covid 19 pandemic, there was a steep increase from 2019 to 2020, 2021 had the highest funding frequency\n",
    "\n",
    "- The Amount column is skewed to the right with concentration at the left (lower) end\n",
    "\n",
    "- Majority of Companies were founded between 2010 and 2021"
   ]
  },
  {
   "cell_type": "code",
   "execution_count": null,
   "metadata": {},
   "outputs": [],
   "source": []
  },
  {
   "cell_type": "code",
   "execution_count": null,
   "metadata": {},
   "outputs": [],
   "source": []
  },
  {
   "cell_type": "code",
   "execution_count": 231,
   "metadata": {
    "tags": []
   },
   "outputs": [
    {
     "data": {
      "text/plain": [
       "Year\n",
       "2018    6.641523e+09\n",
       "2019    3.856397e+09\n",
       "2020    9.004682e+10\n",
       "2021    1.795758e+11\n",
       "Name: Amount, dtype: float64"
      ]
     },
     "execution_count": 231,
     "metadata": {},
     "output_type": "execute_result"
    }
   ],
   "source": [
    "#Looking at the year 2019 was the best year for receiving funding and 2020 was the worst could be as a result of covid \n",
    "fund_trend=df_concat.groupby('Year')['Amount'].sum()\n",
    "fund_trend"
   ]
  },
  {
   "cell_type": "code",
   "execution_count": 232,
   "metadata": {},
   "outputs": [],
   "source": [
    "#fund_trend.plot.bar(title='Startup funding trends from 2018 to 2021')\n"
   ]
  },
  {
   "cell_type": "code",
   "execution_count": 233,
   "metadata": {},
   "outputs": [
    {
     "data": {
      "text/plain": [
       "<Figure size 2500x1500 with 0 Axes>"
      ]
     },
     "metadata": {},
     "output_type": "display_data"
    },
    {
     "data": {
      "image/png": "[encoded data removed]",
      "text/plain": [
       "<Figure size 1500x500 with 1 Axes>"
      ]
     },
     "metadata": {},
     "output_type": "display_data"
    }
   ],
   "source": [
    "plt.figure(figsize=(25,15))\n",
    "sns.catplot(data=df_concat, x='Year', y='Amount', kind='bar',palette ='bright',legend_out=True, aspect=3)\n",
    "plt.xticks(rotation=90)\n",
    "\n",
    "plt.show()"
   ]
  },
  {
   "cell_type": "code",
   "execution_count": 234,
   "metadata": {},
   "outputs": [
    {
     "data": {
      "text/plain": [
       "<Figure size 2500x1500 with 0 Axes>"
      ]
     },
     "metadata": {},
     "output_type": "display_data"
    },
    {
     "data": {
      "image/png": "[encoded data removed]",
      "text/plain": [
       "<Figure size 1500x500 with 1 Axes>"
      ]
     },
     "metadata": {},
     "output_type": "display_data"
    }
   ],
   "source": [
    "plt.figure(figsize=(25,15))\n",
    "sns.catplot(data=df_concat, x='Main_Sector', y='Amount', kind='bar',palette ='bright',legend_out=True, aspect=3)\n",
    "plt.xticks(rotation=90)\n",
    "plt.show()"
   ]
  },
  {
   "cell_type": "code",
   "execution_count": 235,
   "metadata": {},
   "outputs": [
    {
     "data": {
      "text/plain": [
       "<Figure size 2500x1500 with 0 Axes>"
      ]
     },
     "metadata": {},
     "output_type": "display_data"
    },
    {
     "data": {
      "image/png": "[encoded data removed]",
      "text/plain": [
       "<Figure size 1500x500 with 1 Axes>"
      ]
     },
     "metadata": {},
     "output_type": "display_data"
    }
   ],
   "source": [
    "plt.figure(figsize=(25,15))\n",
    "sns.catplot(data=df_concat, x='Stage', y='Amount', kind='bar',palette ='bright',legend_out=True, aspect=3)\n",
    "plt.xticks(rotation=90)\n",
    "plt.show()"
   ]
  },
  {
   "cell_type": "code",
   "execution_count": 236,
   "metadata": {
    "tags": []
   },
   "outputs": [
    {
     "data": {
      "text/html": [
       "<div>\n",
       "<style scoped>\n",
       "    .dataframe tbody tr th:only-of-type {\n",
       "        vertical-align: middle;\n",
       "    }\n",
       "\n",
       "    .dataframe tbody tr th {\n",
       "        vertical-align: top;\n",
       "    }\n",
       "\n",
       "    .dataframe thead tr th {\n",
       "        text-align: left;\n",
       "    }\n",
       "\n",
       "    .dataframe thead tr:last-of-type th {\n",
       "        text-align: right;\n",
       "    }\n",
       "</style>\n",
       "<table border=\"1\" class=\"dataframe\">\n",
       "  <thead>\n",
       "    <tr>\n",
       "      <th></th>\n",
       "      <th colspan=\"2\" halign=\"left\">Amount</th>\n",
       "    </tr>\n",
       "    <tr>\n",
       "      <th></th>\n",
       "      <th>median</th>\n",
       "      <th>std</th>\n",
       "    </tr>\n",
       "    <tr>\n",
       "      <th>Year</th>\n",
       "      <th></th>\n",
       "      <th></th>\n",
       "    </tr>\n",
       "  </thead>\n",
       "  <tbody>\n",
       "    <tr>\n",
       "      <th>2018</th>\n",
       "      <td>1300000.0</td>\n",
       "      <td>7.797261e+07</td>\n",
       "    </tr>\n",
       "    <tr>\n",
       "      <th>2019</th>\n",
       "      <td>11000000.0</td>\n",
       "      <td>1.028029e+08</td>\n",
       "    </tr>\n",
       "    <tr>\n",
       "      <th>2020</th>\n",
       "      <td>3000000.0</td>\n",
       "      <td>2.479695e+09</td>\n",
       "    </tr>\n",
       "    <tr>\n",
       "      <th>2021</th>\n",
       "      <td>3700000.0</td>\n",
       "      <td>4.646669e+09</td>\n",
       "    </tr>\n",
       "  </tbody>\n",
       "</table>\n",
       "</div>"
      ],
      "text/plain": [
       "          Amount              \n",
       "          median           std\n",
       "Year                          \n",
       "2018   1300000.0  7.797261e+07\n",
       "2019  11000000.0  1.028029e+08\n",
       "2020   3000000.0  2.479695e+09\n",
       "2021   3700000.0  4.646669e+09"
      ]
     },
     "execution_count": 236,
     "metadata": {},
     "output_type": "execute_result"
    }
   ],
   "source": [
    "result = df_concat.groupby('Year').agg({'Amount': ['median', 'std']})\n",
    "result\n"
   ]
  },
  {
   "cell_type": "code",
   "execution_count": 237,
   "metadata": {
    "tags": []
   },
   "outputs": [
    {
     "data": {
      "text/plain": [
       "<Axes: ylabel='Amount'>"
      ]
     },
     "execution_count": 237,
     "metadata": {},
     "output_type": "execute_result"
    },
    {
     "data": {
      "image/png": "[encoded data removed]",
      "text/plain": [
       "<Figure size 640x480 with 1 Axes>"
      ]
     },
     "metadata": {},
     "output_type": "display_data"
    }
   ],
   "source": [
    "import seaborn as sns\n",
    "\n",
    "sns.boxplot(df_concat['Amount'])"
   ]
  },
  {
   "cell_type": "code",
   "execution_count": 238,
   "metadata": {
    "tags": []
   },
   "outputs": [
    {
     "data": {
      "text/plain": [
       "Location\n",
       "Mumbai        2.307711e+11\n",
       "Bengaluru     2.510806e+10\n",
       "Gurugram      5.591562e+09\n",
       "New Delhi     3.420521e+09\n",
       "California    3.078300e+09\n",
       "Pune          1.439269e+09\n",
       "Gurgaon       1.380056e+09\n",
       "Chennai       1.123976e+09\n",
       "Haryana       9.189850e+08\n",
       "Delhi         8.706549e+08\n",
       "Noida         6.735376e+08\n",
       "Jaipur        5.828890e+08\n",
       "Hyderabad     4.091624e+08\n",
       "Shanghai      4.000000e+08\n",
       "Thane         2.653400e+08\n",
       "Name: Amount, dtype: float64"
      ]
     },
     "execution_count": 238,
     "metadata": {},
     "output_type": "execute_result"
    }
   ],
   "source": [
    "#Bangalore recieved the most funding of about 32% and Mumbai came close second with about 17% most \n",
    "#df_concat['Location'].value_counts(normalize=True).sort_values(ascending=False).head(10)\n",
    "\n",
    "fund_per_location_top15=df_concat.groupby('Location')['Amount'].sum().sort_values(ascending=False).head(15)\n",
    "fund_per_location_top15"
   ]
  },
  {
   "cell_type": "code",
   "execution_count": null,
   "metadata": {},
   "outputs": [],
   "source": []
  },
  {
   "cell_type": "code",
   "execution_count": 239,
   "metadata": {
    "tags": []
   },
   "outputs": [],
   "source": [
    "import matplotlib.pyplot as plt\n",
    "\n",
    "# Calculate normalized value counts, sort in descending order\n",
    "#location_counts = df_concat['Location'].value_counts(normalize=True).sort_values(ascending=False)[:10]\n"
   ]
  },
  {
   "cell_type": "code",
   "execution_count": 240,
   "metadata": {
    "tags": []
   },
   "outputs": [
    {
     "data": {
      "image/png": "[encoded data removed]",
      "text/plain": [
       "<Figure size 800x600 with 1 Axes>"
      ]
     },
     "metadata": {},
     "output_type": "display_data"
    }
   ],
   "source": [
    "import seaborn as sns\n",
    "\n",
    "# Create the pie chart\n",
    "\n",
    "plt.figure(figsize=(8, 6))  # Adjust the figure size if needed\n",
    "plt.pie(fund_per_location_top15, labels=fund_per_location_top15.index, autopct='%1.1f%%', startangle=90)\n",
    "\n",
    "plt.title('Location Distribution per Funding')\n",
    "plt.axis('equal')  # Equal aspect ratio ensures that pie is drawn as a circle.\n",
    "plt.show()\n"
   ]
  },
  {
   "cell_type": "code",
   "execution_count": 241,
   "metadata": {},
   "outputs": [
    {
     "data": {
      "text/plain": [
       "<Axes: ylabel='Location'>"
      ]
     },
     "execution_count": 241,
     "metadata": {},
     "output_type": "execute_result"
    },
    {
     "data": {
      "image/png": "[encoded data removed]",
      "text/plain": [
       "<Figure size 640x480 with 1 Axes>"
      ]
     },
     "metadata": {},
     "output_type": "display_data"
    }
   ],
   "source": [
    "#without Mumbai\n",
    "fund_per_location_top15[1:].plot.barh()"
   ]
  },
  {
   "cell_type": "code",
   "execution_count": 242,
   "metadata": {},
   "outputs": [
    {
     "data": {
      "text/plain": [
       "Location\n",
       "Bengaluru    935\n",
       "Mumbai       466\n",
       "Gurugram     239\n",
       "New Delhi    229\n",
       "Chennai      106\n",
       "Pune         104\n",
       "Delhi         88\n",
       "Noida         86\n",
       "Gurgaon       80\n",
       "Hyderabad     76\n",
       "Jaipur        31\n",
       "Ahmedabad     29\n",
       "Haryana       26\n",
       "Kolkata       22\n",
       "Indore        14\n",
       "Name: Company_Brand, dtype: int64"
      ]
     },
     "execution_count": 242,
     "metadata": {},
     "output_type": "execute_result"
    }
   ],
   "source": [
    "statup_location_top15=df_concat.groupby('Location')['Company_Brand'].count().sort_values(ascending=False).head(15)\n",
    "statup_location_top15"
   ]
  },
  {
   "cell_type": "code",
   "execution_count": 243,
   "metadata": {},
   "outputs": [
    {
     "data": {
      "text/plain": [
       "<Axes: ylabel='Location'>"
      ]
     },
     "execution_count": 243,
     "metadata": {},
     "output_type": "execute_result"
    },
    {
     "data": {
      "image/png": "[encoded data removed]",
      "text/plain": [
       "<Figure size 640x480 with 1 Axes>"
      ]
     },
     "metadata": {},
     "output_type": "display_data"
    }
   ],
   "source": [
    "statup_location_top15.plot.barh()"
   ]
  },
  {
   "cell_type": "code",
   "execution_count": 244,
   "metadata": {
    "tags": []
   },
   "outputs": [
    {
     "data": {
      "image/png": "[encoded data removed]",
      "text/plain": [
       "<Figure size 640x480 with 1 Axes>"
      ]
     },
     "metadata": {},
     "output_type": "display_data"
    }
   ],
   "source": [
    "import seaborn as sns\n",
    "# plotting  year by amount  shows 2021 was the best year \n",
    "sns.barplot(x='Year', y='Amount', data=df_concat)\n",
    "plt.xlabel('Year')\n",
    "plt.ylabel('Amount')\n",
    "plt.title('Bar Plot of Amount by Year')\n",
    "plt.show()"
   ]
  },
  {
   "cell_type": "code",
   "execution_count": 245,
   "metadata": {
    "tags": []
   },
   "outputs": [],
   "source": [
    "#df_concat.describe(include = 'all').T"
   ]
  },
  {
   "cell_type": "code",
   "execution_count": 246,
   "metadata": {
    "tags": []
   },
   "outputs": [
    {
     "data": {
      "text/plain": [
       "['Company_Brand',\n",
       " 'Sector',\n",
       " 'Stage',\n",
       " 'Location',\n",
       " 'About Company',\n",
       " 'Currency',\n",
       " 'Main_Sector',\n",
       " 'Founders',\n",
       " 'Investor']"
      ]
     },
     "execution_count": 246,
     "metadata": {},
     "output_type": "execute_result"
    }
   ],
   "source": [
    "Categoricals = [column for column in df_concat.columns if (df_concat[column].dtype == 'O')]\n",
    "Categoricals"
   ]
  },
  {
   "cell_type": "code",
   "execution_count": 247,
   "metadata": {
    "tags": []
   },
   "outputs": [],
   "source": [
    "#import plotly.express as px\n",
    "# for categoricals\n",
    "#for column in df_concat[Categoricals].columns:\n",
    "    #fig = px.histogram(df_concat[Categoricals], text_auto = True, x = column, title = f'Distribution of values in {column} column')\n",
    "    #fig.show()"
   ]
  },
  {
   "cell_type": "code",
   "execution_count": 248,
   "metadata": {
    "tags": []
   },
   "outputs": [
    {
     "data": {
      "text/plain": [
       "['Year', 'Amount', 'Founded']"
      ]
     },
     "execution_count": 248,
     "metadata": {},
     "output_type": "execute_result"
    }
   ],
   "source": [
    "Numericals = [column for column in df_concat.columns if (df_concat[column].dtype != 'O')]\n",
    "Numericals"
   ]
  },
  {
   "cell_type": "code",
   "execution_count": 249,
   "metadata": {
    "tags": []
   },
   "outputs": [],
   "source": [
    "# for Numerical\n",
    "#for column in df_concat[Numericals].columns:\n",
    " #   fig = px.box(df_concat[Numericals],title = f'Distribution of values in {column} column')\n",
    "  #  fig.show()"
   ]
  },
  {
   "cell_type": "code",
   "execution_count": 250,
   "metadata": {
    "tags": []
   },
   "outputs": [],
   "source": [
    "#for i in df_concat.columns:\n",
    "  #  if df_concat[i].dtype == 'object':\n",
    " #      sns.countplot(x=i, data=df_concat)\n",
    " #       plt.xticks(rotation=45)  # Rotate x-axis labels for better readability\n",
    "#        plt.title(f'Bar Plot of {i}')\n",
    " #       plt.show()"
   ]
  },
  {
   "cell_type": "code",
   "execution_count": 251,
   "metadata": {
    "tags": []
   },
   "outputs": [],
   "source": [
    "#for i in df_concat.columns:\n",
    "    #if df_concat[i].dtype != 'object':\n",
    "        #sns.boxplot(y=i, data=df_concat)\n",
    "        #plt.xticks(rotation=45)\n",
    "        #plt.show()"
   ]
  },
  {
   "cell_type": "markdown",
   "metadata": {},
   "source": [
    "import seaborn as sns\n",
    "import matplotlib.pyplot as plt\n",
    "import seaborn as sns\n",
    "import matplotlib.pyplot as plt\n",
    "\n",
    "# Assuming df_concat is your DataFrame\n",
    "plt.figure(figsize=(10, 8))  # Adjust the figure size if needed\n",
    "sns.heatmap(df_concat.corr(), annot=True, cmap='coolwarm', vmin=-1, vmax=1)\n",
    "plt.title('Correlation Heatmap')\n",
    "plt.show()"
   ]
  },
  {
   "cell_type": "code",
   "execution_count": 252,
   "metadata": {
    "tags": []
   },
   "outputs": [],
   "source": [
    "#Taking care of outliers in the numerical columns amount especially\n",
    "\n",
    "seventy_fifth = df_concat['Amount'].quantile(0.75)\n",
    "twenty_fifth = df_concat['Amount'].quantile(0.25)\n",
    "\n",
    "iqr_amount = seventy_fifth-twenty_fifth \n",
    "\n",
    "upper = seventy_fifth+(1.5*iqr_amount)\n",
    "lower = twenty_fifth-(1.5*iqr_amount)\n"
   ]
  },
  {
   "cell_type": "code",
   "execution_count": 253,
   "metadata": {
    "tags": []
   },
   "outputs": [],
   "source": [
    "outlier_rows = df_concat[(df_concat['Amount'] > upper) | (df_concat['Amount'] < lower)]\n",
    "\n",
    "# Select specific columns 'Experience', 'Location', and 'Amount'\n",
    "result = outlier_rows[['Stage', 'Location', 'Amount','Year']]"
   ]
  },
  {
   "cell_type": "code",
   "execution_count": 254,
   "metadata": {
    "tags": []
   },
   "outputs": [
    {
     "data": {
      "image/png": "[encoded data removed]",
      "text/plain": [
       "<Figure size 640x480 with 1 Axes>"
      ]
     },
     "metadata": {},
     "output_type": "display_data"
    }
   ],
   "source": [
    "no_outliers_amount = df_concat[(df_concat.Amount > lower ) & (df_concat.Amount<upper)]\n",
    "\n",
    "\n",
    "\n",
    "sns.boxplot(y='Amount', data=no_outliers_amount)\n",
    "plt.xticks(rotation=45)\n",
    "plt.title('Boxplot for amount removing outliers')\n",
    "plt.show()"
   ]
  },
  {
   "cell_type": "code",
   "execution_count": null,
   "metadata": {},
   "outputs": [],
   "source": []
  }
 ],
 "metadata": {
  "kernelspec": {
   "display_name": "Python 3 (ipykernel)",
   "language": "python",
   "name": "python3"
  },
  "language_info": {
   "codemirror_mode": {
    "name": "ipython",
    "version": 3
   },
   "file_extension": ".py",
   "mimetype": "text/x-python",
   "name": "python",
   "nbconvert_exporter": "python",
   "pygments_lexer": "ipython3",
   "version": "3.11.8"
  },
  "widgets": {
   "application/vnd.jupyter.widget-state+json": {
    "state": {},
    "version_major": 2,
    "version_minor": 0
   }
  }
 },
 "nbformat": 4,
 "nbformat_minor": 4
}
